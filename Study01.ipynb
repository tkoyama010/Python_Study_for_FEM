{
 "cells": [
  {
   "cell_type": "markdown",
   "metadata": {},
   "source": [
    "# 有限要素法のためのPython入門\n",
    "\n",
    "## はじめに\n",
    "\n",
    "PythonにはNumpy/Scipy/Getfem++などのライブラリがあり、それらを組み合わせることにより容易に有限要素法のスクリプトを組むことができます。それぞれのライブラリに関しては各Wikipediaの内容を確認してください。\n",
    "\n",
    "Numpy (https://ja.wikipedia.org/wiki/NumPy)\n",
    "\n",
    "Scipy (https://ja.wikipedia.org/wiki/SciPy)\n",
    "\n",
    "Getfem++ (https://ja.wikipedia.org/wiki/Getfem%2B%2B)\n",
    "\n",
    "それぞれのモジュールはPythonでは以下のように呼び出します。"
   ]
  },
  {
   "cell_type": "code",
   "execution_count": 1,
   "metadata": {
    "collapsed": false
   },
   "outputs": [],
   "source": [
    "import numpy as np\n",
    "import scipy as sp\n",
    "import getfem as gf"
   ]
  },
  {
   "cell_type": "markdown",
   "metadata": {
    "collapsed": true
   },
   "source": [
    "## Numpyの学習\n",
    "\n",
    "本節ではNumpyのチュートリアル\n",
    "\n",
    "https://docs.scipy.org/doc/numpy-dev/user/quickstart.html\n",
    "\n",
    "の内容を解説します。"
   ]
  },
  {
   "cell_type": "markdown",
   "metadata": {},
   "source": [
    "## Scipyの学習\n",
    "\n",
    "本節ではScipyのチュートリアル\n",
    "\n",
    "http://docs.scipy.org/doc/scipy/reference/tutorial/\n",
    "\n",
    "の内容を解説します。"
   ]
  },
  {
   "cell_type": "markdown",
   "metadata": {},
   "source": [
    "## Getfem++の学習\n",
    "本節ではGetfem++のチュートリアル\n",
    "\n",
    "http://download.gna.org/getfem/html/homepage/tutorial/index.html\n",
    "\n",
    "の内容を解析します。"
   ]
  },
  {
   "cell_type": "code",
   "execution_count": null,
   "metadata": {
    "collapsed": true
   },
   "outputs": [],
   "source": []
  }
 ],
 "metadata": {
  "kernelspec": {
   "display_name": "Python 2",
   "language": "python",
   "name": "python2"
  },
  "language_info": {
   "codemirror_mode": {
    "name": "ipython",
    "version": 2
   },
   "file_extension": ".py",
   "mimetype": "text/x-python",
   "name": "python",
   "nbconvert_exporter": "python",
   "pygments_lexer": "ipython2",
   "version": "2.7.10"
  }
 },
 "nbformat": 4,
 "nbformat_minor": 0
}
