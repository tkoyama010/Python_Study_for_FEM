{
 "cells": [
  {
   "cell_type": "markdown",
   "metadata": {},
   "source": [
    "# 有限要素法のためのPython入門\n",
    "\n",
    "## はじめに\n",
    "\n",
    "PythonにはNumpy/Matplotlib/Scipy/Getfem++などのライブラリがあり、それらを組み合わせることにより容易に有限要素法のスクリプトを組むことができます。それぞれのライブラリに関しては各Wikipediaの内容を確認してください。\n",
    "\n",
    "Numpy (https://ja.wikipedia.org/wiki/NumPy)\n",
    "\n",
    "Matplotlib(https://ja.wikipedia.org/wiki/Matplotlib)\n",
    "\n",
    "Scipy (https://ja.wikipedia.org/wiki/SciPy)\n",
    "\n",
    "Getfem++ (https://ja.wikipedia.org/wiki/Getfem%2B%2B)\n",
    "\n",
    "それぞれのモジュールはPythonでは以下のように呼び出します。"
   ]
  },
  {
   "cell_type": "code",
   "execution_count": 1,
   "metadata": {
    "collapsed": false
   },
   "outputs": [],
   "source": [
    "import numpy as np\n",
    "import scipy as sp\n",
    "import getfem as gf\n",
    "import matplotlib.pyplot as plt\n",
    "%matplotlib inline"
   ]
  },
  {
   "cell_type": "markdown",
   "metadata": {},
   "source": [
    "## Numpyの学習\n",
    "\n",
    "本節ではNumpyのチュートリアル\n",
    "\n",
    "https://docs.scipy.org/doc/numpy-dev/user/quickstart.html\n",
    "\n",
    "の内容を解説します。\n",
    "\n",
    "このチュートリアルを読む前に、あなたは、Pythonのビットを知っている必要があります。 あなたがあなたの記憶をリフレッシュしたい場合、を見てみましょうPythonのチュートリアル 。\n",
    "\n",
    "このチュートリアルの例を作業したい場合は、いくつかのソフトウェアがコンピュータにインストールされている必要があります。 参照してくださいhttp://scipy.org/install.html"
   ]
  },
  {
   "cell_type": "code",
   "execution_count": 2,
   "metadata": {
    "collapsed": true
   },
   "outputs": [],
   "source": [
    "a = np.arange(15).reshape(3, 5)"
   ]
  },
  {
   "cell_type": "code",
   "execution_count": 3,
   "metadata": {
    "collapsed": false
   },
   "outputs": [
    {
     "data": {
      "text/plain": [
       "array([[ 0,  1,  2,  3,  4],\n",
       "       [ 5,  6,  7,  8,  9],\n",
       "       [10, 11, 12, 13, 14]])"
      ]
     },
     "execution_count": 3,
     "metadata": {},
     "output_type": "execute_result"
    }
   ],
   "source": [
    "a"
   ]
  },
  {
   "cell_type": "code",
   "execution_count": 4,
   "metadata": {
    "collapsed": false
   },
   "outputs": [
    {
     "data": {
      "text/plain": [
       "(3, 5)"
      ]
     },
     "execution_count": 4,
     "metadata": {},
     "output_type": "execute_result"
    }
   ],
   "source": [
    "a.shape"
   ]
  },
  {
   "cell_type": "code",
   "execution_count": 5,
   "metadata": {
    "collapsed": false
   },
   "outputs": [
    {
     "data": {
      "text/plain": [
       "2"
      ]
     },
     "execution_count": 5,
     "metadata": {},
     "output_type": "execute_result"
    }
   ],
   "source": [
    "a.ndim"
   ]
  },
  {
   "cell_type": "code",
   "execution_count": 6,
   "metadata": {
    "collapsed": false
   },
   "outputs": [
    {
     "data": {
      "text/plain": [
       "'int64'"
      ]
     },
     "execution_count": 6,
     "metadata": {},
     "output_type": "execute_result"
    }
   ],
   "source": [
    "a.dtype.name"
   ]
  },
  {
   "cell_type": "code",
   "execution_count": 7,
   "metadata": {
    "collapsed": false
   },
   "outputs": [
    {
     "data": {
      "text/plain": [
       "8"
      ]
     },
     "execution_count": 7,
     "metadata": {},
     "output_type": "execute_result"
    }
   ],
   "source": [
    "a.itemsize"
   ]
  },
  {
   "cell_type": "code",
   "execution_count": 8,
   "metadata": {
    "collapsed": false
   },
   "outputs": [
    {
     "data": {
      "text/plain": [
       "15"
      ]
     },
     "execution_count": 8,
     "metadata": {},
     "output_type": "execute_result"
    }
   ],
   "source": [
    "a.size"
   ]
  },
  {
   "cell_type": "code",
   "execution_count": 9,
   "metadata": {
    "collapsed": false
   },
   "outputs": [
    {
     "data": {
      "text/plain": [
       "numpy.ndarray"
      ]
     },
     "execution_count": 9,
     "metadata": {},
     "output_type": "execute_result"
    }
   ],
   "source": [
    "type(a)"
   ]
  },
  {
   "cell_type": "code",
   "execution_count": 10,
   "metadata": {
    "collapsed": true
   },
   "outputs": [],
   "source": [
    "b = np.array([6, 7, 8])"
   ]
  },
  {
   "cell_type": "code",
   "execution_count": 11,
   "metadata": {
    "collapsed": false
   },
   "outputs": [
    {
     "data": {
      "text/plain": [
       "array([6, 7, 8])"
      ]
     },
     "execution_count": 11,
     "metadata": {},
     "output_type": "execute_result"
    }
   ],
   "source": [
    "b"
   ]
  },
  {
   "cell_type": "code",
   "execution_count": 12,
   "metadata": {
    "collapsed": false
   },
   "outputs": [
    {
     "data": {
      "text/plain": [
       "numpy.ndarray"
      ]
     },
     "execution_count": 12,
     "metadata": {},
     "output_type": "execute_result"
    }
   ],
   "source": [
    "type(b)"
   ]
  },
  {
   "cell_type": "code",
   "execution_count": 13,
   "metadata": {
    "collapsed": true
   },
   "outputs": [],
   "source": [
    "a = np.array([2,3,4])"
   ]
  },
  {
   "cell_type": "code",
   "execution_count": 14,
   "metadata": {
    "collapsed": false
   },
   "outputs": [
    {
     "data": {
      "text/plain": [
       "array([2, 3, 4])"
      ]
     },
     "execution_count": 14,
     "metadata": {},
     "output_type": "execute_result"
    }
   ],
   "source": [
    "a"
   ]
  },
  {
   "cell_type": "code",
   "execution_count": 15,
   "metadata": {
    "collapsed": false
   },
   "outputs": [
    {
     "data": {
      "text/plain": [
       "dtype('int64')"
      ]
     },
     "execution_count": 15,
     "metadata": {},
     "output_type": "execute_result"
    }
   ],
   "source": [
    "a.dtype"
   ]
  },
  {
   "cell_type": "code",
   "execution_count": 16,
   "metadata": {
    "collapsed": true
   },
   "outputs": [],
   "source": [
    "b = np.array([1.2, 3.5, 5.1])"
   ]
  },
  {
   "cell_type": "code",
   "execution_count": 17,
   "metadata": {
    "collapsed": false
   },
   "outputs": [
    {
     "data": {
      "text/plain": [
       "dtype('float64')"
      ]
     },
     "execution_count": 17,
     "metadata": {},
     "output_type": "execute_result"
    }
   ],
   "source": [
    "b.dtype"
   ]
  },
  {
   "cell_type": "code",
   "execution_count": 18,
   "metadata": {
    "collapsed": false
   },
   "outputs": [],
   "source": [
    "a = np.array([1,2,3,4])  # RIGH"
   ]
  },
  {
   "cell_type": "code",
   "execution_count": 19,
   "metadata": {
    "collapsed": false
   },
   "outputs": [
    {
     "data": {
      "text/plain": [
       "array([[ 1.5,  2. ,  3. ],\n",
       "       [ 4. ,  5. ,  6. ]])"
      ]
     },
     "execution_count": 19,
     "metadata": {},
     "output_type": "execute_result"
    }
   ],
   "source": [
    "b = np.array([(1.5,2,3), (4,5,6)])\n",
    "b\n"
   ]
  },
  {
   "cell_type": "code",
   "execution_count": 20,
   "metadata": {
    "collapsed": false
   },
   "outputs": [
    {
     "data": {
      "text/plain": [
       "array([[ 1.+0.j,  2.+0.j],\n",
       "       [ 3.+0.j,  4.+0.j]])"
      ]
     },
     "execution_count": 20,
     "metadata": {},
     "output_type": "execute_result"
    }
   ],
   "source": [
    "c = np.array( [ [1,2], [3,4] ], dtype=complex )\n",
    "c\n"
   ]
  },
  {
   "cell_type": "code",
   "execution_count": 21,
   "metadata": {
    "collapsed": false
   },
   "outputs": [
    {
     "data": {
      "text/plain": [
       "array([[  6.93786754e-310,   6.93786754e-310,   2.40385624e-316],\n",
       "       [  0.00000000e+000,   0.00000000e+000,   0.00000000e+000]])"
      ]
     },
     "execution_count": 21,
     "metadata": {},
     "output_type": "execute_result"
    }
   ],
   "source": [
    "np.zeros( (3,4) )\n",
    "np.ones( (2,3,4), dtype=np.int16 )                # dtype can also be specified\n",
    "np.empty( (2,3) )                                 # uninitialized, output may vary"
   ]
  },
  {
   "cell_type": "code",
   "execution_count": 22,
   "metadata": {
    "collapsed": false
   },
   "outputs": [
    {
     "data": {
      "text/plain": [
       "array([ 0. ,  0.3,  0.6,  0.9,  1.2,  1.5,  1.8])"
      ]
     },
     "execution_count": 22,
     "metadata": {},
     "output_type": "execute_result"
    }
   ],
   "source": [
    "np.arange( 10, 30, 5 )\n",
    "np.arange( 0, 2, 0.3 )                 # it accepts float arguments"
   ]
  },
  {
   "cell_type": "code",
   "execution_count": 23,
   "metadata": {
    "collapsed": true
   },
   "outputs": [],
   "source": [
    "from numpy import pi\n",
    "np.linspace( 0, 2, 9 )                 # 9 numbers from 0 to 2\n",
    "\n",
    "x = np.linspace( 0, 2*pi, 100 )        # useful to evaluate function at lots of points\n",
    "f = np.sin(x)"
   ]
  },
  {
   "cell_type": "code",
   "execution_count": 24,
   "metadata": {
    "collapsed": false
   },
   "outputs": [
    {
     "name": "stdout",
     "output_type": "stream",
     "text": [
      "[0 1 2 3 4 5]\n",
      "[[ 0  1  2]\n",
      " [ 3  4  5]\n",
      " [ 6  7  8]\n",
      " [ 9 10 11]]\n",
      "[[[ 0  1  2  3]\n",
      "  [ 4  5  6  7]\n",
      "  [ 8  9 10 11]]\n",
      "\n",
      " [[12 13 14 15]\n",
      "  [16 17 18 19]\n",
      "  [20 21 22 23]]]\n"
     ]
    }
   ],
   "source": [
    "a = np.arange(6)                         # 1d array\n",
    "print(a)\n",
    "\n",
    "b = np.arange(12).reshape(4,3)           # 2d array\n",
    "print(b)\n",
    "\n",
    "c = np.arange(24).reshape(2,3,4)         # 3d array\n",
    "print(c)"
   ]
  },
  {
   "cell_type": "code",
   "execution_count": 25,
   "metadata": {
    "collapsed": false
   },
   "outputs": [
    {
     "name": "stdout",
     "output_type": "stream",
     "text": [
      "[   0    1    2 ..., 9997 9998 9999]\n",
      "[[   0    1    2 ...,   97   98   99]\n",
      " [ 100  101  102 ...,  197  198  199]\n",
      " [ 200  201  202 ...,  297  298  299]\n",
      " ..., \n",
      " [9700 9701 9702 ..., 9797 9798 9799]\n",
      " [9800 9801 9802 ..., 9897 9898 9899]\n",
      " [9900 9901 9902 ..., 9997 9998 9999]]\n"
     ]
    }
   ],
   "source": [
    "print(np.arange(10000))\n",
    "\n",
    "print(np.arange(10000).reshape(100,100))\n"
   ]
  },
  {
   "cell_type": "code",
   "execution_count": 26,
   "metadata": {
    "collapsed": true
   },
   "outputs": [],
   "source": [
    "np.set_printoptions(threshold='nan')"
   ]
  },
  {
   "cell_type": "code",
   "execution_count": 27,
   "metadata": {
    "collapsed": false
   },
   "outputs": [],
   "source": [
    "a = np.array( [20,30,40,50] )\n"
   ]
  },
  {
   "cell_type": "code",
   "execution_count": 28,
   "metadata": {
    "collapsed": false
   },
   "outputs": [
    {
     "data": {
      "text/plain": [
       "array([0, 1, 2, 3])"
      ]
     },
     "execution_count": 28,
     "metadata": {},
     "output_type": "execute_result"
    }
   ],
   "source": [
    "b = np.arange( 4 )\n",
    "b\n"
   ]
  },
  {
   "cell_type": "code",
   "execution_count": 29,
   "metadata": {
    "collapsed": false
   },
   "outputs": [
    {
     "data": {
      "text/plain": [
       "array([20, 29, 38, 47])"
      ]
     },
     "execution_count": 29,
     "metadata": {},
     "output_type": "execute_result"
    }
   ],
   "source": [
    "c = a-b\n",
    "c"
   ]
  },
  {
   "cell_type": "code",
   "execution_count": 30,
   "metadata": {
    "collapsed": false
   },
   "outputs": [
    {
     "data": {
      "text/plain": [
       "array([0, 1, 4, 9])"
      ]
     },
     "execution_count": 30,
     "metadata": {},
     "output_type": "execute_result"
    }
   ],
   "source": [
    "b**2"
   ]
  },
  {
   "cell_type": "code",
   "execution_count": 31,
   "metadata": {
    "collapsed": false
   },
   "outputs": [
    {
     "data": {
      "text/plain": [
       "array([ 9.12945251, -9.88031624,  7.4511316 , -2.62374854])"
      ]
     },
     "execution_count": 31,
     "metadata": {},
     "output_type": "execute_result"
    }
   ],
   "source": [
    "10*np.sin(a)"
   ]
  },
  {
   "cell_type": "code",
   "execution_count": 32,
   "metadata": {
    "collapsed": false
   },
   "outputs": [
    {
     "data": {
      "text/plain": [
       "array([ True,  True, False, False], dtype=bool)"
      ]
     },
     "execution_count": 32,
     "metadata": {},
     "output_type": "execute_result"
    }
   ],
   "source": [
    "a<35"
   ]
  },
  {
   "cell_type": "code",
   "execution_count": 33,
   "metadata": {
    "collapsed": true
   },
   "outputs": [],
   "source": [
    "A = np.array( [[1,1],\n",
    "            [0,1]] )\n",
    "B = np.array( [[2,0],\n",
    "            [3,4]] )"
   ]
  },
  {
   "cell_type": "code",
   "execution_count": 34,
   "metadata": {
    "collapsed": false
   },
   "outputs": [
    {
     "data": {
      "text/plain": [
       "array([[2, 0],\n",
       "       [0, 4]])"
      ]
     },
     "execution_count": 34,
     "metadata": {},
     "output_type": "execute_result"
    }
   ],
   "source": [
    "A*B                         # elementwise product"
   ]
  },
  {
   "cell_type": "code",
   "execution_count": 35,
   "metadata": {
    "collapsed": false
   },
   "outputs": [
    {
     "data": {
      "text/plain": [
       "array([[5, 4],\n",
       "       [3, 4]])"
      ]
     },
     "execution_count": 35,
     "metadata": {},
     "output_type": "execute_result"
    }
   ],
   "source": [
    "A.dot(B)                    # matrix product"
   ]
  },
  {
   "cell_type": "code",
   "execution_count": 36,
   "metadata": {
    "collapsed": false
   },
   "outputs": [
    {
     "data": {
      "text/plain": [
       "array([[5, 4],\n",
       "       [3, 4]])"
      ]
     },
     "execution_count": 36,
     "metadata": {},
     "output_type": "execute_result"
    }
   ],
   "source": [
    "np.dot(A, B)                # another matrix product"
   ]
  },
  {
   "cell_type": "code",
   "execution_count": 37,
   "metadata": {
    "collapsed": false
   },
   "outputs": [
    {
     "data": {
      "text/plain": [
       "array([[3, 3, 3],\n",
       "       [3, 3, 3]])"
      ]
     },
     "execution_count": 37,
     "metadata": {},
     "output_type": "execute_result"
    }
   ],
   "source": [
    "a = np.ones((2,3), dtype=int)\n",
    "b = np.random.random((2,3))\n",
    "a *= 3\n",
    "a"
   ]
  },
  {
   "cell_type": "code",
   "execution_count": 38,
   "metadata": {
    "collapsed": false
   },
   "outputs": [
    {
     "data": {
      "text/plain": [
       "array([[ 3.86866665,  3.55047629,  3.78159629],\n",
       "       [ 3.70842748,  3.79643159,  3.97996745]])"
      ]
     },
     "execution_count": 38,
     "metadata": {},
     "output_type": "execute_result"
    }
   ],
   "source": [
    "b += a\n",
    "b"
   ]
  },
  {
   "cell_type": "code",
   "execution_count": 39,
   "metadata": {
    "collapsed": false
   },
   "outputs": [
    {
     "data": {
      "text/plain": [
       "'float64'"
      ]
     },
     "execution_count": 39,
     "metadata": {},
     "output_type": "execute_result"
    }
   ],
   "source": [
    "a = np.ones(3, dtype=np.int32)\n",
    "b = np.linspace(0,pi,3)\n",
    "b.dtype.name"
   ]
  },
  {
   "cell_type": "code",
   "execution_count": 40,
   "metadata": {
    "collapsed": false
   },
   "outputs": [
    {
     "data": {
      "text/plain": [
       "array([ 1.        ,  2.57079633,  4.14159265])"
      ]
     },
     "execution_count": 40,
     "metadata": {},
     "output_type": "execute_result"
    }
   ],
   "source": [
    "c = a+b\n",
    "c"
   ]
  },
  {
   "cell_type": "code",
   "execution_count": 41,
   "metadata": {
    "collapsed": false
   },
   "outputs": [
    {
     "data": {
      "text/plain": [
       "'float64'"
      ]
     },
     "execution_count": 41,
     "metadata": {},
     "output_type": "execute_result"
    }
   ],
   "source": [
    "c.dtype.name"
   ]
  },
  {
   "cell_type": "code",
   "execution_count": 42,
   "metadata": {
    "collapsed": false
   },
   "outputs": [
    {
     "data": {
      "text/plain": [
       "array([ 0.54030231+0.84147098j, -0.84147098+0.54030231j,\n",
       "       -0.54030231-0.84147098j])"
      ]
     },
     "execution_count": 42,
     "metadata": {},
     "output_type": "execute_result"
    }
   ],
   "source": [
    "d = np.exp(c*1j)\n",
    "d"
   ]
  },
  {
   "cell_type": "code",
   "execution_count": 43,
   "metadata": {
    "collapsed": false
   },
   "outputs": [
    {
     "data": {
      "text/plain": [
       "'complex128'"
      ]
     },
     "execution_count": 43,
     "metadata": {},
     "output_type": "execute_result"
    }
   ],
   "source": [
    "d.dtype.name"
   ]
  },
  {
   "cell_type": "code",
   "execution_count": 44,
   "metadata": {
    "collapsed": false
   },
   "outputs": [
    {
     "name": "stdout",
     "output_type": "stream",
     "text": [
      "[[ 1.  2.]\n",
      " [ 3.  4.]]\n"
     ]
    }
   ],
   "source": [
    "import numpy as np\n",
    "a = np.array([[1.0, 2.0], [3.0, 4.0]])\n",
    "print(a)"
   ]
  },
  {
   "cell_type": "code",
   "execution_count": 45,
   "metadata": {
    "collapsed": false
   },
   "outputs": [
    {
     "data": {
      "text/plain": [
       "array([[ 1.,  3.],\n",
       "       [ 2.,  4.]])"
      ]
     },
     "execution_count": 45,
     "metadata": {},
     "output_type": "execute_result"
    }
   ],
   "source": [
    "a.transpose()"
   ]
  },
  {
   "cell_type": "code",
   "execution_count": 46,
   "metadata": {
    "collapsed": false
   },
   "outputs": [
    {
     "data": {
      "text/plain": [
       "array([[-2. ,  1. ],\n",
       "       [ 1.5, -0.5]])"
      ]
     },
     "execution_count": 46,
     "metadata": {},
     "output_type": "execute_result"
    }
   ],
   "source": [
    "np.linalg.inv(a)"
   ]
  },
  {
   "cell_type": "code",
   "execution_count": 47,
   "metadata": {
    "collapsed": false
   },
   "outputs": [
    {
     "data": {
      "text/plain": [
       "array([[ 1.,  0.],\n",
       "       [ 0.,  1.]])"
      ]
     },
     "execution_count": 47,
     "metadata": {},
     "output_type": "execute_result"
    }
   ],
   "source": [
    "u = np.eye(2) # unit 2x2 matrix; \"eye\" represents \"I\"\n",
    "u"
   ]
  },
  {
   "cell_type": "code",
   "execution_count": 48,
   "metadata": {
    "collapsed": false
   },
   "outputs": [
    {
     "data": {
      "text/plain": [
       "array([[ 0., -1.],\n",
       "       [ 1.,  0.]])"
      ]
     },
     "execution_count": 48,
     "metadata": {},
     "output_type": "execute_result"
    }
   ],
   "source": [
    "j = np.array([[0.0, -1.0], [1.0, 0.0]])\n",
    "j"
   ]
  },
  {
   "cell_type": "code",
   "execution_count": 49,
   "metadata": {
    "collapsed": false
   },
   "outputs": [
    {
     "data": {
      "text/plain": [
       "array([[-1.,  0.],\n",
       "       [ 0., -1.]])"
      ]
     },
     "execution_count": 49,
     "metadata": {},
     "output_type": "execute_result"
    }
   ],
   "source": [
    "np.dot (j, j) # matrix product"
   ]
  },
  {
   "cell_type": "code",
   "execution_count": 50,
   "metadata": {
    "collapsed": false
   },
   "outputs": [
    {
     "data": {
      "text/plain": [
       "2.0"
      ]
     },
     "execution_count": 50,
     "metadata": {},
     "output_type": "execute_result"
    }
   ],
   "source": [
    "np.trace(u)"
   ]
  },
  {
   "cell_type": "code",
   "execution_count": 51,
   "metadata": {
    "collapsed": false
   },
   "outputs": [
    {
     "data": {
      "text/plain": [
       "array([[-3.],\n",
       "       [ 4.]])"
      ]
     },
     "execution_count": 51,
     "metadata": {},
     "output_type": "execute_result"
    }
   ],
   "source": [
    "y = np.array([[5.], [7.]])\n",
    "np.linalg.solve(a, y)"
   ]
  },
  {
   "cell_type": "code",
   "execution_count": 52,
   "metadata": {
    "collapsed": false
   },
   "outputs": [
    {
     "data": {
      "text/plain": [
       "(array([ 0.+1.j,  0.-1.j]),\n",
       " array([[ 0.70710678+0.j        ,  0.70710678-0.j        ],\n",
       "        [ 0.00000000-0.70710678j,  0.00000000+0.70710678j]]))"
      ]
     },
     "execution_count": 52,
     "metadata": {},
     "output_type": "execute_result"
    }
   ],
   "source": [
    "np.linalg.eig(j)"
   ]
  },
  {
   "cell_type": "code",
   "execution_count": 53,
   "metadata": {
    "collapsed": true
   },
   "outputs": [],
   "source": [
    "np.linalg.eig?"
   ]
  },
  {
   "cell_type": "code",
   "execution_count": 54,
   "metadata": {
    "collapsed": false
   },
   "outputs": [
    {
     "data": {
      "text/plain": [
       "(2, 5, 3)"
      ]
     },
     "execution_count": 54,
     "metadata": {},
     "output_type": "execute_result"
    }
   ],
   "source": [
    "a = np.arange(30)\n",
    "a.shape = 2,-1,3  # -1 means \"whatever is needed\"\n",
    "a.shape"
   ]
  },
  {
   "cell_type": "code",
   "execution_count": 55,
   "metadata": {
    "collapsed": false
   },
   "outputs": [
    {
     "data": {
      "text/plain": [
       "array([[[ 0,  1,  2],\n",
       "        [ 3,  4,  5],\n",
       "        [ 6,  7,  8],\n",
       "        [ 9, 10, 11],\n",
       "        [12, 13, 14]],\n",
       "\n",
       "       [[15, 16, 17],\n",
       "        [18, 19, 20],\n",
       "        [21, 22, 23],\n",
       "        [24, 25, 26],\n",
       "        [27, 28, 29]]])"
      ]
     },
     "execution_count": 55,
     "metadata": {},
     "output_type": "execute_result"
    }
   ],
   "source": [
    "a"
   ]
  },
  {
   "cell_type": "code",
   "execution_count": 56,
   "metadata": {
    "collapsed": false
   },
   "outputs": [
    {
     "data": {
      "text/plain": [
       "array([0, 2, 4, 6, 8])"
      ]
     },
     "execution_count": 56,
     "metadata": {},
     "output_type": "execute_result"
    }
   ],
   "source": [
    "x = np.arange(0,10,2)\n",
    "x"
   ]
  },
  {
   "cell_type": "code",
   "execution_count": 57,
   "metadata": {
    "collapsed": false
   },
   "outputs": [
    {
     "data": {
      "text/plain": [
       "array([0, 1, 2, 3, 4])"
      ]
     },
     "execution_count": 57,
     "metadata": {},
     "output_type": "execute_result"
    }
   ],
   "source": [
    "y = np.arange(5)\n",
    "y"
   ]
  },
  {
   "cell_type": "code",
   "execution_count": 58,
   "metadata": {
    "collapsed": false
   },
   "outputs": [
    {
     "data": {
      "text/plain": [
       "array([[0, 2, 4, 6, 8],\n",
       "       [0, 1, 2, 3, 4]])"
      ]
     },
     "execution_count": 58,
     "metadata": {},
     "output_type": "execute_result"
    }
   ],
   "source": [
    "m = np.vstack([x,y])\n",
    "m"
   ]
  },
  {
   "cell_type": "code",
   "execution_count": 59,
   "metadata": {
    "collapsed": false
   },
   "outputs": [
    {
     "data": {
      "text/plain": [
       "array([0, 2, 4, 6, 8, 0, 1, 2, 3, 4])"
      ]
     },
     "execution_count": 59,
     "metadata": {},
     "output_type": "execute_result"
    }
   ],
   "source": [
    "xy = np.hstack([x,y])\n",
    "xy"
   ]
  },
  {
   "cell_type": "code",
   "execution_count": 60,
   "metadata": {
    "collapsed": false
   },
   "outputs": [
    {
     "data": {
      "text/plain": [
       "array([[False, False, False, False],\n",
       "       [False,  True,  True,  True],\n",
       "       [ True,  True,  True,  True]], dtype=bool)"
      ]
     },
     "execution_count": 60,
     "metadata": {},
     "output_type": "execute_result"
    }
   ],
   "source": [
    "a = np.arange(12).reshape(3,4)\n",
    "b = a > 4\n",
    "b                                          # b is a boolean with a's shape"
   ]
  },
  {
   "cell_type": "code",
   "execution_count": 61,
   "metadata": {
    "collapsed": false
   },
   "outputs": [
    {
     "data": {
      "text/plain": [
       "array([ 5,  6,  7,  8,  9, 10, 11])"
      ]
     },
     "execution_count": 61,
     "metadata": {},
     "output_type": "execute_result"
    }
   ],
   "source": [
    "a[b]                                       # 1d array with the selected elements"
   ]
  },
  {
   "cell_type": "code",
   "execution_count": 62,
   "metadata": {
    "collapsed": false
   },
   "outputs": [
    {
     "data": {
      "text/plain": [
       "array([[0, 1, 2, 3],\n",
       "       [4, 0, 0, 0],\n",
       "       [0, 0, 0, 0]])"
      ]
     },
     "execution_count": 62,
     "metadata": {},
     "output_type": "execute_result"
    }
   ],
   "source": [
    "a[b] = 0                                   # All elements of 'a' higher than 4 become 0\n",
    "a"
   ]
  },
  {
   "cell_type": "code",
   "execution_count": 63,
   "metadata": {
    "collapsed": false
   },
   "outputs": [
    {
     "data": {
      "image/png": "[encoded data removed]",
      "text/plain": [
       "<matplotlib.figure.Figure at 0x7fb6d952dfd0>"
      ]
     },
     "metadata": {},
     "output_type": "display_data"
    }
   ],
   "source": [
    "def mandelbrot( h,w, maxit=20 ):\n",
    "    \"\"\"Returns an image of the Mandelbrot fractal of size (h,w).\"\"\"\n",
    "    y,x = np.ogrid[ -1.4:1.4:h*1j, -2:0.8:w*1j ]\n",
    "    c = x+y*1j\n",
    "    z = c\n",
    "    divtime = maxit + np.zeros(z.shape, dtype=int)\n",
    "    for i in range(maxit):\n",
    "        z = z**2 + c\n",
    "        diverge = z*np.conj(z) > 2**2            # who is diverging\n",
    "        div_now = diverge & (divtime==maxit)  # who is diverging now\n",
    "        divtime[div_now] = i                  # note when\n",
    "        z[diverge] = 2                        # avoid diverging too much\n",
    "    return divtime\n",
    "plt.imshow(mandelbrot(400,400))\n",
    "plt.show()"
   ]
  },
  {
   "cell_type": "code",
   "execution_count": 64,
   "metadata": {
    "collapsed": true
   },
   "outputs": [],
   "source": [
    "a = np.arange(12).reshape(3,4)\n",
    "b1 = np.array([False,True,True])             # first dim selection\n",
    "b2 = np.array([True,False,True,False])       # second dim selection"
   ]
  },
  {
   "cell_type": "code",
   "execution_count": 65,
   "metadata": {
    "collapsed": false
   },
   "outputs": [
    {
     "data": {
      "text/plain": [
       "array([[ 4,  5,  6,  7],\n",
       "       [ 8,  9, 10, 11]])"
      ]
     },
     "execution_count": 65,
     "metadata": {},
     "output_type": "execute_result"
    }
   ],
   "source": [
    "a[b1,:]                                   # selecting rows"
   ]
  },
  {
   "cell_type": "code",
   "execution_count": 66,
   "metadata": {
    "collapsed": false
   },
   "outputs": [
    {
     "data": {
      "text/plain": [
       "array([[ 4,  5,  6,  7],\n",
       "       [ 8,  9, 10, 11]])"
      ]
     },
     "execution_count": 66,
     "metadata": {},
     "output_type": "execute_result"
    }
   ],
   "source": [
    "a[b1]                                     # same thing"
   ]
  },
  {
   "cell_type": "code",
   "execution_count": 67,
   "metadata": {
    "collapsed": false
   },
   "outputs": [
    {
     "data": {
      "text/plain": [
       "array([[ 0,  2],\n",
       "       [ 4,  6],\n",
       "       [ 8, 10]])"
      ]
     },
     "execution_count": 67,
     "metadata": {},
     "output_type": "execute_result"
    }
   ],
   "source": [
    "a[:,b2]                                   # selecting columns"
   ]
  },
  {
   "cell_type": "code",
   "execution_count": 68,
   "metadata": {
    "collapsed": false
   },
   "outputs": [
    {
     "data": {
      "text/plain": [
       "array([ 4, 10])"
      ]
     },
     "execution_count": 68,
     "metadata": {},
     "output_type": "execute_result"
    }
   ],
   "source": [
    "a[b1,b2]                                  # a weird thing to do"
   ]
  },
  {
   "cell_type": "code",
   "execution_count": 69,
   "metadata": {
    "collapsed": false
   },
   "outputs": [
    {
     "data": {
      "text/plain": [
       "array([[[2]],\n",
       "\n",
       "       [[3]],\n",
       "\n",
       "       [[4]],\n",
       "\n",
       "       [[5]]])"
      ]
     },
     "execution_count": 69,
     "metadata": {},
     "output_type": "execute_result"
    }
   ],
   "source": [
    "a = np.array([2,3,4,5])\n",
    "b = np.array([8,5,4])\n",
    "c = np.array([5,4,6,8,3])\n",
    "ax,bx,cx = np.ix_(a,b,c)\n",
    "ax"
   ]
  },
  {
   "cell_type": "code",
   "execution_count": 70,
   "metadata": {
    "collapsed": false
   },
   "outputs": [
    {
     "data": {
      "text/plain": [
       "array([[[8],\n",
       "        [5],\n",
       "        [4]]])"
      ]
     },
     "execution_count": 70,
     "metadata": {},
     "output_type": "execute_result"
    }
   ],
   "source": [
    "bx"
   ]
  },
  {
   "cell_type": "code",
   "execution_count": 71,
   "metadata": {
    "collapsed": false
   },
   "outputs": [
    {
     "data": {
      "text/plain": [
       "array([[[5, 4, 6, 8, 3]]])"
      ]
     },
     "execution_count": 71,
     "metadata": {},
     "output_type": "execute_result"
    }
   ],
   "source": [
    "cx"
   ]
  },
  {
   "cell_type": "code",
   "execution_count": 72,
   "metadata": {
    "collapsed": false
   },
   "outputs": [
    {
     "data": {
      "text/plain": [
       "((4, 1, 1), (1, 3, 1), (1, 1, 5))"
      ]
     },
     "execution_count": 72,
     "metadata": {},
     "output_type": "execute_result"
    }
   ],
   "source": [
    "ax.shape, bx.shape, cx.shape"
   ]
  },
  {
   "cell_type": "code",
   "execution_count": 73,
   "metadata": {
    "collapsed": false
   },
   "outputs": [
    {
     "data": {
      "text/plain": [
       "array([[[42, 34, 50, 66, 26],\n",
       "        [27, 22, 32, 42, 17],\n",
       "        [22, 18, 26, 34, 14]],\n",
       "\n",
       "       [[43, 35, 51, 67, 27],\n",
       "        [28, 23, 33, 43, 18],\n",
       "        [23, 19, 27, 35, 15]],\n",
       "\n",
       "       [[44, 36, 52, 68, 28],\n",
       "        [29, 24, 34, 44, 19],\n",
       "        [24, 20, 28, 36, 16]],\n",
       "\n",
       "       [[45, 37, 53, 69, 29],\n",
       "        [30, 25, 35, 45, 20],\n",
       "        [25, 21, 29, 37, 17]]])"
      ]
     },
     "execution_count": 73,
     "metadata": {},
     "output_type": "execute_result"
    }
   ],
   "source": [
    "result = ax+bx*cx\n",
    "result"
   ]
  },
  {
   "cell_type": "code",
   "execution_count": 74,
   "metadata": {
    "collapsed": false
   },
   "outputs": [
    {
     "data": {
      "text/plain": [
       "17"
      ]
     },
     "execution_count": 74,
     "metadata": {},
     "output_type": "execute_result"
    }
   ],
   "source": [
    "result[3,2,4]"
   ]
  },
  {
   "cell_type": "code",
   "execution_count": 75,
   "metadata": {
    "collapsed": false
   },
   "outputs": [
    {
     "data": {
      "text/plain": [
       "17"
      ]
     },
     "execution_count": 75,
     "metadata": {},
     "output_type": "execute_result"
    }
   ],
   "source": [
    "a[3]+b[2]*c[4]"
   ]
  },
  {
   "cell_type": "code",
   "execution_count": 76,
   "metadata": {
    "collapsed": true
   },
   "outputs": [],
   "source": [
    "def ufunc_reduce(ufct, *vectors):\n",
    "    vs = np.ix_(*vectors)\n",
    "    r = ufct.identity\n",
    "    for v in vs:\n",
    "        r = ufct(r,v)\n",
    "    return r"
   ]
  },
  {
   "cell_type": "code",
   "execution_count": 77,
   "metadata": {
    "collapsed": false
   },
   "outputs": [
    {
     "data": {
      "text/plain": [
       "array([[[15, 14, 16, 18, 13],\n",
       "        [12, 11, 13, 15, 10],\n",
       "        [11, 10, 12, 14,  9]],\n",
       "\n",
       "       [[16, 15, 17, 19, 14],\n",
       "        [13, 12, 14, 16, 11],\n",
       "        [12, 11, 13, 15, 10]],\n",
       "\n",
       "       [[17, 16, 18, 20, 15],\n",
       "        [14, 13, 15, 17, 12],\n",
       "        [13, 12, 14, 16, 11]],\n",
       "\n",
       "       [[18, 17, 19, 21, 16],\n",
       "        [15, 14, 16, 18, 13],\n",
       "        [14, 13, 15, 17, 12]]])"
      ]
     },
     "execution_count": 77,
     "metadata": {},
     "output_type": "execute_result"
    }
   ],
   "source": [
    "ufunc_reduce(np.add,a,b,c)"
   ]
  },
  {
   "cell_type": "code",
   "execution_count": 78,
   "metadata": {
    "collapsed": false
   },
   "outputs": [
    {
     "data": {
      "image/png": "[encoded data removed]",
      "text/plain": [
       "<matplotlib.figure.Figure at 0x7fb6d9484b50>"
      ]
     },
     "metadata": {},
     "output_type": "display_data"
    }
   ],
   "source": [
    "# Build a vector of 10000 normal deviates with variance 0.5^2 and mean 2\n",
    "mu, sigma = 2, 0.5\n",
    "v = np.random.normal(mu,sigma,10000)\n",
    "# Plot a normalized histogram with 50 bins\n",
    "plt.hist(v, bins=50, normed=1)       # matplotlib version (plot)\n",
    "plt.show()"
   ]
  },
  {
   "cell_type": "code",
   "execution_count": 79,
   "metadata": {
    "collapsed": false
   },
   "outputs": [
    {
     "data": {
      "image/png": "[encoded data removed]",
      "text/plain": [
       "<matplotlib.figure.Figure at 0x7fb6d9484d50>"
      ]
     },
     "metadata": {},
     "output_type": "display_data"
    }
   ],
   "source": [
    "# Compute the histogram with numpy and then plot it\n",
    "(n, bins) = np.histogram(v, bins=50, normed=True)  # NumPy version (no plot)\n",
    "plt.plot(.5*(bins[1:]+bins[:-1]), n)\n",
    "plt.show()"
   ]
  },
  {
   "cell_type": "markdown",
   "metadata": {},
   "source": [
    "## Getfem++の学習\n",
    "本節ではGetfem++のチュートリアル\n",
    "\n",
    "http://download.gna.org/getfem/html/homepage/tutorial/index.html\n",
    "\n",
    "の内容を解析します。"
   ]
  },
  {
   "cell_type": "markdown",
   "metadata": {},
   "source": [
    "## Scipyの学習\n",
    "\n",
    "本節ではScipyのチュートリアル\n",
    "\n",
    "http://docs.scipy.org/doc/scipy/reference/tutorial/\n",
    "\n",
    "の内容を解説します。"
   ]
  },
  {
   "cell_type": "code",
   "execution_count": 80,
   "metadata": {
    "collapsed": false
   },
   "outputs": [
    {
     "data": {
      "text/plain": [
       "array([ 1, -3, -1])"
      ]
     },
     "execution_count": 80,
     "metadata": {},
     "output_type": "execute_result"
    }
   ],
   "source": [
    "from scipy.sparse import csr_matrix\n",
    "A = csr_matrix([[1, 2, 0], [0, 0, 3], [4, 0, 5]])\n",
    "v = np.array([1, 0, -1])\n",
    "A.dot(v)"
   ]
  },
  {
   "cell_type": "code",
   "execution_count": 81,
   "metadata": {
    "collapsed": true
   },
   "outputs": [],
   "source": [
    "from scipy.sparse import lil_matrix\n",
    "from scipy.sparse.linalg import spsolve\n",
    "from numpy.linalg import solve, norm\n",
    "from numpy.random import rand"
   ]
  },
  {
   "cell_type": "code",
   "execution_count": 82,
   "metadata": {
    "collapsed": true
   },
   "outputs": [],
   "source": [
    "A = lil_matrix((1000, 1000))\n",
    "A[0, :100] = rand(100)\n",
    "A[1, 100:200] = A[0, :100]\n",
    "A.setdiag(rand(1000))"
   ]
  },
  {
   "cell_type": "code",
   "execution_count": 83,
   "metadata": {
    "collapsed": true
   },
   "outputs": [],
   "source": [
    "A = A.tocsr()\n",
    "b = rand(1000)\n",
    "x = spsolve(A, b)"
   ]
  },
  {
   "cell_type": "code",
   "execution_count": 84,
   "metadata": {
    "collapsed": true
   },
   "outputs": [],
   "source": [
    "x_ = solve(A.toarray(), b)"
   ]
  },
  {
   "cell_type": "code",
   "execution_count": 85,
   "metadata": {
    "collapsed": false
   },
   "outputs": [
    {
     "data": {
      "text/plain": [
       "True"
      ]
     },
     "execution_count": 85,
     "metadata": {},
     "output_type": "execute_result"
    }
   ],
   "source": [
    "err = norm(x-x_)\n",
    "err < 1e-10"
   ]
  },
  {
   "cell_type": "code",
   "execution_count": 86,
   "metadata": {
    "collapsed": false
   },
   "outputs": [
    {
     "name": "stdout",
     "output_type": "stream",
     "text": [
      "  (0, 0)\t4\n",
      "  (3, 3)\t5\n",
      "  (1, 1)\t7\n",
      "  (0, 2)\t9\n"
     ]
    }
   ],
   "source": [
    "from scipy import sparse\n",
    "from numpy import array\n",
    "I = array([0,3,1,0])\n",
    "J = array([0,3,1,2])\n",
    "V = array([4,5,7,9])\n",
    "A = sparse.coo_matrix((V,(I,J)),shape=(4,4))\n",
    "print A"
   ]
  },
  {
   "cell_type": "code",
   "execution_count": 87,
   "metadata": {
    "collapsed": false
   },
   "outputs": [
    {
     "name": "stdout",
     "output_type": "stream",
     "text": [
      "  (0, 0)\t3\n",
      "  (0, 2)\t1\n",
      "  (1, 1)\t2\n",
      "  (3, 3)\t1\n"
     ]
    }
   ],
   "source": [
    "I = array([0,0,1,3,1,0,0])\n",
    "J = array([0,2,1,3,1,0,0])\n",
    "V = array([1,1,1,1,1,1,1])\n",
    "B = sparse.coo_matrix((V,(I,J)),shape=(4,4)).tocsr()\n",
    "print B"
   ]
  },
  {
   "cell_type": "code",
   "execution_count": 88,
   "metadata": {
    "collapsed": false
   },
   "outputs": [
    {
     "name": "stdout",
     "output_type": "stream",
     "text": [
      "  (0, 1)\t2\n",
      "  (0, 2)\t1\n",
      "  (1, 0)\t2\n",
      "  (2, 0)\t1\n",
      "  (2, 2)\t1\n"
     ]
    }
   ],
   "source": [
    "G_dense = np.array([[0, 2, 1],\n",
    "                    [2, 0, 0],\n",
    "                    [1, 0, 1]])\n",
    "G_masked = np.ma.masked_values(G_dense, 0)\n",
    "from scipy.sparse import csr_matrix\n",
    "G_sparse = csr_matrix(G_dense)\n",
    "print G_sparse"
   ]
  },
  {
   "cell_type": "code",
   "execution_count": 89,
   "metadata": {
    "collapsed": true
   },
   "outputs": [],
   "source": [
    "from scipy.sparse import linalg"
   ]
  },
  {
   "cell_type": "code",
   "execution_count": 90,
   "metadata": {
    "collapsed": false
   },
   "outputs": [],
   "source": [
    "A = A.tocsc()"
   ]
  },
  {
   "cell_type": "code",
   "execution_count": 91,
   "metadata": {
    "collapsed": false
   },
   "outputs": [],
   "source": [
    "B = B.tocsc()"
   ]
  },
  {
   "cell_type": "code",
   "execution_count": 92,
   "metadata": {
    "collapsed": true
   },
   "outputs": [],
   "source": [
    "m = gf.Mesh?"
   ]
  },
  {
   "cell_type": "code",
   "execution_count": null,
   "metadata": {
    "collapsed": true
   },
   "outputs": [],
   "source": [
    "m = gf.Mesh"
   ]
  },
  {
   "cell_type": "code",
   "execution_count": 93,
   "metadata": {
    "collapsed": true
   },
   "outputs": [],
   "source": [
    "m = gf.Mesh"
   ]
  },
  {
   "cell_type": "code",
   "execution_count": 94,
   "metadata": {
    "collapsed": true
   },
   "outputs": [],
   "source": [
    "m = gf.Mesh"
   ]
  },
  {
   "cell_type": "code",
   "execution_count": 95,
   "metadata": {
    "collapsed": true
   },
   "outputs": [],
   "source": [
    "m = gf.Mesh"
   ]
  },
  {
   "cell_type": "code",
   "execution_count": 96,
   "metadata": {
    "collapsed": true
   },
   "outputs": [],
   "source": [
    "m = gf.Mesh"
   ]
  },
  {
   "cell_type": "code",
   "execution_count": 97,
   "metadata": {
    "collapsed": true
   },
   "outputs": [],
   "source": [
    "m = gf.Mesh('cartesian', np.arange(10))"
   ]
  },
  {
   "cell_type": "code",
   "execution_count": 98,
   "metadata": {
    "collapsed": false
   },
   "outputs": [
    {
     "name": "stdout",
     "output_type": "stream",
     "text": [
      "\n",
      "BEGIN POINTS LIST\n",
      "\n",
      "  POINT  0  0\n",
      "  POINT  1  1\n",
      "  POINT  2  2\n",
      "  POINT  3  3\n",
      "  POINT  4  4\n",
      "  POINT  5  5\n",
      "  POINT  6  6\n",
      "  POINT  7  7\n",
      "  POINT  8  8\n",
      "  POINT  9  9\n",
      "\n",
      "END POINTS LIST\n",
      "\n",
      "\n",
      "\n",
      "BEGIN MESH STRUCTURE DESCRIPTION\n",
      "\n",
      "CONVEX 0    'GT_PK(1,1)'      0  1\n",
      "CONVEX 1    'GT_PK(1,1)'      1  2\n",
      "CONVEX 2    'GT_PK(1,1)'      2  3\n",
      "CONVEX 3    'GT_PK(1,1)'      3  4\n",
      "CONVEX 4    'GT_PK(1,1)'      4  5\n",
      "CONVEX 5    'GT_PK(1,1)'      5  6\n",
      "CONVEX 6    'GT_PK(1,1)'      6  7\n",
      "CONVEX 7    'GT_PK(1,1)'      7  8\n",
      "CONVEX 8    'GT_PK(1,1)'      8  9\n",
      "\n",
      "END MESH STRUCTURE DESCRIPTION\n",
      "\n"
     ]
    }
   ],
   "source": [
    "print m"
   ]
  },
  {
   "cell_type": "code",
   "execution_count": 99,
   "metadata": {
    "collapsed": true
   },
   "outputs": [],
   "source": [
    "mfu = gf.MeshFem(m)"
   ]
  },
  {
   "cell_type": "code",
   "execution_count": 100,
   "metadata": {
    "collapsed": false
   },
   "outputs": [
    {
     "name": "stdout",
     "output_type": "stream",
     "text": [
      "\n",
      "BEGIN MESH_FEM\n",
      "\n",
      "QDIM 1\n",
      " BEGIN DOF_ENUMERATION \n",
      " END DOF_ENUMERATION \n",
      "END MESH_FEM\n",
      "\n"
     ]
    }
   ],
   "source": [
    "print mfu"
   ]
  },
  {
   "cell_type": "code",
   "execution_count": 101,
   "metadata": {
    "collapsed": true
   },
   "outputs": [],
   "source": [
    "mfu.set_fem(gf.Fem('FEM_PK(1,1)'))"
   ]
  },
  {
   "cell_type": "code",
   "execution_count": 102,
   "metadata": {
    "collapsed": false
   },
   "outputs": [
    {
     "name": "stdout",
     "output_type": "stream",
     "text": [
      "\n",
      "BEGIN MESH_FEM\n",
      "\n",
      "QDIM 1\n",
      " CONVEX 0 'FEM_PK(1,1)'\n",
      " CONVEX 1 'FEM_PK(1,1)'\n",
      " CONVEX 2 'FEM_PK(1,1)'\n",
      " CONVEX 3 'FEM_PK(1,1)'\n",
      " CONVEX 4 'FEM_PK(1,1)'\n",
      " CONVEX 5 'FEM_PK(1,1)'\n",
      " CONVEX 6 'FEM_PK(1,1)'\n",
      " CONVEX 7 'FEM_PK(1,1)'\n",
      " CONVEX 8 'FEM_PK(1,1)'\n",
      " BEGIN DOF_ENUMERATION \n",
      "  0:  0 1\n",
      "  1:  1 2\n",
      "  2:  2 3\n",
      "  3:  3 4\n",
      "  4:  4 5\n",
      "  5:  5 6\n",
      "  6:  6 7\n",
      "  7:  7 8\n",
      "  8:  8 9\n",
      " END DOF_ENUMERATION \n",
      "END MESH_FEM\n",
      "\n"
     ]
    }
   ],
   "source": [
    "print mfu"
   ]
  },
  {
   "cell_type": "code",
   "execution_count": 103,
   "metadata": {
    "collapsed": false
   },
   "outputs": [
    {
     "data": {
      "image/png": "[encoded data removed]",
      "text/plain": [
       "<matplotlib.figure.Figure at 0x7fb6d692a790>"
      ]
     },
     "metadata": {},
     "output_type": "display_data"
    }
   ],
   "source": [
    "\"\"\"\n",
    "Demonstrates computation of gradient with matplotlib.tri.CubicTriInterpolator.\n",
    "\"\"\"\n",
    "from matplotlib.tri import Triangulation, UniformTriRefiner,\\\n",
    "    CubicTriInterpolator\n",
    "import matplotlib.pyplot as plt\n",
    "import matplotlib.cm as cm\n",
    "import numpy as np\n",
    "import math\n",
    "%matplotlib inline\n",
    "\n",
    "\n",
    "#-----------------------------------------------------------------------------\n",
    "# Electrical potential of a dipole\n",
    "#-----------------------------------------------------------------------------\n",
    "def dipole_potential(x, y):\n",
    "    \"\"\" The electric dipole potential V \"\"\"\n",
    "    r_sq = x**2 + y**2\n",
    "    theta = np.arctan2(y, x)\n",
    "    z = np.cos(theta)/r_sq\n",
    "    return (np.max(z) - z) / (np.max(z) - np.min(z))\n",
    "\n",
    "\n",
    "#-----------------------------------------------------------------------------\n",
    "# Creating a Triangulation\n",
    "#-----------------------------------------------------------------------------\n",
    "# First create the x and y coordinates of the points.\n",
    "n_angles = 30\n",
    "n_radii = 10\n",
    "min_radius = 0.2\n",
    "radii = np.linspace(min_radius, 0.95, n_radii)\n",
    "\n",
    "angles = np.linspace(0, 2*math.pi, n_angles, endpoint=False)\n",
    "angles = np.repeat(angles[..., np.newaxis], n_radii, axis=1)\n",
    "angles[:, 1::2] += math.pi/n_angles\n",
    "\n",
    "x = (radii*np.cos(angles)).flatten()\n",
    "y = (radii*np.sin(angles)).flatten()\n",
    "V = dipole_potential(x, y)\n",
    "\n",
    "# Create the Triangulation; no triangles specified so Delaunay triangulation\n",
    "# created.\n",
    "triang = Triangulation(x, y)\n",
    "\n",
    "# Mask off unwanted triangles.\n",
    "xmid = x[triang.triangles].mean(axis=1)\n",
    "ymid = y[triang.triangles].mean(axis=1)\n",
    "mask = np.where(xmid*xmid + ymid*ymid < min_radius*min_radius, 1, 0)\n",
    "triang.set_mask(mask)\n",
    "\n",
    "#-----------------------------------------------------------------------------\n",
    "# Refine data - interpolates the electrical potential V\n",
    "#-----------------------------------------------------------------------------\n",
    "refiner = UniformTriRefiner(triang)\n",
    "tri_refi, z_test_refi = refiner.refine_field(V, subdiv=3)\n",
    "\n",
    "#-----------------------------------------------------------------------------\n",
    "# Computes the electrical field (Ex, Ey) as gradient of electrical potential\n",
    "#-----------------------------------------------------------------------------\n",
    "tci = CubicTriInterpolator(triang, -V)\n",
    "# Gradient requested here at the mesh nodes but could be anywhere else:\n",
    "(Ex, Ey) = tci.gradient(triang.x, triang.y)\n",
    "E_norm = np.sqrt(Ex**2 + Ey**2)\n",
    "\n",
    "#-----------------------------------------------------------------------------\n",
    "# Plot the triangulation, the potential iso-contours and the vector field\n",
    "#-----------------------------------------------------------------------------\n",
    "plt.figure()\n",
    "plt.gca().set_aspect('equal')\n",
    "plt.triplot(triang, color='0.8')\n",
    "\n",
    "levels = np.arange(0., 1., 0.01)\n",
    "cmap = cm.get_cmap(name='hot', lut=None)\n",
    "plt.tricontour(tri_refi, z_test_refi, levels=levels, cmap=cmap,\n",
    "               linewidths=[2.0, 1.0, 1.0, 1.0])\n",
    "# Plots direction of the electrical vector field\n",
    "plt.quiver(triang.x, triang.y, Ex/E_norm, Ey/E_norm,\n",
    "           units='xy', scale=10., zorder=3, color='blue',\n",
    "           width=0.007, headwidth=3., headlength=4.)\n",
    "\n",
    "plt.title('Gradient plot: an electrical dipole')\n",
    "plt.show()\n"
   ]
  },
  {
   "cell_type": "code",
   "execution_count": 104,
   "metadata": {
    "collapsed": true
   },
   "outputs": [],
   "source": [
    "from tempfile import NamedTemporaryFile\n",
    "from IPython.display import HTML\n",
    "\n",
    "VIDEO_TAG = \"\"\"<video controls>\n",
    " <source src=\"data:video/x-m4v;base64,{0}\" type=\"video/mp4\">\n",
    " Your browser does not support the video tag.\n",
    "</video>\"\"\"\n",
    "\n",
    "def anim_to_html(anim):\n",
    "    if not hasattr(anim, '_encoded_video'):\n",
    "        with NamedTemporaryFile(suffix='.mp4') as f:\n",
    "            anim.save(f.name, fps=20, extra_args=['-vcodec', 'libx264'])\n",
    "            video = open(f.name, \"rb\").read()\n",
    "        anim._encoded_video = video.encode(\"base64\")\n",
    "    \n",
    "    return VIDEO_TAG.format(anim._encoded_video)\n",
    "\n",
    "def display_animation(anim):\n",
    "    plt.close(anim._fig)\n",
    "    return HTML(anim_to_html(anim))"
   ]
  },
  {
   "cell_type": "code",
   "execution_count": 105,
   "metadata": {
    "collapsed": false
   },
   "outputs": [
    {
     "data": {
      "text/html": [
       "<video controls>\n",
       " <source src=\"data:video/x-m4v;base64,AAAAIGZ0eXBpc29tAAACAGlzb21pc28yYXZjMW1wNDEAAAAIZnJlZQAAe4BtZGF0AAACrQYF//+p\n",
       "3EXpvebZSLeWLNgg2SPu73gyNjQgLSBjb3JlIDE0NiByMjU1NSAwYzIxNDgwIC0gSC4yNjQvTVBF\n",
       "Ry00IEFWQyBjb2RlYyAtIENvcHlsZWZ0IDIwMDMtMjAxNSAtIGh0dHA6Ly93d3cudmlkZW9sYW4u\n",
       "b3JnL3gyNjQuaHRtbCAtIG9wdGlvbnM6IGNhYmFjPTEgcmVmPTMgZGVibG9jaz0xOjA6MCBhbmFs\n",
       "eXNlPTB4MzoweDExMyBtZT1oZXggc3VibWU9NyBwc3k9MSBwc3lfcmQ9MS4wMDowLjAwIG1peGVk\n",
       "X3JlZj0xIG1lX3JhbmdlPTE2IGNocm9tYV9tZT0xIHRyZWxsaXM9MSA4eDhkY3Q9MSBjcW09MCBk\n",
       "ZWFkem9uZT0yMSwxMSBmYXN0X3Bza2lwPTEgY2hyb21hX3FwX29mZnNldD00IHRocmVhZHM9NiBs\n",
       "b29rYWhlYWRfdGhyZWFkcz0xIHNsaWNlZF90aHJlYWRzPTAgbnI9MCBkZWNpbWF0ZT0xIGludGVy\n",
       "bGFjZWQ9MCBibHVyYXlfY29tcGF0PTAgY29uc3RyYWluZWRfaW50cmE9MCBiZnJhbWVzPTMgYl9w\n",
       "eXJhbWlkPTIgYl9hZGFwdD0xIGJfYmlhcz0wIGRpcmVjdD0xIHdlaWdodGI9MSBvcGVuX2dvcD0w\n",
       "IHdlaWdodHA9MiBrZXlpbnQ9MjUwIGtleWludF9taW49MjAgc2NlbmVjdXQ9NDAgaW50cmFfcmVm\n",
       "cmVzaD0wIHJjX2xvb2thaGVhZD00MCByYz1jcmYgbWJ0cmVlPTEgY3JmPTIzLjAgcWNvbXA9MC42\n",
       "MCBxcG1pbj0wIHFwbWF4PTY5IHFwc3RlcD00IGlwX3JhdGlvPTEuNDAgYXE9MToxLjAwAIAAABLP\n",
       "ZYiEADv//vb8/AptFl7dP/9P+VxN2UIE1zAAAAMB/lDeVgz7cwDOj+8kDWXFnddJewIuQQ6ZmoFI\n",
       "d6aisfYX2kiqPPxetKReigwCg2dlAbvauJYN1KuwEqbdEae5QNR1HbTv+IW6I9izeMvwQP3tNERd\n",
       "Wh6Ul90C/PzKz+UZGmuGeKfm8/B+Zr2uUOBSAn8CwzkzEQzV8oX/5Ev9ZX2tY/zKPvAr0ZZ1XwXS\n",
       "6rZh8q9gUejiTAqRfsoFDDYsolt0F6sgtKID3Kd9wK4ahYeDhkbUzyaAB+F8nJZIU8gDRoUvdQWE\n",
       "vYMgDaMntL4CfJjljZs/gN0eEqlrgN13FRmAsCccCCq+QaAA/XFGiGqJosIqhRIQT7u5+dCZdiRZ\n",
       "cL7Yo055BTfzPfgleuOirqtiMjw4czlvzBUj5okv0rSgci1CAUCqehH1EozxsIhqj9WGvZGvB2k4\n",
       "XLTJRdIvaqyZhSze+RtX361JyDINSyKQXaOhkJsWGtzNf+7StJem55qWbJqWu9K2sfehd/4L08BU\n",
       "4krsp7f9lsL0AAGROi+aVVGyfHRQ+QIgf9eX5SAx93H40AdGt7ZuDIoS3xG5pWOEXEpbJ5dSlzMs\n",
       "0SrkgnWbYhan0UycN84j7iH/6gzSrnrrN+MQ2SSe1RNx78mne1dpq7+Oa96bexNhtjvMYOhWLzn8\n",
       "FoSuQuu/FQ6nFZl8FgnSvvpgG5W2k/6P17ra3FBi7aeK+PaWjoEGl3QmVDTufg7rjOpMHwwLr7T0\n",
       "z0ipUGnEkRmrF0g7OoJ84CYNZL3DnOobJ2JDsVYnBxLl4XVuRu80Pn3NIA2Fj7jHg1/8XyBRvmFK\n",
       "zVYCpGW7QwfB0edeTBCEgeamLhB9gSB5YaZ1vuXgaAubGcgg8XTCrf0G9UUYCxcRZ+udpEsQwPvu\n",
       "H1VyBhdVKDYMwoTgyfEUT+j2fJ1GzpuJ5pseJbsedPWnFUskcUKvN9SW/5Eg5DmueUumvrPKHJac\n",
       "pse9z+zN7ShSXZJnAM0+TjH8/oMqjkIeSPl17TUjyW/3tM0YM+5adCwdE3UXseiZGw+sA8eoSx4C\n",
       "LDF4knBTnI9b6iOIeAdM6wfJallsTaEfOE64bqbHawORhqxi+MglCk1UWE5KvNBIaiYUeq4MM78S\n",
       "uEBac960CKPmEYZwg8qKmXGn7STfGgR3NZEBjlJHTchXGM6Lk037dHikTN+47i7cQIuYk0/9DD50\n",
       "f7L3Fk6eGLHt2NJ13Rg79nYYbFZPS9XkHd+ZRoF5C+fPnGGVYJw7PvyFK+e+02cL9qRxfLQqPzS2\n",
       "bIWcgMvrrYdg6s0h1hBhSVL85Nz4qKsNDsP+WXKUZ0yMQZ1PGJxv6GTM4tsa1JlPj7nBdO9DyX9i\n",
       "wsKzebc5ZBo84RHlaAecFSUQSdPH6msXN6AkXZtybNSnbCJUVM8aP+izIs2uyfHa4Pbyzr1vGZgV\n",
       "hcH1f3JeqAv5mda12Jjaz0EsDZ5mZWLc0aPOdO5gaN5Wd/8on/org7h7wvm77RHk7zu981h5NBaM\n",
       "z/K9AemGbK3PBBlxEeikLqepiGXV3FsgWMhcKZ+fStHuJs3wIJnu++D14tIAvEBtA4YqfEsD+ROi\n",
       "ndQTfXRkHc1SiEup0VqwHbNezFOHV3zWiAelaIoiVcnRpFvEulL4OQ8ylFHn0bsgrIfJQH6pidte\n",
       "y+yjidn9bQAvB+CWusW0b60a5FFZLp1nkNMvteWIPF46BioIVnmF0UiPTZCM/wwC7BXWIVYV01HE\n",
       "xzx+4sKFcN8zCP5GK/U/lBuwkV2jZjTsvqeyLx8JiTFLorKlm2e89ral4D1VsIH0WxF509I+VdFO\n",
       "98FsDNc1A49OhaYOw+aayvY6lbsuqLBio6c+Sdes/SWsQArJ8tqSHhSJ0ExaqTBrewbBuxjeLM/S\n",
       "fFh4GGvhDR/4nzqvNKwYPbaMjgJS/Np9uclZwNIyFS3Sp6t3I0uWq/P9irM/BMU1vRgCWcQ4o9Jm\n",
       "1WiUjhdUxq9Bs0bgBAL8D4oblXJ6TtIe/n7tfLwmx+9PcEyShZoLh4418/lBi9KO866LE5eITf6D\n",
       "7zUf3zSIRc9Dnfkynkfi5w80MC2nr985wpVTvRcSblQRgO3s2bSOTr++EKj4HvBKw//GORHqWVrI\n",
       "GkihaO/D2Vg/vfBa9bVr+WSlk+Ifla6GQBDbfE/3cH+T4QgkAxLxcJUgN6KLCDxQmcEnfSxRv5cE\n",
       "fYTz/n/cAJagaEZ5LIWIpbQz8p85dtoGJ0hjAHiTPIFb7YBAUdlfKxz4CIsLLq7dDPuIY7Xklv/n\n",
       "7bAkyP+V6W9pVO2cW4L2CwPaCHG6OL/Ixb5cdP3RzjmIfdnE1+4jgsnD+f/dHx1uHZoRcsU68+HN\n",
       "thBAyfbjjW+dpB8Ps6/XNDdnYkkkjieVhQq02pLgpmv8ElZ19GFU44PsfbmWiSbPv/wFMyMWvPZN\n",
       "3TUWwP5bljuxwScvUKQHQzPbgl7FbnJ1H8+uh1MpIc/QykRFv4Z9yQ4IM86p9tGfLd3gUbnPaFSx\n",
       "fLSJdQI9ieYyPVX9oeH55FRT37nnbKP6UiFNX6srtelkvEwIavg8g1S3dJL94biHoJlLQ7gYSBzM\n",
       "ptTk1NOCyLJbAJzlZk5iDfKl7MdhuW0ZyWrnF6hKe7KhwnIkc112Zy4GUTYBxHnFefTaVKCuIuFN\n",
       "/VN/8+Dhn/f5H8Xrdrpj/hO2h+iSm6IjlNSTUp//eA6+t8DjbS8doB4uFTh8ac8PhZ5+velgB+EO\n",
       "sqTAEhmMf2CmBEwz2epmQla85pbZ4FWAN5+Cu/7bkbTE5U6IR8PMz84Z/WGLN0vi6oJfkgq1qZLO\n",
       "E2/aHu8USSrHIjk9xEYyGMTmPJQqLyY6i0f2bIBD+WXbU96pz62+NLYN2sH36pVG2X1S44ccSGkV\n",
       "a8rSHBJzFzWZZ/y+k4gCfYk8a9OzhsZYnXLQ7j0N2ei4qjGPhUhHmwixyNoegoJ2PIJmk6apRAx4\n",
       "SnlTEiSyVNqf6vbpUIg+iV89AplCzI/mIfgq0Im5VAQNG6JMhwxsooY4JC+A2FKROXNLBOv0q/VS\n",
       "lGt70RuwANk9Stsg7/vepN7w86cBE2Tv9K6rdqnywFxNDodF7SDvgrBFmnMv/P6QEpVkn4j8tGOt\n",
       "6KUdAG5p7eU7YgMr5qeoSy8YT57KA6qxx04rYrjg+JwyUzGWBh+cwYb5lHIVA8pJw+pHheuMkejh\n",
       "VjEZotRrG0jqEdeKuiiSB1UcPD1gyERPRLsq69/kn18z08jqeuNFalVpIUwZDjI8euQ4Y/BUv1dD\n",
       "dhtApsxc/JEsrcHg0znwMpn7maKdKydLjGzNxBd5tpjc9b4XtaGw76Qt1u4Izsp2nR/89IV0e2nK\n",
       "odP+UeWgQQOVOsh40GmbjzQCz/D8G47AtqtliO+QUhyu1NP018xTLOEaVDp/FT0N+wdzb96UEO6X\n",
       "a+VrR5VI/V6bGYEvU5SxjoOJNmUc2gbHcKtaQyst5nePYpB42jdFCEAMzc6Su5dET+eyxdDVTVF1\n",
       "HA+lHN1N6M3wRB2IXDKJ4CEuojylpFhHj879fFaFrufRh8GixQkF4SCjR+fopMDQHpmJ4vyESDU+\n",
       "zuDLXBo1BSVIMFgctN4XhtHBbSbFCVBZilqTCahQHTXEgNPbK7V2EQ5YdRSJWPTFnQztNp/WeBfQ\n",
       "t3N1wIqHAlTYRyBM37MO/64oLDGnWyv0JF5fdJR85C2xMLGIVRlMi5n1fa0VFnG15RCaAoMRjr7J\n",
       "koZtmdQWIOed1nPYqhXNYwmq0r4ZRBENP9zwWpGChYRgzjqNp3866OUDdizpLCMv+4IaG+EfXAY9\n",
       "Syg7gAu9yzHXYBOVwacbmtNcWo2Mi8+PtXjtc6QWYkZwgjB4KBh4wqAVx24dNb2nC7WbmMolYyx+\n",
       "VjPnMTvtxDxmoUomKSV2/oqdmPefc25+/LmSdbnaqoeLnARXe0twu/imHQC+IQUFHsZLFtHU3enj\n",
       "On4J8mdkUUNlpUS4Qjpke9pimfgDT6aQObfkyOb/ScQ8CqRVZNyODSFgsxIvYJi0sGU5JGc3yTPN\n",
       "P+KY0hO3u9P7dc/pbUdR5wV9cZfG453Ud4zJ3AkeqJEgHKyNj7lQRFW6HsG7z0j5SKdGDJ+43Xyy\n",
       "2LomkAHHvC02uO2ybUOIF6DRLwCmNH6ViGLWTb3bZHN8/ZBr3qmEUDgkF8IaSPOReXz4skom8gd+\n",
       "cPq0cu6z3dgS66EncB/OFtJV4UPU8XNtE1exG2UmS0xfrrWBbISfvdQ5J7I1muB9w5KY6MuFRGjq\n",
       "U6hDZ7jHcPT7z9MuJVifcqQ9bHCDdBVl/diOD0+Go0MKNSVGjuCaBHtuIrlEKCPBDy5Ftw5Pa4uZ\n",
       "YvCI4WLkGY4phlbHF013l2/iRHSVtCAHsEezuk058nhGM4yYWTv4DZOMR7x4GM5vM0GQJOnpc+20\n",
       "8Tgjza9/XjCyLfSvOtprpNS90qzsjcTCRZGnyoLAWu7yhzd+0GXLpe1tDenoeumOYuHTMCn01e/7\n",
       "0khCakYavPmSl/H+vJgv9wR2XK/H3as+BHBSQpYU4AQnoi0OtyJ/4nArMn4Fg6M8jP266WdUYDzE\n",
       "6H4ljiV5J5NvnsVCcWJbJ2iYf5wITFc5I3mWUQQEv341WsXdfGq//5na67veQbmfNifgZM/BOuDy\n",
       "yMpKKJI6iY91wovs52M7U63vwJWCnU/R1n1y63pqJompfWL/WMpae65UZDCLmlZ6mJazih+rOZii\n",
       "GQll49hbXwZjdxnKzb3X8Q3z/f4bn55o2Qp8rPuyk4QpjDgXKQ07wPdbfxg1Y1ZfsqyPSABPsGWp\n",
       "5xFVHAT+eve/qFOm72IZRr3ForATkeqRamfcxWH727FDUza5XtwNTf2G4DUIJs7rIpYj13DDr1wa\n",
       "Cn+h5hOoqu8bnzEi23Te9UrbpLfEz/wv/2AAlwMcNk6QGOhVgTs6km327yHv4QyiXsKyn5VZ1+FA\n",
       "CcM6bRTZ/6MT0A/jVs1c3TlPnsIUz6ejixQxx4oE4vYbpUdkOtNbZeOd2R+R1snNgeZ+05BpRDwc\n",
       "w3Rqz98b8gVlDHKHysRBLLZSs9hluBPBcHVuthV/9Pk8XKtB7EWP/UrWCVBXVGjGDLES05V30pdb\n",
       "Ad7ulSLoAzc9v0zcTK5OmPVlV16Cvw3UUPCxp3tz2/89FC0t9ZM07I5Gudn8jzX+J4rcCampAt9x\n",
       "zG3k6tseyJa88U3XEOCjaaU3utzWDGpDdjK1gl+V7ryV2PKPwLDtcByAL34nkUmUNXEFUD7nJKLh\n",
       "9417Tmaf4S/BZyRFWxnAsB7CMk0rJNAA4BdlWk9J/7clSN1ottZwbC4rAKV4O2XsTqCK6xnX/1Kw\n",
       "iZWC+bjb0eC1tRvDQtSAGgRzFFXP0WT9TtzGwSnUnTO9FS4BjSS2jhFYAMElsvOsd9E7AGmpb2Tc\n",
       "LEOfNM85VYIW5KS8SObOjg1POf9ribvrRhdg3g9gXeLKjrMLOlEfFXFXZ4WEEzdQfaUo0LeJhyth\n",
       "qtMY2e07dH1Mw5a8E3Rh9gYKP5HjjcrjYiIKEGthLxGO18Mu+25Xn9thHlfE/qn92lEDyTVfb+pn\n",
       "7ZmVGZDjaJulVdqAZaQPj0r2n15yP2uNfLBhrXSQR6X39TB4V4MZu2nq+bp0AaNQPYM7EuU5pSHQ\n",
       "S+j2t7kfRfwGn8AGSEFhNL76l90L8jwxmPA/t/VDwoW2mfcyzzAszRy4Q8nvI7ZIMd56spGZ5ZKO\n",
       "5AFGvjEC4GB4OHvlxT3xP05IhmyiIof5GjMOv045CAtjTyS6r35WZI8ndeKlFIQAL7YqT0vFoeBq\n",
       "amZDyZLUkbRA2YSjFsdJ7r5RhuSOs4COjSjYmbQCxE+JG4yVHPA3Ezdd1pD7SQgl+yYzWbUPEMNe\n",
       "2zS/j2Wh8EN57RD3ya8c5jPWQF9qvJTfLFtf9jknk7gw0B/V5aSQlhnW4D5QV26EsQWZEpbAyY7m\n",
       "TO9PeKnwqqHb8AawK960vg/wiebMFUFqjl+TCfw5SKaxQeSmS8e3r10Q3xNOiBnG/sP/bY0bW2bi\n",
       "gLaVOeo2y6kHCkp/3rHHPTIAxN1l3X+NFbFG8IlR45iAN5UN1+Y2ej1CsQ22coa2TuNbpSbcEoOQ\n",
       "89uLSx02dIgJ9NypBsVYMuSYJaQ2o1X3o1B5XDj4zUdqDOGjpftGdHg+pjPTf+ROhXprvhxX0E5Y\n",
       "4FLI+us3qbfTaC5VRq9RG2T3fR3N6QoqdOwKCnd/EIaXzakqFp0YscrHgLzNiE9/CTbTQfDDM04X\n",
       "kwiNShBv46yhrkJpw1p6Phyw8HEh6MHemcw7WWlr5ec5bvdWpuH+Z+b4XQXfm7dP/QIhKY6Ug48x\n",
       "jyNvzipUcy3r4dBTJmYp11gi2GyzpQpD/gq63J1RP+dDQdUlx19Acvl5UZ/SYyEwRl08m2n88755\n",
       "PN1fgcDZkuRN9rmOEGcIAbsAIb3ORP8bUAHFAAACU0GaI2xDv/6plhMAw0Atd0Avuf2Q9XeQX/+6\n",
       "4lx9YUAle7PGB9qgQe0NUCpt9Io7JM9KcfdhW2qGj6KZL2+0kyysNWzjPjFiIWkjYhhuhhCNxH/B\n",
       "Gnaf5vfg3UhhGIWwGZBcp0Nzymc22js3td0Tc6nrN4BKllL77AlskDGBbSlFiWpvsQ5Pb3gbjvoo\n",
       "MyOM/WZgZPNVXji9wpDPkkWmA2gvmaNOOLIbs3ctRZDdm8LM6Oy0SVqDnuI/duIPtMaVZipTd7Ob\n",
       "elc3VSTmYHx/E5XL8E/9kL9UtXQRrByLkUXVTxc5SuJOHmnFIrDxoIYspFlj4NQ+4YWcaysKMtJp\n",
       "duO8pdeKRGpKapyrnz/p9JMsVV7sHQB/IlN5toh6P9XiU6lzWoZPVUFMgMl8G9tUfNjTsDRTxQxu\n",
       "Ea3H8xKzPY2QkGWUtYUhIp6IZ/EWvo/15bgfiKv3+/3/BBYGPlkOBS6tvAIOeCvsWIL6RchLswE5\n",
       "Dw/dhmw8+2CH9/+4RvxRYCxrK9Cjuyr5p+Qt1mBriOs31tu8HBrAddOGwWVhWbdafFGsSDy6+YAJ\n",
       "Tdt86168dCbkZxXT5vTD+QysGDXGwYSSYGytoj/QvfjOt6b81sbYL0qkjsilA4v7gWQXmD/IXK4Z\n",
       "1Q/23vHaLtN3rbm+t2YnCOa41E5+ioZMAGoZSWd0V32vX0OialLvWzTgdkf1RgGNLCkoUMsMzRIt\n",
       "cAObsWF9Q/Mr8XiKIbpZYlFMuvLu0cI3LHTO3a1DPevARm7wrOEJcc6r5ewPRuFZM3/E7FcJBhgA\n",
       "AADBQZ5CeIV/AS8RINGe2CgFlPDd3jYQ+xYHQyIAAlYndvF/tgLX+XjNw5A3YrKSadDpr8Qd0BwS\n",
       "RU0oWuBA3XsY5yx9t0TcDY1vtMnpKyGtTMiWHuXnrnnKwDlQlAqZ7K4tvf6uq2mKzkZvUxc7OPfL\n",
       "jVCsurJGa0I1tFP/DgQyqvtEXg1yXJn07vN6EuHAoMoHAGQQZFByWVOmVrQb/u46EEqw3+etMdrz\n",
       "jxS8yO2B+Mkvwbm6Yprj4+W+OImJIqY1YQAAANkBnmF0Qr8Dm6L29XArLgSjtrwXrpyFGwccaQyj\n",
       "CsGWmP9LmzAy1pe36eS+PxXXgtzdf7h4WcW+I3+BVtsYaqGpCwsvVn+CjfeSjtiTmrsoA5dQEAIP\n",
       "rWuKZDXCcBjuv76YHdnKsnBrB0auyINfzS4yFAUeh5LreZPinJUG47TTmWHVRm7CjeylwJLCnemq\n",
       "KE2fgMZrUF3BrVFFfhypFiSdNffcAStXAa/0kq8jO05DIcRkPbFkHTp5NY99oHgYW7rILV8Oc1wh\n",
       "jkLIRFaHwwx4V7UsCrVTgyqYAAABcEGaZkmoQWiZTAh3//6plgDEejnzTTc7bZmyTfXuQAG6K9/0\n",
       "KWCVlw4nkgDLJ5f5/wL03T08z4BFgB7P4e6iCzgGyFclMLCYY10et1U8ee1gpoBqJMZa7kPl+m9j\n",
       "1gbxh71srzHnZ6x/KbHE1doIUYDQzn+zDwnsK8MFh9CdN+EJ5MvwNGYK4EexTtF9/qm6mooOSPmM\n",
       "/CWX+hGd7s0I+Y4i01zBBvfxBrWe8Fk3IoJhll+HSVeki4GSBqE+jHJMS9WZjyVs/OZ7XNby2kKj\n",
       "g9WkXkuVNI+IBwEKYaQ9csiikBIiCZsWbjkC89uFvopIP7aUBh0dRveukUxiTzAIWYm14scey0Qn\n",
       "wwkS5AYSJ/ospf268czq20jokuTA5CmIKIunDVDReE89uU2strhcuKSkvTSo8dIQM131ZSBjjG4S\n",
       "x+ZOJMvjQdhCFU0jfBi96C4AWFbbc/Zz5vmB2pDmhaWCCF30WEb+ayZWtMC32i95AAAAiEGehUIV\n",
       "/wD/DSKtsQlW/kT+pCISsy/esAin+IFlyv/rw2IldMZMXMb9NkkVtvtNplLGj7bpjPLrydrC9ACE\n",
       "55YkYfP/hwjEmCd1ZX4+T+3zLPfuGUBJp5goxWBwxCdusDrmpY9dH/F5Y3b748Ft0SkWZqO/uIuE\n",
       "tcKqWX+F9P2GS8lQWKtT+2EAAACrAZ6kaRCvAS50/YkPfMm4l2HXPAAJmwAAAwALUHbAN0wFlVDm\n",
       "m96rQodkX2iEWZOsV+NViT+vUfpgGkH1duGXmbU+g2O87uUH4AnrfOT2+FV//f7smgc+w22cDsoW\n",
       "xfw2wJT7RP8lQv0EEXZx4mPr3L7ASNNd8KCbkiXVAV3Z5JwHT9NnaIrF3htBXZSAZSe04JcpL1Q7\n",
       "JRq33GnM5kT0x5yKAyOFOCoCeopZAAAB1EGaqUmoQWyZTAh3//6plgAaiBjcPOnqgBxfeksgd1Zm\n",
       "vFuGj1kLPZZa7vPyp//zjX7IM3byTQ4zoWmduyDdjFw/rii0HASkI2Vlhw9NRMtk5oEQfLM8TgnJ\n",
       "sX4U/Bpf+M4jW0LcgDRrSDkQ97SxoT0NJquilW2rcGhawuJGDjTusRW5ZTbsKckuaAG1Dd4tgVro\n",
       "weLq+vMpp5MK5i2crz8NMgMsfmsyDAC3pEI8HSQWGd5wP5ZBUCxZQal/tUEOUnrxEVyKSpNSMj5w\n",
       "wWeYJ72P6RJ0+0dn//NMLImxB5fH0+Qc03LNPqYphYzVE4Om+FvM7jXbIy60ihHKaUtZP4fqiXl7\n",
       "zk+yw4yYPrpezereQ0UI9wt1uG8CoKVBnEACJ2PUpx8DvmrYHaY5z/9IJ5FufLL3WwIJLPayYZ8k\n",
       "uhoYsTIDIj2l2sRtcmKaO8ZzUAM9XxmEAAmWT36AmIUORkJgCoT7zi2212kyvEHMdlmGXalWwip5\n",
       "YU7HBw23vInUjlvodvYrq8K4xlWfPrXkZiwnIuTa46inDWG5S/3unc6QfXZbIo96e+JXLEo12nH9\n",
       "c3CuwEh82udOx+x59VuVhOzGsBzMK7xE7kZNrdnZYLMTZUzYuwAAAJpBnshCFf8A/w0irbEJkY+m\n",
       "cuvdcqcKRfVdsjl/4OKlUDvRC2U+AJyxmbIAYhHFMAmiflwikT2SblvECZB9Xts9bb6aLB9hQ6Sa\n",
       "Ji2+Bm6DO7yjzgeyJw6uQ+OACERRnleqIZ+4I1PoduulSHeX/z+aYYpb4B7q4OtN1IpvyhYlN007\n",
       "bHYJRBNIhPN8RmoWWKR/+FsyE7XXrnzAAAAAwAGe52kQrwArNML9TSfGkqcKgEznEYWgMDgy62yX\n",
       "lxgAdHEZ6c7Lg5fkZsLgBfkVrlYZNGw2RzpSkGCm7+alfnwV6AE0zhtElIf/QuruhV/Ew9+oOid/\n",
       "q+rcBr5DBtQYesoRrXbfrSrZ9MuvjGtKuywq3mhg/CejesUqSmu65oKdI+1KPhm5miZY+Q5HNQrD\n",
       "xYyPczreP3zkNIvTbbmTHpeD/WHukk/6oPDSJ+Y/QwbebGZOzT10CvVKzmRb5rcLyQAAAalBmuxJ\n",
       "qEFsmUwIf//+qZYAGq4vZmT5W8kXACLwFE+NgQ57Z7z+u82wsmiU9/c4LihqS3fb6XtpKonkOYHB\n",
       "p2qn7F0Pkcyge6IwsqTy99DKZ72WHv6wtqP9+L6rZlkxDojFiy6/wdB5Yjr0oIAEle70chfNiSEz\n",
       "rcgZuK2tjrjV9w6DwGL5h5lcDpicGLPkYWeAOd7REZZ9wwmTApJlguX8K+/lguYs9e7aBz6qZIeR\n",
       "/5PNddH7zOVHgIR2tX9vT5GyUjuH6AiWTCODYjjLuhU8QvhnlzdtZDkmecW4flTHPwwYrDqjPvHO\n",
       "hVydnSK3qALYzqd+kvyISJAuWNWLBB4Hkocs+JcFdmH3YY1grKORrfzEGeBkcvvi5BJccCeTm5Sh\n",
       "avhAxDcyeBVzoi0mWF/dky4GDw8tJnfHaVbxctVOoImVzLbWAQ3fZwgVlJvoBposREtnDkdEkMZp\n",
       "rAq7f6q98Ze0VrayIJ6KDgCgxcfoIBGgD3e95H1BX4+Y5ESXs1jPyXHHY0cg5Ao7L7+BvWzy7fZ0\n",
       "R5zEHWGqqNQPZ2lwQfJ1+kPjb1gPoQAAAKZBnwtCFf8A/w0irbEhX+qmw+qvkOsLNo6lBqAD30AA\n",
       "AAQljY7OGadpEc4qUzhZWNjwZhdZR6KP7CxDPv960iiQHJ0WjKC4I8zF5dPRaKKgJVdaMIbrgPrn\n",
       "KkFBrN8GK+AHm+HwVlKZ0VSdwL2sbd0/3acZLAgNdQfooI8Y/GB3j250AKSJ3jJxEk/+VdsNr4NE\n",
       "mm+EnOamuXsuzH0XlNWRjteweaPAAAAA2AGfKmkQrwArLAE+aZt1/0xgBRYABM2AAAADA3d7ox7D\n",
       "F6lekAweDiqpcC7JvjhIQnUn8Mv0dL/3ctTDOA28wiY+bg21876p9uGG5Xx170GpRrRZpUrpopj5\n",
       "kr40+S9/NEb0XiJM9mp1SgtVOlfEhv6XjkxWFsLgi72XggNePteSKswV3VF0BXOWaMldbNlS7FMU\n",
       "4cO5LSgxtLSk2yZKE4PGxMKRTNO+mhxUC4vhTUGKoSBRGnL/S44IL6wAAN2xaJ5ZMhqBIBVhcDwl\n",
       "Xhs/7SSuU+CTSdMWsAAAAaFBmy9JqEFsmUwIf//+qZYAGei+u5AAcFNbYqAOb/f/JEua48rqHiqL\n",
       "C883rC4XS8DHB0/inuRYeGy2e0RXOY/2Qm/FSUNm1MIYHuy0h4pAT5IUxFZ4meln/0qLJAfZTftX\n",
       "SNoE/9/FD7NiPWh0ZsYGC9c7rjDogGsLkVB5+bUFi3FDGoN3JyeOlA62hcdbndkQpHP6RpKL1iWo\n",
       "Ub1naMGM67cLYq7+3/H3L+3wWUsEWAXXRPiDydmV/XqpI5ZBc/qlXI19Gd5wgYQegIB/EqdZYCaC\n",
       "XZ1qqr4DQwmcoGUGJ0VafOdgIP9QOrCxGaVYljMk+kx1UAsw2CqVcmOb47YaIlFsa9z/WgXhVghw\n",
       "yBhnHsl4ZKScGOL7wJFqGKECHNcD11/repjKarofh7U4nylfdpMCs2b1kMxlcr2WN0AJaYVNVPSM\n",
       "MPLaElQ2oqPVzbJUPLYwL8wgtbT6MBkn8bHyFXdLmgP0E0xBAYON6oD24rYHZLKOCgv4BpC5NWcp\n",
       "8owYFDopNp0teUU71UM086HRIhCeqUu/hpLxstxtKO3wzoEAAACOQZ9OQhX/AP8NIq2xIXUO80n0\n",
       "ZsHOIn/CIQbRhHmDVsGPFpjpebFzqq3xdfFDAR4PghnTWjc2es9n3LtdtvnBDpZOPLJRq/DKxVCp\n",
       "Fn1PkkvTgGkkcUJQXAA1WVAJLf///g9suIeHy0QocNmJ0CuEyH73oq059P/q4JkoAAADAKqELkyp\n",
       "7m2RmLXCCiqrgQAAAKYBn21pEK8APhxZmGV/nEkHE7zXHgKBNvYIwB1ESIbiXCltl+WrrHvbmbW6\n",
       "/ECBdbC4fy3myCtiClF3LkOCHnDvMtz4QLqt+t2/uecC1f/ViUz6QxzoWaPeRf8pcQzEQAarOb7C\n",
       "if//lwyPmvovJtmEQAFmG7fd3ybfRTDBvWBqzpvCqV/e8dIAAAMABEAdqFa84mJtzyvpWePfG0wo\n",
       "uSp2kywPBKUzAAACMkGbc0moQWyZTAh///6plgAZ5ZV57LeJx/gUz4AU2tHrxw3b+4sjlUYZevYh\n",
       "BWgAXkrtNnUFG41sSEPiXPi470YD09N4EKU5dYtj8FxZ89EUAAADAAw0ig0yzDYsu+TDVAjq+Rad\n",
       "I7UDL2ZCi5X3wIE3bfmd/j0s8IQGyvaeSlzXYzNF0azGFwR+++U8X096jRziiWSwul+6OgpvDtxB\n",
       "G3AiE15mRJiFbVIbi/C9CZUCYATIiusRj7f+4YDjUq2hu5W8AphD1XPhmapvfnuGqO0UVbg4tTyr\n",
       "OAX8kEggDshJRxOerED+xX1SaqGLBX03GpOWrQ2+15fqqb4nrm9NYpnkgFmmBr1uKpOguRgTlAje\n",
       "GhG3d3mpcgPe3O5/CBSwvc+JD+2D1wjJ6ZENWxZGqcU6BQW+jKd+hwjQuNRx1fwRcDM5QTZnYykC\n",
       "UjWq4DruQdbXujsT/7nnDmMiRnD10jg5jaeW+pBcrzVqOeWMboQ2H+kuXFSHig1zIyAbv958alYj\n",
       "vO7YOuGZdKjCsKBPNJU8wO0r6LomvIZDWt2VHHXr7Ko/+qU5ALEfwWZvjAx5hwfbB8/iYg/Feh6i\n",
       "hnM+qD621moe2b7IeZf8WjqqcAACEbfUIsuQADZASKkLF7sx7DWH4F2Ppdq3dIP50N+AxgLPJ3a7\n",
       "2Lr2YSx7OjMIAmQgaGURdLUjTIWeaJyAysqWF2bWDWu1Vswek0e1uHkdnEwsS7PpGG8Rn6LEDWKn\n",
       "rhlA2CwAAADXQZ+RRREsM/8Aiuvf3slnBoM+Zu+H7PNr44hOHcQztlNRIBl/EWJ917/G9/kL+Zg4\n",
       "3eUX4x9MMWp7GTVEQF/TUwYWqjLSPQ/hh3yTBgXTM/mFtlu/2CPxP9JyPlDLz2ZVxCL06BO7RZuB\n",
       "Qw6fkB9gAcXn6Ss1lRCpQnwLvHWJ+OucS23zSwhbzGnqkcq9d6F3Ro1oRhjdVH+448oZMq3MC5gu\n",
       "Cfjnwc8CXQACtocykAAABoVQWzjXFSU3zj3aNbosN942OUSN/5vf8hli55W++IxhIdDUAs4AAACO\n",
       "AZ+wdEK/AD4cWX1TDhukdPiZTvrgJkc2CNazrHkh4AHM4UnxHOolwU0oNO0N/g8y9tj21VH+gTJP\n",
       "XwC32Zih5t3Szx91w0t7Q704AS269s2sr//948M7a2GlBAZfJvkA18lL6tYjaoNLmOxB1meoF5t2\n",
       "7U48SJWNn78eOTvRd2nGJASaSG5yJOnj1jA1oQAAAIYBn7JqQr8APiz5odBnd3QZQyECG+THlJpN\n",
       "18WZtnFCVc5z9EwqB/TdaKqm5i31I/yyMnx/BuqN8JLtTqVgXLppP7EXiwq57DWfu5eKMCm9dxEg\n",
       "rbOP1lz7z8TCpNaLK4CAOr/UmnfGy+K93/RAAezvRFBKn3o/bth7rmm/QiK8fOUmUjPELAAAAfhB\n",
       "m7dJqEFsmUwIf//+qZYAGg4vb+BhhOGaMvdIUcfACkn2nAl5uzu+qxttaJjxPLfxbGtUz329dDsv\n",
       "rDXsx1ot2jk/siOzGgte+WBKSqkTrfT7/NyY+7bawPJ2ujDtmeg2nZYQkoyjC1jsXKBnZQj8vmJ/\n",
       "H7ssSyPj/TquDv7YjvK7xqBpxLFACtGvyrVLgODnjdOJ7Mr/eGE0y32SZYStlarxXz7CssVejVyf\n",
       "CfDX2l9pGVmyk8tnZ4hrk4Onimdx33ls8j2SVspBTDlXS38J9iDwv6C1TzoCAZ/hkg8rKwAfxO9P\n",
       "/A1K6BsHHToJUqkUrM4wydV631+HPnq8f1cp2DUPJ7+OWzJXvJ4z/RrE6+HWvvUHL8cDMn7eVJH7\n",
       "5Yfb+FO1SKyTVM+teOGEM3qfl2roBeLpmsUTuVePL0m1s25ud/GhS3wNpUyUM7b7dy5cWwHUhLJm\n",
       "WarIS5eu6eZwXYg578J9lNJb02SAMUtaTq4DglzrxSnIye3l9iXXzUmOz8I4VEeYodMfrMqIKiAD\n",
       "p7gQ9UX7f2iSrZ/87ehD6ZfT8OZjJO2D6Gcb7AQ4SLfLA0H13c4Vv3N6ji4+cCfwp8vpSWeXa8XC\n",
       "st4gEHSkRbmmpPqN2YMRBBBYY3aBqxwTWnxv99flIOUq6XBwkXuhOw0ihrnbXoAAAADOQZ/VRRUs\n",
       "M/8Aiuvf3slnBoNJnkiIIQB2L3A6+8SzwhsKspuy5M8GMbTpbrY0uBTOc0j885Zq7XEQZ9KPUuHU\n",
       "4aWu5+LoxTQXI5XDAjg8vijMzedyA2TUK8QMTSA5zK2RV5dBfdd1f+QKGVDQFLd5gsktQEoj/TyO\n",
       "JxrDQF8nwSGAEGi8Avo3SCB8vJFgLqDv93K+0SWbY2kmsX82ADTDuP9wz/oeYTtyFznPt5XsJ5T/\n",
       "ANUjc9ojkG4f6KSsn1Y5cRDH80tjl4KQ2gISR8UAAAB4AZ/0dEK/AD4cWYzyhNo9yIsDJfk1H2ke\n",
       "vtb7/H40JGsJVy9xcW8aIJFacqIXylrugcb0v8RRCOjYrx39upxfctAW6evz2gBMDPnT+wIV8+ar\n",
       "EpIQUVX4KlZ1+aP+1wyrxI//+o/pI7+Y1uJdZjobVfPmD5Yh4/OaAAAAiwGf9mpCvwA+LPjGngFb\n",
       "vgyJ44cfO0d0OhajU96v7N0rOdlnr+nCMcP/EL2H/BhZ0g1l+rDEmm1mbEIF4h0Z4yiFjOet/Z+d\n",
       "J01Xc9fRlOFKxRHVrX6UgGtwCV+JdoInc7vmToK96YAIV3cg3ADQcrHB8VUc/m7kXffsBnekuTY3\n",
       "zVXNi74d8LRk9uEAAAJUQZv7SahBbJlMCH///qmWABlIxDAQAIgYMAsiL4MTZz4/w7hGKEE6YFyD\n",
       "PJ2PmqC728wN9MVU0R2PQU0ZcT39hPcn0TW0qPUWL0ix+1VIzpQCo+REQC3cjyhX7Pb3spifISZD\n",
       "9P5AkK0IV9VsFVXJ1zMjqW80YO39dO/NJdmaZkHDe4t9NZsIoi3bqKeM8/K2y0hhWrbYns6j2azb\n",
       "7qRNFlflQc8673hibzgalZ9MSnMm3+EW7a8T/KCxDv5mp8tL+L/vDyfpnw0OB0XdVQ3RlpfQwmNh\n",
       "Bth2DaVd8n/ChiEl2WEzYD7Ith7K4lFscj/6moeGQV1tbsF7TGYCUINT83vlHj9e3uiHkV8rBGCY\n",
       "p6WJDL6aLKIPmGuBjIeyWxAzDRwr0cKafg+ziMF6xupd4yV36Gwb/p9xRRjY4lP72quD/7bHRwdU\n",
       "6z6wn7qpepFLKMux+yEEheMgl8jThLfJoRE5gSJzCMNpTUNVJyKrxr1Dn5zCdkES7bK9F/OwJGq5\n",
       "DuTgk21+yMFqEVyYQyxZRvg8HmxrhG5KTBhXCcEdDuFmY7J2VxBdMzVQNwyBJp1BiTZj2c3uUQIH\n",
       "mi0vq3PBvUnz1anTUUxK/+vJpf3zTq7nGfj659xySPMPT0zJIoM6o493IQvZpKC/35WDc5Ju2haS\n",
       "ZmsHzEd+79FLwmSxKDDF2w9fRzGEPi9L/9MHOpIXhFrg2dDbbfHCIifXSP33ARtDck+xuV++O4Ko\n",
       "3upLdohum+SE0ZnJ0psVbe0FW0ANXZPla7pj/socuxpEMX7/xPfKeqEAAACnQZ4ZRRUsM/8Aiuvf\n",
       "3slm/8mwSInuf+nNl4t1gTeck8ShMXQfG3QCfxRvFz/UfBt0HgR9XwbjPEcsGuT5RLZ2lNKkGzmh\n",
       "+f+Lo6PPBOdfv9qKEFJu1fu6WYe63VyhtPWacsOWC+WjgmTV7F4E+0MiXIPZ7zBvQMi4HwDlSLbW\n",
       "KhoMYSYjACA1Uoz5ekAgSjaler0p2Z9/4zR/fsSe8wLV9Vyg0xKMA1YAAABfAZ44dEK/AD4cWLuS\n",
       "oJoLpxi7yWnJiVigsHffTAIIiyqeIPdaGe6yMBLdx2VVwllTIkKn9KKN728Gh6bs+KUqSH8fmvHQ\n",
       "AbQV1TmsT/wI42j9D2x64tvB0c+uQoqslHEAAACCAZ46akK/AChgJbx2TQRGgfT/iTc4g4vYwgke\n",
       "twowxnz1FHiCkbq+gEoHMnVFSk6M4tSUoOKX1XqGSAKwumoQWRLpsZtlkqSTLcRDVD/sV0aLx8EP\n",
       "xzRFTOUgwwrEPP/bAAhDmxCXgYBU9r/STMZIUR7MG9PeRaGq+VXqRMBUlDvAlgAAAh9Bmj9JqEFs\n",
       "mUwIf//+qZYAGW4vbnolLfCSgBKRdgh9ui4clnN7YyhahfJVdFhAamKi3hleo3H8VP4uGYNHzqj6\n",
       "Wtm77T7VXpDfkpZwoESJFXsXfbBrTeScFeiNt7cS1rKP0mS8rSKcEggmsVxSncivhQYMoPOqQDn2\n",
       "ZW/7Lo5X1zdfs62E6rJnuJZY2l13F+1jRgIh+VtIN/r9UY0yafAYiBasKTgoyWby3/PodjQAIqxv\n",
       "0EzemoqFRZii398pwa+iUEmN0k4kzNj2W0AQnbaje0osA+HDYZmKnTUj35eXJApke32cWL6f6FlZ\n",
       "0iXkR7qZ8jhCUrH+QDpAb5RTuomRkjSZK8nX73X99vm5KyR7hwa7wb36+MFG3WYZIq4pUnAVIWdn\n",
       "T7ytv8ejnLxAge/xuBL2GMkfdRrAvjhxIpUrxlC7Tb4BuTM+8DIHuWWOEA/7KwxxOO65CYZnWpS1\n",
       "v7LC550Bg91nx7BWixv//7/lpnS2sX4FeMhrMLIL2Jm8DX+stb1foR6smm9gZtvoCNSKGimrwBur\n",
       "c4dF1DDNTFRTTXlseOQftaSd+qqWkxgLBP5qpZ3zvVfaWvz9A8hz1g7wmHYCvDLQL/JMSGyBxE5z\n",
       "W7DwRrAfvKsS2O9bS0hdlFGD6xrV1lzPY+G2rrILGh7F3N7WBjHXNrIhxWcCjibRTk2Y7TRrh9Tu\n",
       "gEXtD+5SGirwpyxdmEp5cZt9yUhteBMAAADaQZ5dRRUsM/8Aiuvf3slpZNExen3wk0LcVgOwvA5E\n",
       "nrSFPjLNxA4ytK4/3sSy9cG0AHwGOABnVxQFGtqGgiTtb2aGR4iPac4xhzmz+J7RAIpSffzYHCUk\n",
       "yQfLjAdmeQeZHscFRLYUmHS3sPSCr6jk3o7TpOXuGlXqXdj+A88cDiaCGj9QAaqgAAADAB21gn++\n",
       "crtEEIvza3tkOUl9QplSmY6qMHmJd1FL3NDvETEo/bSX0qs0qUpawVbS74OOEwVYikd0cafsxKn4\n",
       "3ct2diEY12j7WH6eGy74gucAAAB1AZ58dEK/ACjw54NcbXinFdEdIOFSCYq1Lzkc/QUUD02qxVCB\n",
       "AIJrwh2cImcMcJ6vai9wmRKfKu0+Gi8gr9AY3KzcwdAQyGDMHItiXjGPmFNneWOmwwBa9f6qAEBA\n",
       "2Ugy+sFQZW45wbHlUf2WjMfPZcimH4W8AAAAjgGefmpCvwAo+EFXniajRyMjTwXVcVWEpP5IRw6/\n",
       "y3js9zJ9VPDMU5CyFXpJWrhqImdUDTrZXB+hodA6cIJUBb6yHECD7LpimgJndukubJLMwjnlTgsm\n",
       "zPpQ02Qltw4yD2/mKC7HD/1QAJndapmOQzYrjqUPSbH5MOMZlTcK3AhKvqZyXk3yPE73FiTO76gA\n",
       "AAIlQZpjSahBbJlMCH///qmWABjCt4+xMaWZ6mQAi5quR+Z87B4b/z+o7ycW8VwcUFcFLhZwiJQh\n",
       "UHBRBQj045f7rgD7yZ62+gNrmmfimlRhDxptcVbeXseAf50bP+/sf+C1kcPZ/Finy5qOSTDKQLNI\n",
       "Ra//wzJEbMyNkoscoRodRJGp4wZeC1hTmydr3hbarNCXOXpqjB5ticoCkw3AzOQzr2YYqdq8qD07\n",
       "El/1X126FoMa/959XpxlSzprkinq6pWrUFc1OGUCAkFb2ATWH72Hv7byozwB+sAi0K1iEZXWIh5c\n",
       "DHc+eCPqGwSLK/qvJIsFoZtsDW7hbKNS5A36nOUw/so29NKEo/mUoRYqXCKf0u+MZeHQ20d2WJqH\n",
       "q5211w0sjWGs/vTh8+xMfX7PaGoYTXnE1yKINhMAYdjHw+grOfEKC2WE1/05xxgfZ/EgzK5wE108\n",
       "caRhjda3Rf3nWVo0o9HPpAnGq3wYm2UnU2X9AIq1Vdby9xqtd1ZNgbuM9ePoofkp27hEh+/FnnmZ\n",
       "KyU5mudGxBqI1zjYROAY/tngiiDGZOEq30/lDCGo4oYH6hYIieTh6JTl9LCasZEHVFHrN6mHZF2z\n",
       "U0QXs+J4yswl4Y5q5YYzV/4XAKbYlMNUWJPciR6khounjm9NjP6vStnkOUa5/FYcznrgfwrJZf0f\n",
       "Bx35KJewPvAwka7JLtNTR4tYV7O6l6S4hVXOurJkHGFN+HHXkWYhAAAAo0GegUUVLDP/AIrr397J\n",
       "aWTNAiRGIYfD4Ru5GcvnBCS0Eu1OEX2PGHfFKSuVEfFe5/Y01vnDblqXJveYH9pEDduLVZl+O42j\n",
       "JUe1aR7XEgYAEIQVGqWcFuC4EynJ6moPE7Rd569vbhabv1LFgYIngntZTIqr/78QArMroXA5dsio\n",
       "eY65GF8KOKxsDZ1fRR6KuVFaLY3/LSjzkXa+QNYPEyUpLFQAAACHAZ6gdEK/ACfQ54NXJWas3P8x\n",
       "vh6KaPj7knTwWAEq6ub5zxXt2hsxhF1HY9h5axNwio3cDpo50TUPN0/r+7HJNnhkHWteLE+WALp0\n",
       "VgJQVhSX59EdL78j/gZAzsPSn91q/AAIR7mOjABFc/WOvd/5Z1Bd/uTCJXKjP4ePTAjh2X6adgOM\n",
       "xDdBAAAAewGeompCvwAn3B3+l4iApWQTWF7Is6hCq9rkGLDm+w5aCTkeiI5dwLVih2CrLimrbBZh\n",
       "A+5txtw8stGAkHLNf7HFhjZUZxNqSRxB3rc5oa1ve67VVA5ymVRaMVPMLouUo0w5zGkMABslDbhX\n",
       "/+MRKjRCC9/YftU1Z1mxYAAAAeRBmqdJqEFsmUwId//+qZYAGKgfxkgHxsNiir7PhwzegSCr9L8f\n",
       "2pOjchqTLknH2G7ZA/Yp0c7uJmAqgTiW9P8m+uN4S3wn06Gjjo1qpTUOdPqTgjZvs6ZqMbBBTqZq\n",
       "kjmOICr9JrGzLvCwXGdrDNzdwLm1gAjenYNOjg/nwpOSfr2rbJ2pqy2GcGh+Shtmst4yLHb0lR4T\n",
       "hakESJCSdg20So4FxbSclhiF8aDsmP1CXDtCPOTXBS9zMIPm6a+cDJCbAKGXEJs/g1oaOJJUI/ro\n",
       "0pz5jC7hdJK1e/jAH4Rq0FPl+aVjBZSv4BFSKV5snqXxegkcJk4ztElfRPycL4f5AMe3Uw1ZIP42\n",
       "V/ee4t2s3uo7jkI+3SIOmawj/y5UTyNdfGnnPaSg+lqgpaHzeYmfQ8XilHN/KmA9B4ni7DoU9FQ6\n",
       "TMNGeKL9lTHrQmyg7/M1qF5ODut5MLd+FqwQAXQjw2FbfvAZsfzCEDfTseX3vIpgD/NQB9sPQPAe\n",
       "MtQiZdMt4o2ASEhPbJ3b359zg2FkkizxQtzFZVNp4nYGuax/bK+8qZjrQH7vqgKaQxcmHnlla8yL\n",
       "WqXPfcv02VlvBvSCIAvVern6Z8bWGJpIkKymDah+5voWyibBF/UNFRqxPjRGAsmBAAAA5kGexUUV\n",
       "LDP/AIrr397JaWTRLurQiOjlC+weeYyserdkpvAvi5JxXAlEZlu0VGLdY5zH9+5yOfxE6tRPW9xk\n",
       "Gpudv4Hqh7UMJpTbjWG4XiTPwxtXdfV/lfdad4Ilw1M5AeizkLWOYwR6phZ/6pZg4xStE7aKDOQk\n",
       "bRg2prvoXzRZwAnO8ApmchEqIIltdLGCkHPRnHJ+TwGZWRpNOumP+HSfUNt+9JF1ZCJ5IMgAAAQU\n",
       "A+Mef2ffbO1tsqJlrbhcpzJSHokJoWBIlwWEt5JGKgxC/JEqG4A5TfHfRdAiGAU4rO+dMEHBAAAA\n",
       "gAGe5HRCvwAo6aeSoZpyOGTH+lWenOQB/XHcArSc2o4jAtX6bxCPYMbG13fEu5VhAScMucjNfCI7\n",
       "7665ZyxgJKX0fMfsApVWNAAD91RCNBMziyGxaN93qnOZPNfOw2SPL8rtcmeg/PvKmwKkIwJwD5JA\n",
       "hQBcrZTKnWZU643HCBwxAAAAaQGe5mpCvwAn2EFXniajRyMjTwXeJzbfBqwmTtAsNKNswODanJ6c\n",
       "k4eud7rKXaQ1iHpBvguTQUkMzDX0AH1hIYmYYXkOpD/9pjpfsUBxsKJykAOu35RVspD8OKB0Bsds\n",
       "2DfIQX8rs+CDgQAAAW9BmupJqEFsmUwId//+qZYAGM4vMR9eAI95ULrNwBnB5A7//yJZv4NBaE06\n",
       "kvEDDonz8ySJVhRsixsJcGR0yXzkqQ+DwS4bpeIryLMIXTL2a96UpyAOg6Jwr2Cf/7X72mmyKrPU\n",
       "UvM280VY/bg3lCCXMr3s3UCfGDye0jhOP92ZcY3zyy6dYHbNM58J0AsoLilU6iM3TM/xMN57t7mt\n",
       "gVPZe+h1PFvUh8RF15pBgCJgKeFs9WYs0wtvFNwWzJWEY4vwvMbO4n9YJv9hOUh6d9t+Cb9hJhdU\n",
       "HDAp6/JCdUlZ/+2BYJcwoLjDcfhE927w1wiFHfDaqLrGJqX1UtJuSn269R2g/tFLCSV40n0+TOjf\n",
       "1FTjpvUxu4XgdulxCCqQ38id3nzBWYXHPxEpYpd/JufLIE0t9IxM3Vzal8/nuPkTm0a9+x85+Lu0\n",
       "qV5brYGOJhoHny4Ubyyeg7fOBHVlLAw1l6gz6Bve/BAwhDlZxGv0AAAArkGfCUIV/wD/DSKtsTUr\n",
       "zSVSfLzKUFoTWtlGtBJoXDMJnf3Xc636wk8c/o47KlkX1wK1+MS8E84pnryMT0yqQfBxcxxMV8gz\n",
       "pkQPlEOhHGhN2rkKgA2MAjx5i3IVxqE7JWBxeL1pXrPP6bF6pcOsZ2/+JxOnc89gsgmscIvvtmuv\n",
       "m+GT9oHiCNaJ4JhCMI/7u5C9+TjTVyJQCzlM9Uo12Sorw/mYu7bHJnF+m7oKGAAAAKEBnyhpEK8A\n",
       "J8myngIcGlTmycbCvZgvPOhsKmDFEKt3/8QdDHBOj11uU2Wb8+rP1DiZWalnPtCCcHlJ75bq/iaH\n",
       "C7ZPKuO+9sgAnbupwWZuBC8DuchTv8aW/swTf85/xEtmj3Iq4UhlqUtuZWu2pk5HUbMFeUzDMA+9\n",
       "hP6T4JVWhdmxQPeJWRavCRMeBHgMhwqixYIpaFHWef353K7Pv7AB3QAAAhZBmy5JqEFsmUwId//+\n",
       "qZYAGAtE76CAFU2Qa5qrPCxzd2++M16j3rZVaNDsAOr8coQAL3SCOF1kf7smfYJXXy8eqqYWJnrj\n",
       "0S0UbQKiXJhf861m5WqKW7EkEkMMc11SRoEAT/FPQQpq16J6BE44hQWjOUTTrPl6tYgsV99PTbNu\n",
       "64HedMhAXz1U0Jcb5h0b8zQDLe7Xfl6L7X9YFRUD7+WFUDevC8DyHq/ByYGh65WNgbf3rZqJWFc9\n",
       "yDIWvWReGq1syLsRs7qdTqXUQNNcmCmfHoKvJdA1KPTFXc9ecQqczOf/fjg/Rt90e4I0lFFRIipq\n",
       "IXNoE1W/s2aD83206/7JzkcCiIUchycUBfLQDSt03v2v3NuIdc5saxa0J2oSGDz6YapLdiZPet6T\n",
       "xCsGV76qGKiGGE1DLcx/wQtiX4bCrsxoN/QLZ7TrEqx6h8EHLce9yCdD/EWjPm29jJPjf9unIpWr\n",
       "6cKsk7BQci8wDmDsaC5ne5QzlYrb3nnMGDXgh8YoSUyMffiE/nlOW/sQbsGAmOsGyDDngqiVWi3f\n",
       "QwcDbg3+qZf9Xfkw0U9bOlfCI407oli6F2lhtBpcg2fL0rl6/pEas9lqrkP+Jxd3Xqba0O/bzdSC\n",
       "cyxGLbeWWFuT56TMAO8RwmrbH5h1kBMKCb+iTknDn2th2gWP3HnUqojj+YHhvXM3TZ31vaNeQmDc\n",
       "4sGIqOmKN8AAAAC3QZ9MRREsM/8Aiuvf3slpZNEB2lkY3pEpfIhlaidp66pGd9jcV9pA6LBW0c/2\n",
       "1Wf/1Z9BrEJWRVKINRuFD+sgUtGgJubiTfIRLtjXk8AVWmewKNh64m0T8OLnO30QXlcX/gwAcP+A\n",
       "jtcl4tPQMia+AUUny3bvf6HRCtyMspWseoi/BTQjOSf41xFJoNm59N6Fhoc0xwZGcorzhoR2MaYm\n",
       "5wL3iImoXNM9mCMQJQHSRolTl8E1/SFgAAAAhwGfa3RCvwAmteeDXHL+05pWS6L6k2VAxpG/73xc\n",
       "KV1W1e/vBc+ap5+ow0WVedNBRRTRVW4Gl+TWXK+ngJsPZzVQuJAVSWuvJIABtR3I+GcNFqmGfRvt\n",
       "ZVe7usix3NqvsI/AsyLicOtjKi1ymcm6c/IxMNQqKeEEGGBQ5osrm/NcQ2mS9oCTgQAAAJQBn21q\n",
       "Qr8AJkNH5ZLG5zf2Y9iZkX1Ab2jHUF+Bmp1gwO+Y6LrnnnQmWeF8BP3jAH/lUmd3UDDymvyV4WRh\n",
       "/Zb29mdPWhL2+HYRwQAwIUn/voAQfqjI2NwcxO4ltRAl+j8NUv6yT/+VcfrQZoPrEcVMHbqMKBBk\n",
       "T61cZImXK+uJdYws64JzAEmbW4dDd5igTN6vtR/hAAACCkGbcEmoQWyZTBRMO//+qZYAGAtDJYIA\n",
       "oM2IBNG8PtAopY9FVl+XGbzbZIo2DDilmd9MCyvo5nhb51BGmiytwTqQpFrd4gWGipJUIgvemgV/\n",
       "Wo+qjICMgTnJK9/1sOTQVA3A7piO0+CDbvuWhB71aGdOC04KKyDVpFJoZuk3G+SopdBM4/bi4FaK\n",
       "9ISxhcUz7y/IhPmEt50YEjBgSicVlXJQ+WVmMsYICzbSIS+OHs9ipNOYU4ffChjs86tybeS95Zgd\n",
       "Zq8F8mwN/RWew5BjcsFLvv15FUxGmzFiEAMKELwNobK1LkwRl2lW84C8TT/7xnCGMgZvUAv6+mPf\n",
       "pKe4hWTySuxU3IZ/mtjl9pdaJdxWJhc3eru/o+DYjE9bYFH1YKSdvARlpFpeB/c20FdOMbsh3A6e\n",
       "wtWpoh3nTkEMeo0qzYhZjOnS18ZcTNVgCorjHdPXfMhhwpQodyzFCP8FAA9Z2Ok1eWKWCWDcfKOC\n",
       "zHP1HkUf7Y0I5DKCz5xtcTNRDHBtGiY1Kubgt9dQLhUTWngfJF4QjB1HDNZdtW1jU2COx0sye37I\n",
       "82XF6dH1Vl2l1KyB+zqS0Rx/R86xxXafkYorX7ZvQtv1ZhBXKKJghCH3XgjnmJ0Nnw+G2otB86iH\n",
       "Ff/LUGvAXnsPSOgzlYDhDM0u7EvyFsdkM15Bc72UIgOb0WSPXxs/DY/hwQAAAKABn49qQr8A/w0i\n",
       "rbE1K/E3V6f33cQtJx316C4XHrbFd4CUNIRi1XOzv1WRI3z0fjIyNKLwU0e8TBAApweeLmjSRK1L\n",
       "yIAP3T08RZCN4rhJJT/mwrPZrL/84/VOzIpCTDnCyrGE6Xdc3oJK12qiNKTYC9t6e+oAsNPyLmsz\n",
       "/2sE75DIWPUAXcGTWkzew70KPIKHBu22i2kwuOW9yuauIEJAAAABTkGbk0nhClJlMCHf/qmWABgu\n",
       "LzEfW08zKIV4AT0WWx//8iZ28P2TYENv7vrNgyERDa3o6A8z4LTRiEgPQ8lK8/Y8BPESAGROhuFM\n",
       "KM9b8/Iq5Nr1mGPzPLS4QGXsFpwP1ninKP34MU3vameci0vY40G+OM8hY+vo5+DGEXwuh34eSIfN\n",
       "bfxaUcbwxUebz9mnVjBEjPhu91pbo6Q2do98lwAU8Y0NDLaFmVSBDCPNN4s3vhwuFti7PG6Z/Y7b\n",
       "HSrC16a2gblFNtwESfhUhcxcFVfwNJQgY1Ir7b5q+6+LlKejeWkTFtsIHKzIiU/h4SzzAlC28aKc\n",
       "u/YprolUYL0/6dPmM40vfapdOOsbDkp5RAnqWtOeN6OFMiFdbPHZaetjkrDDQMVfX9UaU7zwGzvy\n",
       "Kto/WnSJEkByYAHe1w//wCYcwZfH/cmyUs+aWNpvSaAAAAC9QZ+yQhX/AP71070WnjRSQkXJ7GWM\n",
       "chSVUfoadaMyli3WlbmJHfcYJz5IvKCHmKcTLEP1Gi5BUDJliHjHKiCYBf9Om494lUIONLEeIPE1\n",
       "F4dCTYmtafV6nfZSIUjjlK1zow79xznfNDInqP+/R2aurr41Obit4f7wDhUshrf+hqXiFvYXvvQR\n",
       "GT5j2Uw9yijQ45XNzQ795RVJCbYPnW63SEC2ryj03oAb4gmOKJQa0o41/jBDY4Jc6QsxJkMnAAAA\n",
       "qgGf0WkQrwAmvUFP52DVqrJlEA2SwMoiZnQ7R6Mi58picnvm3+8ImBH9X2dNnxZY3gtdvVmhuzPT\n",
       "StXTGmyH0sVU2iOW+pIe6eC3rkQAbO/1sMTIbaaZ03L3fAG7ZpEoOiyH4KPLNtFA1KIPetnZZA8A\n",
       "UEk8MMzxnTnOUzt1+uLtIC9wF9ah4XPF0eugM1hCdKsrOO+Oqsy0WX4JisVW8Y1R8c8hG4mDQPqA\n",
       "AAAB1UGb1UmoQWiZTBRE8O/+qZYAF4SzpzmQgBrhKne5AtJn/Djnwl/7WRVf14Ka/xHneNR5iL4U\n",
       "KES4HCCIbg7EsfeDBjpkApp7RTDy9WGEsGsnc0+yHBpq7IOufyT61WpEjdnvUIYcAVi6cDAeXPi3\n",
       "uX/WF0c59xVKDCKpiG9NVpi05iKf41gc/N9/JwmI4ZryvwTLAByRMiUJc8g8G4Lay96enKwNV0fm\n",
       "luvhUgySK8SkdCbhjspJKQLMdDbyDo6ArIwDiXThwmurjYq221njY7+6S1PXc9SGrj1n+AZl8dnw\n",
       "vWPXQxnFNvnzKUC1ebHE1IQXI6/BKC4OARK5xyArbquW1GsjBaJxMBvs3U4BpzVb2aqxgSV0QnDZ\n",
       "E2ZAuAOPD+u7QrxZwPvzaHU/gRokIi/5rUvwZrNk/CyMLf94TkaBiagJaXIQlbzJzUn3nbxDIq0W\n",
       "OokkysA2gwYMv/DoertOGe88FlduqDeXMT8gM681BYK3BIAniDsI4iy6HnC5cpCwVQDM17Y7zdp+\n",
       "5E7T4ClJ5qm+WGyeEp9r5EAgYpeOPa2DRlLB91l+JL7BxLAnitvrVlK3Bdnw7vEMXXhRvYSMdfpy\n",
       "/YWe/HqTEjHVokH4lcoaKzAAAADAAZ/0akK/AP8NIq2xNSvwmwdcHKrOhNJv4iIrRLPre6B5v+B0\n",
       "gllp4tyT66Vc4BOYn1ZARkVtt2FsYFWoaNIt6GMi8tkrCruAAbGAR4Ay6YPejzeL3xgapf1knz6V\n",
       "8SeicKL6wL3PXGmHd/VnkRt3VvmqID4refLtcy6LE7Ad+J7+fBdfg3R7qxrmEdDXZn5C2+c9Vtd5\n",
       "gi+o6/zfnZWiPzm6VwiUh7gN3GbObGb7O5yh2XYB1n2Gm5Dh9GspaJ3HAAACG0Gb90nhClJlMFLD\n",
       "v/6plgAgO5dm1x/fgF+Ev//X9OI5LPHsp1m5QugQjkO0VarFQrPq9HseGGXfbK3l+6dnyp0RYuMb\n",
       "z7zw7IkHiypBpkMsz9Q2cYFHML/obuahv95kMxPlGm22Sq75Yoj9s6NveWJPHGUZYGehxbwkiW5m\n",
       "ZBcBrhonWH55JKBD+G0JBfIZKqhFjZWb9ulri9vPNt/tqPDykINSzbp/h3vNT3hGnOmwfgycRW/P\n",
       "WgrMbBlJPbsZmcN6xgekpCwCSEnxUEK/Y29wpCTdPLAAZpC0M5OVQS995KUHquMtUR/QvFwvcqdU\n",
       "DnCdfrFE8S1+JYnpc9FbWjqh0ZPL0Wh+pA/dKL2eNan9O/YmDNweBTA4juLkXlcscsim13CMJJwS\n",
       "+HC/HTifTJfJ0j5BsgMnpLvH4iavyV1w1l9Ar+0t2GUEdFWkP/qVGPnl8+k5vrd2tlZmjC2VLkMo\n",
       "A8g4EfZvEncMC2X+CCv4Oz+DiCqJqxLKS95cC1SjG/fTPfdXOFGZwLmD1b88vnX1LlWeYsDfo95z\n",
       "6zXvFdGX9LuM4mkMlF8agPrFmT8KSheVbTmhntNmn59a8gCVfbOTV6hvZ9KmERAiwMrGjNvl7VIJ\n",
       "aUZWEkWyo13qeDQ4vs55mg8ucu6UgNKstyZvGMBBCkxp2/+zTqqWQq1smzCdS9GeHIeZG/YE8ygy\n",
       "fHfX67QVk0MBxeXnFYCAAAAAlgGeFmpCvwD+5LIo6x8m/EAJh4/42EtUvoJ9YvNGn4xLudWtjnSs\n",
       "vwvDAELyom5TyXSuwUJuelrzdQAarJ+Qf+RwSwOWv9dOjknyMhaH6dknAsMA1QI/RL20bo79t6BE\n",
       "8tzsA51uyga+NzshMQfhUsZuhWs5G0QCoPBQO5F18hzSj4LBN6ASR4tHRSdbzHFXZ5wTeJzqQQAA\n",
       "AghBmhlJ4Q6JlMFEw7/+qZYAF2ot8mRa2AOZRxn45a9vhhziPGxtyGEu95Ue4JJRpTDC5vSiqmv8\n",
       "yQQt6Prc0JggOd9zhxqM/B+3wl7BRJrI58BlD/kt/6wAcYiC8bEyEg9lWIxw/YD1MdDJHybwhWi1\n",
       "Ov5Oh+kSYlXLe1z99g91Qr34lsrS7xB8bd9BuUGAizG65y6M7t1Fqs8k+UKB7vX0mFcrjKdqIuCc\n",
       "z7AeeAtGEwKh5s33/m0EYcGGaeoZLt2U5benYS3gfQTFp35vqtMAJqTFpmJ40Hqnv95kVbBwOX/9\n",
       "2whqhuGSGzoKV7v7SxsO5nhQGap01erMUc1fBr/D8QZewOOCuSU4hLp5LI89foFqYGtnEdlfd/0i\n",
       "iwgun+DJVInyn9zw9gEBkQz+ymiOhlWvZs/V2HcmIh+H6sElkovC9/sCB49QJBJZ62b47DV6piAx\n",
       "pF66rh4+CzpNlGdhhiOljkLkn4nNj2h1bucY1/tbK3ZcRCv1Ww6KkxjTkZB32OLYIv+POnWV45FL\n",
       "sfWZzlocI12nhE3rp6+Y29uDXAkzIBq1rOHyAifETeOA9+ahbLOGlb+/WHOhwedopFKpzwb8q1oO\n",
       "wNtYWMJ6L/9O57OjLXMrCPOEQOVF0xIA4xdZ/MadIuZXjJJLtn0K5LBjRoWCVmErr7s8pGpyFEj3\n",
       "SnImsweWgTfdAAAAiQGeOGpCvwD+5LIo6x8m/EAJiTP96L9OmoYHH/OkJ3+5HFxeGRmOqaUkSqm6\n",
       "pRk74hA3wXuU8++gA++7KGalBYy7D9xhPM22tzrEKU8Dr8f+l87BvXaDeuaNPTA8kMj6mpWcAIGJ\n",
       "RhpoY2xIn8mSrRTv4TPvYQrkZlUYz+a+7jFC95t2THbBRgS0AAABk0GaPEnhDyZTAh3//qmWAC38\n",
       "8yHd3divv1a02pwArbQmHZf/vnao3YJmwFgyRgHIT97Hq51CxO7j1jR7q/pLWnkVyx6yqyts1gOS\n",
       "bRaVmSWHoKPDfj1oKtFJmwRD09yTzqIhUEbNeChzT9Va6Jvp46ED8hAw+Bn0cdioZZhGETRvObMn\n",
       "VsTZgR2Ar1xA1KA54ubeUkW2lZPqwlfxa1UDG0hyUaVmJo9h13BvwBFYVyY/PLE5zve6uboUBEQy\n",
       "OjmZcq8Sq60lWXohdTlQnFNFS1wXXl7CPAwG1RvodwZ3YQRWNW6Nc0qzuGIbK6cv5YGHRfYV2m+g\n",
       "xyRfxbB2lmCK2tsHo8MYMfI11o/EDaFuoUP5pWx7a0gduZmD8mcq55pnlRs96GWMf5qlX6cs/vSb\n",
       "BMA2YLujQlLIh3HL07A4UDL3OaYZiuPQYWo+PLaagC6dw4kXZleQ1606HQhVan4M8uQFYcfwYfZE\n",
       "bROECZAO+d/5l7sbX6cVnx1d6ynVYxCuP/EKnKRyfh7vgW4XtjD60uZpCnkAAACrQZ5bQhX/AP7k\n",
       "sijrJhbkWh2k/hV5Un4Q0CfpQcBo5PoATV50ZMa32wvFSULBnEdP6EYRJeswwI5Rn/2tITHg8t9F\n",
       "WA9FrNCGs7/4l7+AYO3dDcuEJXLPQLNZ4RngeIUbyfYG45QWGnUtFKg3sW7VGEjUNhnV3vWsE0lO\n",
       "G61RD5RdsAulHiOsKY5QT+PLqta00/g9HwuSNL0AvdaxuTM/0otcvmLgCWqfLZGAAAAAiQGeemkQ\n",
       "rwAlvUFXniajRyMjTwXfAu2IngdO1cO+gOAYTyk5wAgWguqbopHr5XHgbUIGPHgLHx/+zRxbEZPG\n",
       "0CFfaV6Vn+0YtnRYdnVaDNt7n0u/6rNEWcJ24oyve5wGU8i7INBDy95gk+sGyphorEjB+pDCyxTr\n",
       "HLsNbpBdeo+fkTGzPhXbLAL/AAACDkGafkmoQWiZTBRE8O/+qZYAFuBA/QQADYBCakOJXiVGIFOb\n",
       "xkj3WsKSJK3aaeYj/9os5EsZj4hmIj1oMZuJklm00VLZn0S5xTpmX+KyTqa2l25yZVe6S9JyO7YL\n",
       "snq1JXNaR0ADoLTxaXVDZiEls3MMtdP1T9ldSs3bbntKZgCnuYqr/r3hKHDoRmv/ZU4Mry7T9CyB\n",
       "Xm34F2D7Kjw8sreiUc9DM6OXnYr/om+11qgHjvuBIFHFT01KiGsP4cjMbvoV1H/et5E1j5k4xYI2\n",
       "Pohl/yphBJwqg4TGBTRJXQooVc5dRVL6lKpu9M9o9P6I5q/wKokZ6a/aOIe5v+UAbv8GflgFO+hd\n",
       "Vq0/CY0ttWxtx/pSUPRS7PQP8uvEde/Kphv3oh5+0U1dbV/Un4Q2ieUXjaFzTPhfTbipeM/0xBHV\n",
       "m7LEEsnJ8lTl/seMTPGsLFk9F1VsHE1o8dN0VhhyM0JYJjfN+VqyEbsRjEcwwaB0SN9xjLc5KAW5\n",
       "rRmVKglaK2RCUVw0qdC6wLiErXEMbj5a48aWQW2Ywa2TEaXn5GH74iESosBHmwkOTfDNbY/28uLm\n",
       "HzF45YlHmax0JENvMiRAFV3B5a2GbNxq59u8pLpeTWuLIZHrSglQ4LZ/xBBuaPJ9K4vdXdv2F/og\n",
       "P9tbpd1WschZtHIl0w+EUixm/FBQF72ZmZH1J05PkKK715sAAADEAZ6dakK/AP8NIq2xLCvyvqLR\n",
       "oLQdbENOPUAHvoAAAAMDoVxRU/UO81soh51QrAvkAQjXl5FzG+ASIYnQp3wTLQHUT5Zx6yc89AYR\n",
       "Wj5NfASj8u9XFfyKlo2o3msRPwLUiQh8JTXBNFR7j2CshIgRJQa1vSnulHjwNSvtb7cdRjpvRGFH\n",
       "GbxZ20eUG7whSlqqL8ciLWhSLBtth23gtpTfY9aljqLc6BkkEgNVufvMsHWyl87I3RO6P1QUz+NZ\n",
       "ZoZYVQFu+AAAAbxBmoFJ4QpSZTAh3/6plgAbyW24AJq+GlbcfuSN/8N0//2zn7nd1H2HS1OrZtqA\n",
       "4XX7vVHI3EvbU457uH4ZpTj74rqluCafj2doQfIsPY9ShQxvzPllFj3PzzSqsyybpJX4aqaZT/6k\n",
       "twi/+9k6lcDp8nhGzdG4xtHgcNFJyMN7jcKYlRIwM2PG2zqHXR5oA4mNBVEFWZuh/9bXqk2Ha0l1\n",
       "bLs2y/83ytlaizjw6VG33Wj801H4F7U8yrblhWI2UXkzz0PI+9qGZPyNsz359/U3W7YgCHIc9uW6\n",
       "t67yXiqJ4uILOxjc8tu9GvdZvHbB2LfwF8KR4OYQbvBhKqBlF1zsBOiMSbkFhu7igPVJY+h//a9S\n",
       "ju/LRaOLYdQ6UtfMqthUxGohZRVwJvBhz3V2UTwzsI3wqM0INxrTcepUrm1QuuR63GDTdfgqPG7f\n",
       "nmOJz63MekmjSc68r3wj6nUZLqi6Znj66NQY6Tn0R+08dFh0XsNS+EPIx9x4lmRU7/54pOsmEKWm\n",
       "Lc5Z9Fa2jqRnBqsFb8XTEPTHHI6pol15xWLORf7NOfTC9HbbVz3KqqCcuH9anpYcUw3dbr/VGOIA\n",
       "AAC6QZ6gQhX/AP71070WmGnunZQ/O1UlILssjHI4MJggDwb5Xc1kUiB4Sw6c1P6gmrqAXJoElTDv\n",
       "wgV1xl4eALY/ds2MAEzsJZHt6f/+6Z/h6H0zmfxRuGaXngEYRCm0MkAskozpDAOVfxWHoVuBOPK2\n",
       "Xm+dhCYKJtQYsi57gPy4Yce6QTnVW9jmBvYghclbmU/rbbztlyPI7VhrLdw7fFo3mLn8GceQJt3z\n",
       "S6xh3PYUWo8/5hX14OGhYGBBAAAAsQGe32kQrwAkucL9TSfGpUFxIts9pWK2WlOQBRapO4srkN3+\n",
       "HHItoQ6FO/WxJeh6HaQfMcvCtYiJci6FpgAg2NQ0dJ/++FRPK16g4F4aKvkpSS3NGAbRg8+AqU53\n",
       "3FUZiFtQEdNm9Lyj/zYBWPD2oyvEpz539YfkSKTOPK7s4f5XZ6JEgA+b4pAMMxORXP4tt1AAAAah\n",
       "elLlxDHpN2hMfb+oQO0Eo2dfw+VyzDh+S4rqQAAAAcBBmsNJqEFomUwURPDv/qmWABvFqvwowbPo\n",
       "AIY+HplcezbHvsXfbm6Z9HhAHbKGPu+GxKA6AS57qI/+ieJfVDIdE9xnSKm8Eke/elbiOvnbQu87\n",
       "nCWYSANGLvg6+kJy81A5+cEF2tWGFl/hwRiLmfadWuLL0PPAN2c9X192rWmnKwDEU8CcmuaYufub\n",
       "XtLFCHkYq3kiGbM4FRTLcr4ngtlQ7jZGz5i6nJy7ZSifKCuecb9a9VudInr0rdJx5oWYlCZdhh2e\n",
       "AyrEnuRpbwMfd1alBcrBPNMiAIjkuoOSgZhoS0WT/rsk5BD7elMU7gHoYe1uhIZ5uOMWFgxkiCYy\n",
       "0T1gHVyxwGWIE1uk1+11n2On16vskPsAKpxvFklPCFYkHOw6Gn/BaQUjOdXt8hstQUXqi+MUBWJd\n",
       "gbOIt7YXFgDtd7YatyCu4LvmirCJZnbQqBvx6aurjHMd1jN70lO6bDWJeGr2OXW1iehp3t/7ECuC\n",
       "eE5lcLn7O5f5MWHfCbWJdTWhhRAmrUFc733lHKBeqXFQAGpeC76FZaTMejRgf4Q4EcgHRewzQ1Q7\n",
       "Zx3Y1hDRZEEzo3OfnKX4YY6VkcEk0RXBAAAAnAGe4mpCvwD/DSKtsSwsBxXkl2tMf+wcVF8Jlz7/\n",
       "RPByk8MweC9tSPrBMiCTns3TkAhwdof3jjtlg/nF3GCPYN5GDP1mM/mlGTv4J+SFNLn6ua4RoK6o\n",
       "j28CjjYTGdMYyVYs7sTyr2YJ3vTdzqsiKhuVvpHCmQhqFhLhAdoNENNrpA09twfj+uMwGaVPHb/7\n",
       "oCtepvjYRNFaie0zVAAAAYhBmuZJ4QpSZTAh3/6plgAb67vvzZYL8NABNFfs+79uxv7l4UUkEsvg\n",
       "eSh0N86emSP+yxpnvEqaROJ2WrYriv7BnGXPYGYX7p5X+LdD9sDpSBkyiFlMNPVL2H61b/MX1hxQ\n",
       "FB0K2WNlITgxCoC3f+9rsJ4yo2WBks8P8/fddYIeVGue+w7NF+1TMEt+mwn0FmMeOdysF807jBKL\n",
       "dZfhDSMazTFzz1YTFvEErjE7dL/WeBI1YwAGmZ5hgct4qA9S8vsFbnYGcb0JM/cv+E+KHZJqr+6f\n",
       "EXOEfc52g8v+g21+BX25nj11k9RMdcU9ZNJxQp0x2Bj9QV9YZKS/2tLXnAeVSf0tTA3bjl/kbBYh\n",
       "RzW/uey5XpxMX7bVDwa/ZT/uanwzIZDzrzP/iNKCwqsrSPexmPv3WqsQGN7p2qTTsK/G2fzWdHV+\n",
       "Rv9HaQtFEHyVc+tiqWeMsn0Mt2TJii9PT9TQ7Sm34aNYX80WClNEexC3g4hjgOJJD1N57JY7gZgy\n",
       "65hCwGTNPeNoaQAAAKNBnwVCFf8A/vXTvRaYae4yR7OX3GTf+AAQdvcvAWUYQdfs+SzooiT7iqyo\n",
       "rQAI9anexguoV6jd+MCNA4gJOBecSHP9SGHs9RQPQ9j5rnyK7hVLGBddhrZNcZpiIxm+V6FygNcE\n",
       "Irdg615drjab+oraZnwNP0UWY+HBWTAQXmnMZFv7wqe+VVBH3wAAHWWiXZFlKIuhGE6fLmSZULbZ\n",
       "k4A2TJ1xAAAArgGfJGkQrwAtYVazU4Fq/EA5+AAQhwAAAwAQMUSnKGhEgMILzYAAB9THEQ7wbdN7\n",
       "q3kb8f8eZMX2KFhGKrP235PlSN6Dx1LpIw5qkC0iCfhWl/u3danM8Z3JEBdHHSTY6p/acCiGdwRp\n",
       "HC2H/dlm4O4ZZdHIBcZ8uQBpIuQGLLvp8fsm0W5B31mfQJ1NMrmLZbCyCcVYYsEfpo9tXfV5GFhI\n",
       "EPlPnt+vTruhH1D8gQAAAWNBmylJqEFomUwId//+qZYAG8X1FeZFPCUJNACdvhpXFqFYFGqzv0cO\n",
       "dUdOIKBJr+8O5zYFXaj+35dIs7X2+rIPf/Y6V7mVMHenPhMzhHGVu6yTzLAzaSnlIZgcGou5k0b6\n",
       "rckMvVX8lsLo9+04L0gUZRcXH8HCSjFw7lbftV9Ou6qtGu3cKUep/P5/xBb9K30H8foaKBO87ecA\n",
       "bK7w6N2+eCf5UB6I4571y/5tyz/4S55ooVJwgcnXQwG8r0JIe06F5kRHQzcHS7B3tKUAQilphp2U\n",
       "njxJ7OyLxBgQTzwNRMXroQVffEFSZDT2YlrhgM5nB/65j9zja0OR6KoAO0oeZub3ulAtQDVLH/BP\n",
       "OD+u94c62EaseG0pGhrXp4g5XSS7hZQ72vZmdZrzemLhIFG8F49fu3TWcv/XMnGRx7WpKfvkDTd/\n",
       "H6kk4c76emBTmSS1ltBwzbvl4iT2rRgK55XxbxGRAAAAakGfSEIV/wD/DSKtsQuir05crnpgAiBF\n",
       "CjEKea4jRjtIwipPd+SFZ5W0qj42xNabvNLNO9/2ZLp0U6ZaMGn2BV3ushnvwMxBrdTlPkn6dyqt\n",
       "U/8fm5JuNqMvodFED0xu4wWhyrryNZw/3ywAAAClAZ9naRCvAC0H6q2IS9MAEQdsr/EsQ0Xmtmib\n",
       "Ps32p+ogYrO8PXjJOk47dNrYzOjjAGEq44VlTYoxUVvJO3A5QD759KKpGY3MkJTG6hAk4KQkbvv+\n",
       "WhR0NmU1AQYfnjFv0WswWfzTbsTOzKj5JgTB1qzmXnd0Bn6XwqtKLRi8d+8TqgXt6dipcN/P7FaQ\n",
       "zX6oAZABYXsFJz1ZUGbjB2KjzBD/JqcYAAAB4kGba0moQWyZTBTRMO/+qZYAG8WgiLj4F1/ACPie\n",
       "27JB8lFIj0VyeYJPt/91f6OJQpgw1IpjyN5/2vNklUgXSN9FJi9PmevBcHZBDuNt9VorcnpD/2Zs\n",
       "5y2Ra1Mz/QR9GA77936C0BBlVx/j5BsqhdGBIBz8z2Wi9O/ruSf4HFtAXlKQAAADAq7dsjOAAACi\n",
       "b3TGRy0g3ZvsLK0+o2mKRQh9rpW1VVfSNeA/YEqewmslx0EPYdItsPF5XBYUMP2G20PkHaK4hN6T\n",
       "xZ7wgMP/W8qz0naci+dcDjgSjD3mX6CT8O77/kfwESRv/va6QFluzqXP9K6ObTH8yz52FjFw8lXR\n",
       "YDBUFw23i9vR0u4oSVtqhXOUY1rtVQCdJ+NFngQNVxgPrUGVRKCB7/uJjCTULDj0LPu51WOREEPx\n",
       "2/yM0VYKnR5feL0POSR+jxEFg71KQmH/P0e5Si752YhL3ztA9uzwLphUMj/SjA4De2OOE9DJ97xD\n",
       "SZOMhIJxrKsEm+UxlsKiaZYRwDR7t8K0DMoyqjJde6zVKyQNnaRuu2A+zUJBltmDHtGL9WFKzAwl\n",
       "q0YfE97ef1i2OVUea6RGsUg1bxOnmEaTFzRWQSZvDy5z+5zQY6b5Upbh6904+o23clAcquaBAAAA\n",
       "uwGfimpCvwD/DSKtsQt/e6rHR6YAIgL8X6q/ljTcnjjVfOd9biYz2AAAAwBMRJ5Tzkz/z81S/Esw\n",
       "o1juFx3HgmvtMidNGiFJpZu4IJAb3rg9uWGo/JJY2vgJDfV95wik1rn2VV8MDCbBi44u0YMy7KOu\n",
       "5L2aXQl2xP8CrfNtlZxTJo713ixTES8+FrzrcjtjQbZ7s/ZwJdalL4sJ0vR2LXxPHKOzxFWMAAAz\n",
       "mrmI4ntvjuZsaenZ1Bi+/cAAAAHUQZuPSeEKUmUwId/+qZYAN9pQ0mIR+An5+5//hnXCJPg9em/M\n",
       "jgoXMj2FTQzBPuZe7kJFtDDXxMw1SVjju4ynw1FZMnfYxUFBgjCv3qPagmNT6eX8NIsNeYPT+tgB\n",
       "xhLOiEDgWxEWSwpJg1fgOXP67RW4aUehJprqzQJDK5TXy0MUOFrx1aa4gJxLABfRrOGPq2hbfPw3\n",
       "923DFMK5nk6Czp4DMGobwBg/aL5SlCuud7G7jWomLO6dx+1PbQTzMMOFM/h2Jmmj+xHwDVgW9wm+\n",
       "ylLWgOBe3dWJhp8OB+JWWC4AQ3Ffte0cOsYBhwF43137cyn2iCP3Z6Fq5hZJM4ywQ1iQiMH6wZ7e\n",
       "1XC/EcoGdZsEsuGlvHglr8ZnDoCgG+x8pb8FZE6u1qZmLzYZrwrcTf9D5Vgjv2YKMA6vtPMEIuLD\n",
       "PErjSTv2ntc55DcReb7ARbgVh1yBuLxbCBH549xH/uPLhOSQXkUVcHhg1b05Z+vMz0uy3a1MeA+f\n",
       "rgxK5fJSHZQafJQgCOYEV5olsS474aQ0yvGUOkRwXxSCrsvXgyAvRb9trFxE+f5SPm5rcvc+vAce\n",
       "5JZ8dsTKDTTc8+/dRdcOAO3SDsusNrQn71yFKlUtgwHBAAAA30GfrUU0TDP/AIrN6BrmfpjelIVS\n",
       "EcQAfx4miPYP+8tCxHMf/hVatjBeeAAAAwAaOZiVVf4gdc4mkZ3ASJPenbf9zAPBcXeXKq0aXBhi\n",
       "EPFPjFWT8Sn1pQAnNkfJh21FTDZCihw6Sm7fEqiKRjdCHS9NbCzzMY3egPLCcpB/lgA7i0x6HGTl\n",
       "UXCzjppRICm+JGk+Mp93u40fs/Cv3V+U/Z8QieOJ1r2ya4tt+FLpv2+y8R47WC2Qwy0555GKANRA\n",
       "AAGroEBYoteJJSBl3p4Er0LCrxZ0RuaVGO+9sEmgFnEAAABgAZ/MdEK/AC1SDC0HnBJZi7g542tK\n",
       "NJDMmnAn218AH5TOgtv71fAy9ghh56EUjsJXWC/pU5ENBaK2X9qN1FjHUvifdWdEXilu2nD2GluR\n",
       "g4UQuZRzGB4s1W7m1If/gKyBAAAAcQGfzmpCvwBYuVYhYHDrMxOQ9IBb5JJZs/at18AGyviIPjLf\n",
       "8PnnDAN+y80k6kjCFiR043oFZyPn7F+wBtj6p6xJ+ClH+LDwp+g3AiRDwus8NXiqjdIwNRz3pThw\n",
       "ZZxLjfjn/DvwszwC/CeHeZKOtqJHAAAB3UGb0UmoQWiZTBTw7/6plgAb0fRQ1oAS1JFOOL0htLb3\n",
       "i7HO4QdNOQk1m+k1giVUo5CU+pm/bXlUdCn987sKeC7iz44XdV4OdgiTPQetK8Ds8RLRcMNxjZ+f\n",
       "3MvI9Qtdho2HjPvpKhZBGwBSNXhv51wTuouXrv5RKKQXi0cAZnB7w4yD/RTrYOSFwbj9Rw4nPXtK\n",
       "OhcAlBS2iNuNvADESrNPO5tjmx58k0MV4L7z9l6/HfxrhSP7t3fPaLJWqUaNdljKMgW/eUb+/g/Q\n",
       "WVFEqfy1SjAv0wSuQEBCLrg+iviHg+5tspyO4gIyi4o6/WYbSBZ8QbzxqIvsyobzu+i8u4b6Qcou\n",
       "7fvEokxG6ajGWZgTvH4zPQb6xms6W3QV7XfMtmDHtxaQgjgNZu3vQdfJmxV4mUV3RVleVmKShZsP\n",
       "TI0Um0a2Xb5m8RCe0MXMvgdzPYmC/Ohmg9T+fhTMZNInVVfHykX53ClUTvB0nRnlvXd9poYI56nc\n",
       "5NTCfdDk8/KUllY/bVrAo7JEr+rOhvg2cx2ZBVhbGcGVWF0owaOAAB5SReCNyiNkBnaKG9hPo1xd\n",
       "szywioSM2lup9JYpUrxRRCsXcaZuZ0/Io3g4xiAs6anlphKKSI3wfqceuUHY8AAAAHIBn/BqQr8A\n",
       "/w0irbE97fmVXyKAoWIA3sTRmEHB20g7KM9ZURJj1oq9qABsd5V1Gf46dDSCaig6ei3SDYF5LDTR\n",
       "ZsxZN2eAt1mOrJ+KlxPjydaTTOFNYLR3Anusk2EUOaMRGjJpYH5ahKJFzMfaurVcp8AAAAGDQZv0\n",
       "SeEKUmUwId/+qZYAG9H0bQpABO3p1Tji7vIO+2j2SMyRUgeO+eK2MIVMXqEABBA9IyhB7d1N+RiV\n",
       "V0tmRjFPC7uCswhDBomXtx8vJei+PBGDRfttZkFba3OpAWt88SJlsbcTsiJ1IfcQh/8AvoYrfpN9\n",
       "cOJ615H9tBmwzGhOsXQMCiyWbHxeySNkwHc8Xv1tom8fwiE8UDebvFQHorsAJ+5TztHckwXXtMvZ\n",
       "bvp6bmtopGEh+uOLlk7gKHGVbIT0vaszuetHTfGzVs0+ZP9MsQQB7G4Omk8bN8c7xSeHLPKETB9i\n",
       "lbtsxPdL9g5J9ouROf1ti8XnTeYo139Jqs1g/LNBV4fAsDIn3xs7rYfm2ZO3l+7bUiU6YugG53JS\n",
       "l/jbavGsvSRBamPb6O1zhEdEtfTTBgmiFgDSejgTSxlKy6v6zNly31+ho0P629J3g6/rO9BzYHIH\n",
       "+jsyFethh1zCX3ImggVIcCyYWY0c9x7KYMt/UMcK+20y58jsDV+TJQatAAAAjUGeE0IV/wD+9dO9\n",
       "FqVH/S8qE/N0sVK0jpSACHqbnkL/QzfUuwNSmdpKkMwrKg4D5BSqQJ5wQ2aQp/3bVnq7hEJZV3De\n",
       "ROt7AYFWY/2nwfPIxRbNiuyUXwfAPnRDZOTyNf/qlTkcgc2VmzZOqGAFSjQMsdWLvUNTwG5GnZCn\n",
       "65oiRT3dqZ1jrMkq/PYrgAAAAKoBnjJpEK8AV7/5NCiXuXalCa14AQnn9Cw/l5OmTh/NyQokZLR1\n",
       "SIiVGOv7hVIwPIHTS8dW6qJPvK5OfkKDUQy39wz8ILY3j4JpMGR7d43zWxeCvXnj6+yiFWDyCJKZ\n",
       "lzSJLQQny3ub870vSrMjOABl6MKGa9N9XVWP36vexVCM1jJr5Jju/1Ic1NdIrEpSndQAAICc+Rpm\n",
       "eH+vbmYEdpSv/GWdPGGUTSaZQAAAAXZBmjZJqEFomUwURPDv/qmWABvE1WfxRErA8AAQ/WIFsd3K\n",
       "voVc7aey86UWH2S9qomU3y/vP8QBv25bMbDMEIwuYx0x7uR4Zelp/7rIYcENwWXAd8HVID9z+B+5\n",
       "oeAxusVftViPBduFaMpoSRxo+Akw2EgyYeoUg/+tIBBWNdpuhr+K0ZhlaE46l2uIiFnrIwkVaBej\n",
       "LvvbyQMDwV2WJH4+g22TFwogDzX0LmwcE2zWr5nCg0nZAysAoQmNJzf2gMUWOZzvQi31Ewc89QxQ\n",
       "k7cWQa17SGcGrw7+4nhemXWRrc7+PWee6/F43gIGkSGVvJijS48VC9qlsUiVFAUAgT2blgUejHuP\n",
       "yvMy5KT6QSPRGyRNgyURILLv6l0mMLeuIHQPWAXZHPhJKYsMb1dWmsDrrBAcJK0+YS4ydRuOgFRL\n",
       "Lq1DoHCxj0dpk00ZHUvntfd3kMs6nk+L1+nX5v4wQA5Rwp/WY5evIu2/S8bExxoGyvMiLja3QQAA\n",
       "AKABnlVqQr8A/w0irbE+xKPs1BcwLK7gIytw0JbbaGnYRQG1aV+eOUgVstH7hcXCoApsDm6CYIDO\n",
       "8O+ypAho5D915v/HGGu9Ohi+IJ+VHNCtRkT79/CAqp99Lb7Gt4DXt+7UmY/xBXpJ8kErOC3k7SLu\n",
       "Bbjb/PHSuq6gA1SAAAADA+Z3lNPvlVvLeRnGtA0tl063K5bHjou9uN05lIQRH1hCAAABYUGaWUnh\n",
       "ClJlMCHf/qmWABvFPiXVkmuugACH64+Wx3HhP0mOL0XcSOb7g+RGUrpfNNdtJaRnSgcZHtaBOAA9\n",
       "LSTp2hxf7di+dvK2aW96hA6Uc/l5YRRrHCwAAAMAAKE52GMW/oCOYprzepNRtFT0fFEZ26tKmbER\n",
       "7uzv3hUap6lYw9olSaOl/GfXKwTA6AuOKhtd1onoJkBqtvymqq4FoHU/yXQZ8cuv9YOBtxiWqfsJ\n",
       "MlehAOuBJpOlHfgX195dW5A4MmN7Ms3+S9YJ6UzpQQMjxRWLKGxwfs/F+8lDpGtAq1Qx5YM/m4ef\n",
       "WEQDeXQ51qt9uO2DH0vgzQOIdLGi0crNqhDbe4qFPbjpd+JbNkSVVMniJ3GRX/PgTqKhz8pilGdc\n",
       "ShrnF485jcdIEN7zYtn/dD+Jw5vCEe/iX8XvLKtZXG6d2/x0lPld5a3+EOg5kNNjvUVwKUCVQ5lc\n",
       "uJUALZUpAAAAqUGeeEIV/wD+q1Nm/SZfcFuR4BoWdF3tyAecWwCQydJelGF7jyq+u6koiYIFFd3v\n",
       "97A5KWVcU9rjpaY6EZcbIeCMqBbdakjpAohn6nT5THDJ73Mpbt2iTkaXkwLyfoI0fDpbEnIKbMHE\n",
       "Cg+Ic/NjxPkUhFUaRbMqWNnfW55nRcrqAFUngrkUqpLitRa4Mke/9oQ6rQU37JvaRX2ytlHz1xXv\n",
       "xkcJYVBdpQUAAACSAZ6XaRCvAFZTnOIU9a+yIqJ7u3F5YaUWLr3fE1KIgqUJ83YoaDCetnFYGjMJ\n",
       "QCzVplyJKls8D75AqyZ1085jhalDhHqTS2qLIy0xhCo7YoHUUu+IfrWECnwW263Dkr/Y+VW4tTE+\n",
       "eatjaszFcoXq9BdKC8Ll47gOzAhhIZ+hyix2s7WSqvdXcYUEq5j2XQuhvqAAAAFlQZqbSahBaJlM\n",
       "FETw7/6plgAbxP1cx/naCAEkK++ZNCj4h/O0LaqJYld7gp5YcyBSgjsX5WEZmS6jqXNuwNJAuiTQ\n",
       "F04LEIrWJvypdoouNXtLk2lOuAAAAwAAPWFkog89NDVEaeq7pcQe3ol5Y7aXybSIgilo/09xFbI2\n",
       "sW+vJZgmHpWcjMukk80tQW3vQkB8WRahJ112HVAtJgGzw81/KPyWTIxNjOfQ/6meaS4uQkshf8cJ\n",
       "tc3LLhndk3XJrZF1rt/Lnbrzaq7/H/ciqu58SQ7B8rBeLPJlJimo1NPqjUr7Ys1gBlX2ZRFg2bNl\n",
       "3TrrlpZUHHKeDntqGj2mC59DCsUlElPdPnQhWKjhGXAfX1WrAl9TAdfmUlmQ/a/wI5B2eaEEiUO1\n",
       "vT9/8WrhBf24qUCx8X+i2eXTntu+hwfTtMP46+IUXPRMX+pnn1vsIy+77qC6mHkPRMee/wYYnoB2\n",
       "5gJ5mc3dAAAAugGeumpCvwD/DSKtsT8aaz1VVByHLCF7OlzgAEIcAAADABrRu/jJwDoWeO5gAACQ\n",
       "+gRTPk0pLt19ElvSi935/+ZIRiiHdQrR2+cs5/nq29YcctRh4Fo7OSPOVCSKUwCdKz+EGNg+5wbR\n",
       "kmW01rJlPHGNvUWfUx1Mg/QpvZAhN46J/sjeB+8amMI+WUsocy+Rk+F1d5+lOQDJUv1Lvtr1AeJC\n",
       "pgu9mBmNR43ccQGl7s5GkMyqn7v/wLTBtQAAAbJBmr1J4QpSZTBSw3/+p4QANya72T7/EAUuQRkK\n",
       "Js/EzayKDxamOwP5BQdOr/gvAPgP8mi9Ki3IxwgVGCXGOXoY0+2zr1eCtSQUgQVFYIFLTPr2/nJm\n",
       "cV544FGSJZJMq1d1iTyeyXmJcenU2k1JqHOS2Q/RhrdX/xo3t9XohDtX7VoACy5g9ptTKYKUBxbY\n",
       "G3aia15QtCtfaP4fL60mg9+t8JuIIyXgGWab+hqdzgqhemfkGWpDLc2M8wCsKt/56kVFwMW7Su2H\n",
       "D4MmFotSpE41U23wmcusgWfwtzqm+NqNbFQ1AwkYWRzJ++enx3d6rOvaHJEYpL4w0hCjpf698w0J\n",
       "JYmhtx3tGQD+NlsrNExwJWZdOQy5rVwF/yzTDEJoAXFCjZO5G97P6vmlPgGhCiDDpCn/P+4apSLJ\n",
       "Y1/g8BtFxmDLL04+j/14hhGwFfMN8x79ApCfO6nhkbDi3Osmz4nKz5kgStaadWa3C7qkPqierN2+\n",
       "oJCX8FL60d+HSEUO8lRPl5lc+8JN3BeTklHRxSDr6PabuoiFyNoL+4KRjjFE1j1j2ibc+ZF4JTDY\n",
       "xm67hQCC9QAAAIkBntxqQr8A/uSyKOsgvdXGzvplRw4fXZk77dSLqpIsLIAG0FTxIn8T3qe8/n1c\n",
       "A9A3YcMgVDXuHmpqpk3pha2GSVczqVvkeW25jYCaWJWc4Q80TrLeplpCY26ERArsgj9TwSyL0QAb\n",
       "F+wk6ljva+SV3HTb/XT5gm/i1KrZc/nMdX+ZrpJHZernwQAAAWVBmt9J4Q6JlMFEw3/+p4QANe5k\n",
       "/cAE7U8UeTHSvaJF47xsfPP6prBDhHVrcIPF845VhdJwB/hsaKejdGDjy4VGi0rxZR3f9Ng8MfjO\n",
       "im/W+izNGsQaPRf4c5RIR4oA5qKkMRE6izZv34EN125hNmH+tAwLli6XdAaU3/IJ+ELm4UFj7dpd\n",
       "ame+c1076V/GaH1N6ykLgPHJ/WtVu1iPxlx1k8Urj4A88cKHaFSpc3v46n5UNv8ufmoYO0fH6Ile\n",
       "iEF6GjfyBD8XURmuV4QEyujRDJoiKmspcSfqeN09imV3VFy2yo+ol3iBGWi/yjrQ2lTusP1T5chr\n",
       "1tTxe75o0Y3uM7SgLanCyFVFzwRC1Zbrh3Jpe33QnmanBHmx2G1BxmKRNlvScATRRcPf7ut7k8jr\n",
       "t8jeK09hT+WvfHOIkitdndYnVt5arxw543ft1sfrjwuTpNbwQzLwSvNeucJlKd6MJ9Di01MAAACm\n",
       "AZ7+akK/AP7ksijrKNUvCqRxDCbmQ5XtRhtKjfMbNdAPyVu18KBajcm8HQZrQN+KXoAQLQSdbmUd\n",
       "yn5ugOag5Wf/dyOZ8n8LLrnAccTv8xSkHnv+CBzbgYSAFOwPE5y3O2Aj+0sr9TPCK1QKNuKYSCDv\n",
       "/BdOtEA9aYcp7qANEbJvX3fojx7gqddxtfZZDHGRHAuZPjMydEZalgqFLOEqYILmVDqrdgAAAQJB\n",
       "muJJ4Q8mUwIZ//6eEADS/tCy0RG9q6gfPLiVaKf1MSQgUx/Nem5qBZmHMXzbQfh0OjqkGe4rWAB2\n",
       "hv8EWJFgLqNGN5wA60jEZJvcsfZxEyBPCGLCeSvWEeRhQfl/wV0GHU9nva1Jq1vRO/rlS9GX2E0D\n",
       "mtnWIUDgMJyWRPQp/iLzQ7fRUo/ByLukYf8JyTTlgmDxt1YPvRBupDMTRysQIN/88JfLXg1nvxQ5\n",
       "zeKCx9rKB5udvQMft0HJkd2WN/TOxo3mVJ3Y/cTokW9l5sl/mKTUR47SIAd9rfJ2KeDCMpmwopoH\n",
       "wu8X4yyGKhw1Xg7c2iSxGXzyA6dIjE4YdkhsIfEAAACtQZ8BQhX/AP7ksijrKNUvCnDsRQjAlU7D\n",
       "iD7P9CSfdyTBFO560Hjyq46Amu3ktbvzCU3whnFMyGAA1U3Uj90///fl69wsx7bRFZO1g9ezvU3M\n",
       "OhB0Yk8To6CC7YoHbqSCg2Fnu3FHg1nVl+254vPHpIXK0//nmvgr9tDHWiQgujI6OkpBiNGoWUTX\n",
       "XRQnuuIclDY9sNn+LtwKDEnvMAwgibFMpLvMwtURdLwUnzAAAACBAZ8gaRCvAFZTm/I1QX611v3p\n",
       "q4AsVsZa801nTjbrxU3PohmorS2/w1QDXBz9/9rH9w6ADVURMy977/3fg7Vdvl/qHH5Bvu/Kdtqi\n",
       "HuOiFt483/rpRBstYaT7p1SZR6mACGYTNRqQIAMqZkf/eiJsXeYmHKRtbJyycmt/oOdHTRNJAAAA\n",
       "v0GbI0moQWiZTAhX//44QBLeiTFZfW3IjG7nvj6gA1SAAAADANT/1CLPOB1KRVe48Gsp/3OF8kZO\n",
       "ybGsGXbwB5rMM0z5iR7en//7HbIvVQ2QFEFV3ntTJlTcr79TTQwIyIYfxkfrMrCM9bLoXcown9vL\n",
       "kod6B6dwS5wUR6RfGMEuW2tjY9sYs0HLUi4JKi+1VRVDIXkHnNlFYLjqo2fesA8grs0t1gf7RzqX\n",
       "ziUgQAWDZTew9y2E6AyWU3NDsI2AAAAHwW1vb3YAAABsbXZoZAAAAAAAAAAAAAAAAAAAA+gAABOI\n",
       "AAEAAAEAAAAAAAAAAAAAAAABAAAAAAAAAAAAAAAAAAAAAQAAAAAAAAAAAAAAAAAAQAAAAAAAAAAA\n",
       "AAAAAAAAAAAAAAAAAAAAAAAAAAAAAAIAAAbrdHJhawAAAFx0a2hkAAAAAwAAAAAAAAAAAAAAAQAA\n",
       "AAAAABOIAAAAAAAAAAAAAAAAAAAAAAABAAAAAAAAAAAAAAAAAAAAAQAAAAAAAAAAAAAAAAAAQAAA\n",
       "AAGwAAABIAAAAAAAJGVkdHMAAAAcZWxzdAAAAAAAAAABAAATiAAABAAAAQAAAAAGY21kaWEAAAAg\n",
       "bWRoZAAAAAAAAAAAAAAAAAAAKAAAAMgAVcQAAAAAAC1oZGxyAAAAAAAAAAB2aWRlAAAAAAAAAAAA\n",
       "AAAAVmlkZW9IYW5kbGVyAAAABg5taW5mAAAAFHZtaGQAAAABAAAAAAAAAAAAAAAkZGluZgAAABxk\n",
       "cmVmAAAAAAAAAAEAAAAMdXJsIAAAAAEAAAXOc3RibAAAAJZzdHNkAAAAAAAAAAEAAACGYXZjMQAA\n",
       "AAAAAAABAAAAAAAAAAAAAAAAAAAAAAGwASAASAAAAEgAAAAAAAAAAQAAAAAAAAAAAAAAAAAAAAAA\n",
       "AAAAAAAAAAAAAAAAAAAAABj//wAAADBhdmNDAfQAFf/hABdn9AAVkZsoNhLQgAAAAwCAAAAUB4sW\n",
       "ywEABmjr48RIRAAAABhzdHRzAAAAAAAAAAEAAABkAAACAAAAABRzdHNzAAAAAAAAAAEAAAABAAAD\n",
       "MGN0dHMAAAAAAAAAZAAAAAEAAAQAAAAAAQAACAAAAAABAAAEAAAAAAEAAAAAAAAAAQAACAAAAAAB\n",
       "AAAEAAAAAAEAAAAAAAAAAQAACAAAAAABAAAEAAAAAAEAAAAAAAAAAQAACAAAAAABAAAEAAAAAAEA\n",
       "AAAAAAAAAQAACAAAAAABAAAEAAAAAAEAAAAAAAAAAQAACgAAAAABAAAEAAAAAAEAAAAAAAAAAQAA\n",
       "AgAAAAABAAAKAAAAAAEAAAQAAAAAAQAAAAAAAAABAAACAAAAAAEAAAoAAAAAAQAABAAAAAABAAAA\n",
       "AAAAAAEAAAIAAAAAAQAACgAAAAABAAAEAAAAAAEAAAAAAAAAAQAAAgAAAAABAAAKAAAAAAEAAAQA\n",
       "AAAAAQAAAAAAAAABAAACAAAAAAEAAAoAAAAAAQAABAAAAAABAAAAAAAAAAEAAAIAAAAAAQAACAAA\n",
       "AAABAAAEAAAAAAEAAAAAAAAAAQAACgAAAAABAAAEAAAAAAEAAAAAAAAAAQAAAgAAAAABAAAGAAAA\n",
       "AAEAAAIAAAAAAQAACAAAAAABAAAEAAAAAAEAAAAAAAAAAQAABgAAAAABAAACAAAAAAEAAAYAAAAA\n",
       "AQAAAgAAAAABAAAGAAAAAAEAAAIAAAAAAQAACAAAAAABAAAEAAAAAAEAAAAAAAAAAQAABgAAAAAB\n",
       "AAACAAAAAAEAAAgAAAAAAQAABAAAAAABAAAAAAAAAAEAAAYAAAAAAQAAAgAAAAABAAAIAAAAAAEA\n",
       "AAQAAAAAAQAAAAAAAAABAAAIAAAAAAEAAAQAAAAAAQAAAAAAAAABAAAGAAAAAAEAAAIAAAAAAQAA\n",
       "CgAAAAABAAAEAAAAAAEAAAAAAAAAAQAAAgAAAAABAAAGAAAAAAEAAAIAAAAAAQAACAAAAAABAAAE\n",
       "AAAAAAEAAAAAAAAAAQAABgAAAAABAAACAAAAAAEAAAgAAAAAAQAABAAAAAABAAAAAAAAAAEAAAYA\n",
       "AAAAAQAAAgAAAAABAAAGAAAAAAEAAAIAAAAAAQAABgAAAAABAAACAAAAAAEAAAgAAAAAAQAABAAA\n",
       "AAABAAAAAAAAAAEAAAQAAAAAHHN0c2MAAAAAAAAAAQAAAAEAAABkAAAAAQAAAaRzdHN6AAAAAAAA\n",
       "AAAAAABkAAAVhAAAAlcAAADFAAAA3QAAAXQAAACMAAAArwAAAdgAAACeAAAAxAAAAa0AAACqAAAA\n",
       "3AAAAaUAAACSAAAAqgAAAjYAAADbAAAAkgAAAIoAAAH8AAAA0gAAAHwAAACPAAACWAAAAKsAAABj\n",
       "AAAAhgAAAiMAAADeAAAAeQAAAJIAAAIpAAAApwAAAIsAAAB/AAAB6AAAAOoAAACEAAAAbQAAAXMA\n",
       "AACyAAAApQAAAhoAAAC7AAAAiwAAAJgAAAIOAAAApAAAAVIAAADBAAAArgAAAdkAAADEAAACHwAA\n",
       "AJoAAAIMAAAAjQAAAZcAAACvAAAAjQAAAhIAAADIAAABwAAAAL4AAAC1AAABxAAAAKAAAAGMAAAA\n",
       "pwAAALIAAAFnAAAAbgAAAKkAAAHmAAAAvwAAAdgAAADjAAAAZAAAAHUAAAHhAAAAdgAAAYcAAACR\n",
       "AAAArgAAAXoAAACkAAABZQAAAK0AAACWAAABaQAAAL4AAAG2AAAAjQAAAWkAAACqAAABBgAAALEA\n",
       "AACFAAAAwwAAABRzdGNvAAAAAAAAAAEAAAAwAAAAYnVkdGEAAABabWV0YQAAAAAAAAAhaGRscgAA\n",
       "AAAAAAAAbWRpcmFwcGwAAAAAAAAAAAAAAAAtaWxzdAAAACWpdG9vAAAAHWRhdGEAAAABAAAAAExh\n",
       "dmY1Ni4zNi4xMDA=\n",
       "\" type=\"video/mp4\">\n",
       " Your browser does not support the video tag.\n",
       "</video>"
      ],
      "text/plain": [
       "<IPython.core.display.HTML object>"
      ]
     },
     "execution_count": 105,
     "metadata": {},
     "output_type": "execute_result"
    }
   ],
   "source": [
    "import pylab as plt\n",
    "import numpy as np\n",
    "from matplotlib import animation\n",
    "\n",
    "# First set up the figure, the axis, and the plot element we want to animate\n",
    "fig = plt.figure()\n",
    "ax = plt.axes(xlim=(0, 2), ylim=(-2, 2))\n",
    "line, = ax.plot([], [], lw=2)\n",
    "\n",
    "# initialization function: plot the background of each frame\n",
    "def init():\n",
    "    line.set_data([], [])\n",
    "    return line,\n",
    "\n",
    "# animation function.  This is called sequentially\n",
    "def animate(i):\n",
    "    x = np.linspace(0, 2, 1000)\n",
    "    y = np.sin(2 * np.pi * (x - 0.01 * i))\n",
    "    line.set_data(x, y)\n",
    "    return line,\n",
    "\n",
    "# call the animator.  blit=True means only re-draw the parts that have changed.\n",
    "anim = animation.FuncAnimation(fig, animate, init_func=init,\n",
    "                               frames=100, interval=20, blit=True)\n",
    "\n",
    "# call our new function to display the animation\n",
    "display_animation(anim)"
   ]
  },
  {
   "cell_type": "code",
   "execution_count": 106,
   "metadata": {
    "collapsed": false
   },
   "outputs": [
    {
     "data": {
      "text/html": [
       "<video controls>\n",
       " <source src=\"data:video/x-m4v;base64,AAAAIGZ0eXBpc29tAAACAGlzb21pc28yYXZjMW1wNDEAAAAIZnJlZQAAi4ptZGF0AAACrQYF//+p\n",
       "3EXpvebZSLeWLNgg2SPu73gyNjQgLSBjb3JlIDE0NiByMjU1NSAwYzIxNDgwIC0gSC4yNjQvTVBF\n",
       "Ry00IEFWQyBjb2RlYyAtIENvcHlsZWZ0IDIwMDMtMjAxNSAtIGh0dHA6Ly93d3cudmlkZW9sYW4u\n",
       "b3JnL3gyNjQuaHRtbCAtIG9wdGlvbnM6IGNhYmFjPTEgcmVmPTMgZGVibG9jaz0xOjA6MCBhbmFs\n",
       "eXNlPTB4MzoweDExMyBtZT1oZXggc3VibWU9NyBwc3k9MSBwc3lfcmQ9MS4wMDowLjAwIG1peGVk\n",
       "X3JlZj0xIG1lX3JhbmdlPTE2IGNocm9tYV9tZT0xIHRyZWxsaXM9MSA4eDhkY3Q9MSBjcW09MCBk\n",
       "ZWFkem9uZT0yMSwxMSBmYXN0X3Bza2lwPTEgY2hyb21hX3FwX29mZnNldD00IHRocmVhZHM9NiBs\n",
       "b29rYWhlYWRfdGhyZWFkcz0xIHNsaWNlZF90aHJlYWRzPTAgbnI9MCBkZWNpbWF0ZT0xIGludGVy\n",
       "bGFjZWQ9MCBibHVyYXlfY29tcGF0PTAgY29uc3RyYWluZWRfaW50cmE9MCBiZnJhbWVzPTMgYl9w\n",
       "eXJhbWlkPTIgYl9hZGFwdD0xIGJfYmlhcz0wIGRpcmVjdD0xIHdlaWdodGI9MSBvcGVuX2dvcD0w\n",
       "IHdlaWdodHA9MiBrZXlpbnQ9MjUwIGtleWludF9taW49MjAgc2NlbmVjdXQ9NDAgaW50cmFfcmVm\n",
       "cmVzaD0wIHJjX2xvb2thaGVhZD00MCByYz1jcmYgbWJ0cmVlPTEgY3JmPTIzLjAgcWNvbXA9MC42\n",
       "MCBxcG1pbj0wIHFwbWF4PTY5IHFwc3RlcD00IGlwX3JhdGlvPTEuNDAgYXE9MToxLjAwAIAAAAjl\n",
       "ZYiEAD///vcj/AptaQ43T//c/41brlWpIDI+AAAKUz1rl5gEt+2JD/nl6tRRKvktegrmM5i35qGI\n",
       "l/o8tlid3jsVEO9WWIwShCw4PNPE43CaiFQ74LSFdVpHcK3D9/FpMPpltdWm6OtW5YdjU4Lr8Z7p\n",
       "LdB88qWpn99KaY2x0Sju2kf8VP/5BujqxEVdAqjDx7H7yw80iRH8/dP+sBQZbiCGStVczlLSLJr/\n",
       "ebzQaX/+d5iWz6h9HyCX9dkJMAVMGzv+oMiZz1txe17VsgCYcoUZyWVVosckIkNQm3qEA3w8Hj4h\n",
       "qzn0zC1mU3lVPrHKSXXQI0BNf89abR9ID7RLidYpxaZwSW/ccl6kmctufMQOxg4IusImyWD1XJ2X\n",
       "WbJsIaLs1sszuGk8nJVKO0aqXhjuVfpduopPGmOF9D6ug7K6283pUMODh+7kntVD4DQci+W+tAq0\n",
       "63sfnFvwiI18mBC8UkUs+iLshKAAITQpQYGr+i7MU0VhxxPyolXgRn2aOqOS1oItuipXiE3QsbxL\n",
       "rVD7Rku2YIgZaj/ULxtQB+k+YVzaIOlJL+fkVSPl/3PmT+ayCTfwIb9QWzh1eonFT/2AAUPcSqa7\n",
       "PHlrO7/sfYCk/5UnBP2dE27W+rqWy/phH/ZWGAY34Ns//LegjHdQ/g1rfVlsIgQNmiXaFX2Bj/w4\n",
       "/5U/0NWGDs4CGaoobQdACgvhbPEoPJPTy2tLLEu1BLbhuIx3FuH69v0NnTw2Q5xfOAPnVDnqr171\n",
       "as/Tsfss6tZ4ll9mAu42ytsO+ma7/DbvwIrXOKjFfOvdaMBEThoMJj0r1sQqEECtRy6fPLAW6uq9\n",
       "V2aACQByRjf+V7F5KSgXhgwey8YSaILPQECZ4asvk69NL2OUKsIAAFAynWCyD9O9cpkI8KNyp43Q\n",
       "WklrJxqb1n4tPObE3Z6cjOoL8gZqA7x3P+I9togURKeAd/n/6G3Fh0CQ2a1hCyjTKMqfR9TK7Cnh\n",
       "tmo1iY+1M/rNNZ/iJ8xTm1bf5XnVSNqw2vxswEvZzTtJmNzie0ti4GqjSYFYfJzqIThPX3plbly7\n",
       "NY4mxFw8I5g6TJICcK61e8QwOTCnNstI/KwefdzsTn9U7bXYhZ9q98+qMDbCG5+v7+hq+p+csxej\n",
       "ZS+tJCEez6ZNaPIBp0KZLGiJ/Pb7sxhA105c2sPFDP1WjRUVdDzDXL7EgKyQB6iE1+D61INsOnrR\n",
       "h3QVDDUX8moLoY5mZ0IZnsv/k/NClasC2PvHJcPoTYBL3m0eKT9MIQX8DsoBBxrFQch3On0rp22D\n",
       "sEHOL+LoJxireTocWN6WE07gwxaEGspiAZkcyvhvi0YAZfWK4r5e753eHrpT6cfuiD5lMv7PPTbC\n",
       "eqde6500bsy0Gx3bj6JPhFhhZocYsXRUJ8ngkaiE88W4k8KoBdQLkfNDKF2dgD30DSh8dM561UK6\n",
       "x2n8w7t/reTswADvFLETIC6lkQjnJcz3bP0KBH//sYexosUDHTzGUFlG1DaHICchnswp62T7kBqD\n",
       "PX93qdRu7wl7i1dxmpGQgvnmDTun9rTfYFEllFKfFhT8/KRlR4oFmpo+WewTLvFomb3UlPxugEPR\n",
       "LWCjI+mDMvazlZ7eRxMutepAr21jGWaP11Dzcg5SQ/i5xd36jypbVBfCkxCMLvQ4EYszsw8MLVCm\n",
       "hZUwrbq04ADWipn/Arb3lnGcWleXHm2YTV/Nc7hAIMulgL8wxZYTylAjYUBGRPZV6Aog0KchC6gL\n",
       "oNwm7D/dBmOLq2wljJOT1W3n10SNbXvGBfofPk98ITv5oM3uJqKuRChR706ApF27vkMUndowpZnr\n",
       "1Krtdoaw1gvT7U3u129ZICzdMB+vZzH9b4SsKCMjwuC1A2t5IlozxxB2IXDKJ3W4BqIyHHjYvw1O\n",
       "FZZJxBt+zyhOqjHRur80OVSMkObmI5ip3QrB5jVXCmFBoy1DdefzOXKXfJUcv3SzcotLC23h/rKc\n",
       "ajl7ff7VrnZ7pLA5/OsX2HJ27hh7HiTTN1aQPp72IWt2+ov3J9QY2EUF8o7GNPZ9jyaVcstSWHby\n",
       "tzWCCAtJM6af16gnziyAqZfCrv//DojXn9Cv2FOmWcHTZg82Iq2eyT298k+4BNdRgtEGG1PVUjos\n",
       "CVO8of4tS5nGauFiYSvUoJ2Zlrs6SuYBLHS2tO9LJzkQ4eS0tQ2qGvB1XC3M1t+dlm4pCBrvt7ll\n",
       "gWEk/vXpF1Yq4kqxk0jsmZ9S//rElAqie753PiZ8zsRHMMWsrU6U+SzjydkC0kWg8QN/2I6yDKXM\n",
       "4zVEOiIaSxw4sXN0GmaNmmJTLYrs/Q8wW80JyvRwEWVQRULyBcKLeD2lFQ7Kk82iphLv2h3jm/oq\n",
       "ss6vNJLuiDS2VuP5L3PURufs0CaUGV5pLx5zf08080aEBrWUe1RODQzCXyZLuwkOrqkmv2MeYt5x\n",
       "zhe8H14bqaKHPi+/BQ/CkPn6cXgIKySptBWRdCnlEUSw7ifNQIFaYA6ZUylsmU/JgjRWh8S6SRqc\n",
       "rFAWfLKxSdk62c7QXdAJEgSCTxvslkUjJmZPfTRHZP9TwwWq4hsrcvCRgw//dWfjeMaipda5hCew\n",
       "41NWKLYwyRGH2IeVA2losvy7v7d6MXMsEoebRsGU0G3oadrlOWiyivHxKal6QBte5inLCenjOGd6\n",
       "gJatujGrY5e0wsAYgatK79qNqmNjUySRw9A4mR/qouSbwpxSvz+RQIjk3nA2eeVlOqLoKdrmCDoY\n",
       "PEnaOczDNnNV7QcxQip9w9t8Og9rxxOQYXzAqPmVyJpDnMTct0+63xVT2v+eUhoM3iUungrjioRM\n",
       "YlrKpSc6Tusj8NFpD87qlwGe8I98xtNKExMuIMDVELSpK8/QtUh8OPhaQZZPmqCuIyofo/V15rAI\n",
       "xtTXOvCQk3OIMD0U6R8yCITcay2+a5s97FPrg1VmERuSZE9Ep4ya8AH5NpzCQ3KVUQTg2sznoL35\n",
       "84noPQR+luxM0Ub1NjkQ8FlpKQh6Sj2D8DHjlpdwj90dgJuVXCc1PYAM2xcy0w4ACRgB7H4zAAAA\n",
       "WkGaJGxD//6plhMCkcATX5ErvwKTvXxS7f/3t8nVtZYuFpIqlUaxG+oiutH5nJ3unhr/2Q6Zz5SR\n",
       "8HUAsH8mg6auVGp2uX4epzy8spye4nuheXzSM1xsh/CTgAAAABtBnkJ4hn8CFe+ntTrnZjZoWDp7\n",
       "MZJBExhA/w8AAAAbAZ5hdEK/A5mxo62/exsavQYgQVmsIqmpP6mAAAAAEQGeY2pCvwDXu0ZFpA3V\n",
       "47AhAAAAI0GaaEmoQWiZTAh///6plgCE9W1nmvIsDuQ+SL0Qi8ie4hQtAAAAFUGehkURLDP/AHP5\n",
       "3dUQWtUp0Cyx8QAAABEBnqV0Qr8A14Bs1AhGksdgQQAAAA8BnqdqQr8AB0Gdiq1tV7AAAAAcQZqs\n",
       "SahBbJlMCH///qmWAASCgf7b0w7L6CyXgAAAABJBnspFFSwz/wAD4hRg64Oal4EAAAAQAZ7pdEK/\n",
       "AAdCzKNxtIbq9gAAAA8BnutqQr8AB0DeW9kjhvwAAAAgQZrwSahBbJlMCH///qmWAdXjFAJBLzDd\n",
       "F7NvCI/vsZcAAAARQZ8ORRUsM/8AA+GocMtcyoEAAAAOAZ8tdEK/AAc/5SM6Q8EAAAANAZ8vakK/\n",
       "AAdA3lzpDwAAABlBmzRJqEFsmUwIf//+qZYABIDBIUgLHh3QAAAAEUGfUkUVLDP/AAPhnfhlrmVB\n",
       "AAAADgGfcXRCvwAHP+UjOkPAAAAADgGfc2pCvwAHP71pc6Q8AAAAG0GbeEmoQWyZTAh///6plgAJ\n",
       "AYJCkBWq6ZYl4QAAABNBn5ZFFSwz/wAHxJP/whhE6l7AAAAADwGftXRCvwAOhZlGYd5D7wAAABAB\n",
       "n7dqQr8ADn960thoE0vZAAAAI0GbvEmoQWyZTAh///6plgAJQYJCj2nWHZFzpwbn68HzAR1QAAAA\n",
       "E0Gf2kUVLDP/AAfwk/+wah/YEvEAAAAQAZ/5dEK/AA7cVcWQTnBlQAAAABABn/tqQr8ADtd6ka4j\n",
       "wAPvAAAAG0Gb4EmoQWyZTAh///6plgAJQYcyEyL5g6CEvQAAABNBnh5FFSwz/wAH7zvwtteM0G/A\n",
       "AAAAEAGePXRCvwAO25qnr8eAB9wAAAAQAZ4/akK/AA7XetJEkAD7gQAAABtBmiRJqEFsmUwIf//+\n",
       "qZYAEoMOZCatV0ywk4AAAAASQZ5CRRUsM/8AD+Ftz+6I9RcRAAAADgGeYXRCvwAO25qop0QcAAAA\n",
       "EAGeY2pCvwAdrvWlsNAmi4kAAAAcQZpoSahBbJlMCH///qmWABKDEeEJrEpc/6hqQQAAABNBnoZF\n",
       "FSwz/wAP3nfhlIITqLiBAAAAEAGepXRCvwAdtzVRMxjuBtUAAAAQAZ6nakK/AB2u9aWw0CaLiAAA\n",
       "ACBBmqxJqEFsmUwIf//+qZYAEwMR4QhVsPFi506V/woC2gAAABNBnspFFSwz/wAQV+nQuGGEQFxB\n",
       "AAAAEAGe6XRCvwAeZzVPX48AB6wAAAAQAZ7rakK/AB5e9aO4jwAHrAAAABtBmvBJqEFsmUwIf//+\n",
       "qZYAEwMUWQmRfMHQQScAAAASQZ8ORRUsM/8AEFezYL44mgbVAAAAEAGfLXRCvwAeXUxSJzUAScEA\n",
       "AAAOAZ8vakK/AB5ekNLnQf4AAAAcQZs0SahBbJlMCH///qmWACYGKLDoW6RDAeBvQAAAABRBn1JF\n",
       "FSwz/wAgtzIGE2O2hVgooQAAAA4Bn3F0Qr8AHmc1UU6D/AAAABABn3NqQr8APMzzDJvKkMFFAAAA\n",
       "H0GbeEmoQWyZTAh3//6plgAnBQNzf5cz+0uQD0ywYMEAAAAVQZ+WRRUsM/8AIa9m2SxeFmbNwFpA\n",
       "AAAAEgGftXRCvwA+LmqevxxlXKAMqQAAABEBn7dqQr8APh3SBq0LS5AooQAAABtBm7xJqEFsmUwI\n",
       "d//+qZYAJwUJr3/ycdcaAyoAAAASQZ/aRRUsM/8AIa+F+XvyAA0JAAAAEAGf+XRCvwA+GpilqKPm\n",
       "hFwAAAAOAZ/7akK/AD4q8tsgfMEAAAAYQZv9SahBbJlMCH///qmWACcGhyHGPAb1AAAAHEGaAUnh\n",
       "ClJlMCH//qmWACgbibXLxib/9zJAdMAAAAATQZ4/RTRMM/8AIq9m2SxeM0BoQAAAAA8Bnl50Qr8A\n",
       "P42k4KqgBF0AAAAPAZ5AakK/AD+K8l1NnAFfAAAAGUGaRUmoQWiZTAh///6plgAoG4/xzDIAXcEA\n",
       "AAARQZ5jRREsM/8AIq+F+X5wW0AAAAAOAZ6CdEK/AD96ELbgl4EAAAAOAZ6EakK/AD99FbZA9IEA\n",
       "AAAfQZqJSahBbJlMCH///qmWACk7ibXDI5matziPwoBUwQAAABRBnqdFFSwz/wAjpjktKjokG3IH\n",
       "LQAAAA8BnsZ0Qr8AQXyTOtwAh4AAAAAQAZ7IakK/AEFzYNmRoADlgAAAABtBms1JqEFsmUwIf//+\n",
       "qZYAKTuJuzW80oMkBx0AAAARQZ7rRRUsM/8AI7ZJWKAQCrgAAAAPAZ8KdEK/AEF3UV10AIeAAAAA\n",
       "DQGfDGpCvwBBX/e5A7sAAAAeQZsRSahBbJlMCH///qmWACpbj/ci6/cZeeI/CgFJAAAAEUGfL0UV\n",
       "LDP/ACS3IpWYEAppAAAADQGfTnRCvwBBd1KKAWUAAAAPAZ9QakK/AENevMGmcAU0AAAAHUGbVUmo\n",
       "QWyZTAh///6plgBUtx/ubmq5qTYIMBHxAAAAEkGfc0UVLDP/AEluX784YLwCmgAAAA8Bn5J0Qr8A\n",
       "Q3dRXXQAg4AAAAAPAZ+UakK/AIa9fKatmgf5AAAAM0GbmUmoQWyZTAh///6plgBXeFvwHagBLV2A\n",
       "8sl/sw/uFDb/vaPFA5EnlyUjVbJ/7MAqoAAAABRBn7dFFSwz/wBLbkwBoySM6OAUUQAAAA8Bn9Z0\n",
       "Qr8Ahu6k66qkBtUAAAASAZ/YakK/AIrmwbMiyUFggJGAAAAAHkGb3UmoQWyZTAh///6plgBXARaq\n",
       "WjwJxxCCFGAi4QAAABNBn/tFFSwz/wBLXsd0qgVYLQGDAAAAEQGeGnRCvwCKtE0xpknwHgalAAAA\n",
       "DwGeHGpCvwCKvXymrZoHzQAAACFBmgFJqEFsmUwIf//+qZYAV3nmamyJlMX5GDD2V/7MApoAAAAU\n",
       "QZ4/RRUsM/8AS2yS0AwvYmlgRsAAAAAPAZ5edEK/AIrupOuqpAatAAAAEQGeQGpCvwCK5sKpkyrf\n",
       "wYEbAAAAGkGaRUmoQWyZTAh///6plgAsm49am20ZkgNTAAAAEUGeY0UVLDP/ACavgtpa5A1YAAAA\n",
       "DwGegnRCvwBHd1EfdwgF5QAAAA0BnoRqQr8AR16+bIG9AAAAOkGaiUmoQWyZTAh///6plgAt/C2/\n",
       "iHsEAJmUJX2/mJz96/YgNhUvVOeWOjtqceZbwFvOBNtU65iA9IEAAAASQZ6nRRUsM/8AJ9AwGoV4\n",
       "sgaFAAAADgGexnRCvwBHWic2QN6AAAAAEAGeyGpCvwBJc2DZkaAA0IAAAAAcQZrNSahBbJlMCH//\n",
       "/qmWAC3Ai2Sh+L5g6CA9IQAAABJBnutFFSwz/wAnx+SruCJoC4gAAAAPAZ8KdEK/AElaJTO4AA0I\n",
       "AAAADQGfDGpCvwBJXr5sgbMAAAAgQZsRSahBbJlMCH///qmWAC7bibZHI5n0tzqv/2LAz4EAAAAS\n",
       "QZ8vRRUsM/8AKPAsdxYyIBKxAAAADQGfTnRCvwBJd1KKAUEAAAAPAZ9QakK/AEt2PB+0AHdAAAAA\n",
       "G0GbVUmoQWyZTAh3//6plgAu2kE20l5n/mIDuwAAABNBn3NFFSwz/wAo574rq/Bl3IGXAAAADwGf\n",
       "knRCvwBLd1EfdwgFnAAAAA4Bn5RqQr8AS1/1ldIBZwAAABlBm5lJqEFsmUwId//+qZYALtpBMD1z\n",
       "ACpgAAAAEUGft0UVLDP/ACjnvg5bYC2hAAAADgGf1nRCvwBLWic2QNSBAAAADgGf2GpCvwBLXtGU\n",
       "nQNSAAAAHUGb2kmoQWyZTAh///6plgAwEapxDIaaUwS+RQbdAAAAWEGb/knhClJlMCH//qmWADBb\n",
       "P/hIzkAITtObCe4EGneajuoop7lLr7sfYIh7L4cnX8ICIisw7u2Q1F4ybQv0npjEglZW8h87QMWa\n",
       "YEbFQur+xvD336lAI+AAAAAVQZ4cRTRMM/8AKg8ZbrSKTJeTBQK/AAAAEgGeO3RCvwBNeG9zfjjK\n",
       "uUAUkQAAABEBnj1qQr8ATXNg2ZFkjlvBgQAAABtBmiJJqEFomUwIf//+qZYAMFxe6BkDc8FpAccA\n",
       "AAATQZ5ARREsM/8AKg8ZbspPKnUI2QAAABABnn90Qr8ATVrYlFFHzQccAAAADgGeYWpCvwBNZWND\n",
       "NUI3AAAAIEGaZkmoQWyZTAh///6plgAYqMG60chOchFrxl9EzwZ8AAAAE0GehEUVLDP/ABWYEkgQ\n",
       "+UxARsEAAAAOAZ6jdEK/ACatbEpOgz8AAAASAZ6lakK/ACfUtNJqFsQT1Al5AAAAI0GaqkmoQWyZ\n",
       "TAh///6plgAYq0UULlKgAEPO0nFkn/k2AKSBAAAAEkGeyEUVLDP/ABWT3wceCJoFVAAAABABnud0\n",
       "Qr8AJ8hsSCy96AHHAAAADgGe6WpCvwAn1PfezoMrAAAAG0Ga7kmoQWyZTAh///6plgAYq0SkuQsI\n",
       "MkQLuAAAABJBnwxFFSwz/wAVk98HLQ96iJgAAAAOAZ8rdEK/ACfIbEpOgysAAAAQAZ8takK/ACfK\n",
       "aMow0CaImQAAACJBmzJJqEFsmUwIf//+qZYAGM4vdEPucyOasbuy4bP9mBIxAAAAFUGfUEUVLDP/\n",
       "ABWUIk5f4ZD/S1g9oAAAABABn290Qr8AJ9c3vWYx3ApoAAAAEgGfcWpCvwAnyxCU89BeZIQtoQAA\n",
       "AB1Bm3ZJqEFsmUwIf//+qZYADKRdFafjEhwfybAKCAAAABNBn5RFFSwz/wALEhEnFW+M0FNAAAAA\n",
       "EAGfs3RCvwAUe5vc348AC8kAAAAQAZ+1akK/ABR1iEg4jwALyAAAABlBm7pJqEFsmUwIf//+qZYA\n",
       "DKRdFkcGQCThAAAAEUGf2EUVLDP/AAsSERewjiPhAAAADgGf93RCvwAUdDYlJ0MWAAAADgGf+WpC\n",
       "vwAUdYhKToYtAAAAG0Gb/kmoQWyZTAh3//6plgAMpAHCx1ut2PhBwAAAABNBnhxFFSwz/wALEjAv\n",
       "YAEJ1IWBAAAADwGeO3RCvwAUe5vex1HBQwAAAA8Bnj1qQr8AFHwss/2p0hYAAAAbQZoiSahBbJlM\n",
       "CHf//qmWAAy3F6LJVCZ4MgtoAAAAEkGeQEUVLDP/AAsSmGQ3FyAoYQAAAA8Bnn90Qr8AFHYdRRH/\n",
       "pCwAAAAOAZ5hakK/AAo6xCUnRi0AAAAYQZpjSahBbJlMCH///qmWAAZSprhtQOmAAAAAH0Gah0nh\n",
       "ClJlMCH//qmWAAZ6NfHGSFb+gBcxN/+RTMkAAAATQZ6lRTRMM/8ABa0YF6gFCFGBswAAAA8BnsR0\n",
       "Qr8ACoMOi9qkgocAAAAPAZ7GakK/AAqEb5Qp4wIXAAAAIEGay0moQWiZTAh///6plgAGejXxxkhW\n",
       "/oAXMSiH3qRsAAAAFUGe6UURLDP/AAWtGBek18LM2bhCwAAAAA8Bnwh0Qr8ACoMOi9qkgocAAAAR\n",
       "AZ8KakK/AAqEb5Qpy0TiR4wAAAAjQZsPSahBbJlMCHf//qmWAAaDi9DXo6mRpowcnSqDH/wKZkAA\n",
       "AAAUQZ8tRRUsM/8ABa1IcgBCM7fMQsEAAAARAZ9MdEK/AAqHSk5GN1r2R40AAAAPAZ9OakK/AAVC\n",
       "PTaOAAXFAAAAH0GbU0moQWyZTAh3//6plgADPVFxh6rmi8qgcP98yggAAAASQZ9xRRUsM/8AAtbV\n",
       "4q00clxAAAAADwGfkHRCvwAFQ6UnIyoDZwAAAA8Bn5JqQr8ABUI9Lb5CA2YAAAAdQZuUSahBbJlM\n",
       "CHf//qmWAAM9U++5cWPXH6vkVmQAAAAnQZu4SeEKUmUwId/+qZYNhn/cCUQBTcG4L/zbd79w5Dti\n",
       "LMlZwrubAAAAFEGf1kU0TDP/AALW0/SamQhm/ELAAAAAEQGf9XRCvwAFQYdF7UM+MpuBAAAAEQGf\n",
       "92pCvwAFQjfOr7psTAS9AAAAIEGb/EmoQWiZTAhv//6nhAAGd4TMnKY9tANcIx4P9d42AAAAE0Ge\n",
       "GkURLDP/AALWpiTIduUJpQ0AAAAQAZ45dEK/AAVBOPne2HkyFgAAAA8BnjtqQr8AAqEb5Qp4whcA\n",
       "AAAcQZo9SahBbJlMCHf//qmWAAGeqfcCz+fpf3zUEQAAABtBml5J4QpSZTAh3/6plgABnqn3As/n\n",
       "6X981BAAAAAfQZpiSeEOiZTAh3/+qZYAAZ6DxEyk22HL+6Wn/kXMgAAAABNBnoBFETwz/wABa0Vt\n",
       "xVvjNKGBAAAADwGev3RCvwACoMOi9qkihgAAAA8BnqFqQr8AAqEem0cABcUAAAAfQZqjSahBaJlM\n",
       "CH///qmWAAGekFDlIVv6AFzIP+zKmAAAAB5BmsdJ4QpSZTAh//6plgABoOL2cw99qruQJLFABqsA\n",
       "AAAVQZ7lRTRMM/8AAWtSSm4bltYhBVDBAAAAEQGfBHRCvwACodKTkY3WvZeNAAAADwGfBmpCvwAC\n",
       "jts2s78FgQAAABlBmwtJqEFomUwIf//+qZYAAMpFehKBkJOAAAAAEUGfKUURLDP/AACxIOty21TA\n",
       "AAAADgGfSHRCvwABR2HUncWBAAAADgGfSmpCvwABR1ekpO4sAAAAG0GbT0moQWyZTAh///6plgAA\n",
       "ykV6HHBUasitoAAAABJBn21FFSwz/wAAsSDrctD3uLEAAAAOAZ+MdEK/AAFH6EjO4sEAAAAPAZ+O\n",
       "akK/AAFHV6SkMfNxAAAAIkGbk0moQWyZTAh///6plgAAy3F7oGPd3GgU2ksSmf/18HgAAAAUQZ+x\n",
       "RRUsM/8AALEg6nsACBsscTAAAAAQAZ/QdEK/AAFHun3rMY7qGQAAABEBn9JqQr8AAUdXpKMM9oa0\n",
       "TAAAAB9Bm9dJqEFsmUwIf//+qZYAAGUi7ukccViE/9V/+xkCAAAAE0Gf9UUVLDP/AABYkHW4q3xm\n",
       "00EAAAAQAZ4UdEK/AACj3T7m/HgLyAAAABABnhZqQr8AAKOr0kHEeAvJAAAAG0GaG0moQWyZTAh/\n",
       "//6plgAAZbi9mZRgPK5jvQAAABJBnjlFFSwz/wAAWJSBpbdc08gAAAAPAZ5YdEK/AACjprcCnQVN\n",
       "AAAADgGeWmpCvwAAnyluKT0qAAAAG0GaX0moQWyZTAh///6plgAAYqL8AlAqNWRu4QAAABJBnn1F\n",
       "FSwz/wAAVk9yfLQ98pkAAAAOAZ6cdEK/AACfIXkpPSoAAAAQAZ6eakK/AACfKW4ow0CimAAAACFB\n",
       "moNJqEFsmUwIf//+qZYAAGM4vdAx/AJMDeSXiTv+Cj8AAAAVQZ6hRRUsM/8AAFZPcnxVvhZmzeNg\n",
       "AAAAEgGewHRCvwAAn10+7+extfiPcQAAABIBnsJqQr8AAJ8r0kHEcBzwj3AAAAAbQZrHSahBbJlM\n",
       "CHf//qmWAAAxnF5iQh2hyOWPAAAAEkGe5UUVLDP/AAArKkDS8ZLgMQAAAA8BnwR0Qr8AAE+TO9ol\n",
       "g1UAAAAOAZ8GakK/AABNc2zFl4EAAAAZQZsLSahBbJlMCHf//qmWAAAwEDpTPXMpIAAAABFBnylF\n",
       "FSwz/wAAKge5W/cZQAAAAA4Bn0h0Qr8AAE1avJSgPwAAAA0Bn0pqQr8AAE1fv7w+AAAAQEGbT0mo\n",
       "QWyZTAhv//6nhAAAX/hMVj2oAapmYuO7pD8P5fmJZC2PmS28rG6IJ12YuOzl2YGonuNwYJ1WMFFG\n",
       "RPgAAAAUQZ9tRRUsM/8AACoHuVr3zNMZW0EAAAARAZ+MdEK/AABNWiOIp2cR0jEAAAARAZ+OakK/\n",
       "AABNc/U883RWxoEAAAAYQZuQSahBbJlMCG///qeEAABc8ZzKBVDwAAAAFkGbsUnhClJlMCG//qeE\n",
       "AABc8mZL+LAAAAAZQZvSSeEOiZTAhv/+p4QAAFzxnMoDaXoFMQAAABlBm/NJ4Q8mUwId//6plgAA\n",
       "Ltp47Ecr7IT4AAAAGEGaFEnhDyZTAh3//qmWAAAu2s0dnZjlMAAAAB5BmjhJ4Q8mUwId//6plgAA\n",
       "LxzzCZKCd9VfRsy6TMEAAAAVQZ5WRRE8M/8AACjn39uVvhZmzgrAAAAAEQGedXRCvwAAS1oZTJ6s\n",
       "mo1LAAAAEQGed2pCvwAAS16iQaUUxVixAAAAGkGaeUmoQWiZTAh///6plgAALedsewFeVg66AAAJ\n",
       "zmWIggAEv/73hH4FNwED3+qH//JB/4a/23+0njmuO7Q4rsg3Zap4AAADAAADAHuvjw/+x/RRhrMQ\n",
       "B8nyAcOc76qU9GPuLlisXB4lxD0XsgqZ91C0hDaelCdjQbL6nyJ7ceN47rtOdpRukur2Wn1ag9fR\n",
       "PI8M2WHjIwfjyT29Wj8ppw6aKVgj+GXpGCNIEZa9IS+QldfPOd+w+1AR0kgKVheKPLgqZ+pkaria\n",
       "d4PeD3Y9wxLvHnmAd4VPsB92UJNwnTfZfnPEKzoKpk7Ns6xYKeh8D9cAy5I6mP4l/hSpUftP4euC\n",
       "kt1eQ9l8jmD9QgF0QnBRCgJSmzmavAuM+83lY+0CAx73cAJQyYl6m/mPBaMdMPNED5aOGya00SqM\n",
       "jUiVk3jC1Y/D1O4QuTagCsPf3W5jXrBpIEu3XRP2naOoG93RzdQghpQESHQClb4KddzNmruuL8ng\n",
       "qSuuuO4P0kYFiY5P54Anj4Gf9KkAWDGF5GWiBDHvqI2rkYFrdZ5RyVypv8mVwH1QbF0J8ZqNyG04\n",
       "MurDKw6HGTtuECzg6Y0wFCmDQsFK8VvsO4aZmnXzfS1LP3C6s27LCWTAag9gXH/jEQkjEGbi0A6Y\n",
       "mzs4DODCr13LROIPEI876Xcrv8HJNvMVId/ntVjvND8WeZuUTB9r2sYDHMymlGVQmuwstANLABBh\n",
       "9y1pVYLqvnAZmI5eV7nGUlCxz54lcWGQTB46qQSnLxYuhG+BTLBC7BMQ7WpyOoxEcf7ymDJ2K225\n",
       "9m8M9/Q1pqYTL/xF8yOCX1QDf8Sp29qJuJLf/DNI0ygfktb6raucXDb7HjJJbU+fBKGnzRNxtutO\n",
       "OUdojLdhJ+ROKLPsBAIFDOqQCIh+YIcrKqKs1RWCNnX1Zo9uL5HwzgWYcb9UQbvZ8U/ZQrEEhu3n\n",
       "2WqJLgjfPW1MB3tZbI+/5k/vX3DQAHpKYV6hCR0cL96l8f0GvScMIQm9qdexkT2co5eYrfaW2yb2\n",
       "4M3AAAfB5J/GfzSzcpkIs8pY35uTv3GfB20C5kPnr0Ybry1JIiCskckYVTa6V6mFmOBeJWa3NPC2\n",
       "JMOr/23izUK15JQ2IDa9ggw6M2PE2WYEksoUcFL1dA0OSHoGT3FQ5ZYc6qJ64PDHjkNe90PTsI0l\n",
       "2qnFoxbCnSmY3OGIjXft4GdAFs0c5oCaq1jVigX29waJ0v7XIj8Xw6HfySEjEnF+8ALwUZsNtmrn\n",
       "HknNEGMEOqtiWdaEw9fNaYCPCBuBmsV2wFZ5sOi08o/qKXmPJtWCZbKNfm8qR6ojI1UldXAvZIdV\n",
       "p/Z3zfSYw4mWnMcrTMSMTyyXgxxChTCgcuhC1fEb9ERZPI+t7kEzkCuEjAUkvgzjS/a9gKrefxVx\n",
       "10jKy6rkK62lxTQJB+4ApCTSPMJJXDEdU1apzp8tmLyrflwHDCVPNMRqgudHxx+YW7y+gjylZPy/\n",
       "wfp9nwh543LxgGv2701uJzB+d2+64Gdc7vz743j4ExUyW2frh80scjlgS3N+C+d8gX31YMETJuGC\n",
       "ui4E0ALpa5dp/trZpVCXUU6YuyiDhEsyZjal5MzYz+6oi6bhqCnw6nyRGccm2D0TjNh//9kA+HtE\n",
       "G1eFdYIiTp/4Tk48s+NpCXoTdXWE+P2ur4S4QDVFnYi7XuTu/2EQ0Xarkgbfi20D+SBKltYcgsuG\n",
       "LwqD+cL4AeQbuj4W3bhD5a4A3gKSC0xHcebXQSM7weYDM6XwAWiDhgic1ntMEeTBz/xG3dZ07S2j\n",
       "Ezou/3EU9p64DgMPgiqkw9zCQuZOgRYs/rWe/JbaWuMAQ7SqxwO3rVcRI/CAoHaCSkNGkwFMnkBm\n",
       "Btyqrj8Kyg1nuHxzd1R0sV6UpjOhVwWGL9eHSR5ra7x3griAi0jrm7UekTSqv+A4EO/eGtIeTm36\n",
       "5YpLnvyHmh+gIaPd91E7AJkAcWDNdo7aaz2aXcO59kPs03mApFaD9HwJ85swh2b+d57MbAAni8uf\n",
       "hpWfhBXcFyCYcZ/V3olcCv2xX3SqCtatbBO7syY0nwNsfT+VQIjScsb6Hlwy6MvD5tioy2gf9kR+\n",
       "tnzIC9Gly9514pqwCWWpbmm67ZNebjA0XO217OnOApOKD0NN3eCTry8qWcMKjFbQxArkaZp4hAV3\n",
       "Ybl6bim6JAghhtm9ONfMCnm1HipnTh9i5j1bdKf9LuKvZ+c4BNn0e3HGHjLBAMA1351qrTcd6uNs\n",
       "dLP5bXPd3chB+xUi1m5M26hfG/sned7VlItZuTNuoXqn85vky1Qq4Id23UMOpb3B88YzUl8v4TX4\n",
       "gmNE9AHfI50W4CRAHKW21LuxNc+hf/8yCx2KREEJVutR8Ipuvq7+GyjGP1iQ5a/lU5j1CJlObzZq\n",
       "QpJOyOIvTxHlFsIwKmLPKW7kei8zUwCuWB+VFYyohbC9Dh/XFelUY6fBeqN2dCudxK5aO6RXBjih\n",
       "WseYwzLc2hjtlPMKaFAJQXR4cykea1uJ3pGWFyb/XzkCTu6FlhSdNBuno4RMHvrm1DUKhCqgobby\n",
       "sJtzRGuRK9UIQYNhXjLaoufq8Duiayc5kAw2oXxtGCNtgbB8AqrV7kDH65M7Lv+deRE2WKNHM1Ur\n",
       "PnnAnEVMHfApCdMVh9YD/bVOgnPWYlI/kBr8Q4JRA1lSWQM9bgWHqNHvG+o+OytDP5YfqDRfctIq\n",
       "t2NwoC+aAbJJU81Kh30vwwEtxI6FIo/C3tp5oZBCapo7Tdxth5nbUxZr7fBli6Q7XsCfzodnFxc2\n",
       "wU2ukPFlIfTnavUP7tN4UH7ul6FPEPkasAX8mU/weptg2du80EYpWN8lPUT8TCW7ndNBaCWabWl4\n",
       "xXLmDSAz7r3XpgacTD9iZxnjYn7ZsUdntCWsKVoU/5OzexzZUJUw7lSuxxJ4wS/+kU3iYOELFEKP\n",
       "WoCunfd0DhcQe4bePBPYLG9l7qTbe87srMnqdtS8nUMDT/xrl8/1yjv7jFLKsKytApAD+vt/WKIv\n",
       "9/fm9Uk6M/RhI1Oqh6USp7HyFhgkjJB/M7yzeBkZcTM1wPbUybx2INmDaVIMZAvTwl+6EmDpGoUm\n",
       "9KEki2r3OSm1pr5IWi2pqV8EuZomwUpmpongo2OjrOazqaKfzsVBjPpKY8V9SrDVMmPielg76hO6\n",
       "A+cZyeNKGtqLrtzyJQAvroy7ynA+5YknAiqefiafN7ZdAVNdUr/S69SHXdKmyS7C63YzA1/QsAUe\n",
       "eODIIQSSgnAOG3z67t9t5gPnvILZW0PX76MKs1dYA805m9haXu/uQE6Od4R1dWoVZZXpJ04hva2k\n",
       "3Aw6vXknwc1yx+RxxVeA8PHxJD0EE+hGTJZwktVaGhm9dmSQTAmvaepkn7lrvwds8Q7wPpj3J8AA\n",
       "AAbdAAAAykGaJGxD//6plhMCkcATX3zXfgUnevq6Hv+9rXPY40bdxRvB15wJ490MoyY++iJ9Ef2H\n",
       "LpaVNH5tSfCHd1zzTkzpAcXbZEAp9AMx9RPIJ1LRgf0E6myrRE+nVWASrXWjJbq7KIIs1ma7o3Uf\n",
       "7l4vaa572Z6I4SCfPesqeRmkcrrbdx42krIUhYJDuEGjuTotQuNF5lx00y8pxEAusRPhu0RMftxG\n",
       "j+HQfp3oy5esZQuND6U1/DAIILQ5SKdILx0zqQ1d03pHMImWxIAAAABrQZ5CeIZ/AhXvbuJkEouw\n",
       "uuduLglXVjjb8c0YbsaBOJlACQ2tIOAfAt8w3LpGAIkEGr7z84STosI8Kt3xMSRBiOP4VMjeQb3Z\n",
       "xSkU5gFP4+T6gKJn5IP/WC/p5rXZTOYcVjBUlnp38XTLYkEAAAA2AZ5hdEK/A5mxMMjqGZ7TSvdN\n",
       "4mAQ+aCPz/gBOoW6ND4DeZh8tOGAXZ3gmV1H9gn5qvtIfVlBAAAAOAGeY2pCvwAAR3Z9TCj6yLAH\n",
       "9yyT3E/Scc8uq3wAnULdGh75iCoHmjy4WSSXFJ4gdb1TzP+O7V1gAAAAlEGaaEmoQWiZTAh///6p\n",
       "lgAAFuENx5GUpwUcdiQAB0I/RC8evbIZ+TINFS4w/RSOCLSFxbgqPE4f+yQdEg6PIQRW3XGPt4Lm\n",
       "ZUU/+D8fnSa3LhOg2plfuL/DwjdeFczKkgQ2FK3WbB8L2q/Riox36wfvhGc2PixeaVM/2sLWB/v0\n",
       "1LogxCdTtKz1AhlOk+QOtFqmadAAAABAQZ6GRREsM/8AACa6/MvLbGYbNNSzJQquEzfadAiYwAEn\n",
       "taQcA+Bb5huXSMARIINjPlhbgOWcWXcMR76apoPmMwAAADwBnqV0Qr8AAEddnAd9EN1giDpZOHmB\n",
       "K+fp6ngAEnrFHOmpde5wVHXQYxGxYSg13LS+dry9KHCmHqJd+LwAAAA1AZ6nakK/AABHdn1lCWNS\n",
       "rpRAY0HKBcodACQ1ijnTUuvc4KjroMYjYRTxvi/QT4Uk0JoVuVkAAABGQZqsSahBbJlMCH///qmW\n",
       "AAAt/PM1MtWyg+57UFkKd/zBwVye0yaUo7KTgAOaSpjv1gQdMni5Dw//s05D8cp/9gxJUk45gAAA\n",
       "ADZBnspFFSwz/wAAJrr8xy/erntUOghiHC1AB3FtIOAfAt8w3LpGAIkGFHbXjkmyDCI60cVnIX0A\n",
       "AAAwAZ7pdEK/AABHXZwJ0e5PybJwpXAB3GijnTUuvc4KjroMZdQVep17y8fNB5/y8I+ZAAAALgGe\n",
       "62pCvwAAR3Z9ZhuXMezC4uCADuNFHOmpde5wVHXQYy6ffNQDSv3blDHHzcEAAAA7QZrwSahBbJlM\n",
       "CH///qmWAAAs3PM1Hif4MAts1WXnJWCoAvRSvOt2BB0yeLkPD/+eU98T9+XboOdsJ4EAAAA0QZ8O\n",
       "RRUsM/8AACaxryOuv9Qysb58m7cUQAdxbSDgHwLfMNy6RgCJBhR8l5MJsAmCStC8egAAAC4Bny10\n",
       "Qr8AAEddnAmgsnGV7uPhAB3GijnTUuvc4KjroMZdQR2pg/2j3NB5rx6AAAAAKwGfL2pCvwAAJLsV\n",
       "XiBQ5GIQAdxoo501Lr3OCo66DGXUDUpHUsPsZfJzO3EAAAA4QZs0SahBbJlMCH///qmWAAAVxRK9\n",
       "XA+59zf+hIIgDjkqY79YEHTJ4uQ8P/8WG+MT+qxFEsS6xRgAAAAvQZ9SRRUsM/8AABPqdFCm53Z9\n",
       "ggA7i2kHAPgW+Ybl0jAESDCjxGtbt20hxOjmduAAAAArAZ9xdEK/AAAkrvC3RtPnuiADuNFHOmpd\n",
       "e5wVHXQYy6gklJGliGjMOOZ24QAAACsBn3NqQr8AACS7WilVMICzIAEoAdHOmpde5wVHXQYy6gv9\n",
       "TifiCDLruZ25AAAAOEGbeEmoQWyZTAh///6plgAAFd55kGZYIOm7YDsmdQBeiledbsCDpk8XIeH/\n",
       "9qA+AX9ycl82LqE9AAAAMUGflkUVLDP/AAAT6nRQuf8lnAxlCADuLaQcA+Bb5huXSMARIMKN5PGE\n",
       "Nf90EGOPm4AAAAAtAZ+1dEK/AAAkrvEY+pLIAwA5AB3GijnTUuvc4KjroMZdP/GotP2g3Mu5rx6A\n",
       "AAAALAGft2pCvwAAJLtb9PR9IGaJQAdxoo501Lr3OCo66DGXUFko6Ur/8ZeJx83BAAAAOEGbvEmo\n",
       "QWyZTAh///6plgAAFS3IX1uou5X/9CQRAHHJUx36wIOmTxch4f/4sN8Yn9ViKJYl1ijAAAAAL0Gf\n",
       "2kUVLDP/AAAT6nQD05vVbYIAO4tpBwD4FvmG5dIwBEgwo8RrW7dtIcTo5nbgAAAAKwGf+XRCvwAA\n",
       "JK7tSv7qq21AB3GijnTUuvc4KjroMZdQGep5PxBhl+nM7cEAAAArAZ/7akK/AAAku1h69dWw/UoA\n",
       "SIB0c6al17nBUddBjLqAJ1mJ+2OPl3N9vQAAADlBm+BJqEFsmUwIf//+qZYAABVOeZBmZsTnSuoc\n",
       "dkzqAL0UrzrdgQdMni5Dw//tQHwC/uTkvmxdQnkAAAAxQZ4eRRUsM/8AABPqdAczKZl1Fxa9QAkP\n",
       "eSDgHwLfMNy6RgCJBhRoX4yhr/SgiaF49QAAAC0Bnj10Qr8AACSu7Ur6ksjgC6UAJEA6OdNS69zg\n",
       "qOugxl0/8ai0/aDcy7mvHoAAAAAsAZ4/akK/AAAku1jE9H16AghAB3GijnTUuvc4KjroMZdQWSjp\n",
       "Sv/xl4nHzcEAAAA5QZokSahBbJlMCHf//qmWAAAUpRK8Z+u5FPC/3AqMACeEAX2AykHTHX9w8P/8\n",
       "Nv9zh+GleEiN/FGAAAAAMEGeQkUVLDP/AAAT6nPB1QrjCx5yADuLaQcA+Bb5huXSMARIMKPEa1u3\n",
       "bSHE6OZ24QAAACsBnmF0Qr8AACSu6Yd+bz7lwAdxoo501Lr3OCo66DGXUEkpI0sQ0ZhxzO3BAAAA\n",
       "KwGeY2pCvwAAJLtVykbwsdkgA7jRRzpqXXucFR10GMuoDPU8n4gwy/TmduAAAAA7QZpoSahBbJlM\n",
       "CHf//qmWAAAoGkoJTy74vbzvlwFO5EujEAmKWlcYGUg6Y6/uHh//M7/HQ3PwMVxCyyUAAAA0QZ6G\n",
       "RRUsM/8AACK3MrB0mMfwwj1DaZoQAdxbSDgHwLfMNy6RgCJBhRrbKEvV0zQLh8CLgQAAAC0BnqV0\n",
       "Qr8AACSu6cTgywF9JdKAEiAdHOmpde5wVHXQYy6f+NRaftBuZdzXj0AAAAAvAZ6nakK/AAA/jPUq\n",
       "cAPusLrQdI1ACRAOjnTUuvc4KjroMZdPZdQ1v6gUmAFt73EAAAA4QZqpSahBbJlMCHf//qmWAAAo\n",
       "Gs0dnZll82/cDBxANLMSuMEYaH1r9Fg3v/+18/MQ3cm8/cRvX3AAAAA4QZrNSeEKUmUwId/+qZYA\n",
       "ACgaSglPGi7Lt7E/cDBxAJilpXGBlIOmOv7h4f/2vn5iG7k3n7iN6+8AAAAyQZ7rRTRMM/8AACKv\n",
       "ghWJelTe+PWjggA7i2kHAPgW+Ybl0jAESDCjpPx8f4AcEfv149EAAAAtAZ8KdEK/AAA/egcJiErO\n",
       "nKvSgA7jRRzpqXXucFR10GMuoZJybl4Cj9h5rx6BAAAALgGfDGpCvwAAP2iUIgsYqZbtgDkAHcaK\n",
       "OdNS69zgqOugxl0/8ai0/aDcy7mvHoEAAAA9QZsOSahBaJlMCH///qmWAAAoHApqlpb+gBcr/vuz\n",
       "//QtFQCCKEru0zWlFL5qzpIf/4vnxqLkqYW9oLN9wAAAADxBmzJJ4QpSZTAh//6plgAAKFzzIe6g\n",
       "MEPh0CyTz/MrhLmK+gDiSledbsCDpk8XIeH/84t3b3fioP1DKJ4AAAA0QZ9QRTRMM/8AACK2TCpp\n",
       "lK4fJjPT7z9UIAO4tpBwD4FvmG5dIwBEgwo3L8XNuovpksbe9wAAAC8Bn290Qr8AAD+NtOCroM27\n",
       "vZv+TQAdxoo501Lr3OCo66DGXT3ocRp+oaPgXMCLgAAAAC0Bn3FqQr8AAD+AptkY9WFmIoyABKAH\n",
       "RzpqXXucFR10GMun+DUVf6imGUJt73AAAABwQZt2SahBaJlMCH///qmWAAAnPVmdaACXHXoPMzFe\n",
       "F2s530cF+pLTbDDVaBNFe4WiSnENJatpArFpBjJjnLf0lohpjHvocOwBNiyJ4vnDUEKoZ1XEZqP7\n",
       "/Qld2kUkLoeIO/h//iAPmkvj4fyA0++VwQAAADNBn5RFESwz/wAAQ25fv278RTV4+9z1GgA7i2kH\n",
       "APgW+Ybl0jAESDCjPSUGmr90iIb68ekAAAAsAZ+zdEK/AAA+LcGRktWE6w2gA7jRRzpqXXucFR10\n",
       "GMuoDPU8n4gwy/TmduEAAAAtAZ+1akK/AAB8WdgdM+eE5tlYagBIgHRzpqXXucFR10GMunzTT90r\n",
       "9a5Oxx83AAAAR0GbukmoQWyZTAh///6plgAATnq2s3e6UvyIZA6/gAc2ej///9pA21/8QCwYFyfi\n",
       "bMxXdABStMni5DwzNRP5cJmJaf0RAxTAAAAANEGf2EUVLDP/AABDYyQQJSgQZnnmvXdI0ACT95IO\n",
       "AfAt8w3LpGAIkGFHhfju/v9YIpfrx6EAAAAuAZ/3dEK/AAB8OJYP3StJ8ImwpZAAlADo501Lr3OC\n",
       "o66DGXUDRqPP9oTDLOa8egAAAC8Bn/lqQr8AAHmZ5goqysF9zUctIDoAO40Uc6al17nBUddBjLp8\n",
       "0OKE/UScw7mBFwAAADpBm/5JqEFsmUwIf//+qZYAACc9W1HhyUyt307U8jsmdQBeiledbsCDpk8X\n",
       "IeH/9oG9pjdycl82LqE9AAAANEGeHEUVLDP/AABBdfmZ6fCviLNh0IJtJAB3FtIOAfAt8w3LpGAI\n",
       "kGFGzfjdt1G9Mkjb3uAAAAAuAZ47dEK/AAB5eKYJodChcH2WpeEAHcaKOdNS69zgqOugxl1Al6mP\n",
       "u6pXnZbe9wAAACwBnj1qQr8AAHmZ2BFwSwjhKGoASIB0c6al17nBUddBjLp/M1DZ+0K5lHNePQAA\n",
       "AD1BmiJJqEFsmUwIf//+qZYAAEwMUqAjKlv6AFyv+uis//0LRUAXopXnW7Ag6ZPFyHh//Z+e0osv\n",
       "Cq+Jb19wAAAAN0GeQEUVLDP/AABBSP8oGif/FN35MVA8o+FweoASHvJBwD4FvmG5dIwBEgwo1ElD\n",
       "5q/iIhbuPm8AAAAtAZ5/dEK/AAB4Ie2FVn4PPJu9qADuNFHOmpde5wVHXQYy6hDtUI3gFDMOmPm4\n",
       "AAAAMQGeYWpCvwAAeXojSXOhqQdcfhK6nHUAHcaKOdNS69zgqOugxl09d1DPSuaLkJLb3uEAAAA8\n",
       "QZpmSahBbJlMCH///qmWAABMeraPHUDGgfDnekFU0DP5tQBeiledbsCDpk8XIeH/88p74n78cXLY\n",
       "hDvhAAAANEGehEUVLDP/AABBXsW6214WZtj22S4LNAAk/eSDgHwLfMNy6RgCJBhRv340bdo1TLX6\n",
       "8egAAAAvAZ6jdEK/AAB5dQpBSt+JIinGe1nCADuNFHOmpde5wVHXQYy6ghtTH3dXczgtve4AAAAw\n",
       "AZ6lakK/AAB5e5WO4jgOe1r2LxZkACUAOjnTUuvc4KjroMZdPwmsHf1DmMPzb3uBAAAAOEGaqkmo\n",
       "QWyZTAh///6plgAASgxIwCaylnC3/QkEQBxyVMd+sCDpk8XIeH/+LDfGJ/VYiiWJdYowAAAAMEGe\n",
       "yEUVLDP/AAA/eSePMgebQzjkgA7i2kHAPgW+Ybl0jAESDCjxGtbt20hxOjmduQAAACwBnud0Qr8A\n",
       "AHalqBKZ7GpgptoASIB0c6al17nBUddBjLqA31P5+HwMuu5nbgAAACwBnulqQr8AAHa7lZee32PN\n",
       "tqADuNFHOmpde5wVHXQYy6gM9TyfiDDL9OZ24QAAADhBmu5JqEFsmUwIf//+qZYAAEoMPoCaylnC\n",
       "3/QkEQBxyVMd+sCDpk8XIeH/+LDfGJ/VYiiWJdYowQAAADBBnwxFFSwz/wAAP3nSRmQPNoZxyQAd\n",
       "xbSDgHwLfMNy6RgCJBhR4jWt27aQ4nRzO3EAAAAsAZ8rdEK/AAB23RZFnrWHnJtAB3GijnTUuvc4\n",
       "KjroMZdQGep5PxBhl+nM7cEAAAAsAZ8takK/AAB2u5WXnt9jzbagA7jRRzpqXXucFR10GMuoDPU8\n",
       "n4gwy/TmduAAAAA9QZsySahBbJlMCH///qmWAACUGH0I+lS39AC5X/V7LP/9C0VAF6KV51uwIOmT\n",
       "xch4f/2fntKLLwqviW9fcAAAADVBn1BFFSwz/wAAfvOjt+gyxY3KJHWryEeoASHvJBwD4FvmG5dI\n",
       "wBEgwo0r8VL9/NhEWhePQQAAAC4Bn290Qr8AAO3F8Eqy5FePmQrdoAO40Uc6al17nBUddBjLp/b1\n",
       "FZ9/gxl2cfNwAAAAMAGfcWpCvwAA7XcrHcRwHPHrpPJHZQAkQDo501Lr3OCo66DGXT8JrB39Q5jD\n",
       "8297gAAAADxBm3ZJqEFsmUwIf//+qZYAAJT1bUbhxhJpKoW2Xas0Df8tQBeiledbsCDpk8XIeH/8\n",
       "6R74n78cXLYhDvkAAAA0QZ+URRUsM/8AAH701hba8LM2f541ZCzQAJP3kg4B8C3zDcukYAiQYUb9\n",
       "+NG3aNUy1+vHoQAAAC8Bn7N0Qr8AAO26LHr8cZVzva3uYpoAO40Uc6al17nBUddBjLp70OI0/UNH\n",
       "wLmBFwAAACwBn7VqQr8AAO2C3wEZOjHJUKABKAHRzpqXXucFR10GMuoLJR0pX/4y8Tj5uAAAADdB\n",
       "m7pJqEFsmUwId//+qZYAAJATeht/zVHhb7gVGABPCAL7AZSDpjr+4eH/+G3+5w/DSvCRG/ijAAAA\n",
       "MEGf2EUVLDP/AAB8NNYZfl5tDOOSADuLaQcA+Bb5huXSMARIMKPEa1u3bSHE6OZ24QAAACwBn/d0\n",
       "Qr8AAOfqFJdtWwPPcuADuNFHOmpde5wVHXQYy6gklJGliGjMOOZ24AAAACsBn/lqQr8AAOgby7a3\n",
       "st6RqADuNFHOmpde5wVHXQYy6gM9TyfiDDL9OZ24AAAAOkGb/kmoQWyZTAh3//6plgABICb0Nv91\n",
       "9rkco8TfcDBxAJilpXGBlIOmOv7h4f/2vn5iG7k3n7iN6+8AAAAxQZ4cRRUsM/8AAPiW3RQBIweb\n",
       "AGyaABJ+8kHAPgW+Ybl0jAESDCjjPyAf3/kEZv149AAAACwBnjt0Qr8AAOg6LIratYecm0AHcaKO\n",
       "dNS69zgqOugxl1AZ6nk/EGGX6cztwQAAAC0Bnj1qQr8AAdB/IljeFCrwoCygBIgHRzpqXXucFR10\n",
       "GMuoF/Ujn3/gy1Tj5uEAAAA4QZo/SahBbJlMCH///qmWAAEgTi9FNaZ1HYn/oUGIBMVCV3aZrSil\n",
       "81Z0kP/7Yp8xjdydF8+LqE8AAAA4QZpDSeEKUmUwIf/+qZYAASAygiQFibbO1o0OOyZ1AF6KV51u\n",
       "wIOmTxch4f/2oD4Bf3JyXzYuoT0AAAAxQZ5hRTRMM/8AAPhprDKvIqczgklcgA7i2kHAPgW+Ybl0\n",
       "jAESDCjzLyPTYAcEhaF49AAAAC4BnoB0Qr8AAc/6S1zltMTDRUHyQAdxoo501Lr3OCo66DGXUC/q\n",
       "Rz7/wZapx83BAAAAKwGegmpCvwAB0DeXU8ey3pGoAO40Uc6al17nBUddBjLqAz1PJ+IMMv05nbkA\n",
       "AAA4QZqHSahBaJlMCH///qmWAAEgNIRtayDrwt/0JBEAcclTHfrAg6ZPFyHh//iw3xif1WIoliXW\n",
       "KMAAAAAvQZ6lRREsM/8AAPiEZurRddccckAHcW0g4B8C3zDcukYAiQYUeI1rdu2kOJ0cztwAAAAr\n",
       "AZ7EdEK/AAHQsaXl3o/zk2gA7jRRzpqXXucFR10GMuoDPU8n4gwy/TmduQAAACsBnsZqQr8AAdA1\n",
       "kanj2W9I1AB3GijnTUuvc4KjroMZdQGep5PxBhl+nM7cAAAAOUGay0moQWyZTAh///6plgACQGkI\n",
       "kBWq6ZmjsT/0KDEAcclTHfrAg6ZPFyHh//bFPmMbuTovnxdQnwAAADFBnulFFSwz/wAB8S28WFU0\n",
       "8wCR40ACT95IOAfAt8w3LpGAIkGFHGfkA/v/IIzfrx6AAAAAKwGfCHRCvwAB0LMpU70f5ybQAdxo\n",
       "o501Lr3OCo66DGXUBnqeT8QYZfpzO3EAAAAtAZ8KakK/AAOgayL0oR0445KhQAJQA6OdNS69zgqO\n",
       "ugxl1BZKOlK//GXicfNxAAAAOEGbD0moQWyZTAh///6plgACQJqSJM3mkU9Ghx2TOoAvRSvOt2BB\n",
       "0yeLkPD/+1AfAL+5OS+bF1CfAAAAMUGfLUUVLDP/AAHxCM3C4O2VpEDJNAAk/eSDgHwLfMNy6RgC\n",
       "JBhRzH5DP8ACCOX68ekAAAAtAZ9MdEK/AAOhZlItyPAllkYZAAlADo501Lr3OCo66DGXUA/qRz7/\n",
       "gZYpx83AAAAALAGfTmpCvwADoG8t+dsqvAaUoAEoAdHOmpde5wVHXQYy6gslHSlf/jLxOPm4AAAA\n",
       "N0GbU0moQWyZTAh///6plgACQJqSJNT5bc/9CQRAHHJUx36wIOmTxch4f/4sN8Yn9ViKJYl1ijEA\n",
       "AAAvQZ9xRRUsM/8AAfEIzdOxddccckAHcW0g4B8C3zDcukYAiQYUeI1rdu2kOJ0cztwAAAArAZ+Q\n",
       "dEK/AAOhZlKNvR/nJtAB3GijnTUuvc4KjroMZdQGep5PxBhl+nM7cAAAACsBn5JqQr8AA6BvLo3H\n",
       "st6RqADuNFHOmpde5wVHXQYy6gM9TyfiDDL9OZ25AAAAOkGbl0moQWyZTAh///6plgAEgNDZICtX\n",
       "tbnZR4m/9CgxAHHJUx36wIOmTxch4f/2xT5jG7k6L58XUJ8AAAAwQZ+1RRUsM/8AA+JbeNEfueYB\n",
       "I8aABJ+8kHAPgW+Ybl0jAESDCjjPyAf3/kEZv149AAAAKwGf1HRCvwADn/KRo29P+e5cAHcaKOdN\n",
       "S69zgqOugxl1BJKSNLENGYccztwAAAAtAZ/WakK/AAdA3lvZJCnRjkqFAAlADo501Lr3OCo66DGX\n",
       "UFko6Ur/8ZeJx83AAAAAOUGb20moQWyZTAh///6plgAEgMlskBYm2zsujQ47JnUAXopXnW7Ag6ZP\n",
       "FyHh//agPgF/cnJfNi6hPQAAADJBn/lFFSwz/wAD4ahwykEJ9zztgyTQAJP3kg4B8C3zDcukYAiQ\n",
       "YUcx+Qz/AAgjl+vHoAAAAC0Bnhh0Qr8ABz/pLcvJCmAbJh1AB3GijnTUuvc4KjroMZdQe2pcrwCh\n",
       "mHTHzcAAAAAsAZ4aakK/AAdB/IndQpzqhl8oASIB0c6al17nBUddBjLqAf1I59/wMsU4+bkAAAA4\n",
       "QZofSahBbJlMCH///qmWAASAyWyQFj114W/6EgiAOOSpjv1gQdMni5Dw//xYb4xP6rEUSxLrFGAA\n",
       "AAAwQZ49RRUsM/8AA+GocMtu3m0M45IAO4tpBwD4FvmG5dIwBEgwo8RrW7dtIcTo5nbhAAAAKwGe\n",
       "XHRCvwAHQsaXcN6P85NoAO40Uc6al17nBUddBjLqAz1PJ+IMMv05nbkAAAArAZ5eakK/AAdB/IqA\n",
       "44TBJtQAkQDo501Lr3OCo66DGXT+zrNT9scfJub7egAAADpBmkNJqEFsmUwIf//+qZYACQGS2SAr\n",
       "V6EqiYnYn/oUGIA45KmO/WBB0yeLkPD/+2KfMY3cnRfPi6hPAAAAMUGeYUUVLDP/AAfEtujAiPln\n",
       "mwBsmgASfvJBwD4FvmG5dIwBEgwo4z8gH9/5BGb9ePQAAAArAZ6AdEK/AAdCxpdw3o/zk2gA7jRR\n",
       "zpqXXucFR10GMuoDPU8n4gwy/TmduQAAACwBnoJqQr8ADoM6805yzggGXygBIgHRzpqXXucFR10G\n",
       "MuoB/Ujn3/AyxTj5uQAAAEFBmodJqEFsmUwIf//+qZYBzEggAqqeYQ1llxrbQo/vcDq9Vvr6MfcM\n",
       "sKV51uwIOmTxch4f/zYD1o73pxivoWWSgAAAADJBnqVFFSwz/wAHw1DhlIITyzztgyTQAJP3kg4B\n",
       "8C3zDcukYAiQYUcx+Qz/AAgjl+vHoAAAAC4BnsR0Qr8ADoOaqJmMd6mY3C2agA7jRRzpqXXucFR1\n",
       "0GMuoF/Ujn3/gy1Tj5uBAAAALQGexmpCvwAOgby3skep0Y5KhQAJQA6OdNS69zgqOugxl1BZKOlK\n",
       "//GXicfNwAAAAD5BmstJqEFsmUwIf//+qZYACUGHMo9qj52Rc6cNn+xbJzb/6E/2Fg6Eru0ikhdD\n",
       "xB38P/8Lz4cpqrYRlh98rwAAADJBnulFFSwz/wAH7zvjesIpFGebLI96gBIe8kHAPgW+Ybl0jAES\n",
       "DCjbTxrDX/FBI0Lx6AAAAC4Bnwh0Qr8ADtuap6/HgMBt8oCygBIgHRzpqXXucFR10GMuoF/Ujn3/\n",
       "gy1Tj5uBAAAALgGfCmpCvwAO13rR3EeAwLecLOqADuNFHOmpde5wVHXQYy6f+NRaftBuZdzXj0EA\n",
       "AAA5QZsPSahBbJlMCH///qmWAAlBhzITIvmDoJ0aHHZM6gC9FK863YEHTJ4uQ8P/7UB8Av7k5L5s\n",
       "XUJ5AAAAMUGfLUUVLDP/AAfvO/C+OJtTuLgXjkAHcW0g4B8C3zDcukYAiQYUeZeR6bADgkLQvHsA\n",
       "AAAuAZ9MdEK/AA7bmqevx4DAbfKAsoASIB0c6al17nBUddBjLqBf1I59/4MtU4+bgAAAACwBn05q\n",
       "Qr8ADtd60uekn2PNtqADuNFHOmpde5wVHXQYy6gM9TyfiDDL9OZ24AAAADlBm1NJqEFsmUwIf//+\n",
       "qZYAEoMOZCatV0yzjbE/9CgxAHHJUx36wIOmTxch4f/2xT5jG7k6L58XUJ8AAAAyQZ9xRRUsM/8A\n",
       "D9534ZSCE7kedsGSaABJ+8kHAPgW+Ybl0jAESDCjmPyGf4AEEcv149AAAAAtAZ+QdEK/AB24vzqq\n",
       "VuRG6UA1QAdxoo501Lr3OCo66DGXUA/qRz7/gZYpx83AAAAALgGfkmpCvwAdrvWlsNAnkd+sjrIA\n",
       "EoAdHOmpde5wVHXQYy6gX9SOff+DLVOPm4EAAABRQZuXSahBbJlMCHf//qmWABMeV/gh3qAOOF3b\n",
       "foTSPu7OnBt6sLS1W5galLO/sX05eWNg0nJLZ1ZVJgzz+/+PgBbpY1ppmPKth4dHUdmddsJ5AAAA\n",
       "NEGftUUVLDP/ABBbkV7ojiuI7ctKtxZDfUAJD3kg4B8C3zDcukYAiQYUaV+K1+/owibQvHsAAAAu\n",
       "AZ/UdEK/AB2tTFLUUfOuexZRkoAO40Uc6al17nBUddBjLqGScm5eAo/Yea8egAAAAC8Bn9ZqQr8A\n",
       "HmZhYGAQKNImts10LIAEoAdHOmpde5wVHXQYy6fdNYg/qHIYVm3vcAAAADlBm9tJqEFsmUwId//+\n",
       "qZYAEwUC0vbKL3gbkX+gtK6cACeEAX2AykHTHX9w8P/7TR7SG7k2n0xFm+8AAAA1QZ/5RRUsM/8A\n",
       "EFezYLt6P/nVYdltBSRIUAJD3kg4B8C3zDcukYAiQYUdB+Rz/IOgjt/eHIAAAAAwAZ4YdEK/AB5R\n",
       "8EUeISA6AUa0fe5ogA7jRRzpqXXucFR10GMuoJpRzpYfIy7TmduAAAAAMAGeGmpCvwAeXpDSI/kg\n",
       "USnimVRnsgASgB0c6al17nBUddBjLqA71HZ+Hgxlu5nbgQAAADdBmh9JqEFsmUwIb//+p4QAJaO+\n",
       "Dm7HA1ey/uBa4AGxkZytjVIOmOsth4f/4Xn6qG6Y3obiVGKMAAAAMUGePUUVLDP/ABBXs2DLAunb\n",
       "rMqRr1ACQ95IOAfAt8w3LpGAIkGFGwnjKGv9KCJoXj0AAAAtAZ5cdEK/AB5X4IFG3JNuPzhe6QAd\n",
       "xoo501Lr3OCo66DGXUHko9UsAMZgJx83AAAALQGeXmpCvwAeXvWlwx826bWRU1ACRAOjnTUuvc4K\n",
       "jroMZdQDOsOP2hXMo5rx6AAAADdBmkBJqEFsmUwId//+qZYAEwKX6u4aLrwt9wKjAA2MxK4wRhof\n",
       "Wv0WDe//8Nv9zh+GleEiN/FHAAAANUGaYUnhClJlMCHf/qmWABMCuLcwJ/wt9wKjAA2MxK4wRhof\n",
       "Wv0WDe//8Nv9zh+GleEiN/FGAAAAOkGahUnhDomUwId//qmWACcFCbFr7rdMPP1yyU2J+4GDmATw\n",
       "gC+wGUg6Y6/uHh//PW+e778zFPX2wnkAAAA2QZ6jRRE8M/8AIa+F4W2vCzNmkOp0I6Y5X1ACQ95I\n",
       "OAfAt8w3LpGAIkGFGgsoU9XOtArHwIuBAAAAMAGewnRCvwA+MSlrTeO/hLsx+mW1KVwAdxoo501L\n",
       "r3OCo66DGXUBnqPv9NXjMC297gAAADEBnsRqQr8APh0ho7iOA539XkmRpS8agBIgHRzpqXXucFR1\n",
       "0GMunzy4fT9MLzAuYEXAAAAAOEGaxkmoQWiZTAh3//6plgAnBXFt0ZjQm3Nv3AwcQDSzErjBGGh9\n",
       "a/RYN7//tfPzEN3JvP3Eb19xAAAAOEGa6knhClJlMCHf/qmWACcKBaT07D2z3IWyxSJaOIBMUtK4\n",
       "wMpB0x1/cPD/+00e0hu5Np9MRZvuAAAANEGfCEU0TDP/ACGvhfl78oBl1RELzhO0kAHcW0g4B8C3\n",
       "zDcukYAiQYUbieLW3TH0xyNve4EAAAAwAZ8ndEK/AD4amKWopBMIlDQB+VjygBIgHRzpqXXucFR1\n",
       "0GMuoGXWk0rbjmfFt73AAAAALQGfKWpCvwA+KvLgHptcSbmuYNQAkQDo501Lr3OCo66DGXT5ZqDj\n",
       "9RdzBuYEXQAAADhBmytJqEFomUwIf//+qZYAJwaHIcY8K1wt/0JBEAmKhK7tM1pRS+as6SH/+LDf\n",
       "GJ/VYiiWJdYowQAAADlBm09J4QpSZTAh//6plgAoG4m1y8Ym//cyQtlb/+hHtgeaSpjv1gQdMni5\n",
       "Dw//s/PaSmXbh48Fm+8AAAA0QZ9tRTRMM/8AIq9m2SxeN0NJ016u9Ep+oASHvJBwD4FvmG5dIwBE\n",
       "gwozp8U3q2ToFY+BFwAAAC8Bn4x0Qr8AP42k4KrMZj0jToVCToAO40Uc6al17nBUddBjLp8s1h0u\n",
       "2bhjube9wAAAAC8Bn45qQr8AP4rynQS5jlAEQsV/A1ACRAOjnTUuvc4KjroMZdPPdQv0rXM5Dxt7\n",
       "3AAAADhBm5NJqEFomUwIf//+qZYAKBuP8cwyAj3K//oSCIA45KmO/WBB0yeLkPD//FhvjE/qsRRL\n",
       "EusUYQAAADJBn7FFESwz/wAir4X5gfrttXBBg3PIQAdxbSDgHwLfMNy6RgCJBhRr54oX7qCgYxt7\n",
       "3AAAAC4Bn9B0Qr8AP1+oDG2HMcSArl56gA7jRRzpqXXucFR10GMuoHbUpf6k8GZFt73AAAAALQGf\n",
       "0mpCvwA/fRW/9q39bj9dCagBIgHRzpqXXucFR10GMun3nWAH6i7mDcwIuQAAADtBm9dJqEFsmUwI\n",
       "f//+qZYAKWX7JfhzpLjV5iGn2J/6FBiAOOSpjv1gQdMni5Dw//tinzGN3J0Xz4uoTwAAADZBn/VF\n",
       "FSwz/wAjpjktKjokG7o5toiIctQNCADuLaQcA+Bb5huXSMARIMKNe/F/bpk6ZBG3vcEAAAAuAZ4U\n",
       "dEK/AEF8kzrhZ/nEPF121kACUAOjnTUuvc4KjroMZdP29xQf6ZyGTJt73AAAAC8BnhZqQr8AQXNg\n",
       "2ZGpBcAIhYr+BqAEiAdHOmpde5wVHXQYy6ee6hfpWuZyHjb3uAAAADlBmhtJqEFsmUwIf//+qZYA\n",
       "KTuJuzW80oMkLHY47JnUAXopXnW7Ag6ZPFyHh//agPgF/cnJfNi6hPEAAAAzQZ45RRUsM/8AI7ZJ\n",
       "WKB6nicaGHmoZ1ACQ95IOAfAt8w3LpGAIkGFGlsoF9WxlAvHwIuAAAAALgGeWHRCvwBBd1FdeWf5\n",
       "xDxddtZAAlADo501Lr3OCo66DGXT9vcUH+mchkybe9wAAAAtAZ5aakK/AEFf997at/W4/XQmoASI\n",
       "B0c6al17nBUddBjLp951gB+ou5g3MCLhAAAAPUGaX0moQWyZTAh///6plgAqW4/3Iuv3GXniPwoH\n",
       "ym3/0KDMAc0lTHfrAg6ZPFyHh//hefDotVbUM0PvlcAAAAAzQZ59RRUsM/8AJLcilZh4HicaGHmo\n",
       "Z1ACQ95IOAfAt8w3LpGAIkGFGlsoF9WxlAvHwIuBAAAALQGenHRCvwBBd1KXzrNm+8z0shAB3Gij\n",
       "nTUuvc4KjroMZdQLGo4/1JMMfTb3uQAAAC8Bnp5qQr8AQ168waakDe0jdLnTzUAJEA6OdNS69zgq\n",
       "Ougxl09OHD6fpk+YhzAi4AAAADtBmoNJqEFsmUwIf//+qZYAVLcf7m5quak2CDBu5pHZSagC9FK8\n",
       "63YEHTJ4uQ8P/58N6Iv6OcXQc7YTwQAAADRBnqFFFSwz/wBJbmAX/kwawOfpG9jHRfUAJD3kg4B8\n",
       "C3zDcukYAiQYUaU+HD1a/0B8fAi4AAAALgGewHRCvwBDWiaY7jBW+vJkKXLgA7jRRzpqXXucFR10\n",
       "GMun/vUpf6aXGelt73EAAAAvAZ7CakK/AIa9fKat7C7/r13lOxyADuNFHOmpde5wVHXQYy6e2Lh9\n",
       "P0yfMQ5gRcEAAABKQZrHSahBbJlMCH///qmWAFd4W/AdqAEtXYDyyX+zD+4UNv+9o8UQF+RXsIZR\n",
       "g2H4TqMLhLx3SlWt2xNdGS6wBHsR3vy5WWRCHfAAAAA1QZ7lRRUsM/8AS25MAaMkjOmrOuBoWqTC\n",
       "vUAJD3kg4B8C3zDcukYAiQYUZhygVNa2UQX23vcAAAAvAZ8EdEK/AIbupOuq6BV6Rp0KhJ0AHcaK\n",
       "OdNS69zgqOugxl0+Waw6XbNwx3Nve4EAAAAiAZ8GakK/AIrmwbMiyUFmOqqFPRf4yyDOyr7jxmPN\n",
       "kjp73AAAADtBmwtJqEFsmUwIf//+qZYAVwEWqlo8CccQghRg2KVmMDgAOaSpjv1gQdMni5Dw//nl\n",
       "PfE/fl26DnbCeQAAADVBnylFFSwz/wBLXsd0qgVYO/OyJoYqSdXIAO4tpBwD4FvmG5dIwBEgwo6S\n",
       "8WFq2NWGg+BFwAAAACABn0h0Qr8AirRNMaZJ8F9LiFRmo2wwVC57RIfH1A97gQAAAC8Bn0pqQr8A\n",
       "ir18pq3p7v+vXeU7HIAO40Uc6al17nBUddBjLp7YuH0/TJ8xDmBFwQAAAD5Bm09JqEFsmUwIf//+\n",
       "qZYAV3nmamyJlMX5GDD2V/7MD6r2BdJqAL0UrzrdgQdMni5Dw//ssvIosu2nxoLN9wAAADVBn21F\n",
       "FSwz/wBLbJLQDC9ibC2UFFzUdPVxAB3FtIOAfAt8w3LpGAIkGFGkPiG9WgMwqHsq2QAAAC8Bn4x0\n",
       "Qr8Aiu6k66rmFXpGnQqEnQAdxoo501Lr3OCo66DGXT5ZrDpds3DHc297gAAAADEBn45qQr8AiubC\n",
       "qZMq38y0dgtvvJWNQAkQDo501Lr3OCo66DGXTwr05tuzeOQItR0wAAAAOEGbk0moQWyZTAh///6p\n",
       "lgAsm49am20ZkhSLHHZM6gC9FK863YEHTJ4uQ8P/7UB8Av7k5L5sXUJ5AAAAM0GfsUUVLDP/ACav\n",
       "gtpbaHMO17B5qPNAAk/eSDgHwLfMNy6RgCJBhRuJ4tbdMfTHI297gAAAAC8Bn9B0Qr8AR3dRH3dC\n",
       "VrAh7jlHpIAO40Uc6al17nBUddBjLp8s1h0u2bhjube9wAAAAC0Bn9JqQr8AR16+fe1b+tx+uhNQ\n",
       "AkQDo501Lr3OCo66DGXT7zrAD9RdzBuYEXEAAABUQZvXSahBbJlMCH///qmWAC38Lb+IewQAmZQl\n",
       "fb+YnP3r9iA2FS9U55Y6O2px5lvAW84E21TrmIX9QzKeWV5mw59qw2uqgUgfuxkfLHfLw/fBos33\n",
       "AAAANEGf9UUVLDP/ACfQMBqFePI5XWvYOJjRqAEh7yQcA+Bb5huXSMARIMKMnJPemtf6H/7b3uEA\n",
       "AAAtAZ4UdEK/AEdaJz7yjBb8VJdOoAO40Uc6al17nBUddBjLqCZ1oh+pTBlhbe9wAAAALwGeFmpC\n",
       "vwBJc2DZkagFwAiFiv4GoASIB0c6al17nBUddBjLp57qF+la5nIeNve4AAAAOkGaG0moQWyZTAh/\n",
       "//6plgAtwItkofi+YOghf6HHZM6gC9FK863YEHTJ4uQ8P/7UB8Av7k5L5sXUJ4EAAAA0QZ45RRUs\n",
       "M/8AJ8fkq7gi2h1tERBxKPNAAk/eSDgHwLfMNy6RgCJBhRuJ4tbdMfTHI297gAAAAC4Bnlh0Qr8A\n",
       "SVolM7iANACHxU771AB3GijnTUuvc4KjroMZdQHOs8P01WMr5gRcAAAALQGeWmpCvwBJXr59bVv6\n",
       "3H66E1ACRAOjnTUuvc4KjroMZdPvOsAP1F3MG5gRcQAAAD5Bml9JqEFsmUwIf//+qZYALtuJtkcj\n",
       "mfS3Oq//YsT+t//Qn+wDDKEru0ikhdDxB38P/8Lz4cpqrYRlh98rgAAAADNBnn1FFSwz/wAo8Cx3\n",
       "FjLcXCkjeuJQzqAEh7yQcA+Bb5huXSMARIMKNLZQL6tjKBePgRcAAAAtAZ6cdEK/AEl3UpaOs2b7\n",
       "zPSyEAHcaKOdNS69zgqOugxl1Asajj/Ukwx9Nve5AAAALgGenmpCvwBLdjwfuLraderFfwNQAkQD\n",
       "o501Lr3OCo66DGXTz3UL9K1zOQ8be9wAAAA5QZqDSahBbJlMCHf//qmWAC7aQTbSXmf+YhdbFIlo\n",
       "4gExS0rjAykHTHX9w8P/7TR7SG7k2n0xFm+5AAAANUGeoUUVLDP/ACjnviur8GXsI62iIg4lHmgA\n",
       "SfvJBwD4FvmG5dIwBEgwo3E8WtumPpjkbe9wAAAALwGewHRCvwBLd1Efdz+bkCHuOUekgA7jRRzp\n",
       "qXXucFR10GMunyzWHS7ZuGO5t73BAAAALgGewmpCvwBLX/WV3+uHSNzoUAygBIgHRzpqXXucFR10\n",
       "GMunzTWHP6Y7GOZt73EAAAA4QZrHSahBbJlMCHf//qmWAC7aQTA9cwD+7c/cCowAJ4QBfYDKQdMd\n",
       "f3Dw//w2/3OH4aV4SI38UYAAAAAyQZ7lRRUsM/8AKOe+Dl0jdtq4IMG55CADuLaQcA+Bb5huXSMA\n",
       "RIMKNfPFC/dQUDGNve4AAAAtAZ8EdEK/AEtaJz5yjBb8VJdOoAO40Uc6al17nBUddBjLqCZ1oh+p\n",
       "TBlhbe9xAAAALgGfBmpCvwBLXtGUvdquzgY6uhNQAkQDo501Lr3OCo66DGXT7zrAD9RdzBuYEXAA\n",
       "AAA8QZsISahBbJlMCH///qmWADARqnEMhppTBL5FKrZ//oWioBBFCV3aZrSil81Z0kP/7Pz2lFl4\n",
       "VXxLevuBAAAAckGbLEnhClJlMCH//qmWADBbP/hIzkAITtObCe4EGneajuoop7lLr7sfYIh7L4cn\n",
       "X8ICIisw7u2Q1F4ybQv0npjEglZW8h87QMWaYEbFQur+xvD336lA3UvPveNnjcoaeFBOZH5D4oqn\n",
       "1Rrx62onp6wowAAAADdBn0pFNEwz/wAqDxlutIpMl5MgNLs147u+xjQAdxbSDgHwLfMNy6RgCJBh\n",
       "Rfhq1Z9rMQ/Pbe9xAAAAIQGfaXRCvwBNeG9zfjjKug0hKLcQAs5sOcgc0LPed4e9wQAAACIBn2tq\n",
       "Qr8ATXNg2ZFkjmqJZWOIfflKhF1sOceJZHiC8Pe5AAAAOUGbcEmoQWiZTAh///6plgAwXF7oGQNz\n",
       "wWkLHY47JnUAXopXnW7Ag6ZPFyHh//agPgF/cnJfNi6hPQAAADVBn45FESwz/wAqDxluyk8qzq5i\n",
       "a9g5WOmoASHvJBwD4FvmG5dIwBEgwoxjk/Ka182ESLe9wAAAADABn610Qr8ATVrYlFFIFNooaAPy\n",
       "seUAJEA6OdNS69zgqOugxl1Ay60mlbccz4tve4AAAAAuAZ+vakK/AE1lY0NLqjaRuXygGUAJEA6O\n",
       "dNS69zgqOugxl0+aaw5/THYxzNve4QAAAD5Bm7RJqEFsmUwIf//+qZYAGKjButHITnIRa8ZfRM8n\n",
       "9jjss2AA5pKmO/WBB0yeLkPD/+gAexJ+/OS5fEId8AAAADRBn9JFFSwz/wAVmBJIEPlPDXS3XsPg\n",
       "S5JAB3FtIOAfAt8w3LpGAIkGFGvfi/t0ydMgjb3uAAAALgGf8XRCvwAmrWxKbmosW/EgmVUACUAO\n",
       "jnTUuvc4KjroMZdQTOtEP1KYMsLb3uEAAAAxAZ/zakK/ACfUtNJqFsQUccWbXGlzxGoASIB0c6al\n",
       "17nBUddBjLp6LOGY/RT8v3llWwAAAEdBm/hJqEFsmUwIf//+qZYIBpiQdEr0PLK3GTLVfTE+UgS2\n",
       "0tXnZv/AgHyk7/0HscxKV51uwIOmTxch4f/yDnkoSytVnY4axQAAADRBnhZFFSwz/wAVk98HHgjP\n",
       "LxVI3vLT5QgA7i2kHAPgW+Ybl0jAESDCjcTxa26Y+mORt73AAAAAMAGeNXRCvwAnyGxILL359fIZ\n",
       "/syjpQAJQA6OdNS69zgqOugxl0/X3F1/poXJ1zAi4AAAAC4BnjdqQr8AJ9T33u2mds4FormDUAJE\n",
       "A6OdNS69zgqOugxl0+Wag4/UXcwbmBFxAAAANEGaOUmoQWyZTAhX//44QALnzGDlqAjB8zUAJEA6\n",
       "OdNS69zgqOugxl1kpbuv/jexaDBAxTAAAAnNZYiEABL//veEfgU3AQPf6of/8kH/hr/bf7SeOa47\n",
       "tDiuyDdlqngAAAMAAAMAe6+PD/7H9FGGsxAHyfIBw5zvqpT0Y+4uWKxcHiXEPReyCpn3ULSENp6U\n",
       "J2NBsvqfIntx43juu052lG6S6vZafVqD19E8jwzZYeMjB+PJPb1aPymnDpopWCP4ZekYI0gRlr0h\n",
       "L5CV188537D7UBHSSApWF4o8uCpn6mRquJp3g94Pdj3DEu8eeYB3hU+wH3ZQk3CdN9l+c8QrOgqm\n",
       "Ts2zrFgp6HwP1wDLkjqY/iX+FKlR+0/h64KS3V5D2XyOYP1CAXRCcFEKAlKbOZq8C4z7zeVj7QID\n",
       "HvdwAlDJiXqb+Y8Fox0w80QPlo4bJrTRKoyNSJWTeMLVj8PU7hC5NqAKw9/dbmNesGkgS7ddE/ad\n",
       "o6gb3dHN1CCGlARIdAKVvgp13M2au64vyeCpK6647g/SRgWJjk/ngCePgZ/0qQBYMYXkZaIEMe+o\n",
       "jauRgWt1nlHJXKm/yZXAfVBsXQnxmo3IbTgy6sMrDocZO24QLODpjTAUKYNCwUrxW+w7hpmadfN9\n",
       "LUs/cLqzbssJZMBqD2Bcf+MRCSMQZuLQDpibOzgM4MKvXctE4g8Qjzvpdyu/wck28xUh3+e1WO80\n",
       "PxZ5m5RMH2vaxgMczKaUZVCa7Cy0A0sAEGH3LWlVguq+cBmYjl5XucZSULHPniVxYZBVx2OaeiXn\n",
       "G5P9A2hMmU1XBPpqxC5JMx+2l4koJIqqvpP7s5IA1cJs4kxZ3eLiycPQbSmpJ+Q0KLTqPv13YMBA\n",
       "0OdP5kVC1Mb/Ro0Dwbd+c6fszG9Z6dYmHLCb8yZADBvMDTm+Fh95lwBLTMHrWNul4Qid4ug6KKBp\n",
       "bjeQaEASer2jZUC79kCWsmpu0QeqlUdMNLxOb1ZjnrF8g9rcXjaCw/ibWeI4XWoCbOtqorBGsuEq\n",
       "ye3F8j4ZwLMNS5hKYuaWaOFtHdUydtabFnpxkDc3y2pgO9rLZH6G/liXMGhKJBHAMlKAWhlKaWhY\n",
       "Im4i0BoYNz0tKE4QCM2Vubgj3ismrN/ifMtaLhLXT+SLE30AANsqDO3zA0s3KZCLDQlguZa3TExi\n",
       "UAwHBSKwAWSPTEST/7Pb7pt7txGUIHDZnijdXhGs+peSRLQ2y5dDr/1gxEPH9WGWwkD0/Buw+0aN\n",
       "WpluGtsIvKTK+dxQX6gIqVp21eCaLfM5kweSAUz1yVk+IA9FCIeRTjUSOSAEmY3N7PFSilAhD7jk\n",
       "5328qpx0Qno7wGGBBP7/W9hpX3qHwgWmNIMlcMxn/xAG4kS9bOTPVAiC9NHnMJjS8i2zBNoKFMB+\n",
       "8T+pHMniESSW+y882NffKi69DzvkWt5n221FV/sHk66HY71qPY3J4r/IVlcfVTslXwwktMxIxPLJ\n",
       "eDHECPjyMr5WyyPyIkRFk8j633OF9IctLjY1yJaqi3Z4cEXtCTWZhnoysuq5CutZ1WDOOVWfikJN\n",
       "I8wklcMRzDnPkVOL+SGSWleNYayp5piNUFzo+OP393eX0EeUrJ+X+D9Ps+EN0RjRMT1Ui1HPPO3z\n",
       "31PuuBnXO78/wWxHJ81VH9ashqTQyEuOV/Jbm/Bm4Akn8bEjkfuO/wL8s/8U+uo9xXh+ubTjkm1f\n",
       "NrYBejK9upyFE/D4gOjgqeOeQ8f//8KF2vCW1r+30ayedepxDTgUIxtITAEo+VhPj9rq+Et+F0u6\n",
       "KJpXJA/P8uQqncVl2S5wy+vqeHtzvZTdyLlr9wX/lRtUisG7+5v924Q+WuAN4CknG0Wq1TSHo4ze\n",
       "BwxoYuyAFog4YInNYK6H0TGc/8Rt3WdSEY1pAu5XqavA8a8A4DEZIqpMPcwkLmTrXxX25XpSXDco\n",
       "V5DzVOL6rl7wxOOKDlQAFRW66h1ZSr/R5Id2VXfJcVL2ezygMuATUf37098VELLQ6QDQAM7dnRCU\n",
       "89N0mkRLZiJFJNdihsfeypy+pQSzqCo/C+VsCAU+DFZmfw0rPwdltqWRGIzvV3olcCv7YCLgz+Py\n",
       "iG0XnokhHvdZp3p/LJffnP2N9DzGHU6mCdhe20GL62qgIwKOEQnDS5e868U1YC1ZyD2SFqaa83GS\n",
       "LEArHs6c4Ck4oPREma492kU3ieewqMVtDEcsJz+KyiRIgppbejiYUxkxwn3ZNNvtTKfNmafQ50FM\n",
       "a457bpUlV5vr2fnOATZ81AKWJItudapzt4U5G2Oln8trgvvpEnF3cWZlrSyaLUi75O9hBgSFXBDu\n",
       "26hlswjfEQLMWZlrSyaLYy1B2PHbie8kLicXh3mqvo0Au87jOjI5kjhd6CrTxB2p07//3NNHfri9\n",
       "AHqOHJgpQtSG5ty95lR1Tr4+s8v0UWBumMO7rc/FMz2r7xIbFsvbo1YN7U8Z88fne8hywPyorGVE\n",
       "LYXokLTUY8knK10MIihff2YDB87DukVwY4oZnEJ+5iQkZ60sZETQphjMgv5/ndTQCj4G3pGWFyb/\n",
       "XzkCVSpP42mPFPyyP5heVvdmakgJNMmHB/+JLRIOlSJaG668SMIq+dZdZe07fgXM6hd+sGLwfPoA\n",
       "ydVjFLJ1iSUQo+eFRhQa4+hbUZFXjKxzrnxcdTMfwdITI4FW9KLLAqX+xn7Q7k75HB2u6qz/MD+n\n",
       "cOLoHn67ETnch+fobAevx152ReouaKb8Aay1dk2zqJPGd4aomYVql7PQDFzAGUKWpSU7DsjoND9J\n",
       "SCxIPJivVb+/RCMfbGDIm0qS+f3sYuca8Bu+GukPFlIfTnavUP7tPyVJECl6FPEPkaujywBkhMW9\n",
       "fyy9u80DyRWN8lT1LJmiHn490lxBA0R/FtmZR3S7OUPVlFRvw29H7EzjPGw6ZRGpI7Q0tYUt9mDB\n",
       "wzOu6fBNEMa5TdIWASy9K0WlazL1wsUQo9agK6d93QOFxB7ht48E9gsb2XupNt7zuysyep21LydQ\n",
       "wNP/GuX0HOdteVbSICaz71/8k8f2fpJKMgPlJ1RgkcGdEVZksiNnZqex8hYYJIyN/1KueA9GLWV6\n",
       "1Vc6kmStCVVNSSlSDGQL08JfuhLT9I1Ck3pQkkW1e5yU5qFXJC0W1NSvglzNExbZg85nXmmx0dZa\n",
       "5qd+5+o4Haw/kf+os/Ds7C0vd/cgcPMqFPVy5lrFZGw4yuu3PIlAC+uklaLs4IJGCSz2FuWZNBxs\n",
       "zoCprqlf6XXqQ67pGF2kPE0woUs8TQkO0bm1YaEEkoJwDht8+u7fbeYD6kjC2VtD1++jCrNXWKvN\n",
       "OZvYWl7v7kBMVMA+j6Vw+ylcZgQknHnyuB+QCgpNlbhgCgk1HFV4Dw8fJJvQQT6EZMlnCS264V67\n",
       "JzZUPP5AjrU3Brctd+DtniHeB9Me5PgAAAMBbQAAAMVBmiRsQ//+qZYTApHAE198134FJ3r6uh7/\n",
       "vbA3Bk+WGnNjuaXK1osYHxnXpicFR5/Lsw5GA9iZhhhLlzvk2RCuHZzqT4Wo15L029acCQl2SUgT\n",
       "/r+uB08nVLLh4h9/9BXkcZrZFQpBpSnGAG/IMzfabmJ7D2flS109GMQH9C1595B87uOVw50oRlgl\n",
       "y+KvmoHhO1PpxeJ99+kqTU2i0sgUVqDd07ZYGf/47MEQO73/zVAe3PTHwbXFydXe86lzbDrnqVQ5\n",
       "YQAAAIFBnkJ4hn8CFe94xaX+UAY0thThxgg7GCCjMcDgDVrb/mIAO372mGbpdvGK9msFVK77oRto\n",
       "pdI5t1aySkRqlmtnVHJjouMOVpArB8qN/WlQFW74mJIgxHH8MhYGucM2gMKKcwCn8fJ9QEr8+Er/\n",
       "WC4dfhc23CacViWSZq6bPfSqFNAAAABPAZ5hdEK/A5mxRZFH5HNYpSwZ1gylGpcvObUAHbuXEde2\n",
       "3PpRRnPyDBxCtak2MZKfJCuoF5MeESoxmKgP3y+cgW938AvBsSpbOpXyQzURiQAAAEgBnmNqQr8A\n",
       "J8sQlGGgczvv60l9QIIsu8AJpDKXXRBkCUhNd+E9c38ilcNcmHPrOrlFQQxNChIBmh3IDOJsau97\n",
       "upo+H5ASN/EAAAB9QZpoSahBaJlMCH///qmWCAaYkOY16HllbjJm3VstQH1LHZ3zC1wD8/16xOzG\n",
       "25SDkqGYjoSu7SKSF0PEHfw//A/p8v6AobvD0VRVke35vcHhh3WMizs6AZ8NkcAvJ0CnS2GnSDGU\n",
       "EbWsAsSmMZH5yoGOq3LYGUPBd2qVT/AAAABSQZ6GRREsM/8AFZUzjyjnOYCMIQqImPDgG1MN2iLg\n",
       "iwAP3WHe9yHdpta31imQ2Y91y0g4B8C3zDcukYAiQTBHwAclezlLuYpCo1DquNMhL0qiqwAAAEAB\n",
       "nqV0Qr8AJ8hsSnnQJMLYJ9ZpPLUkL5MKF8uagA7dy4ilDxwg8FR10GMcEzhEQYrprZ0KwvPp3dMO\n",
       "jc8unhNOAAAAOgGep2pCvwAUenvuQO3vlan6DbxE4nkTgBkAHbuXEUoeOEHgqOugxjgiyIVjklkI\n",
       "b++COWzSfHiiQ4MAAABNQZqsSahBbJlMCHf//qmWAAyloRZceCwI4l9IasAmRMFjbXWUCL/9vZPr\n",
       "8mY7+4F1r8YEG/JMIxaYX+GhsN4PTgiN0VUclqpbkErqelUAAABCQZ7KRRUsM/8ACxIRJx4Iwhso\n",
       "kzL4l2sXrr4azjfexAB2/e0ugCuaZ13ZrBVSu7AiOKEnZKIkuCIqCHbCfgWQsI6AAAAAOgGe6XRC\n",
       "vwAUdDYikroz3S/QIoUIUoZyHqADt3LiKUPHCDwVHXQYxwT20UByZ6lfhSNTsBZnziiQ4IAAAAA3\n",
       "AZ7rakK/ABR6e+9t/ch9gmgMkZRhkAHbuXEUoeOEHgqOugxjgliIhjpeSFY4UtXTaSaPXeJRQQAA\n",
       "AENBmvBJqEFsmUwId//+qZYADKWhFmXpgj4dWP6OdTNHifcDBzAJ4QBfYDKQdMdf3Dw//toM3e3Q\n",
       "fdlkM1ryyMm8B3q+AAAAQEGfDkUVLDP/AAsSESctD8vbGJKIopKfO3m0BWuJCADt+9pdAFc0zruz\n",
       "WCqld2BB40CO0SElI7in6Y/TUJPeOUUAAAA3AZ8tdEK/ABR0NiUt+1+1M/mpU/PgUAJDWKOdNS69\n",
       "zgqOugxjgoYoxjphqmU3LQl02kmj13iUUAAAADgBny9qQr8AFHWISkMiSs38aA4nsZPUUAHbuXEU\n",
       "oeOEHgqOugxjgkSITjpR4FYH1ergtHM7rvEooQAAAEJBmzFJqEFsmUwIf//+qZYADKVSQimtMtY/\n",
       "ql1O8eJ/6FBmATwpXnW9c0Pyt8Mdxn/8sbl+uAOLerzNcaiw0fgO9X0AAABFQZtVSeEKUmUwIf/+\n",
       "qZYADLcXugY22lL2YAC5dEimFRtqDqjFkqNjjseIElK863YEHTJ4uQ8P/7UB8Al9SuX7FUfscqm3\n",
       "AAAAOEGfc0U0TDP/AAsSME5Yr3i4qikAgX1Xej/UAHcW0g4B8C3zDcukYAiQYVHm6xtNnaJdENC5\n",
       "n4i5AAAAMAGfknRCvwAUdDYlFFICHjwXV6UAHcaKOdNS69zgqOugxl1DJOTcvV57ajb1cCQRMAAA\n",
       "AC4Bn5RqQr8AFHbZtZ8dur3zk5AB3GijnTUuvc4KjroMZdQDOsOP5093IaNdBicjAAAAP0GbmUmo\n",
       "QWiZTAh3//6plgAGeg4RMgiRSH3NL++bzzb9wMHMAnhAF9gMpB0x1/cPD//Ct+Go8fz70tpJqCCb\n",
       "YQAAADdBn7dFESwz/wAFrgWfE6W+vcv4rQ/dGcsEACT95IOAfAt8w3LpGAIkGFRhGsDf51dbPt+l\n",
       "T+IuAAAALgGf1nRCvwAKOwiYPGnmllWQAJQA6OdNS69zgqOugxl1BJKSNLX1ja6o6JuYNsAAAAAv\n",
       "AZ/YakK/AAqEem0cDKt3d9IIQAdxoo501Lr3OCo66DGXUFko6UtWGNpNvP3ZBE0AAAA+QZvdSahB\n",
       "bJlMCHf//qmWAAZ6zpDLoFf3fYNz5d039wN/UAgiWlcYGUg6Y6/uHh//Qt/levxpXvTQ5pPseXEA\n",
       "AAA4QZ/7RRUsM/8ABa0YJxVvkpxN8jU071X6IAgASfvJBwD4FvmG5dIwBEgwqNA1hb/O1raBv1if\n",
       "xF0AAAAwAZ4adEK/AAqDCI1y0UKAPvqrCADuNFHOmpde5wVHXQYy6g9tS5Xq1htM96eBIImAAAAA\n",
       "LwGeHGpCvwAKhHptHAyrd3fSCEAHcaKOdNS69zgqOugxl1BZKOlLVhjaTbz92QRMAAAAQkGaAUmo\n",
       "QWyZTAhv//6nhAAM7wmLIEsiLab/FSiSOHz/E51DpEwS8IURM5WxqkHTHWWw8P/7FHvkHfMp9hTa\n",
       "R5VNsQAAADlBnj9FFSwz/wAFravHN5KlhKMjQ5WvTts/DXAB3FtIOAfAt8w3LpGAIkGFRsG4An54\n",
       "M01XQvHgLKAAAAAyAZ5edEK/AAqDCI1yzMvIv4gmNT2QAdxoo501Lr3OCo66DGXUDzrRqWkP20N3\n",
       "muqx44AAAAAxAZ5AakK/AAqEem0bvgLSeaTGk6IAO40Uc6al17nBUddBjLp+41HH/E/e46RpOKx4\n",
       "4QAAAEBBmkJJqEFsmUwId//+qZYAAz0MkheitNbm1Bs/1xUa3+4GB2GzJaVxgjDQ+tfosG9//4Vv\n",
       "w0Hj+X+lpJJwQTbAAAAAPEGaY0nhClJlMCHf/qmWAAM9U+4Fn8/agOb+1o6NKSguTYIXqmwRhofW\n",
       "tDfQB//iY/WXfID59BT8jggm2QAAACtBmodJ4Q6JlMCHf/6plgADPVFxh6rmi8qgcP98+51/4MNw\n",
       "5CvNXU7FGRaBAAAAHkGepUURPDP/AAM3qSMJx27U+7Ui1lT9Nj12iKBewAAAABgBnsR0Qr8ABUOl\n",
       "JyNIjKHW/h7dIyIp2uEAAAARAZ7GakK/AAVCPS2+YOKQ3qYAAAAdQZrISahBaJlMCHf//qmWAAM9\n",
       "U++5cWPXH6vkVmUAAAAcQZrsSeEKUmUwId/+qZYAAz1RkJFpS/gdE8Yx0wAAABpBnwpFNEwz/wAD\n",
       "N6kjBeo3an3ZePFqdRpKQAAAABMBnyl0Qr8ABUGHRe1mi6w/44j4AAAAEwGfK2pCvwAFQjfOr8td\n",
       "87q2h68AAAAgQZswSahBaJlMCG///qeEAAZ3hMycpj20A1wjHg/13jYAAAAZQZ9ORREsM/8AAzep\n",
       "IqFiGJehsyRF9Lf1aQAAABIBn210Qr8ABUE6dn4TS+i2TqYAAAARAZ9vakK/AANg7icAjQCbSwMA\n",
       "AAAcQZtxSahBbJlMCHf//qmWAAGeqfcCz+fpf3zUEQAAACdBm5JJ4QpSZTAh3/6plg2KLIQyqLoa\n",
       "iAVorbnv3ayqy9iC//4Zg4EAAAAfQZu2SeEOiZTAh3/+qZYAAZ6DxEyk22HL+6Wn/kXMgQAAABlB\n",
       "n9RFETwz/wADN6iR6WQpbflDCUCfpKAgAAAAEQGf83RCvwADYAMM1YJY80sCAAAAEQGf9WpCvwAD\n",
       "YO4nBphLzSwJAAAAH0Gb90moQWiZTAh///6plgABnpBQ5SFb+gBcyD/sypgAAAAdQZobSeEKUmUw\n",
       "If/+qZYAAaDi9yryfQ2nxE3sA1UAAAAbQZ45RTRMM/8AAzeokelkKtm5h6sVuJH/VCBBAAAAEwGe\n",
       "WHRCvwADYAMO8mDHG/Vy2vkAAAARAZ5aakK/AANg7hG6dnTBIIEAAAAZQZpfSahBaJlMCH///qmW\n",
       "AADKRXoSgZCTgAAAABdBnn1FESwz/wADN6iR84M2/JnUV3EMNAAAABABnpx0Qr8AA2ACFduFgyVB\n",
       "AAAAEAGenmpCvwADYO1ZZaqkDJUAAAAdQZqDSahBbJlMCH///qmWAADKRXoccENX9X0BezAAAAAY\n",
       "QZ6hRRUsM/8AAzeokfODNvyZ06yPl3x7AAAAEAGewHRCvwADYAIV+BJhkqAAAAASAZ7CakK/AANg\n",
       "7VllqqPlDDuBAAAAIkGax0moQWyZTAh///6plgAAy3F7oGPd3GgU2ksSmf/18HkAAAAaQZ7lRRUs\n",
       "M/8AAzeokfODNvyV7z9BtaRe8cwAAAASAZ8EdEK/AANgAhXvS0yyrq6DAAAAEwGfBmpCvwADYO1Z\n",
       "ZaqjrUCsYy4AAAAfQZsLSahBbJlMCH///qmWAABlIu7pHHFYhP/Vf/sZAwAAABlBnylFFSwz/wAD\n",
       "N6iR84J5/kzk1CKhMcwJAAAAEgGfSHRCvwADYAH3V6Wj74z8kgAAABIBn0pqQr8AA2DtQrLVT0SM\n",
       "/JIAAAAbQZtPSahBbJlMCH///qmWAABluL2ZlGA8rmO9AAAAGEGfbUUVLDP/AAM3qJHzgnoMjqB9\n",
       "bJeXOgAAABEBn4x0Qr8AA2AB90saiMIESQAAABEBn45qQr8AA2DtQiJ4yQOPgAAAABtBm5NJqEFs\n",
       "mUwIf//+qZYAAGKi/AJQKjVkbuEAAAAYQZ+xRRUsM/8AAzeokfOCdXr6XRMsa749AAAAEAGf0HRC\n",
       "vwADYAH2p6Wmhx8AAAASAZ/SakK/AANg7UIieMjrUMsHAAAAIUGb10moQWyZTAh///6plgAAYzi9\n",
       "0DH8AkwN5JeJO/4KPgAAAB1Bn/VFFSwz/wADN6iR84J1evpbdm298DS966r9LQAAABQBnhR0Qr8A\n",
       "A2AB9pmZUNpIgSrY+QAAABQBnhZqQr8AA2DtQiLVT0SLcdU1KAAAABtBmhtJqEFsmUwId//+qZYA\n",
       "ADGcXmJCHaHI5Y4AAAAYQZ45RRUsM/8AAzeokfOCGQZHUO+Dry51AAAAEQGeWHRCvwADYAHn1YNE\n",
       "FslLAAAAEAGeWmpCvwADYO02zKLLDSEAAAAZQZpfSahBbJlMCHf//qmWAAAwEDpTPXMpIAAAABdB\n",
       "nn1FFSwz/wADN6iR84IWvX2GZTEMNAAAABABnpx0Qr8AA2AB53zMqQRpAAAAEAGenmpCvwADYO02\n",
       "yWTqNIAAAABAQZqDSahBbJlMCG///qeEAABf+ExWPagBqmZi47ukPw/l+YlkLY+ZLbysbognXZi4\n",
       "7OXZgaie43BgnVYwUUZE+AAAABpBnqFFFSwz/wADN6iR84IWvX2BTCnmIGWV0QAAABMBnsB0Qr8A\n",
       "A2AB53yeY/al537YAAAAEwGewmpCvwADYO02zLpXEAa/9oEAAAAYQZrESahBbJlMCG///qeEAABc\n",
       "8ZzKBVDxAAAAFkGa5UnhClJlMCG//qeEAABc8mZL+LAAAAAZQZsGSeEOiZTAhv/+p4QAAFzxnMoD\n",
       "aXoFMQAAABlBmydJ4Q8mUwId//6plgAALtp47Ecr7IT4AAAAGEGbSEnhDyZTAh3//qmWAAAu2s0d\n",
       "nZjlMQAAAB5Bm2xJ4Q8mUwId//6plgAALxzzCZKCd9VfRsy6TMEAAAAZQZ+KRRE8M/8AAzeoaLuR\n",
       "4B/L7Sbe76G2oAAAABEBn6l0Qr8AAEtaGUyerJqNSwAAABEBn6tqQr8AAEteokGlFMVYsQAAABpB\n",
       "m61JqEFomUwIf//+qZYAAC3nbHsBXlYOugAAAEBBm9FJ4QpSZTAh//6plgAALfzzNR4yHgAGRbWr\n",
       "zp1/MaD2xpPPWqcpsD3S/OIYH4kivJwCCe+KLvH+0PV3kddBAAAAGEGf70U0TDP/AAM3qGiog3H1\n",
       "80asgXxqgAAAAA8Bng50Qr8AAEl3aXXVWF0AAAAPAZ4QakK/AAAkubYwsU4hAAAAREGaFUmoQWiZ\n",
       "TAh///6plgAAFt3J4UNin4oADkyjoQUGKKYV9xj1Hv9QVWSA74xyNQ7L++NewB/SgXfIhlpHPSls\n",
       "02spAAAAF0GeM0URLDP/AAM3qGc0HjYS8TtkjSKZAAAADwGeUnRCvwAAJK0L+dwNCAAAAA8BnlRq\n",
       "Qr8AACSvUSDTPMwAAABMQZpZSahBbJlMCH///qmWAAAWbnlO9AAyr4DDTVD4GBJFz9TZgbdribI0\n",
       "8+UEnMjru2VnsnmD+/EOwV54RBGPfwy3qu64gWxETZLA4QAAABhBnndFFSwz/wADN6hnND/NsBWN\n",
       "DjnqjsAAAAAPAZ6WdEK/AAAkrq05OGhAAAAAEQGemGpCvwAAI7m6kneAubetAAAAWEGanUmoQWyZ\n",
       "TAh///6plgAAFk3J4UCyNmZ/wAAE62MwekSM/PDzml0yRQwsiYatSnpkFXoiwuESOGYup7z8ny8R\n",
       "fV+2kXe949EKqBbBD+v6kGp7ptsqzG8AAAAYQZ67RRUsM/8AAzeoZysgMAYJJUipJ0RxAAAAEQGe\n",
       "2nRCvwAAI60MgKDzvCWcAAAAEAGe3GpCvwAAI5x14nEu08gAAAAfQZrBSahBbJlMCH///qmWAAAW\n",
       "UVM7g8Wm5D0Auvdk4QAAABRBnv9FFSwz/wADN6hnIh4JlH38uAAAAA4Bnx50Qr8AACKtDPwDgAAA\n",
       "AA0BnwBqQr8AACKv3+APAAAAGkGbBUmoQWyZTAh///6plgAAFd55kGZYINruAAAAFkGfI0UVLDP/\n",
       "AAM3qGciH/0Ygfx1YiEAAAAPAZ9CdEK/AAAiu7RuzG1BAAAADwGfRGpCvwAAIq9RINM9FAAAABlB\n",
       "m0lJqEFsmUwIf//+qZYAABUtyF9bpI+BAAAAFEGfZ0UVLDP/AAM3qGcZeruzz2w8AAAADQGfhnRC\n",
       "vwAAIbu0xlsAAAANAZ+IakK/AAAhr1H4EwAAAB1Bm41JqEFsmUwId//+qZYAABVOeYPzGg+LQiOo\n",
       "4AAAABdBn6tFFSwz/wADN6hnGXq58psqTHncOAAAAA8Bn8p0Qr8AACG7tG7Mb8EAAAAQAZ/MakK/\n",
       "AAAhr1udqGuDfgAAABlBm9FJqEFsmUwId//+qZYAABSdIRtdxB6BAAAAFEGf70UVLDP/AAM3qGcQ\n",
       "ervDz2AmAAAADQGeDnRCvwAAILu0xmUAAAANAZ4QakK/AAAgufr+ZQAAAB9BmhVJqEFsmUwIb//+\n",
       "p4QAACjYnCs5DvwUCzB/8L2hAAAAFkGeM0UVLDP/AAM3qGcQero271nXBbsAAAAPAZ5SdEK/AAAg\n",
       "u7RuzHLAAAAADwGeVGpCvwAAIK9RINM9XAAAAB1BmlZJqEFsmUwId//+qZYAACgaeOII71bJ6iNj\n",
       "EwAAABhBmndJ4QpSZTAh3/6plgAAKBrNHLHTWE8AAAAaQZqbSeEOiZTAh3/+qZYAACgaSglPGi7I\n",
       "aYAAAAAXQZ65RRE8M/8AAzeoaE5AYLcAO7emPqEAAAAPAZ7YdEK/AAA/egbrcIEvAAAADwGe2mpC\n",
       "vwAAP30FqatqvQAAAB5BmtxJqEFomUwIf//+qZYAACgcCmqWlv6AFyv+qswAAAAgQZrgSeEKUmUw\n",
       "If/+qZYAAChc8yHuoDBD4dAsk8/zB9QAAAAaQZ8eRTRMM/8AAzeoaE71lEDanrYuM6fTjoEAAAAR\n",
       "AZ89dEK/AAA/jbTgqbU+TDgAAAAPAZ8/akK/AAA/gKbYts2LAAAAU0GbJEmoQWiZTAh///6plgAA\n",
       "Jz1ZnWgAlx16DzMxXhdrOd9HBfqS02ww1WgTRXuFokpxDSWraQKxaQYyY5y39JaIaYx76HDsATYs\n",
       "ieL5w1BCqEL1AAAAGEGfQkURLDP/AAM3qGq6HKPKor7lH67ywAAAAA4Bn2F0Qr8AAD4twZFQcwAA\n",
       "ABABn2NqQr8AAHxZ2B0z4eqxAAAAK0GbaEmoQWyZTAh///6plgAATnq2s3e6UvyIZA6/gAc2ej//\n",
       "/9pA21/8FfgAAAAZQZ+GRRUsM/8AAzeoarj/j0gQSfrk07FZgQAAABEBn6V0Qr8AAHw4lg/dKz7V\n",
       "YAAAABIBn6dqQr8AAHmZ5goqysF57FEAAAAcQZusSahBbJlMCH///qmWAAAnPVtR4clMrd9DPwAA\n",
       "ABlBn8pFFSwz/wADN6hql5tfDlCBgjIC38egAAAAEQGf6XRCvwAAeXimCaHQoHsUAAAADwGf62pC\n",
       "vwAAeZnYEWsVIQAAAB9Bm/BJqEFsmUwIf//+qZYAAEwMUqAjKlv6AFyv+p44AAAAGUGeDkUVLDP/\n",
       "AAM3qGqVsnbC1D9B866KslkAAAAQAZ4tdEK/AAB4cHf6WUnOqQAAABIBni9qQr8AAHl6I0lzgfCA\n",
       "dzUAAAAhQZo0SahBbJlMCH///qmWAABMeraM0jALpVe/twHN+6RBAAAAGUGeUkUVLDP/AAM3qGqV\n",
       "sna9kD2m2d0f/dEAAAASAZ5xdEK/AAB5dQpBSt+JIE5pAAAAEwGec2pCvwAAeXuVjuI3k5AuldAA\n",
       "AAAZQZp4SahBbJlMCH///qmWAABKDEjAJrH9MAAAABVBnpZFFSwz/wADN6hqdbJ2ydt2p80AAAAP\n",
       "AZ61dEK/AAB2pagSk+HAAAAADgGet2pCvwAAdruVlz4cAAAAGUGavEmoQWyZTAh///6plgAASgw+\n",
       "gJrH9MEAAAAVQZ7aRRUsM/8AAzeoanXD3ENZPy85AAAADgGe+XRCvwAAdt0WRT4dAAAADwGe+2pC\n",
       "vwAAdpbVcs5YsAAAAB9BmuBJqEFsmUwIf//+qZYAAJQYfQj6VLf0ALlf9S6YAAAAGkGfHkUVLDP/\n",
       "AAM3qG8rh6hF1j8947ArFLdBAAAAEQGfPXRCvwAA7cXwSrLkRr2AAAAAEgGfP2pCvwAA7XcrHcRw\n",
       "HPCHSAAAAB9BmyRJqEFsmUwIf//+qZYAAJT1bUbhxhJpKoW2XaAfAAAAGUGfQkUVLDP/AAM3qG8r\n",
       "pXDJr7LEMNQcN7oAAAAUAZ9hdEK/AADtuix6/HGRVH7pq4EAAAAPAZ9jakK/AADtgt8BBN+BAAAA\n",
       "GUGbaEmoQWyZTAh3//6plgAAkCf2CS+xr5gAAAAVQZ+GRRUsM/8AAzeobuulcQsafl5xAAAADgGf\n",
       "pXRCvwAA5+oUlzweAAAADQGfp2pCvwAA6BvLng8AAAAcQZusSahBbJlMCHf//qmWAAEgJvQ2/3X2\n",
       "uRpswQAAABZBn8pFFSwz/wADN6h4G/i24FPNDxboAAAADgGf6XRCvwAA6Dosing8AAAADwGf62pC\n",
       "vwAB0H8iWN3l9wAAABlBm+1JqEFsmUwIf//+qZYAASBOL0U1ply8AAAAGkGaEUnhClJlMCHf/qmW\n",
       "AAEgKbFt/ycdcabNAAAAFkGeL0U0TDP/AAM3qHgXSuIMCd9buZgAAAAQAZ5OdEK/AAHP+ktc5bRz\n",
       "fwAAAA0BnlBqQr8AAdA3lzsPAAAAGUGaVUmoQWiZTAh3//6plgABICxPGX5g2YEAAAAUQZ5zRREs\n",
       "M/8AAzeoeBoIT3lPAscAAAAOAZ6SdEK/AAHQsaXZh4AAAAAOAZ6UakK/AAHQNZGdh4AAAAAaQZqZ\n",
       "SahBbJlMCGf//p4QABFRT/l3QkuWmBEAAAAVQZ63RRUsM/8AAzeonp6jKJ7Ms+9LAAAADQGe1nRC\n",
       "vwAB0LMpOw8AAAAPAZ7YakK/AAOgayL0oPt7AAAAGUGa20moQWyZTBRMK//+OEAAQ0pNX2E2C6sA\n",
       "AAAUAZ76akK/AAX6xbjeAcmt5mpeboEAACRhbW9vdgAAAGxtdmhkAAAAAAAAAAAAAAAAAAAD6AAA\n",
       "jKAAAQAAAQAAAAAAAAAAAAAAAAEAAAAAAAAAAAAAAAAAAAABAAAAAAAAAAAAAAAAAABAAAAAAAAA\n",
       "AAAAAAAAAAAAAAAAAAAAAAAAAAAAAAAAAgAAI4t0cmFrAAAAXHRraGQAAAADAAAAAAAAAAAAAAAB\n",
       "AAAAAAAAjKAAAAAAAAAAAAAAAAAAAAAAAAEAAAAAAAAAAAAAAAAAAAABAAAAAAAAAAAAAAAAAABA\n",
       "AAAAAbAAAAEgAAAAAAAkZWR0cwAAABxlbHN0AAAAAAAAAAEAAIygAAAEAAABAAAAACMDbWRpYQAA\n",
       "ACBtZGhkAAAAAAAAAAAAAAAAAAAoAAAFoABVxAAAAAAALWhkbHIAAAAAAAAAAHZpZGUAAAAAAAAA\n",
       "AAAAAABWaWRlb0hhbmRsZXIAAAAirm1pbmYAAAAUdm1oZAAAAAEAAAAAAAAAAAAAACRkaW5mAAAA\n",
       "HGRyZWYAAAAAAAAAAQAAAAx1cmwgAAAAAQAAIm5zdGJsAAAAlnN0c2QAAAAAAAAAAQAAAIZhdmMx\n",
       "AAAAAAAAAAEAAAAAAAAAAAAAAAAAAAAAAbABIABIAAAASAAAAAAAAAABAAAAAAAAAAAAAAAAAAAA\n",
       "AAAAAAAAAAAAAAAAAAAAAAAAGP//AAAAMGF2Y0MB9AAV/+EAF2f0ABWRmyg2EtCAAAADAIAAABQH\n",
       "ixbLAQAGaOvjxEhEAAAAGHN0dHMAAAAAAAAAAQAAAtAAAAIAAAAAHHN0c3MAAAAAAAAAAwAAAAEA\n",
       "AAD7AAAB9QAAFhhjdHRzAAAAAAAAAsEAAAABAAAEAAAAAAEAAAoAAAAAAQAABAAAAAABAAAAAAAA\n",
       "AAEAAAIAAAAAAQAACgAAAAABAAAEAAAAAAEAAAAAAAAAAQAAAgAAAAABAAAKAAAAAAEAAAQAAAAA\n",
       "AQAAAAAAAAABAAACAAAAAAEAAAoAAAAAAQAABAAAAAABAAAAAAAAAAEAAAIAAAAAAQAACgAAAAAB\n",
       "AAAEAAAAAAEAAAAAAAAAAQAAAgAAAAABAAAKAAAAAAEAAAQAAAAAAQAAAAAAAAABAAACAAAAAAEA\n",
       "AAoAAAAAAQAABAAAAAABAAAAAAAAAAEAAAIAAAAAAQAACgAAAAABAAAEAAAAAAEAAAAAAAAAAQAA\n",
       "AgAAAAABAAAKAAAAAAEAAAQAAAAAAQAAAAAAAAABAAACAAAAAAEAAAoAAAAAAQAABAAAAAABAAAA\n",
       "AAAAAAEAAAIAAAAAAQAACgAAAAABAAAEAAAAAAEAAAAAAAAAAQAAAgAAAAABAAAKAAAAAAEAAAQA\n",
       "AAAAAQAAAAAAAAABAAACAAAAAAEAAAoAAAAAAQAABAAAAAABAAAAAAAAAAEAAAIAAAAAAQAACgAA\n",
       "AAABAAAEAAAAAAEAAAAAAAAAAQAAAgAAAAABAAAKAAAAAAEAAAQAAAAAAQAAAAAAAAABAAACAAAA\n",
       "AAEAAAQAAAAAAQAACgAAAAABAAAEAAAAAAEAAAAAAAAAAQAAAgAAAAABAAAKAAAAAAEAAAQAAAAA\n",
       "AQAAAAAAAAABAAACAAAAAAEAAAoAAAAAAQAABAAAAAABAAAAAAAAAAEAAAIAAAAAAQAACgAAAAAB\n",
       "AAAEAAAAAAEAAAAAAAAAAQAAAgAAAAABAAAKAAAAAAEAAAQAAAAAAQAAAAAAAAABAAACAAAAAAEA\n",
       "AAoAAAAAAQAABAAAAAABAAAAAAAAAAEAAAIAAAAAAQAACgAAAAABAAAEAAAAAAEAAAAAAAAAAQAA\n",
       "AgAAAAABAAAKAAAAAAEAAAQAAAAAAQAAAAAAAAABAAACAAAAAAEAAAoAAAAAAQAABAAAAAABAAAA\n",
       "AAAAAAEAAAIAAAAAAQAACgAAAAABAAAEAAAAAAEAAAAAAAAAAQAAAgAAAAABAAAKAAAAAAEAAAQA\n",
       "AAAAAQAAAAAAAAABAAACAAAAAAEAAAoAAAAAAQAABAAAAAABAAAAAAAAAAEAAAIAAAAAAQAACgAA\n",
       "AAABAAAEAAAAAAEAAAAAAAAAAQAAAgAAAAABAAAKAAAAAAEAAAQAAAAAAQAAAAAAAAABAAACAAAA\n",
       "AAEAAAoAAAAAAQAABAAAAAABAAAAAAAAAAEAAAIAAAAAAQAABAAAAAABAAAKAAAAAAEAAAQAAAAA\n",
       "AQAAAAAAAAABAAACAAAAAAEAAAoAAAAAAQAABAAAAAABAAAAAAAAAAEAAAIAAAAAAQAACgAAAAAB\n",
       "AAAEAAAAAAEAAAAAAAAAAQAAAgAAAAABAAAKAAAAAAEAAAQAAAAAAQAAAAAAAAABAAACAAAAAAEA\n",
       "AAoAAAAAAQAABAAAAAABAAAAAAAAAAEAAAIAAAAAAQAACgAAAAABAAAEAAAAAAEAAAAAAAAAAQAA\n",
       "AgAAAAABAAAKAAAAAAEAAAQAAAAAAQAAAAAAAAABAAACAAAAAAEAAAoAAAAAAQAABAAAAAABAAAA\n",
       "AAAAAAEAAAIAAAAAAQAACgAAAAABAAAEAAAAAAEAAAAAAAAAAQAAAgAAAAABAAAKAAAAAAEAAAQA\n",
       "AAAAAQAAAAAAAAABAAACAAAAAAEAAAQAAAAAAQAACgAAAAABAAAEAAAAAAEAAAAAAAAAAQAAAgAA\n",
       "AAABAAAKAAAAAAEAAAQAAAAAAQAAAAAAAAABAAACAAAAAAEAAAoAAAAAAQAABAAAAAABAAAAAAAA\n",
       "AAEAAAIAAAAAAQAACgAAAAABAAAEAAAAAAEAAAAAAAAAAQAAAgAAAAABAAAEAAAAAAEAAAoAAAAA\n",
       "AQAABAAAAAABAAAAAAAAAAEAAAIAAAAAAQAACgAAAAABAAAEAAAAAAEAAAAAAAAAAQAAAgAAAAAC\n",
       "AAAEAAAAAAEAAAoAAAAAAQAABAAAAAABAAAAAAAAAAEAAAIAAAAAAQAABAAAAAABAAAKAAAAAAEA\n",
       "AAQAAAAAAQAAAAAAAAABAAACAAAAAAEAAAoAAAAAAQAABAAAAAABAAAAAAAAAAEAAAIAAAAAAQAA\n",
       "CgAAAAABAAAEAAAAAAEAAAAAAAAAAQAAAgAAAAABAAAKAAAAAAEAAAQAAAAAAQAAAAAAAAABAAAC\n",
       "AAAAAAEAAAoAAAAAAQAABAAAAAABAAAAAAAAAAEAAAIAAAAAAQAACgAAAAABAAAEAAAAAAEAAAAA\n",
       "AAAAAQAAAgAAAAABAAAKAAAAAAEAAAQAAAAAAQAAAAAAAAABAAACAAAAAAEAAAoAAAAAAQAABAAA\n",
       "AAABAAAAAAAAAAEAAAIAAAAAAQAACgAAAAABAAAEAAAAAAEAAAAAAAAAAQAAAgAAAAABAAAKAAAA\n",
       "AAEAAAQAAAAAAQAAAAAAAAABAAACAAAAAAEAAAoAAAAAAQAABAAAAAABAAAAAAAAAAEAAAIAAAAA\n",
       "BQAABAAAAAABAAAKAAAAAAEAAAQAAAAAAQAAAAAAAAABAAACAAAAAAIAAAQAAAAAAQAACgAAAAAB\n",
       "AAAEAAAAAAEAAAAAAAAAAQAAAgAAAAABAAAKAAAAAAEAAAQAAAAAAQAAAAAAAAABAAACAAAAAAEA\n",
       "AAoAAAAAAQAABAAAAAABAAAAAAAAAAEAAAIAAAAAAQAACgAAAAABAAAEAAAAAAEAAAAAAAAAAQAA\n",
       "AgAAAAABAAAKAAAAAAEAAAQAAAAAAQAAAAAAAAABAAACAAAAAAEAAAoAAAAAAQAABAAAAAABAAAA\n",
       "AAAAAAEAAAIAAAAAAQAACgAAAAABAAAEAAAAAAEAAAAAAAAAAQAAAgAAAAABAAAKAAAAAAEAAAQA\n",
       "AAAAAQAAAAAAAAABAAACAAAAAAEAAAoAAAAAAQAABAAAAAABAAAAAAAAAAEAAAIAAAAAAQAACgAA\n",
       "AAABAAAEAAAAAAEAAAAAAAAAAQAAAgAAAAABAAAEAAAAAAEAAAoAAAAAAQAABAAAAAABAAAAAAAA\n",
       "AAEAAAIAAAAAAQAABAAAAAABAAAKAAAAAAEAAAQAAAAAAQAAAAAAAAABAAACAAAAAAEAAAoAAAAA\n",
       "AQAABAAAAAABAAAAAAAAAAEAAAIAAAAAAQAACgAAAAABAAAEAAAAAAEAAAAAAAAAAQAAAgAAAAAB\n",
       "AAAKAAAAAAEAAAQAAAAAAQAAAAAAAAABAAACAAAAAAEAAAoAAAAAAQAABAAAAAABAAAAAAAAAAEA\n",
       "AAIAAAAAAQAACgAAAAABAAAEAAAAAAEAAAAAAAAAAQAAAgAAAAABAAAKAAAAAAEAAAQAAAAAAQAA\n",
       "AAAAAAABAAACAAAAAAEAAAoAAAAAAQAABAAAAAABAAAAAAAAAAEAAAIAAAAAAQAACgAAAAABAAAE\n",
       "AAAAAAEAAAAAAAAAAQAAAgAAAAABAAAKAAAAAAEAAAQAAAAAAQAAAAAAAAABAAACAAAAAAEAAAoA\n",
       "AAAAAQAABAAAAAABAAAAAAAAAAEAAAIAAAAAAQAACgAAAAABAAAEAAAAAAEAAAAAAAAAAQAAAgAA\n",
       "AAABAAAEAAAAAAEAAAoAAAAAAQAABAAAAAABAAAAAAAAAAEAAAIAAAAAAQAACgAAAAABAAAEAAAA\n",
       "AAEAAAAAAAAAAQAAAgAAAAABAAAKAAAAAAEAAAQAAAAAAQAAAAAAAAABAAACAAAAAAEAAAoAAAAA\n",
       "AQAABAAAAAABAAAAAAAAAAEAAAIAAAAAAQAACgAAAAABAAAEAAAAAAEAAAAAAAAAAQAAAgAAAAAB\n",
       "AAAKAAAAAAEAAAQAAAAAAQAAAAAAAAABAAACAAAAAAEAAAoAAAAAAQAABAAAAAABAAAAAAAAAAEA\n",
       "AAIAAAAAAQAACgAAAAABAAAEAAAAAAEAAAAAAAAAAQAAAgAAAAABAAAKAAAAAAEAAAQAAAAAAQAA\n",
       "AAAAAAABAAACAAAAAAEAAAoAAAAAAQAABAAAAAABAAAAAAAAAAEAAAIAAAAAAQAACgAAAAABAAAE\n",
       "AAAAAAEAAAAAAAAAAQAAAgAAAAABAAAKAAAAAAEAAAQAAAAAAQAAAAAAAAABAAACAAAAAAEAAAoA\n",
       "AAAAAQAABAAAAAABAAAAAAAAAAEAAAIAAAAAAQAACgAAAAABAAAEAAAAAAEAAAAAAAAAAQAAAgAA\n",
       "AAABAAAKAAAAAAEAAAQAAAAAAQAAAAAAAAABAAACAAAAAAEAAAoAAAAAAQAABAAAAAABAAAAAAAA\n",
       "AAEAAAIAAAAAAgAABAAAAAABAAAKAAAAAAEAAAQAAAAAAQAAAAAAAAABAAACAAAAAAEAAAQAAAAA\n",
       "AQAACgAAAAABAAAEAAAAAAEAAAAAAAAAAQAAAgAAAAABAAAEAAAAAAEAAAoAAAAAAQAABAAAAAAB\n",
       "AAAAAAAAAAEAAAIAAAAAAQAACgAAAAABAAAEAAAAAAEAAAAAAAAAAQAAAgAAAAABAAAKAAAAAAEA\n",
       "AAQAAAAAAQAAAAAAAAABAAACAAAAAAEAAAoAAAAAAQAABAAAAAABAAAAAAAAAAEAAAIAAAAAAQAA\n",
       "CgAAAAABAAAEAAAAAAEAAAAAAAAAAQAAAgAAAAABAAAKAAAAAAEAAAQAAAAAAQAAAAAAAAABAAAC\n",
       "AAAAAAEAAAoAAAAAAQAABAAAAAABAAAAAAAAAAEAAAIAAAAAAQAACgAAAAABAAAEAAAAAAEAAAAA\n",
       "AAAAAQAAAgAAAAABAAAKAAAAAAEAAAQAAAAAAQAAAAAAAAABAAACAAAAAAEAAAoAAAAAAQAABAAA\n",
       "AAABAAAAAAAAAAEAAAIAAAAAAQAACgAAAAABAAAEAAAAAAEAAAAAAAAAAQAAAgAAAAABAAAKAAAA\n",
       "AAEAAAQAAAAAAQAAAAAAAAABAAACAAAAAAEAAAoAAAAAAQAABAAAAAABAAAAAAAAAAEAAAIAAAAA\n",
       "AQAACgAAAAABAAAEAAAAAAEAAAAAAAAAAQAAAgAAAAABAAAKAAAAAAEAAAQAAAAAAQAAAAAAAAAB\n",
       "AAACAAAAAAEAAAQAAAAAAQAACgAAAAABAAAEAAAAAAEAAAAAAAAAAQAAAgAAAAABAAAKAAAAAAEA\n",
       "AAQAAAAAAQAAAAAAAAABAAACAAAAAAEAAAoAAAAAAQAABAAAAAABAAAAAAAAAAEAAAIAAAAAAQAA\n",
       "CgAAAAABAAAEAAAAAAEAAAAAAAAAAQAAAgAAAAACAAAEAAAAAAEAAAoAAAAAAQAABAAAAAABAAAA\n",
       "AAAAAAEAAAIAAAAAAQAACgAAAAABAAAEAAAAAAEAAAAAAAAAAQAAAgAAAAABAAAKAAAAAAEAAAQA\n",
       "AAAAAQAAAAAAAAABAAACAAAAAAEAAAoAAAAAAQAABAAAAAABAAAAAAAAAAEAAAIAAAAAAQAABAAA\n",
       "AAABAAAKAAAAAAEAAAQAAAAAAQAAAAAAAAABAAACAAAAAAEAAAoAAAAAAQAABAAAAAABAAAAAAAA\n",
       "AAEAAAIAAAAAAQAACgAAAAABAAAEAAAAAAEAAAAAAAAAAQAAAgAAAAABAAAKAAAAAAEAAAQAAAAA\n",
       "AQAAAAAAAAABAAACAAAAAAIAAAQAAAAAAQAACgAAAAABAAAEAAAAAAEAAAAAAAAAAQAAAgAAAAAB\n",
       "AAAEAAAAAAEAAAoAAAAAAQAABAAAAAABAAAAAAAAAAEAAAIAAAAAAQAACgAAAAABAAAEAAAAAAEA\n",
       "AAAAAAAAAQAAAgAAAAACAAAEAAAAAAEAAAoAAAAAAQAABAAAAAABAAAAAAAAAAEAAAIAAAAAAQAA\n",
       "BAAAAAABAAAKAAAAAAEAAAQAAAAAAQAAAAAAAAABAAACAAAAAAEAAAoAAAAAAQAABAAAAAABAAAA\n",
       "AAAAAAEAAAIAAAAAAQAACgAAAAABAAAEAAAAAAEAAAAAAAAAAQAAAgAAAAABAAAKAAAAAAEAAAQA\n",
       "AAAAAQAAAAAAAAABAAACAAAAAAEAAAoAAAAAAQAABAAAAAABAAAAAAAAAAEAAAIAAAAAAQAACgAA\n",
       "AAABAAAEAAAAAAEAAAAAAAAAAQAAAgAAAAABAAAKAAAAAAEAAAQAAAAAAQAAAAAAAAABAAACAAAA\n",
       "AAEAAAoAAAAAAQAABAAAAAABAAAAAAAAAAEAAAIAAAAAAQAACgAAAAABAAAEAAAAAAEAAAAAAAAA\n",
       "AQAAAgAAAAABAAAKAAAAAAEAAAQAAAAAAQAAAAAAAAABAAACAAAAAAEAAAoAAAAAAQAABAAAAAAB\n",
       "AAAAAAAAAAEAAAIAAAAABQAABAAAAAABAAAKAAAAAAEAAAQAAAAAAQAAAAAAAAABAAACAAAAAAEA\n",
       "AAQAAAAAAQAACgAAAAABAAAEAAAAAAEAAAAAAAAAAQAAAgAAAAABAAAKAAAAAAEAAAQAAAAAAQAA\n",
       "AAAAAAABAAACAAAAAAEAAAoAAAAAAQAABAAAAAABAAAAAAAAAAEAAAIAAAAAAQAACgAAAAABAAAE\n",
       "AAAAAAEAAAAAAAAAAQAAAgAAAAABAAAKAAAAAAEAAAQAAAAAAQAAAAAAAAABAAACAAAAAAEAAAoA\n",
       "AAAAAQAABAAAAAABAAAAAAAAAAEAAAIAAAAAAQAACgAAAAABAAAEAAAAAAEAAAAAAAAAAQAAAgAA\n",
       "AAABAAAKAAAAAAEAAAQAAAAAAQAAAAAAAAABAAACAAAAAAEAAAoAAAAAAQAABAAAAAABAAAAAAAA\n",
       "AAEAAAIAAAAAAQAACgAAAAABAAAEAAAAAAEAAAAAAAAAAQAAAgAAAAACAAAEAAAAAAEAAAoAAAAA\n",
       "AQAABAAAAAABAAAAAAAAAAEAAAIAAAAAAQAABAAAAAABAAAKAAAAAAEAAAQAAAAAAQAAAAAAAAAB\n",
       "AAACAAAAAAEAAAoAAAAAAQAABAAAAAABAAAAAAAAAAEAAAIAAAAAAQAACgAAAAABAAAEAAAAAAEA\n",
       "AAAAAAAAAQAAAgAAAAABAAAKAAAAAAEAAAQAAAAAAQAAAAAAAAABAAACAAAAAAEAAAoAAAAAAQAA\n",
       "BAAAAAABAAAAAAAAAAEAAAIAAAAAAQAACgAAAAABAAAEAAAAAAEAAAAAAAAAAQAAAgAAAAABAAAK\n",
       "AAAAAAEAAAQAAAAAAQAAAAAAAAABAAACAAAAAAEAAAoAAAAAAQAABAAAAAABAAAAAAAAAAEAAAIA\n",
       "AAAAAQAACgAAAAABAAAEAAAAAAEAAAAAAAAAAQAAAgAAAAABAAAKAAAAAAEAAAQAAAAAAQAAAAAA\n",
       "AAABAAACAAAAAAEAAAoAAAAAAQAABAAAAAABAAAAAAAAAAEAAAIAAAAAAQAACgAAAAABAAAEAAAA\n",
       "AAEAAAAAAAAAAQAAAgAAAAABAAAEAAAAAAEAAAoAAAAAAQAABAAAAAABAAAAAAAAAAEAAAIAAAAA\n",
       "AQAACgAAAAABAAAEAAAAAAEAAAAAAAAAAQAAAgAAAAABAAAKAAAAAAEAAAQAAAAAAQAAAAAAAAAB\n",
       "AAACAAAAAAEAAAYAAAAAAQAAAgAAAAAcc3RzYwAAAAAAAAABAAAAAQAAAtAAAAABAAALVHN0c3oA\n",
       "AAAAAAAAAAAAAtAAAAuaAAAAXgAAAB8AAAAfAAAAFQAAACcAAAAZAAAAFQAAABMAAAAgAAAAFgAA\n",
       "ABQAAAATAAAAJAAAABUAAAASAAAAEQAAAB0AAAAVAAAAEgAAABIAAAAfAAAAFwAAABMAAAAUAAAA\n",
       "JwAAABcAAAAUAAAAFAAAAB8AAAAXAAAAFAAAABQAAAAfAAAAFgAAABIAAAAUAAAAIAAAABcAAAAU\n",
       "AAAAFAAAACQAAAAXAAAAFAAAABQAAAAfAAAAFgAAABQAAAASAAAAIAAAABgAAAASAAAAFAAAACMA\n",
       "AAAZAAAAFgAAABUAAAAfAAAAFgAAABQAAAASAAAAHAAAACAAAAAXAAAAEwAAABMAAAAdAAAAFQAA\n",
       "ABIAAAASAAAAIwAAABgAAAATAAAAFAAAAB8AAAAVAAAAEwAAABEAAAAiAAAAFQAAABEAAAATAAAA\n",
       "IQAAABYAAAATAAAAEwAAADcAAAAYAAAAEwAAABYAAAAiAAAAFwAAABUAAAATAAAAJQAAABgAAAAT\n",
       "AAAAFQAAAB4AAAAVAAAAEwAAABEAAAA+AAAAFgAAABIAAAAUAAAAIAAAABYAAAATAAAAEQAAACQA\n",
       "AAAWAAAAEQAAABMAAAAfAAAAFwAAABMAAAASAAAAHQAAABUAAAASAAAAEgAAACEAAABcAAAAGQAA\n",
       "ABYAAAAVAAAAHwAAABcAAAAUAAAAEgAAACQAAAAXAAAAEgAAABYAAAAnAAAAFgAAABQAAAASAAAA\n",
       "HwAAABYAAAASAAAAFAAAACYAAAAZAAAAFAAAABYAAAAhAAAAFwAAABQAAAAUAAAAHQAAABUAAAAS\n",
       "AAAAEgAAAB8AAAAXAAAAEwAAABMAAAAfAAAAFgAAABMAAAASAAAAHAAAACMAAAAXAAAAEwAAABMA\n",
       "AAAkAAAAGQAAABMAAAAVAAAAJwAAABgAAAAVAAAAEwAAACMAAAAWAAAAEwAAABMAAAAhAAAAKwAA\n",
       "ABgAAAAVAAAAFQAAACQAAAAXAAAAFAAAABMAAAAgAAAAHwAAACMAAAAXAAAAEwAAABMAAAAjAAAA\n",
       "IgAAABkAAAAVAAAAEwAAAB0AAAAVAAAAEgAAABIAAAAfAAAAFgAAABIAAAATAAAAJgAAABgAAAAU\n",
       "AAAAFQAAACMAAAAXAAAAFAAAABQAAAAfAAAAFgAAABMAAAASAAAAHwAAABYAAAASAAAAFAAAACUA\n",
       "AAAZAAAAFgAAABYAAAAfAAAAFgAAABMAAAASAAAAHQAAABUAAAASAAAAEQAAAEQAAAAYAAAAFQAA\n",
       "ABUAAAAcAAAAGgAAAB0AAAAdAAAAHAAAACIAAAAZAAAAFQAAABUAAAAeAAAJ0gAAAM4AAABvAAAA\n",
       "OgAAADwAAACYAAAARAAAAEAAAAA5AAAASgAAADoAAAA0AAAAMgAAAD8AAAA4AAAAMgAAAC8AAAA8\n",
       "AAAAMwAAAC8AAAAvAAAAPAAAADUAAAAxAAAAMAAAADwAAAAzAAAALwAAAC8AAAA9AAAANQAAADEA\n",
       "AAAwAAAAPQAAADQAAAAvAAAALwAAAD8AAAA4AAAAMQAAADMAAAA8AAAAPAAAADYAAAAxAAAAMgAA\n",
       "AEEAAABAAAAAOAAAADMAAAAxAAAAdAAAADcAAAAwAAAAMQAAAEsAAAA4AAAAMgAAADMAAAA+AAAA\n",
       "OAAAADIAAAAwAAAAQQAAADsAAAAxAAAANQAAAEAAAAA4AAAAMwAAADQAAAA8AAAANAAAADAAAAAw\n",
       "AAAAPAAAADQAAAAwAAAAMAAAAEEAAAA5AAAAMgAAADQAAABAAAAAOAAAADMAAAAwAAAAOwAAADQA\n",
       "AAAwAAAALwAAAD4AAAA1AAAAMAAAADEAAAA8AAAAPAAAADUAAAAyAAAALwAAADwAAAAzAAAALwAA\n",
       "AC8AAAA9AAAANQAAAC8AAAAxAAAAPAAAADUAAAAxAAAAMAAAADsAAAAzAAAALwAAAC8AAAA+AAAA\n",
       "NAAAAC8AAAAxAAAAPQAAADYAAAAxAAAAMAAAADwAAAA0AAAALwAAAC8AAAA+AAAANQAAAC8AAAAw\n",
       "AAAARQAAADYAAAAyAAAAMQAAAEIAAAA2AAAAMgAAADIAAAA9AAAANQAAADIAAAAwAAAAPQAAADYA\n",
       "AAAxAAAAMgAAAFUAAAA4AAAAMgAAADMAAAA9AAAAOQAAADQAAAA0AAAAOwAAADUAAAAxAAAAMQAA\n",
       "ADsAAAA5AAAAPgAAADoAAAA0AAAANQAAADwAAAA8AAAAOAAAADQAAAAxAAAAPAAAAD0AAAA4AAAA\n",
       "MwAAADMAAAA8AAAANgAAADIAAAAxAAAAPwAAADoAAAAyAAAAMwAAAD0AAAA3AAAAMgAAADEAAABB\n",
       "AAAANwAAADEAAAAzAAAAPwAAADgAAAAyAAAAMwAAAE4AAAA5AAAAMwAAACYAAAA/AAAAOQAAACQA\n",
       "AAAzAAAAQgAAADkAAAAzAAAANQAAADwAAAA3AAAAMwAAADEAAABYAAAAOAAAADEAAAAzAAAAPgAA\n",
       "ADgAAAAyAAAAMQAAAEIAAAA3AAAAMQAAADIAAAA9AAAAOQAAADMAAAAyAAAAPAAAADYAAAAxAAAA\n",
       "MgAAAEAAAAB2AAAAOwAAACUAAAAmAAAAPQAAADkAAAA0AAAAMgAAAEIAAAA4AAAAMgAAADUAAABL\n",
       "AAAAOAAAADQAAAAyAAAAOAAACdEAAADJAAAAhQAAAFMAAABMAAAAgQAAAFYAAABEAAAAPgAAAFEA\n",
       "AABGAAAAPgAAADsAAABHAAAARAAAADsAAAA8AAAARgAAAEkAAAA8AAAANAAAADIAAABDAAAAOwAA\n",
       "ADIAAAAzAAAAQgAAADwAAAA0AAAAMwAAAEYAAAA9AAAANgAAADUAAABEAAAAQAAAAC8AAAAiAAAA\n",
       "HAAAABUAAAAhAAAAIAAAAB4AAAAXAAAAFwAAACQAAAAdAAAAFgAAABUAAAAgAAAAKwAAACMAAAAd\n",
       "AAAAFQAAABUAAAAjAAAAIQAAAB8AAAAXAAAAFQAAAB0AAAAbAAAAFAAAABQAAAAhAAAAHAAAABQA\n",
       "AAAWAAAAJgAAAB4AAAAWAAAAFwAAACMAAAAdAAAAFgAAABYAAAAfAAAAHAAAABUAAAAVAAAAHwAA\n",
       "ABwAAAAUAAAAFgAAACUAAAAhAAAAGAAAABgAAAAfAAAAHAAAABUAAAAUAAAAHQAAABsAAAAUAAAA\n",
       "FAAAAEQAAAAeAAAAFwAAABcAAAAcAAAAGgAAAB0AAAAdAAAAHAAAACIAAAAdAAAAFQAAABUAAAAe\n",
       "AAAARAAAABwAAAATAAAAEwAAAEgAAAAbAAAAEwAAABMAAABQAAAAHAAAABMAAAAVAAAAXAAAABwA\n",
       "AAAVAAAAFAAAACMAAAAYAAAAEgAAABEAAAAeAAAAGgAAABMAAAATAAAAHQAAABgAAAARAAAAEQAA\n",
       "ACEAAAAbAAAAEwAAABQAAAAdAAAAGAAAABEAAAARAAAAIwAAABoAAAATAAAAEwAAACEAAAAcAAAA\n",
       "HgAAABsAAAATAAAAEwAAACIAAAAkAAAAHgAAABUAAAATAAAAVwAAABwAAAASAAAAFAAAAC8AAAAd\n",
       "AAAAFQAAABYAAAAgAAAAHQAAABUAAAATAAAAIwAAAB0AAAAUAAAAFgAAACUAAAAdAAAAFgAAABcA\n",
       "AAAdAAAAGQAAABMAAAASAAAAHQAAABkAAAASAAAAEwAAACMAAAAeAAAAFQAAABYAAAAjAAAAHQAA\n",
       "ABgAAAATAAAAHQAAABkAAAASAAAAEQAAACAAAAAaAAAAEgAAABMAAAAdAAAAHgAAABoAAAAUAAAA\n",
       "EQAAAB0AAAAYAAAAEgAAABIAAAAeAAAAGQAAABEAAAATAAAAHQAAABgAAAAUc3RjbwAAAAAAAAAB\n",
       "AAAAMAAAAGJ1ZHRhAAAAWm1ldGEAAAAAAAAAIWhkbHIAAAAAAAAAAG1kaXJhcHBsAAAAAAAAAAAA\n",
       "AAAALWlsc3QAAAAlqXRvbwAAAB1kYXRhAAAAAQAAAABMYXZmNTYuMzYuMTAw\n",
       "\" type=\"video/mp4\">\n",
       " Your browser does not support the video tag.\n",
       "</video>"
      ],
      "text/plain": [
       "<IPython.core.display.HTML object>"
      ]
     },
     "execution_count": 106,
     "metadata": {},
     "output_type": "execute_result"
    }
   ],
   "source": [
    "# -*- coding: UTF-8 -*-\n",
    "import math\n",
    "import matplotlib.pyplot as plt\n",
    "import matplotlib.animation as animation\n",
    "%matplotlib inline\n",
    "\n",
    "fig = plt.figure()\n",
    "\n",
    "ims = []\n",
    "for i in range(720):\n",
    "    rad = math.radians(i)\n",
    "    im = plt.scatter(math.cos(rad), math.sin(rad))\n",
    "    ims.append([im])\n",
    "\n",
    "ani = animation.ArtistAnimation(fig, ims, interval=1, repeat_delay=1000)\n",
    "\n",
    "display_animation(ani)"
   ]
  },
  {
   "cell_type": "code",
   "execution_count": null,
   "metadata": {
    "collapsed": true
   },
   "outputs": [],
   "source": []
  }
 ],
 "metadata": {
  "kernelspec": {
   "display_name": "Python 2",
   "language": "python",
   "name": "python2"
  },
  "language_info": {
   "codemirror_mode": {
    "name": "ipython",
    "version": 2
   },
   "file_extension": ".py",
   "mimetype": "text/x-python",
   "name": "python",
   "nbconvert_exporter": "python",
   "pygments_lexer": "ipython2",
   "version": "2.7.10"
  }
 },
 "nbformat": 4,
 "nbformat_minor": 0
}
