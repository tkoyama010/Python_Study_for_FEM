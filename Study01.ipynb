{
 "cells": [
  {
   "cell_type": "markdown",
   "metadata": {},
   "source": [
    "# 有限要素法のためのPython入門"
   ]
  },
  {
   "cell_type": "markdown",
   "metadata": {},
   "source": [
    "## 紹介する機能について\n",
    "\n",
    "PythonにはNumpy/Matplotlib/Scipy/Getfem++などのパッケージがあり、それらを組み合わせることにより容易に有限要素法のスクリプトを組むことができます。それぞれのパッケージに関しては各Wikipediaの内容を確認してください。\n",
    "\n",
    "Numpy (https://ja.wikipedia.org/wiki/NumPy)\n",
    "\n",
    "Matplotlib(https://ja.wikipedia.org/wiki/Matplotlib)\n",
    "\n",
    "Scipy (https://ja.wikipedia.org/wiki/SciPy)\n",
    "\n",
    "Getfem++ (https://ja.wikipedia.org/wiki/Getfem%2B%2B)\n",
    "\n",
    "それぞれのパッケージはPythonでは以下のように呼び出します。"
   ]
  },
  {
   "cell_type": "code",
   "execution_count": null,
   "metadata": {
    "collapsed": true
   },
   "outputs": [],
   "source": [
    "import numpy as np"
   ]
  },
  {
   "cell_type": "markdown",
   "metadata": {},
   "source": [
    "これで、これらのパッケージはそれぞれ、np/sp/gf/pltとしてインポートされました。\n",
    "各パッケージの機能は<module>.の後にタブキーを打つことで実行可能な関数などが表示されます。"
   ]
  },
  {
   "cell_type": "code",
   "execution_count": null,
   "metadata": {
    "collapsed": false
   },
   "outputs": [],
   "source": [
    "np."
   ]
  },
  {
   "cell_type": "code",
   "execution_count": null,
   "metadata": {
    "collapsed": true
   },
   "outputs": [],
   "source": [
    "np?"
   ]
  },
  {
   "cell_type": "markdown",
   "metadata": {},
   "source": [
    "## Numpyの学習 〜 密行列による線形解析〜\n",
    "\n",
    "本節ではNumpyのチュートリアル\n",
    "\n",
    "https://docs.scipy.org/doc/numpy-dev/user/quickstart.html\n",
    "\n",
    "の内容を解説します。"
   ]
  },
  {
   "cell_type": "markdown",
   "metadata": {},
   "source": [
    "### 配列の作成\n",
    "numpyを使用する利点としては多次元配列の操作が容易になることがあげられます。 numpyの配列のクラスはndarrayと呼ばれています。ndarrayの主なプロパティには主に以下のものがあります。\n",
    "\n",
    "\n",
    "<img src=\"http://docs.scipy.org/doc/numpy-1.10.0/_images/threefundamental.png\">\n",
    "\n",
    "#### ndarray.ndim\n",
    "配列の次元\n",
    "\n",
    "#### ndarray.shape\n",
    "配列の形状。n行m列の行列については、 形状 （M、N）となります 。\n",
    "\n",
    "#### ndarray.size\n",
    "配列の要素数の合計。\n",
    "\n",
    "#### ndarray.dtype\n",
    "配列の要素のタイプ。numpy.int32、numpy.int16、およびnumpy.float64などがあります。\n",
    "\n",
    "#### ndarray.itemsize\n",
    "配列の各要素のサイズ（バイト単位）。 \n",
    "\n",
    "#### ndarray.data\n",
    "配列の実際の要素を含むバッファー。 インデックスで配列の要素にアクセスするため、このプロパティを使用する必要はありません。\n"
   ]
  },
  {
   "cell_type": "markdown",
   "metadata": {},
   "source": [
    "#### 例\n",
    "\n",
    "実際に配列を定義してみます。例えば、ベクトル$b = \\left\\{ \\begin{array}{c}6\\\\7\\\\8\\end{array}\\right\\}$と$A=\\left[\\begin{array}{ccc}\n",
    "1 & 2 & 0\\\\\n",
    "2 & 5 & 6\\\\\n",
    "0 & 6 & 9\n",
    "\\end{array}\\right]$の行列を定義したい場合には次のように定義します。"
   ]
  },
  {
   "cell_type": "code",
   "execution_count": null,
   "metadata": {
    "collapsed": false
   },
   "outputs": [],
   "source": [
    "b = np.array([6, 7, 8])\n",
    "A = np.array([[1, 2, 0],[2, 5, 6],[0, 6, 9]])\n",
    "# bを出力します\n",
    "print \"b =\"\n",
    "print b\n",
    "# Aを出力します\n",
    "print \"A =\"\n",
    "print A"
   ]
  },
  {
   "cell_type": "markdown",
   "metadata": {},
   "source": [
    "np.arrayについて詳細を確認したい場合は次のようにコマンドを入力します。"
   ]
  },
  {
   "cell_type": "code",
   "execution_count": null,
   "metadata": {
    "collapsed": false
   },
   "outputs": [],
   "source": [
    "np.array?"
   ]
  },
  {
   "cell_type": "markdown",
   "metadata": {},
   "source": [
    "このコマンドを入力するとコマンドの呼び出し方法・目的・パラメータの説明が出てきます。\n",
    "詳細説明から分かるようにarrayには先ほど指定したobject以外にも引数があります。この引数のなかで\"引数=\"となっているものはデフォルト引数と呼ばれ指定されない場合は説明に書かれた値が使用されます。\n",
    "\n",
    "デフォルト引数を変更したい場合には以下のように指定します。"
   ]
  },
  {
   "cell_type": "code",
   "execution_count": null,
   "metadata": {
    "collapsed": false
   },
   "outputs": [],
   "source": [
    "A = np.array([[1, 2, 0],[2, 5, 6],[0, 6, 9]], dtype=complex)\n",
    "print A"
   ]
  },
  {
   "cell_type": "markdown",
   "metadata": {},
   "source": [
    "dtypeは詳細説明にもあるとおりarrayのデータ型を指定する引数です。これを\"dtype=complex\"としているため今回は複素数の行列が作成されています。"
   ]
  },
  {
   "cell_type": "markdown",
   "metadata": {},
   "source": [
    "#### 図の出力\n",
    "\n",
    "ipoython notebookで2次元の図を出力する場合にはmatplotlibが使われます。\n",
    "\n",
    "https://ja.wikipedia.org/wiki/Matplotlib\n",
    "\n",
    "以下のようにモジュールを呼び出します。２行目の\"%matplotlib inline\"はmatplotlibの図をiPython Notebook内で描写したグラフを展開するためのものです。"
   ]
  },
  {
   "cell_type": "code",
   "execution_count": null,
   "metadata": {
    "collapsed": true
   },
   "outputs": [],
   "source": [
    "from matplotlib import pylab as plt\n",
    "%matplotlib inline"
   ]
  },
  {
   "cell_type": "code",
   "execution_count": null,
   "metadata": {
    "collapsed": false
   },
   "outputs": [],
   "source": [
    "plt.plot(b)"
   ]
  },
  {
   "cell_type": "markdown",
   "metadata": {},
   "source": [
    "### 線形代数\n",
    "Numpyの線形代数に関する関数はnp.linalg以下にあります。"
   ]
  },
  {
   "cell_type": "code",
   "execution_count": null,
   "metadata": {
    "collapsed": true
   },
   "outputs": [],
   "source": [
    "np.linalg?"
   ]
  },
  {
   "cell_type": "markdown",
   "metadata": {},
   "source": [
    "例えば、先ほど作成した行列$A$の逆行列を計算したい場合はinv関数を使用します。"
   ]
  },
  {
   "cell_type": "code",
   "execution_count": null,
   "metadata": {
    "collapsed": true
   },
   "outputs": [],
   "source": [
    "np.linalg.inv?"
   ]
  },
  {
   "cell_type": "code",
   "execution_count": null,
   "metadata": {
    "collapsed": false
   },
   "outputs": [],
   "source": [
    "AA = np.linalg.inv(A)\n",
    "print AA"
   ]
  },
  {
   "cell_type": "markdown",
   "metadata": {},
   "source": [
    "Aに対して行列積(np.dot)を行うと以下のように単位行列が作成されます。これにより正しく逆行列が計算されることがわかります。"
   ]
  },
  {
   "cell_type": "code",
   "execution_count": null,
   "metadata": {
    "collapsed": true
   },
   "outputs": [],
   "source": [
    "np.dot?"
   ]
  },
  {
   "cell_type": "code",
   "execution_count": null,
   "metadata": {
    "collapsed": false
   },
   "outputs": [],
   "source": [
    "np.dot(A,AA)"
   ]
  },
  {
   "cell_type": "markdown",
   "metadata": {},
   "source": [
    "また、逆行列だけでなく固有値解析の実行も可能です。"
   ]
  },
  {
   "cell_type": "code",
   "execution_count": null,
   "metadata": {
    "collapsed": false
   },
   "outputs": [],
   "source": [
    "a, V = np.linalg.eig(A)\n",
    "# 固有値を出力します\n",
    "print \"固有値=\"\n",
    "print a\n",
    "# 固有値ベクトル\n",
    "print \"固有ベクトル=\"\n",
    "print V\n",
    "plt.plot(V[:,0])\n",
    "plt.plot(V[:,1])"
   ]
  },
  {
   "cell_type": "markdown",
   "metadata": {},
   "source": [
    "## Scipyの学習〜疎行列による線形代数〜\n",
    "\n",
    "ScipyはNumPyを基盤にした科学計算ライブラリです。本節ではScipyのチュートリアル\n",
    "\n",
    "http://docs.scipy.org/doc/scipy/reference/tutorial/\n",
    "\n",
    "の内容のうち、疎行列による線形代数関係のライブラリの説明をします。"
   ]
  },
  {
   "cell_type": "code",
   "execution_count": null,
   "metadata": {
    "collapsed": false
   },
   "outputs": [],
   "source": [
    "import numpy as np\n",
    "from scipy import sparse"
   ]
  },
  {
   "cell_type": "code",
   "execution_count": null,
   "metadata": {
    "collapsed": true
   },
   "outputs": [],
   "source": [
    "sparse?"
   ]
  },
  {
   "cell_type": "markdown",
   "metadata": {},
   "source": [
    "Scipyで疎行列を操作する際にはNumpyで使用していたarrayオブジェクトとは別のオブジェクトを使用します。疎行列に使用されているオブジェクトは複数あり、相互に変換可能ですが今回はcoo_matrixオブジェクトを紹介します。"
   ]
  },
  {
   "cell_type": "code",
   "execution_count": null,
   "metadata": {
    "collapsed": true
   },
   "outputs": [],
   "source": [
    "# A sparse matrix in COOrdinate format\n",
    "sparse.coo_matrix?"
   ]
  },
  {
   "cell_type": "code",
   "execution_count": null,
   "metadata": {
    "collapsed": false
   },
   "outputs": [],
   "source": [
    "A = np.array([[1, 2, 0],[2, 5, 6],[0, 6, 9]], dtype=complex)\n",
    "# 行のインデックス\n",
    "I = np.array([0,0,1,1,1,2,2])\n",
    "# 列のインデックス\n",
    "J = np.array([0,1,0,1,2,1,2])\n",
    "# 値\n",
    "V = np.array([1,2,2,5,6,6,9])\n",
    "A = sparse.coo_matrix((V,(I,J)),shape=(3,3))\n",
    "print A"
   ]
  },
  {
   "cell_type": "markdown",
   "metadata": {},
   "source": [
    "以上のように各インデックスに値の入った疎行列が作成されます。また、これらの疎行列はファイルへの保存と読み込みが可能です。"
   ]
  },
  {
   "cell_type": "code",
   "execution_count": null,
   "metadata": {
    "collapsed": true
   },
   "outputs": [],
   "source": [
    "from scipy import io"
   ]
  },
  {
   "cell_type": "code",
   "execution_count": null,
   "metadata": {
    "collapsed": true
   },
   "outputs": [],
   "source": [
    "io?"
   ]
  },
  {
   "cell_type": "markdown",
   "metadata": {},
   "source": [
    "ここではMatrix Market形式(http://math.nist.gov/MatrixMarket/formats.html)\n",
    "で書き出しを行ってみます。"
   ]
  },
  {
   "cell_type": "code",
   "execution_count": null,
   "metadata": {
    "collapsed": false
   },
   "outputs": [],
   "source": [
    "from scipy import io"
   ]
  },
  {
   "cell_type": "code",
   "execution_count": null,
   "metadata": {
    "collapsed": true
   },
   "outputs": [],
   "source": [
    "io.mmwrite(\"A.mtx\", A)"
   ]
  },
  {
   "cell_type": "markdown",
   "metadata": {},
   "source": [
    "ファイルの中身を出力してみるとMatrix Market形式で正しく出力されていることがわかります。"
   ]
  },
  {
   "cell_type": "code",
   "execution_count": null,
   "metadata": {
    "collapsed": false
   },
   "outputs": [],
   "source": [
    "%cat A.mtx"
   ]
  },
  {
   "cell_type": "markdown",
   "metadata": {},
   "source": [
    "また、既存のファイルを読み込んで新しく行列を作成することも可能です。"
   ]
  },
  {
   "cell_type": "code",
   "execution_count": null,
   "metadata": {
    "collapsed": true
   },
   "outputs": [],
   "source": [
    "B = io.mmread(\"A.mtx\")"
   ]
  },
  {
   "cell_type": "code",
   "execution_count": null,
   "metadata": {
    "collapsed": false
   },
   "outputs": [],
   "source": [
    "print B"
   ]
  },
  {
   "cell_type": "markdown",
   "metadata": {},
   "source": [
    "### 疎行列の線形代数"
   ]
  },
  {
   "cell_type": "markdown",
   "metadata": {},
   "source": [
    "以上では、Pythonによる密行列の線形代数までを紹介してきました。しかしながら、有限要素法計算の際にはメモリ節約のため疎行列計算が行われます。その際にはscipyのsparseパッケージとその下のlinalgパッケージを使用します。"
   ]
  },
  {
   "cell_type": "code",
   "execution_count": null,
   "metadata": {
    "collapsed": false
   },
   "outputs": [],
   "source": [
    "import scipy as sp\n",
    "from scipy.sparse import linalg"
   ]
  },
  {
   "cell_type": "code",
   "execution_count": null,
   "metadata": {
    "collapsed": true
   },
   "outputs": [],
   "source": [
    "linalg?"
   ]
  },
  {
   "cell_type": "markdown",
   "metadata": {},
   "source": [
    "密行列と同じ操作を疎行列の線形代数パッケージで実行します。"
   ]
  },
  {
   "cell_type": "code",
   "execution_count": null,
   "metadata": {
    "collapsed": false
   },
   "outputs": [],
   "source": [
    "A  = A.tocsc()\n",
    "AA = linalg.inv(A)\n",
    "print AA"
   ]
  },
  {
   "cell_type": "markdown",
   "metadata": {},
   "source": [
    "密行列の場合は行列積が\"*\"になりますので注意してください。先ほどと同じように単位行列が逆行列との積で得られます。"
   ]
  },
  {
   "cell_type": "code",
   "execution_count": null,
   "metadata": {
    "collapsed": false
   },
   "outputs": [],
   "source": [
    "print A*AA"
   ]
  },
  {
   "cell_type": "markdown",
   "metadata": {},
   "source": [
    "また、固有値解析も少し複雑ですが以下のように計算できます。"
   ]
  },
  {
   "cell_type": "code",
   "execution_count": null,
   "metadata": {
    "collapsed": false
   },
   "outputs": [],
   "source": [
    "X = sp.rand(A.shape[0], 3)\n",
    "linalg.lobpcg(A,X)"
   ]
  },
  {
   "cell_type": "code",
   "execution_count": null,
   "metadata": {
    "collapsed": true
   },
   "outputs": [],
   "source": [
    "sp.rand?"
   ]
  },
  {
   "cell_type": "code",
   "execution_count": null,
   "metadata": {
    "collapsed": false
   },
   "outputs": [],
   "source": [
    "linalg.lobpcg?"
   ]
  },
  {
   "cell_type": "markdown",
   "metadata": {},
   "source": [
    "密行列の場合と同じ計算結果になることが確認できます。"
   ]
  },
  {
   "cell_type": "markdown",
   "metadata": {},
   "source": [
    "## Getfem++の学習"
   ]
  },
  {
   "cell_type": "code",
   "execution_count": null,
   "metadata": {
    "collapsed": true
   },
   "outputs": [],
   "source": [
    "import getfem as gf"
   ]
  },
  {
   "cell_type": "markdown",
   "metadata": {},
   "source": [
    "本節ではメッシュ作成とそれを離散化した行列を作成するパッケージGetfem++について説明します。必要となるオブジェクトは以下の図に示すものになります。"
   ]
  },
  {
   "cell_type": "markdown",
   "metadata": {},
   "source": [
    "<img src=\"http://download.gna.org/getfem/html/homepage/_images/getfem_structure1.png\">"
   ]
  },
  {
   "cell_type": "markdown",
   "metadata": {},
   "source": [
    "#### Femオブジェクト \n",
    "有限要素で何を使用するかを指定する。(ラグランジュ要素Pk、Qkなど)\n",
    "\n",
    "#### Meshオブジェクト\n",
    "メッシュの指定(point:節点とconvex:要素などから作られる)\n",
    "\n",
    "#### Integオブジェクト\n",
    "積分方法を指定する。\n",
    "\n",
    "#### MeshFemオブジェクト\n",
    "メッシュの要素に対してFemを設定したオブジェクト、自由度数などの情報も設定する。\n",
    "\n",
    "#### MeshImオブジェクト\n",
    "メッシュの要素に対して積分方法を指定したオブジェクト\n",
    "\n",
    "#### Assemblyオブジェクト\n",
    "離散化した行列組み立てのためのオブジェクト。MeshFemとMeshImを基に作成する。\n",
    "\n",
    "#### Modelオブジェクト\n",
    "モデル全体の情報を設定するオブジェクト。今回は未使用。\n"
   ]
  },
  {
   "cell_type": "markdown",
   "metadata": {},
   "source": [
    "まずは１次元のからのMeshオブジェクトを作成します。"
   ]
  },
  {
   "cell_type": "code",
   "execution_count": null,
   "metadata": {
    "collapsed": true
   },
   "outputs": [],
   "source": [
    "gf.Mesh?"
   ]
  },
  {
   "cell_type": "markdown",
   "metadata": {},
   "source": [
    "今回はマニュアルに従って１次元のメッシュを作成します。"
   ]
  },
  {
   "cell_type": "code",
   "execution_count": null,
   "metadata": {
    "collapsed": true
   },
   "outputs": [],
   "source": [
    "m = gf.Mesh('empty', 1)"
   ]
  },
  {
   "cell_type": "markdown",
   "metadata": {},
   "source": [
    "要素を追加していきます。(add_convexメソッド)"
   ]
  },
  {
   "cell_type": "code",
   "execution_count": null,
   "metadata": {
    "collapsed": true
   },
   "outputs": [],
   "source": [
    "m.add_convex?"
   ]
  },
  {
   "cell_type": "markdown",
   "metadata": {},
   "source": [
    "GeoTransが必要であることが分かりましたので、GeoTransのマニュアルも確認します。"
   ]
  },
  {
   "cell_type": "code",
   "execution_count": null,
   "metadata": {
    "collapsed": true
   },
   "outputs": [],
   "source": [
    "gf.GeoTrans?"
   ]
  },
  {
   "cell_type": "markdown",
   "metadata": {},
   "source": [
    "座標 x = 0.0からx = 2.0の間に平行６面体要素を追加します。"
   ]
  },
  {
   "cell_type": "code",
   "execution_count": null,
   "metadata": {
    "collapsed": false
   },
   "outputs": [],
   "source": [
    "m.add_convex(gf.GeoTrans('GT_QK(1,1)'),[[0,2]])"
   ]
  },
  {
   "cell_type": "code",
   "execution_count": null,
   "metadata": {
    "collapsed": false
   },
   "outputs": [],
   "source": [
    "m.add_convex(gf.GeoTrans('GT_QK(1,1)'),[[2,4]])"
   ]
  },
  {
   "cell_type": "markdown",
   "metadata": {},
   "source": [
    "メッシュmに２つの要素が追加されました。"
   ]
  },
  {
   "cell_type": "code",
   "execution_count": null,
   "metadata": {
    "collapsed": false
   },
   "outputs": [],
   "source": [
    "print m"
   ]
  },
  {
   "cell_type": "code",
   "execution_count": null,
   "metadata": {
    "collapsed": true
   },
   "outputs": [],
   "source": [
    "mfu = gf.MeshFem(m,1) # 変位用MeshFem\n",
    "mfd = gf.MeshFem(m,1) # データ用MeshFem"
   ]
  },
  {
   "cell_type": "code",
   "execution_count": null,
   "metadata": {
    "collapsed": true
   },
   "outputs": [],
   "source": [
    "mfu.set_fem(gf.Fem('FEM_QK(1,1)'))\n",
    "mfd.set_fem(gf.Fem('FEM_QK(1,1)'))"
   ]
  },
  {
   "cell_type": "code",
   "execution_count": null,
   "metadata": {
    "collapsed": true
   },
   "outputs": [],
   "source": [
    "gf.Integ?"
   ]
  },
  {
   "cell_type": "code",
   "execution_count": null,
   "metadata": {
    "collapsed": true
   },
   "outputs": [],
   "source": [
    "im = gf.Integ('IM_GAUSS1D(1)')"
   ]
  },
  {
   "cell_type": "code",
   "execution_count": null,
   "metadata": {
    "collapsed": true
   },
   "outputs": [],
   "source": [
    "mim = gf.MeshIm(m, im)"
   ]
  },
  {
   "cell_type": "code",
   "execution_count": null,
   "metadata": {
    "collapsed": true
   },
   "outputs": [],
   "source": [
    "gf.asm_linear_elasticity?"
   ]
  },
  {
   "cell_type": "code",
   "execution_count": null,
   "metadata": {
    "collapsed": true
   },
   "outputs": [],
   "source": [
    "gf.asm_mass_matrix?"
   ]
  },
  {
   "cell_type": "code",
   "execution_count": null,
   "metadata": {
    "collapsed": true
   },
   "outputs": [],
   "source": [
    "K = gf.asm_linear_elasticity(mim, mfu, mfd, np.array([1.0, 1.0, 1.0]), np.array([1.0, 1.0, 1.0]))"
   ]
  },
  {
   "cell_type": "code",
   "execution_count": null,
   "metadata": {
    "collapsed": false
   },
   "outputs": [],
   "source": [
    "print \"剛性行列の計算\"\n",
    "print K.full()\n",
    "M = gf.asm_mass_matrix(mim, mfu)\n",
    "print \"質量行列の計算\"\n",
    "print M.full()"
   ]
  },
  {
   "cell_type": "markdown",
   "metadata": {},
   "source": [
    "以上により作成した剛性マトリックスと質量マトリックスはSpmatというGetfem++独自の行列オブジェクトで、先ほど紹介したMatrixMarketのフォーマットに出力するメソッドも備えています。"
   ]
  },
  {
   "cell_type": "code",
   "execution_count": null,
   "metadata": {
    "collapsed": true
   },
   "outputs": [],
   "source": [
    "K?"
   ]
  },
  {
   "cell_type": "code",
   "execution_count": null,
   "metadata": {
    "collapsed": true
   },
   "outputs": [],
   "source": [
    "K.save('mm', \"K.mtx\")\n",
    "M.save('mm', \"M.mtx\")"
   ]
  },
  {
   "cell_type": "code",
   "execution_count": null,
   "metadata": {
    "collapsed": true
   },
   "outputs": [],
   "source": [
    "K = io.mmread(\"K.mtx\")\n",
    "M = io.mmread(\"M.mtx\")"
   ]
  },
  {
   "cell_type": "code",
   "execution_count": null,
   "metadata": {
    "collapsed": false
   },
   "outputs": [],
   "source": [
    "print \"K = \"\n",
    "print K\n",
    "print \"M = \"\n",
    "print M"
   ]
  },
  {
   "cell_type": "markdown",
   "metadata": {},
   "source": [
    "このようにScipyの疎行列に容易に変換できます。そのため、Scipyを使用した連立方程式の計算や固有値解析を行うことにより有限要素法の解析が可能となります。"
   ]
  },
  {
   "cell_type": "code",
   "execution_count": null,
   "metadata": {
    "collapsed": false
   },
   "outputs": [],
   "source": [
    "a = np.ones((2,3), dtype=int)\n",
    "b = np.random.random((2,3))\n",
    "a *= 3\n",
    "a"
   ]
  },
  {
   "cell_type": "code",
   "execution_count": null,
   "metadata": {
    "collapsed": false
   },
   "outputs": [],
   "source": [
    "b += a\n",
    "b"
   ]
  },
  {
   "cell_type": "markdown",
   "metadata": {},
   "source": [
    "異なる型の配列で動作している場合、結果の配列の型は、より一般的または正確な1（アップキャストとして知られる動作）に相当します。"
   ]
  },
  {
   "cell_type": "code",
   "execution_count": null,
   "metadata": {
    "collapsed": false
   },
   "outputs": [],
   "source": [
    "a = np.ones(3, dtype=np.int32)\n",
    "b = np.linspace(0,np.pi,3)\n",
    "b.dtype.name"
   ]
  },
  {
   "cell_type": "code",
   "execution_count": null,
   "metadata": {
    "collapsed": false
   },
   "outputs": [],
   "source": [
    "c = a+b\n",
    "c"
   ]
  },
  {
   "cell_type": "code",
   "execution_count": null,
   "metadata": {
    "collapsed": false
   },
   "outputs": [],
   "source": [
    "c.dtype.name"
   ]
  },
  {
   "cell_type": "code",
   "execution_count": null,
   "metadata": {
    "collapsed": false
   },
   "outputs": [],
   "source": [
    "d = np.exp(c*1j)\n",
    "d"
   ]
  },
  {
   "cell_type": "code",
   "execution_count": null,
   "metadata": {
    "collapsed": false
   },
   "outputs": [],
   "source": [
    "d.dtype.name"
   ]
  },
  {
   "cell_type": "markdown",
   "metadata": {},
   "source": [
    "そのような配列のすべての要素の合計を計算などの多くの単項演算は、ndarrayクラスのメソッドとして実装されています。"
   ]
  },
  {
   "cell_type": "markdown",
   "metadata": {},
   "source": [
    "それは関係なく、その形状の、番号のリストであるかのようにデフォルトでは、これらの操作は、アレイに適用されます。 しかし、 軸パラメータを指定することで、あなたは配列の指定した軸に沿って操作を適用することができます。"
   ]
  },
  {
   "cell_type": "markdown",
   "metadata": {},
   "source": [
    "### ユニバーサル機能\n",
    "\n",
    "numpyのは、罪、COS、およびEXPなどの使い慣れた数学関数を提供します。 numpyのでは、これらは「ユニバーサル機能」（ufunc）と呼ばれています。 numpyの中では、これらの機能は、出力として、配列を生成する、アレイ上の要素ごとに動作します。"
   ]
  },
  {
   "cell_type": "markdown",
   "metadata": {},
   "source": [
    "参照してください。:\n",
    "\n",
    "all , any , apply_along_axis , argmax , argmin , argsort , average , bincount , ceil , clip , conj , corrcoef , cov , cross , cumprod , cumsum , diff , dot , floor , inner , inv , lexsort , max , maximum , mean , median , min , minimum , nonzero , outer , prod , re , round , sort , std , sum , trace , transpose , var , vdot , vectorize , where"
   ]
  },
  {
   "cell_type": "markdown",
   "metadata": {},
   "source": [
    "### インデックス、スライスと反復処理\n",
    "一次元配列は、インデックス付きのスライスと同じよう、巡回できないリストや他のPythonシーケンス。"
   ]
  },
  {
   "cell_type": "markdown",
   "metadata": {},
   "source": [
    "多次元配列は、軸ごとに一つのインデックスを持つことができます。 これらの指標は、カンマで区切られたタプルに記載されています："
   ]
  },
  {
   "cell_type": "markdown",
   "metadata": {},
   "source": [
    "少ないインデックスは軸の数より提供されている場合には、不足しているインデックスは、完全なスライスとみなされます。"
   ]
  },
  {
   "cell_type": "markdown",
   "metadata": {},
   "source": [
    "残りの軸を表すために、必要に応じて：B [i]の中括弧内の式は、以下のように多くのインスタンスが続く私として扱われます。 numpyのは、また、bと 、この使用してドットを書き込むことができます[I、...]。\n",
    "\n",
    "完全な索引付けタプルを生成するために必要なドット （...）は、のような多くのコロンを表します。 xはランク5アレイである場合たとえば、その後、（すなわち、それは5の軸があります）\n",
    "\n",
    "* 、[：、：、1,2]×[1,2、...]は 、xと等価です\n",
    "\n",
    "* X [...]、[3] xに[：、：、：、：、3]と\n",
    "\n",
    "* X [4、...、5 ,:] xに[4、：、：、5 ,:]。"
   ]
  },
  {
   "cell_type": "markdown",
   "metadata": {},
   "source": [
    "多次元配列の繰り返し処理は、最初の軸に対して行われます。"
   ]
  },
  {
   "cell_type": "code",
   "execution_count": null,
   "metadata": {
    "collapsed": false
   },
   "outputs": [],
   "source": [
    "import numpy as np\n",
    "a = np.array([[1.0, 2.0], [3.0, 4.0]])\n",
    "print(a)"
   ]
  },
  {
   "cell_type": "markdown",
   "metadata": {},
   "source": [
    "1は、配列の各要素に対して操作を実行したい場合は、1があるフラット属性を使用することができますイテレータ配列のすべての要素の上に："
   ]
  },
  {
   "cell_type": "markdown",
   "metadata": {},
   "source": [
    "参照してください。 :\n",
    "\n",
    "インデックス 、 インデックス （参照）、newaxis、ndenumerate、 インデックス"
   ]
  },
  {
   "cell_type": "markdown",
   "metadata": {},
   "source": [
    "### 異なるアレイを一緒にスタッキング\n",
    "\n",
    "複数のアレイは異なる軸に沿って互いに積層することができます。"
   ]
  },
  {
   "cell_type": "markdown",
   "metadata": {},
   "source": [
    "機能column_stack 2次元配列に列として1D配列をスタックします。 それはすることと等価であるvstackのみ1Dアレイに："
   ]
  },
  {
   "cell_type": "markdown",
   "metadata": {},
   "source": [
    "次元以上、との配列の場合hstack彼らの第二の軸に沿ってスタック、vstack彼らの最初の軸に沿ってスタック、およびCONCATENATEは連結が起こるはずそれに沿って軸の数を与えるオプションの引数を可能にします。"
   ]
  },
  {
   "cell_type": "markdown",
   "metadata": {},
   "source": [
    "#### 注意\n",
    "\n",
    "複雑なケースでは、 R_及びC_は、 1つの軸に沿って番号を積層してアレイを作成するために有用です。 彼らは範囲リテラルの使用を許可します（ \"：\"）："
   ]
  },
  {
   "cell_type": "markdown",
   "metadata": {},
   "source": [
    "引数として配列を使用するとR_とC_に似てvstackとhstackデフォルトの動作ではなく、連結するために沿った軸の数を与えるオプションの引数を可能にします。"
   ]
  },
  {
   "cell_type": "markdown",
   "metadata": {},
   "source": [
    "参照してください。 \n",
    "hstack、vstack、column_stack、 連結 、C_、R_"
   ]
  },
  {
   "cell_type": "markdown",
   "metadata": {},
   "source": [
    "### いくつかの小さなものにつのアレイを分割する\n",
    "\n",
    "使用hsplitを 、あなたは、どちらか、またはその後の分割が発生した列を指定して返すように均等に形配列の数を指定することで、横軸に沿って配列を分割することができます："
   ]
  },
  {
   "cell_type": "markdown",
   "metadata": {},
   "source": [
    "vsplitは、垂直軸に沿って分割し、array_splitは 1がどの分割する軸に沿って指定することができます。"
   ]
  },
  {
   "cell_type": "markdown",
   "metadata": {},
   "source": [
    "## コピーとビュー\n",
    "動作し、配列を操作すると、そのデータは、時には新しい配列にコピーされ、時にはされていません。 これは多くの場合、初心者のための混乱の源です。 3つのケースがあります。\n",
    "\n",
    "### まったくコピーしない\n",
    "\n",
    "単純な割り当ては、配列オブジェクトまたはそのデータのないコピーを作成しません。"
   ]
  },
  {
   "cell_type": "markdown",
   "metadata": {},
   "source": [
    "Pythonは参照として変更可能なオブジェクトを渡すので、関数呼び出しにはコピーを行いません。"
   ]
  },
  {
   "cell_type": "markdown",
   "metadata": {},
   "source": [
    "### 表示または浅いコピー\n",
    "\n",
    "異なる配列オブジェクトは、同じデータを共有することができます。 ビューの方法は、同じデータを見て、新しい配列オブジェクトを作成します。"
   ]
  },
  {
   "cell_type": "markdown",
   "metadata": {},
   "source": [
    "配列をスライスすると、それのビューを返します。"
   ]
  },
  {
   "cell_type": "markdown",
   "metadata": {},
   "source": [
    "### ディープコピー\n",
    "\n",
    "コピー方法は、配列とそのデータの完全なコピーを作成します。"
   ]
  },
  {
   "cell_type": "markdown",
   "metadata": {},
   "source": [
    "### 関数とメソッドの概要"
   ]
  },
  {
   "cell_type": "markdown",
   "metadata": {},
   "source": [
    "ここでのカテゴリの注文いくつかの有用なnumpyの関数やメソッド名のリストです。 参照ルーチンを完全なリストについて。"
   ]
  },
  {
   "cell_type": "markdown",
   "metadata": {},
   "source": [
    "#### アレイの作成\n",
    "arange , array , copy , empty , empty_like , eye , fromfile , fromfunction , identity , linspace , logspace , mgrid , ogrid , ones , ones_like , r , zeros , zeros_like"
   ]
  },
  {
   "cell_type": "markdown",
   "metadata": {},
   "source": [
    "#### 変換\n",
    "ndarray.astype、atleast_1d、atleast_2d、atleast_3d、 マット"
   ]
  },
  {
   "cell_type": "markdown",
   "metadata": {},
   "source": [
    "#### 操作\n",
    "array_split , column_stack , concatenate , diagonal , dsplit , dstack , hsplit , hstack , ndarray.item , newaxis , ravel , repeat , reshape , resize , squeeze , swapaxes , take , transpose , vsplit , vstack\n"
   ]
  },
  {
   "cell_type": "markdown",
   "metadata": {},
   "source": [
    "#### 質問\n",
    "すべての 、 任意の 、 ゼロ以外 、 どこ"
   ]
  },
  {
   "cell_type": "markdown",
   "metadata": {},
   "source": [
    "#### 注文\n",
    "ARGMAX、argmin、argsort、 最大、最小 、PTP、searchsorted、 ソート"
   ]
  },
  {
   "cell_type": "markdown",
   "metadata": {},
   "source": [
    "#### 事業\n",
    "選択し 、 圧縮し 、cumprod、CUMSUM、 インナー 、ndarray.fill、IMAG、PROD、 置く 、PutMaskですです、本当の、合計"
   ]
  },
  {
   "cell_type": "markdown",
   "metadata": {},
   "source": [
    "#### 基礎統計学\n",
    "COV、 平均 、STD、VAR"
   ]
  },
  {
   "cell_type": "markdown",
   "metadata": {},
   "source": [
    "#### 基本線形代数\n",
    "クロス 、 ドット 、 アウター 、linalg.svd、 州交通省"
   ]
  },
  {
   "cell_type": "markdown",
   "metadata": {},
   "source": [
    "## 少ない基本"
   ]
  },
  {
   "cell_type": "markdown",
   "metadata": {},
   "source": [
    "### ルールの番組\n",
    "放送は、普遍的な機能は全く同じ形状を有していない入力に有意義な方法で対処することができます。\n",
    "\n",
    "放送の最初のルールは、すべての入力配列は、次元の数が同じでない場合は、すべての配列は、次元の数が同じになるまで、 \"1\"を繰り返し小さなアレイの形状の前に追加されるということです。\n",
    "\n",
    "放送の二番目のルールは、特定のディメンションの行為に沿っ1の大きさの配列が、彼らはその次元に沿って最大の形状に配列のサイズを持っていたかのようにことを保証します。 配列要素の値は、「ブロードキャスト」アレイのその次元に沿って同じであると仮定されます。\n",
    "\n",
    "放送ルールを適用した後、すべての配列のサイズが一致している必要があります。 詳細はで見つけることができる放送 。"
   ]
  },
  {
   "cell_type": "markdown",
   "metadata": {},
   "source": [
    "## ファンシーインデックスとインデックストリック\n",
    "numpyのは、通常のPython配列以上のインデックス作成の施設を提供しています。 我々の前に見たように、整数とスライスによってインデックス付けに加えて、配列は整数とブール値の配列の配列によってインデックス付けすることができます。"
   ]
  },
  {
   "cell_type": "markdown",
   "metadata": {},
   "source": [
    "### インデックスの配列とインデックス"
   ]
  },
  {
   "cell_type": "markdown",
   "metadata": {},
   "source": [
    "インデックス付きの配列 a が多次元である場合には、インデックスの単一のアレイは、最初の寸法を指します。 次の例では、パレットを使用してカラー画像にラベルの画像を変換することによって、この動作を示しています。"
   ]
  },
  {
   "cell_type": "markdown",
   "metadata": {},
   "source": [
    "また、複数の次元のインデックスを与えることができます。 各次元のインデックスの配列は、同じ形状を有していなければなりません。"
   ]
  },
  {
   "cell_type": "markdown",
   "metadata": {},
   "source": [
    "当然のことながら、私たちは順番にiとj を入れて （リストと言う）し、リストにインデックス付けを行うことができます。"
   ]
  },
  {
   "cell_type": "markdown",
   "metadata": {},
   "source": [
    "しかし、我々は、この配列は、最初の次元をインデックスすると解釈されるため、配列にiとj を置くことによってこれを行うことはできません。"
   ]
  },
  {
   "cell_type": "markdown",
   "metadata": {},
   "source": [
    "アレイとインデックス作成のもう一つの一般的な使用は、時間に依存する一連の最大値の検索です。"
   ]
  },
  {
   "cell_type": "markdown",
   "metadata": {},
   "source": [
    "また、に割り当てる対象として配列とインデックス付けを使用することができます。"
   ]
  },
  {
   "cell_type": "markdown",
   "metadata": {},
   "source": [
    "インデックスのリストが繰り返しが含まれている場合ただし、割り当ては最後の値を残し、数回行われます。"
   ]
  },
  {
   "cell_type": "markdown",
   "metadata": {},
   "source": [
    "これは十分に合理的ですが、あなたはそれが何を期待しないこととして、Pythonの+ =構文を使用する場合は気をつけてください："
   ]
  },
  {
   "cell_type": "markdown",
   "metadata": {},
   "source": [
    "0は、インデックスのリストに2回出現するにもかかわらず、0番目の要素は一度だけインクリメントされます。 Pythonは「A = A + 1」に相当すると「+ = 1 A」を必要とするからです。"
   ]
  },
  {
   "cell_type": "markdown",
   "metadata": {},
   "source": [
    "## ブール配列とインデックス"
   ]
  },
  {
   "cell_type": "markdown",
   "metadata": {},
   "source": [
    "（整数）のインデックスの配列を持つ私たちのインデックス配列は我々が選択するインデックスのリストを提供しているとき。 ブール指標ではアプローチが異なります。 我々は明示的に私たちが望む、アレイ内のどの項目を選択し、我々はそうでないもの。\n",
    "\n",
    "1ブールインデックス作成のための考えることができる最も自然な方法は、元の配列と同じ形状を持つブール配列を使用することです。"
   ]
  },
  {
   "cell_type": "markdown",
   "metadata": {},
   "source": [
    "このプロパティは、割り当てに非常に役立ちます。"
   ]
  },
  {
   "cell_type": "markdown",
   "metadata": {},
   "source": [
    "あなたはの画像を生成するブールインデクシングを使用する方法を参照するには、次の例を見ることができマンデルブロ集合を ："
   ]
  },
  {
   "cell_type": "markdown",
   "metadata": {},
   "source": [
    "ブール値を持つインデックス付けの第二の方法は、インデックス作成を整数に、より似ています。 配列の各次元のために私たちは私たちが望むのスライスを選択する1Dブール配列を与えます。"
   ]
  },
  {
   "cell_type": "markdown",
   "metadata": {},
   "source": [
    "あなたがスライスしたい1Dブール配列の長さは寸法（または軸）の長さと一致しなければならないことに注意してください。 前の例では、B1は長さ3（ の行数）、および（長さ4の）B2と1ランクの配列の2番目のランク（列）インデックスに適しています。"
   ]
  },
  {
   "cell_type": "markdown",
   "metadata": {},
   "source": [
    "### ix_（）関数\n",
    "ix_の関数は、それぞれ次的なn-upletのための結果を得るために、異なるベクターを組み合わせて使用することができます。 たとえば、a、bおよびcベクトルの各々から採取した全てのトリプレットのすべてのA + B * Cを計算したい場合は："
   ]
  },
  {
   "cell_type": "markdown",
   "metadata": {},
   "source": [
    "また、次のように削減実現することができます。"
   ]
  },
  {
   "cell_type": "markdown",
   "metadata": {},
   "source": [
    "し、それを次のように使用します。"
   ]
  },
  {
   "cell_type": "markdown",
   "metadata": {},
   "source": [
    "通常のufunc.reduceに比べて減らすのこのバージョンの利点は、の使用にすることである放送ルールを引数配列出力回数ベクトルの数の大きさを作成しないようにするために。"
   ]
  },
  {
   "cell_type": "markdown",
   "metadata": {},
   "source": [
    "### 文字列を含むインデックス\n",
    "参照RecordArraysを 。"
   ]
  },
  {
   "cell_type": "markdown",
   "metadata": {},
   "source": [
    "### 単純な配列の演算\n",
    "多くのためnumpyのフォルダにlinalg.pyを参照してください。"
   ]
  },
  {
   "cell_type": "markdown",
   "metadata": {},
   "source": [
    "## コツとヒント\n",
    "ここでは短いと役立つヒントのリストを与えます。"
   ]
  },
  {
   "cell_type": "markdown",
   "metadata": {},
   "source": [
    "## 「自動」リシェイプ\n",
    "\n",
    "配列の次元を変更するには、自動的に推定されることでサイズのいずれかを省略することができます。"
   ]
  },
  {
   "cell_type": "markdown",
   "metadata": {},
   "source": [
    "## ベクトルスタッキング\n",
    "\n",
    "どのように我々は、同じサイズの行ベクトルのリストから2次元配列を作成しますか？ MATLABでは、これは非常に簡単です：xと yは、あなたが唯一のM = [X、Y]を行う必要があり、同じ長さの2つのベクトルである場合。 numpyのでは、この関数は積み重ねが行われるようになっている寸法に応じて、dstack、hstackとvstackを column_stack経由で動作します。 例えば："
   ]
  },
  {
   "cell_type": "markdown",
   "metadata": {},
   "source": [
    "以上の2次元でのそれらの機能の背後にあるロジックは、奇妙なことができます。"
   ]
  },
  {
   "cell_type": "markdown",
   "metadata": {},
   "source": [
    "## ヒストグラム\n",
    "\n",
    "numpyののヒストグラム配列のヒストグラムとビンのベクトル：配列に適用される関数は、ベクトルのペアを返します。注意してください：matplotlib のは、また、（と呼ばれるヒストグラムを構築するための機能を有しているHIST numpyの内の1つとは異なりMatlabののように、）。主な違いはということですpylab.histをしながら、自動的にヒストグラムをプロットnumpy.histogramが唯一のデータを生成します。"
   ]
  },
  {
   "cell_type": "markdown",
   "metadata": {},
   "source": [
    "## 深い読み\n",
    "\n",
    "* Pythonのチュートリアル\n",
    "* numpyのリファレンス\n",
    "* scipyのチュートリアル\n",
    "* scipyの講義ノート\n",
    "* MathWorks社のMATLAB、R、IDL、numpyの/ scipyの辞書"
   ]
  },
  {
   "cell_type": "code",
   "execution_count": null,
   "metadata": {
    "collapsed": false
   },
   "outputs": [],
   "source": [
    "a.transpose()"
   ]
  },
  {
   "cell_type": "code",
   "execution_count": null,
   "metadata": {
    "collapsed": false
   },
   "outputs": [],
   "source": [
    "np.linalg.inv(a)"
   ]
  },
  {
   "cell_type": "code",
   "execution_count": null,
   "metadata": {
    "collapsed": false
   },
   "outputs": [],
   "source": []
  },
  {
   "cell_type": "code",
   "execution_count": null,
   "metadata": {
    "collapsed": false
   },
   "outputs": [],
   "source": [
    "u = np.eye(2) # unit 2x2 matrix; \"eye\" represents \"I\"\n",
    "u"
   ]
  },
  {
   "cell_type": "code",
   "execution_count": null,
   "metadata": {
    "collapsed": false
   },
   "outputs": [],
   "source": [
    "j = np.array([[0.0, -1.0], [1.0, 0.0]])\n",
    "j"
   ]
  },
  {
   "cell_type": "code",
   "execution_count": null,
   "metadata": {
    "collapsed": false
   },
   "outputs": [],
   "source": [
    "np.dot (j, j) # matrix product"
   ]
  },
  {
   "cell_type": "code",
   "execution_count": null,
   "metadata": {
    "collapsed": false
   },
   "outputs": [],
   "source": [
    "np.trace(u)"
   ]
  },
  {
   "cell_type": "code",
   "execution_count": null,
   "metadata": {
    "collapsed": false
   },
   "outputs": [],
   "source": [
    "y = np.array([[5.], [7.]])\n",
    "np.linalg.solve(a, y)"
   ]
  },
  {
   "cell_type": "code",
   "execution_count": null,
   "metadata": {
    "collapsed": false
   },
   "outputs": [],
   "source": [
    "np.linalg.eig(j)"
   ]
  },
  {
   "cell_type": "code",
   "execution_count": null,
   "metadata": {
    "collapsed": true
   },
   "outputs": [],
   "source": [
    "np.linalg.eig?"
   ]
  },
  {
   "cell_type": "code",
   "execution_count": null,
   "metadata": {
    "collapsed": false
   },
   "outputs": [],
   "source": [
    "a = np.arange(30)\n",
    "a.shape = 2,-1,3  # -1 means \"whatever is needed\"\n",
    "a.shape"
   ]
  },
  {
   "cell_type": "code",
   "execution_count": null,
   "metadata": {
    "collapsed": false
   },
   "outputs": [],
   "source": [
    "a"
   ]
  },
  {
   "cell_type": "code",
   "execution_count": null,
   "metadata": {
    "collapsed": false
   },
   "outputs": [],
   "source": [
    "x = np.arange(0,10,2)\n",
    "x"
   ]
  },
  {
   "cell_type": "code",
   "execution_count": null,
   "metadata": {
    "collapsed": false
   },
   "outputs": [],
   "source": [
    "y = np.arange(5)\n",
    "y"
   ]
  },
  {
   "cell_type": "code",
   "execution_count": null,
   "metadata": {
    "collapsed": false
   },
   "outputs": [],
   "source": [
    "m = np.vstack([x,y])\n",
    "m"
   ]
  },
  {
   "cell_type": "code",
   "execution_count": null,
   "metadata": {
    "collapsed": false
   },
   "outputs": [],
   "source": [
    "xy = np.hstack([x,y])\n",
    "xy"
   ]
  },
  {
   "cell_type": "code",
   "execution_count": null,
   "metadata": {
    "collapsed": false
   },
   "outputs": [],
   "source": [
    "a = np.arange(12).reshape(3,4)\n",
    "b = a > 4\n",
    "b                                          # b is a boolean with a's shape"
   ]
  },
  {
   "cell_type": "code",
   "execution_count": null,
   "metadata": {
    "collapsed": false
   },
   "outputs": [],
   "source": [
    "a[b]                                       # 1d array with the selected elements"
   ]
  },
  {
   "cell_type": "code",
   "execution_count": null,
   "metadata": {
    "collapsed": false
   },
   "outputs": [],
   "source": [
    "a[b] = 0                                   # All elements of 'a' higher than 4 become 0\n",
    "a"
   ]
  },
  {
   "cell_type": "code",
   "execution_count": null,
   "metadata": {
    "collapsed": false
   },
   "outputs": [],
   "source": [
    "def mandelbrot( h,w, maxit=20 ):\n",
    "    \"\"\"Returns an image of the Mandelbrot fractal of size (h,w).\"\"\"\n",
    "    y,x = np.ogrid[ -1.4:1.4:h*1j, -2:0.8:w*1j ]\n",
    "    c = x+y*1j\n",
    "    z = c\n",
    "    divtime = maxit + np.zeros(z.shape, dtype=int)\n",
    "    for i in range(maxit):\n",
    "        z = z**2 + c\n",
    "        diverge = z*np.conj(z) > 2**2            # who is diverging\n",
    "        div_now = diverge & (divtime==maxit)  # who is diverging now\n",
    "        divtime[div_now] = i                  # note when\n",
    "        z[diverge] = 2                        # avoid diverging too much\n",
    "    return divtime\n",
    "plt.imshow(mandelbrot(400,400))\n",
    "plt.show()"
   ]
  },
  {
   "cell_type": "code",
   "execution_count": null,
   "metadata": {
    "collapsed": true
   },
   "outputs": [],
   "source": [
    "a = np.arange(12).reshape(3,4)\n",
    "b1 = np.array([False,True,True])             # first dim selection\n",
    "b2 = np.array([True,False,True,False])       # second dim selection"
   ]
  },
  {
   "cell_type": "code",
   "execution_count": null,
   "metadata": {
    "collapsed": false
   },
   "outputs": [],
   "source": [
    "a[b1,:]                                   # selecting rows"
   ]
  },
  {
   "cell_type": "code",
   "execution_count": null,
   "metadata": {
    "collapsed": false
   },
   "outputs": [],
   "source": [
    "a[b1]                                     # same thing"
   ]
  },
  {
   "cell_type": "code",
   "execution_count": null,
   "metadata": {
    "collapsed": false
   },
   "outputs": [],
   "source": [
    "a[:,b2]                                   # selecting columns"
   ]
  },
  {
   "cell_type": "code",
   "execution_count": null,
   "metadata": {
    "collapsed": false
   },
   "outputs": [],
   "source": [
    "a[b1,b2]                                  # a weird thing to do"
   ]
  },
  {
   "cell_type": "code",
   "execution_count": null,
   "metadata": {
    "collapsed": false
   },
   "outputs": [],
   "source": [
    "a = np.array([2,3,4,5])\n",
    "b = np.array([8,5,4])\n",
    "c = np.array([5,4,6,8,3])\n",
    "ax,bx,cx = np.ix_(a,b,c)\n",
    "ax"
   ]
  },
  {
   "cell_type": "code",
   "execution_count": null,
   "metadata": {
    "collapsed": false
   },
   "outputs": [],
   "source": [
    "bx"
   ]
  },
  {
   "cell_type": "code",
   "execution_count": null,
   "metadata": {
    "collapsed": false
   },
   "outputs": [],
   "source": [
    "cx"
   ]
  },
  {
   "cell_type": "code",
   "execution_count": null,
   "metadata": {
    "collapsed": false
   },
   "outputs": [],
   "source": [
    "ax.shape, bx.shape, cx.shape"
   ]
  },
  {
   "cell_type": "code",
   "execution_count": null,
   "metadata": {
    "collapsed": false
   },
   "outputs": [],
   "source": [
    "result = ax+bx*cx\n",
    "result"
   ]
  },
  {
   "cell_type": "code",
   "execution_count": null,
   "metadata": {
    "collapsed": false
   },
   "outputs": [],
   "source": [
    "result[3,2,4]"
   ]
  },
  {
   "cell_type": "code",
   "execution_count": null,
   "metadata": {
    "collapsed": false
   },
   "outputs": [],
   "source": [
    "a[3]+b[2]*c[4]"
   ]
  },
  {
   "cell_type": "code",
   "execution_count": null,
   "metadata": {
    "collapsed": true
   },
   "outputs": [],
   "source": [
    "def ufunc_reduce(ufct, *vectors):\n",
    "    vs = np.ix_(*vectors)\n",
    "    r = ufct.identity\n",
    "    for v in vs:\n",
    "        r = ufct(r,v)\n",
    "    return r"
   ]
  },
  {
   "cell_type": "code",
   "execution_count": null,
   "metadata": {
    "collapsed": false
   },
   "outputs": [],
   "source": [
    "ufunc_reduce(np.add,a,b,c)"
   ]
  },
  {
   "cell_type": "code",
   "execution_count": null,
   "metadata": {
    "collapsed": false
   },
   "outputs": [],
   "source": [
    "# Build a vector of 10000 normal deviates with variance 0.5^2 and mean 2\n",
    "mu, sigma = 2, 0.5\n",
    "v = np.random.normal(mu,sigma,10000)\n",
    "# Plot a normalized histogram with 50 bins\n",
    "plt.hist(v, bins=50, normed=1)       # matplotlib version (plot)\n",
    "plt.show()"
   ]
  },
  {
   "cell_type": "code",
   "execution_count": null,
   "metadata": {
    "collapsed": false
   },
   "outputs": [],
   "source": [
    "# Compute the histogram with numpy and then plot it\n",
    "(n, bins) = np.histogram(v, bins=50, normed=True)  # NumPy version (no plot)\n",
    "plt.plot(.5*(bins[1:]+bins[:-1]), n)\n",
    "plt.show()"
   ]
  },
  {
   "cell_type": "code",
   "execution_count": null,
   "metadata": {
    "collapsed": true
   },
   "outputs": [],
   "source": [
    "x_ = solve(A.toarray(), b)"
   ]
  },
  {
   "cell_type": "code",
   "execution_count": null,
   "metadata": {
    "collapsed": false
   },
   "outputs": [],
   "source": [
    "err = norm(x-x_)\n",
    "err < 1e-10"
   ]
  },
  {
   "cell_type": "code",
   "execution_count": null,
   "metadata": {
    "collapsed": false
   },
   "outputs": [],
   "source": []
  },
  {
   "cell_type": "code",
   "execution_count": null,
   "metadata": {
    "collapsed": false
   },
   "outputs": [],
   "source": [
    "I = array([0,0,1,3,1,0,0])\n",
    "J = array([0,2,1,3,1,0,0])\n",
    "V = array([1,1,1,1,1,1,1])\n",
    "B = sparse.coo_matrix((V,(I,J)),shape=(4,4)).tocsr()\n",
    "print B"
   ]
  },
  {
   "cell_type": "code",
   "execution_count": null,
   "metadata": {
    "collapsed": false
   },
   "outputs": [],
   "source": [
    "G_dense = np.array([[0, 2, 1],\n",
    "                    [2, 0, 0],\n",
    "                    [1, 0, 1]])\n",
    "G_masked = np.ma.masked_values(G_dense, 0)\n",
    "from scipy.sparse import csr_matrix\n",
    "G_sparse = csr_matrix(G_dense)\n",
    "print G_sparse"
   ]
  },
  {
   "cell_type": "code",
   "execution_count": null,
   "metadata": {
    "collapsed": true
   },
   "outputs": [],
   "source": [
    "from scipy.sparse import linalg"
   ]
  },
  {
   "cell_type": "code",
   "execution_count": null,
   "metadata": {
    "collapsed": false
   },
   "outputs": [],
   "source": [
    "A = A.tocsc()"
   ]
  },
  {
   "cell_type": "code",
   "execution_count": null,
   "metadata": {
    "collapsed": false
   },
   "outputs": [],
   "source": [
    "B = B.tocsc()"
   ]
  },
  {
   "cell_type": "code",
   "execution_count": null,
   "metadata": {
    "collapsed": true
   },
   "outputs": [],
   "source": [
    "m = gf.Mesh?"
   ]
  },
  {
   "cell_type": "code",
   "execution_count": null,
   "metadata": {
    "collapsed": true
   },
   "outputs": [],
   "source": [
    "m = gf.Mesh"
   ]
  },
  {
   "cell_type": "code",
   "execution_count": null,
   "metadata": {
    "collapsed": true
   },
   "outputs": [],
   "source": [
    "m = gf.Mesh"
   ]
  },
  {
   "cell_type": "code",
   "execution_count": null,
   "metadata": {
    "collapsed": true
   },
   "outputs": [],
   "source": [
    "m = gf.Mesh"
   ]
  },
  {
   "cell_type": "code",
   "execution_count": null,
   "metadata": {
    "collapsed": true
   },
   "outputs": [],
   "source": [
    "m = gf.Mesh"
   ]
  },
  {
   "cell_type": "code",
   "execution_count": null,
   "metadata": {
    "collapsed": true
   },
   "outputs": [],
   "source": [
    "m = gf.Mesh"
   ]
  },
  {
   "cell_type": "code",
   "execution_count": null,
   "metadata": {
    "collapsed": true
   },
   "outputs": [],
   "source": [
    "m = gf.Mesh"
   ]
  },
  {
   "cell_type": "code",
   "execution_count": null,
   "metadata": {
    "collapsed": true
   },
   "outputs": [],
   "source": [
    "m = gf.Mesh"
   ]
  },
  {
   "cell_type": "code",
   "execution_count": null,
   "metadata": {
    "collapsed": true
   },
   "outputs": [],
   "source": [
    "m = gf.Mesh('cartesian', np.arange(10))"
   ]
  },
  {
   "cell_type": "code",
   "execution_count": null,
   "metadata": {
    "collapsed": false
   },
   "outputs": [],
   "source": [
    "print m"
   ]
  },
  {
   "cell_type": "code",
   "execution_count": null,
   "metadata": {
    "collapsed": true
   },
   "outputs": [],
   "source": [
    "mfu = gf.MeshFem(m)"
   ]
  },
  {
   "cell_type": "code",
   "execution_count": null,
   "metadata": {
    "collapsed": false
   },
   "outputs": [],
   "source": [
    "print mfu"
   ]
  },
  {
   "cell_type": "code",
   "execution_count": null,
   "metadata": {
    "collapsed": true
   },
   "outputs": [],
   "source": [
    "mfu.set_fem(gf.Fem('FEM_PK(1,1)'))"
   ]
  },
  {
   "cell_type": "code",
   "execution_count": null,
   "metadata": {
    "collapsed": false
   },
   "outputs": [],
   "source": [
    "print mfu"
   ]
  },
  {
   "cell_type": "markdown",
   "metadata": {},
   "source": [
    "# ギャラリー\n",
    "\n",
    "今回、未紹介のもので出力が面白かったものをいくつか掲載しました。"
   ]
  },
  {
   "cell_type": "code",
   "execution_count": null,
   "metadata": {
    "collapsed": false
   },
   "outputs": [],
   "source": [
    "\"\"\"\n",
    "Demonstrates computation of gradient with matplotlib.tri.CubicTriInterpolator.\n",
    "\"\"\"\n",
    "from matplotlib.tri import Triangulation, UniformTriRefiner,\\\n",
    "    CubicTriInterpolator\n",
    "import matplotlib.pyplot as plt\n",
    "import matplotlib.cm as cm\n",
    "import numpy as np\n",
    "import math\n",
    "%matplotlib inline\n",
    "\n",
    "\n",
    "#-----------------------------------------------------------------------------\n",
    "# Electrical potential of a dipole\n",
    "#-----------------------------------------------------------------------------\n",
    "def dipole_potential(x, y):\n",
    "    \"\"\" The electric dipole potential V \"\"\"\n",
    "    r_sq = x**2 + y**2\n",
    "    theta = np.arctan2(y, x)\n",
    "    z = np.cos(theta)/r_sq\n",
    "    return (np.max(z) - z) / (np.max(z) - np.min(z))\n",
    "\n",
    "\n",
    "#-----------------------------------------------------------------------------\n",
    "# Creating a Triangulation\n",
    "#-----------------------------------------------------------------------------\n",
    "# First create the x and y coordinates of the points.\n",
    "n_angles = 30\n",
    "n_radii = 10\n",
    "min_radius = 0.2\n",
    "radii = np.linspace(min_radius, 0.95, n_radii)\n",
    "\n",
    "angles = np.linspace(0, 2*math.pi, n_angles, endpoint=False)\n",
    "angles = np.repeat(angles[..., np.newaxis], n_radii, axis=1)\n",
    "angles[:, 1::2] += math.pi/n_angles\n",
    "\n",
    "x = (radii*np.cos(angles)).flatten()\n",
    "y = (radii*np.sin(angles)).flatten()\n",
    "V = dipole_potential(x, y)\n",
    "\n",
    "# Create the Triangulation; no triangles specified so Delaunay triangulation\n",
    "# created.\n",
    "triang = Triangulation(x, y)\n",
    "\n",
    "# Mask off unwanted triangles.\n",
    "xmid = x[triang.triangles].mean(axis=1)\n",
    "ymid = y[triang.triangles].mean(axis=1)\n",
    "mask = np.where(xmid*xmid + ymid*ymid < min_radius*min_radius, 1, 0)\n",
    "triang.set_mask(mask)\n",
    "\n",
    "#-----------------------------------------------------------------------------\n",
    "# Refine data - interpolates the electrical potential V\n",
    "#-----------------------------------------------------------------------------\n",
    "refiner = UniformTriRefiner(triang)\n",
    "tri_refi, z_test_refi = refiner.refine_field(V, subdiv=3)\n",
    "\n",
    "#-----------------------------------------------------------------------------\n",
    "# Computes the electrical field (Ex, Ey) as gradient of electrical potential\n",
    "#-----------------------------------------------------------------------------\n",
    "tci = CubicTriInterpolator(triang, -V)\n",
    "# Gradient requested here at the mesh nodes but could be anywhere else:\n",
    "(Ex, Ey) = tci.gradient(triang.x, triang.y)\n",
    "E_norm = np.sqrt(Ex**2 + Ey**2)\n",
    "\n",
    "#-----------------------------------------------------------------------------\n",
    "# Plot the triangulation, the potential iso-contours and the vector field\n",
    "#-----------------------------------------------------------------------------\n",
    "plt.figure()\n",
    "plt.gca().set_aspect('equal')\n",
    "plt.triplot(triang, color='0.8')\n",
    "\n",
    "levels = np.arange(0., 1., 0.01)\n",
    "cmap = cm.get_cmap(name='hot', lut=None)\n",
    "plt.tricontour(tri_refi, z_test_refi, levels=levels, cmap=cmap,\n",
    "               linewidths=[2.0, 1.0, 1.0, 1.0])\n",
    "# Plots direction of the electrical vector field\n",
    "plt.quiver(triang.x, triang.y, Ex/E_norm, Ey/E_norm,\n",
    "           units='xy', scale=10., zorder=3, color='blue',\n",
    "           width=0.007, headwidth=3., headlength=4.)\n",
    "\n",
    "plt.title('Gradient plot: an electrical dipole')\n",
    "plt.show()"
   ]
  },
  {
   "cell_type": "code",
   "execution_count": null,
   "metadata": {
    "collapsed": true
   },
   "outputs": [],
   "source": [
    "from tempfile import NamedTemporaryFile\n",
    "from IPython.display import HTML\n",
    "\n",
    "VIDEO_TAG = \"\"\"<video controls>\n",
    " <source src=\"data:video/x-m4v;base64,{0}\" type=\"video/mp4\">\n",
    " Your browser does not support the video tag.\n",
    "</video>\"\"\"\n",
    "\n",
    "def anim_to_html(anim):\n",
    "    if not hasattr(anim, '_encoded_video'):\n",
    "        with NamedTemporaryFile(suffix='.mp4') as f:\n",
    "            anim.save(f.name, fps=20, extra_args=['-vcodec', 'libx264'])\n",
    "            video = open(f.name, \"rb\").read()\n",
    "        anim._encoded_video = video.encode(\"base64\")\n",
    "    \n",
    "    return VIDEO_TAG.format(anim._encoded_video)\n",
    "\n",
    "def display_animation(anim):\n",
    "    plt.close(anim._fig)\n",
    "    return HTML(anim_to_html(anim))"
   ]
  },
  {
   "cell_type": "code",
   "execution_count": null,
   "metadata": {
    "collapsed": false
   },
   "outputs": [],
   "source": [
    "import pylab as plt\n",
    "import numpy as np\n",
    "from matplotlib import animation\n",
    "\n",
    "# First set up the figure, the axis, and the plot element we want to animate\n",
    "fig = plt.figure()\n",
    "ax = plt.axes(xlim=(0, 2), ylim=(-2, 2))\n",
    "line, = ax.plot([], [], lw=2)\n",
    "\n",
    "# initialization function: plot the background of each frame\n",
    "def init():\n",
    "    line.set_data([], [])\n",
    "    return line,\n",
    "\n",
    "# animation function.  This is called sequentially\n",
    "def animate(i):\n",
    "    x = np.linspace(0, 2, 1000)\n",
    "    y = np.sin(2 * np.pi * (x - 0.01 * i))\n",
    "    line.set_data(x, y)\n",
    "    return line,\n",
    "\n",
    "# call the animator.  blit=True means only re-draw the parts that have changed.\n",
    "anim = animation.FuncAnimation(fig, animate, init_func=init,\n",
    "                               frames=100, interval=20, blit=True)\n",
    "\n",
    "# call our new function to display the animation\n",
    "display_animation(anim)"
   ]
  },
  {
   "cell_type": "code",
   "execution_count": null,
   "metadata": {
    "collapsed": false
   },
   "outputs": [],
   "source": [
    "# -*- coding: UTF-8 -*-\n",
    "import math\n",
    "import matplotlib.pyplot as plt\n",
    "import matplotlib.animation as animation\n",
    "%matplotlib inline\n",
    "\n",
    "fig = plt.figure()\n",
    "\n",
    "ims = []\n",
    "for i in range(720):\n",
    "    rad = math.radians(i)\n",
    "    im = plt.scatter(math.cos(rad), math.sin(rad))\n",
    "    ims.append([im])\n",
    "\n",
    "ani = animation.ArtistAnimation(fig, ims, interval=1, repeat_delay=1000)\n",
    "\n",
    "display_animation(ani)"
   ]
  },
  {
   "cell_type": "markdown",
   "metadata": {
    "collapsed": true
   },
   "source": [
    "## おすすめの本\n",
    "\n",
    "Python を勉強するには以下の書籍がおすすめです。AmazonのKindleで購入が可能となっています。\n",
    "<img src=\"http://ecx.images-amazon.com/images/I/51moRIhvzhL._AA324_PIkin4,BottomRight,-47,22_AA300_SH20_OU09_.jpg\">\n",
    "\n"
   ]
  },
  {
   "cell_type": "code",
   "execution_count": null,
   "metadata": {
    "collapsed": true
   },
   "outputs": [],
   "source": []
  }
 ],
 "metadata": {
  "kernelspec": {
   "display_name": "Python 2",
   "language": "python",
   "name": "python2"
  },
  "language_info": {
   "codemirror_mode": {
    "name": "ipython",
    "version": 2
   },
   "file_extension": ".py",
   "mimetype": "text/x-python",
   "name": "python",
   "nbconvert_exporter": "python",
   "pygments_lexer": "ipython2",
   "version": "2.7.10"
  }
 },
 "nbformat": 4,
 "nbformat_minor": 0
}
