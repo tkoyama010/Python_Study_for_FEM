{
 "cells": [
  {
   "cell_type": "markdown",
   "metadata": {},
   "source": [
    "# 有限要素法のためのPython入門"
   ]
  },
  {
   "cell_type": "markdown",
   "metadata": {},
   "source": [
    "## 紹介する機能について\n",
    "\n",
    "PythonにはNumpy/Matplotlib/Scipy/Getfem++などのパッケージがあり、それらを組み合わせることにより容易に有限要素法のスクリプトを組むことができます。それぞれのパッケージに関しては各Wikipediaの内容を確認してください。\n",
    "\n",
    "Numpy (https://ja.wikipedia.org/wiki/NumPy)\n",
    "\n",
    "Matplotlib(https://ja.wikipedia.org/wiki/Matplotlib)\n",
    "\n",
    "Scipy (https://ja.wikipedia.org/wiki/SciPy)\n",
    "\n",
    "Getfem++ (https://ja.wikipedia.org/wiki/Getfem%2B%2B)\n",
    "\n",
    "それぞれのパッケージはPythonでは以下のように呼び出します。"
   ]
  },
  {
   "cell_type": "code",
   "execution_count": null,
   "metadata": {
    "collapsed": true
   },
   "outputs": [],
   "source": [
    "import numpy as np"
   ]
  },
  {
   "cell_type": "markdown",
   "metadata": {},
   "source": [
    "これで、これらのパッケージはそれぞれ、np/sp/gf/pltとしてインポートされました。\n",
    "各パッケージの機能は<module>.の後にタブキーを打つことで実行可能な関数などが表示されます。"
   ]
  },
  {
   "cell_type": "code",
   "execution_count": null,
   "metadata": {
    "collapsed": false
   },
   "outputs": [],
   "source": [
    "np."
   ]
  },
  {
   "cell_type": "code",
   "execution_count": null,
   "metadata": {
    "collapsed": true
   },
   "outputs": [],
   "source": [
    "np?"
   ]
  },
  {
   "cell_type": "markdown",
   "metadata": {},
   "source": [
    "## Numpyの学習 〜 ベクトル操作の基本 〜\n",
    "\n",
    "本節ではNumpyのチュートリアル\n",
    "\n",
    "https://docs.scipy.org/doc/numpy-dev/user/quickstart.html\n",
    "\n",
    "の内容を解説します。"
   ]
  },
  {
   "cell_type": "markdown",
   "metadata": {},
   "source": [
    "### 配列の作成\n",
    "numpyを使用する利点としては多次元配列の操作が容易になることがあげられます。 numpyの配列のクラスはndarrayと呼ばれています。ndarrayの主な属性には主に以下のものがあります。\n",
    "\n",
    "\n",
    "<img src=\"http://docs.scipy.org/doc/numpy-1.10.0/_images/threefundamental.png\">\n",
    "\n",
    "#### ndarray.ndim\n",
    "配列の次元\n",
    "\n",
    "#### ndarray.shape\n",
    "配列の形状。n行m列の行列については、 形状 （M、N）となります 。\n",
    "\n",
    "#### ndarray.size\n",
    "配列の要素数の合計。\n",
    "\n",
    "#### ndarray.dtype\n",
    "配列の要素のタイプ。numpy.int32、numpy.int16、およびnumpy.float64などがあります。\n",
    "\n",
    "#### ndarray.itemsize\n",
    "配列の各要素のサイズ（バイト単位）。 \n",
    "\n",
    "#### ndarray.data\n",
    "配列の実際の要素を含むバッファー。 インデックスで配列の要素にアクセスするため、この属性を使用する必要はありません。\n"
   ]
  },
  {
   "cell_type": "markdown",
   "metadata": {},
   "source": [
    "#### 例\n",
    "\n",
    "実際に配列を定義してみます。例えば、ベクトル$b = \\left\\{ \\begin{array}{c}6\\\\7\\\\8\\end{array}\\right\\}$と$A=\\left[\\begin{array}{ccc}\n",
    "1 & 2 & 0\\\\\n",
    "2 & 5 & 6\\\\\n",
    "0 & 6 & 9\n",
    "\\end{array}\\right]$の行列を定義したい場合には次のように定義します。"
   ]
  },
  {
   "cell_type": "code",
   "execution_count": null,
   "metadata": {
    "collapsed": false
   },
   "outputs": [],
   "source": [
    "b = np.array([6, 7, 8])\n",
    "A = np.array([[1, 2, 0],[2, 5, 6],[0, 6, 9]])\n",
    "# bを出力します\n",
    "print \"b =\"\n",
    "print b\n",
    "# Aを出力します\n",
    "print \"A =\"\n",
    "print A"
   ]
  },
  {
   "cell_type": "markdown",
   "metadata": {},
   "source": [
    "np.arrayについて詳細を確認したい場合は次のようにコマンドを入力します。"
   ]
  },
  {
   "cell_type": "code",
   "execution_count": null,
   "metadata": {
    "collapsed": false
   },
   "outputs": [],
   "source": [
    "np.array?"
   ]
  },
  {
   "cell_type": "markdown",
   "metadata": {},
   "source": [
    "このコマンドを入力するとコマンドの呼び出し方法・目的・パラメータの説明が出てきます。\n",
    "詳細説明から分かるようにarrayには先ほど指定したobject以外にも引数があります。この引数のなかで\"引数=\"となっているものはデフォルト引数と呼ばれ指定されない場合は説明に書かれた値が使用されます。\n",
    "\n",
    "デフォルト引数を変更したい場合には以下のように指定します。"
   ]
  },
  {
   "cell_type": "code",
   "execution_count": null,
   "metadata": {
    "collapsed": false
   },
   "outputs": [],
   "source": [
    "A = np.array([[1, 2, 0],[2, 5, 6],[0, 6, 9]], dtype=complex)\n",
    "print A"
   ]
  },
  {
   "cell_type": "markdown",
   "metadata": {},
   "source": [
    "dtypeは詳細説明にもあるとおりarrayのデータ型を指定する引数です。これを\"dtype=complex\"としているため今回は複素数の行列が作成されています。"
   ]
  },
  {
   "cell_type": "markdown",
   "metadata": {},
   "source": [
    "#### 図の出力\n",
    "\n",
    "ipoython notebookで2次元の図を出力する場合にはmatplotlibが使われます。\n",
    "\n",
    "https://ja.wikipedia.org/wiki/Matplotlib\n",
    "\n",
    "以下のようにモジュールを呼び出します。２行目の\"%matplotlib inline\"はmatplotlibの図をiPython Notebook内で描写したグラフを展開するためのものです。"
   ]
  },
  {
   "cell_type": "code",
   "execution_count": null,
   "metadata": {
    "collapsed": true
   },
   "outputs": [],
   "source": [
    "from matplotlib import pylab as plt\n",
    "%matplotlib inline"
   ]
  },
  {
   "cell_type": "code",
   "execution_count": null,
   "metadata": {
    "collapsed": false
   },
   "outputs": [],
   "source": [
    "a = np.array([1.0, 2.0])\n",
    "b = np.array([3.0, 4.0])\n",
    "plt.plot(a, b)"
   ]
  },
  {
   "cell_type": "markdown",
   "metadata": {},
   "source": [
    "### 線形代数\n",
    "Numpyの線形代数に関する関数はnp.linalg以下にあります。"
   ]
  },
  {
   "cell_type": "code",
   "execution_count": null,
   "metadata": {
    "collapsed": true
   },
   "outputs": [],
   "source": [
    "np.linalg?"
   ]
  },
  {
   "cell_type": "markdown",
   "metadata": {},
   "source": [
    "例えば、先ほど作成した行列$A$の逆行列を計算したい場合はinv関数を使用します。"
   ]
  },
  {
   "cell_type": "code",
   "execution_count": null,
   "metadata": {
    "collapsed": true
   },
   "outputs": [],
   "source": [
    "np.linalg.inv?"
   ]
  },
  {
   "cell_type": "code",
   "execution_count": null,
   "metadata": {
    "collapsed": false
   },
   "outputs": [],
   "source": [
    "AA = np.linalg.inv(A)\n",
    "print AA"
   ]
  },
  {
   "cell_type": "markdown",
   "metadata": {},
   "source": [
    "Aに対して行列積(np.dot)を行うと以下のように単位行列が作成されます。これにより正しく逆行列が計算されることがわかります。"
   ]
  },
  {
   "cell_type": "code",
   "execution_count": null,
   "metadata": {
    "collapsed": true
   },
   "outputs": [],
   "source": [
    "np.dot?"
   ]
  },
  {
   "cell_type": "code",
   "execution_count": null,
   "metadata": {
    "collapsed": false
   },
   "outputs": [],
   "source": [
    "np.dot(A,AA)"
   ]
  },
  {
   "cell_type": "markdown",
   "metadata": {},
   "source": [
    "また、逆行列だけでなく固有値解析の実行も可能です。"
   ]
  },
  {
   "cell_type": "code",
   "execution_count": null,
   "metadata": {
    "collapsed": false
   },
   "outputs": [],
   "source": [
    "a, V = np.linalg.eig(A)\n",
    "# 固有値を出力します\n",
    "print \"固有値=\"\n",
    "print a\n",
    "# 固有値ベクトル\n",
    "print \"固有ベクトル=\"\n",
    "print V\n",
    "plt.plot(V[:,0])\n",
    "plt.plot(V[:,1])"
   ]
  },
  {
   "cell_type": "markdown",
   "metadata": {},
   "source": [
    "### ここまでのまとめ\n",
    "\n",
    "* Numpyの中心となっているのは配列を扱うためのarrayオブジェクトである。\n",
    "* arrayオブジェクトに対しては各種関数が準備されており、簡単に操作できる。\n",
    "* arrayはMatplotlibを使用して図化が可能である。"
   ]
  },
  {
   "cell_type": "markdown",
   "metadata": {},
   "source": [
    "## Scipyの学習〜疎行列による線形代数〜\n",
    "\n",
    "ScipyはNumPyを基盤にした科学計算ライブラリです。本節ではScipyのチュートリアル\n",
    "\n",
    "http://docs.scipy.org/doc/scipy/reference/tutorial/\n",
    "\n",
    "の内容のうち、疎行列による線形代数関係のライブラリの説明をします。"
   ]
  },
  {
   "cell_type": "code",
   "execution_count": null,
   "metadata": {
    "collapsed": false
   },
   "outputs": [],
   "source": [
    "import numpy as np\n",
    "import scipy as sp\n",
    "from scipy import sparse"
   ]
  },
  {
   "cell_type": "code",
   "execution_count": null,
   "metadata": {
    "collapsed": true
   },
   "outputs": [],
   "source": [
    "sparse?"
   ]
  },
  {
   "cell_type": "markdown",
   "metadata": {},
   "source": [
    "Scipyで疎行列を操作する際にはNumpyで使用していたarrayオブジェクトとは別のオブジェクトを使用します。疎行列に使用されているオブジェクトは複数あり、相互に変換可能ですが今回はcoo_matrixオブジェクトを紹介します。"
   ]
  },
  {
   "cell_type": "code",
   "execution_count": null,
   "metadata": {
    "collapsed": true
   },
   "outputs": [],
   "source": [
    "# A sparse matrix in COOrdinate format\n",
    "sparse.coo_matrix?"
   ]
  },
  {
   "cell_type": "markdown",
   "metadata": {},
   "source": [
    "マニュアルにある通り疎行列に代入するための値とそのインデックスを準備します。"
   ]
  },
  {
   "cell_type": "code",
   "execution_count": null,
   "metadata": {
    "collapsed": false
   },
   "outputs": [],
   "source": [
    "# 行のインデックス\n",
    "I = np.array([0,0,1,1,1,2,2])\n",
    "# 列のインデックス\n",
    "J = np.array([0,1,0,1,2,1,2])\n",
    "# 値\n",
    "V = np.array([1,2,2,5,6,6,9])\n",
    "A = sparse.coo_matrix((V,(I,J)),shape=(3,3))\n",
    "print A"
   ]
  },
  {
   "cell_type": "markdown",
   "metadata": {},
   "source": [
    "以上のように各インデックスに値の入った疎行列が作成されます。このようにオブジェクトを作成した際には必ずなんのオブジェクトであるかを確認しておきましょう。"
   ]
  },
  {
   "cell_type": "code",
   "execution_count": null,
   "metadata": {
    "collapsed": true
   },
   "outputs": [],
   "source": [
    "A?"
   ]
  },
  {
   "cell_type": "markdown",
   "metadata": {},
   "source": [
    "また、これらの疎行列はファイルへの保存と読み込みが可能です。その際にはScipyのioモジュールを使用します。"
   ]
  },
  {
   "cell_type": "code",
   "execution_count": null,
   "metadata": {
    "collapsed": true
   },
   "outputs": [],
   "source": [
    "from scipy import io"
   ]
  },
  {
   "cell_type": "code",
   "execution_count": null,
   "metadata": {
    "collapsed": true
   },
   "outputs": [],
   "source": [
    "io?"
   ]
  },
  {
   "cell_type": "markdown",
   "metadata": {},
   "source": [
    "ここではMatrix Market形式(http://math.nist.gov/MatrixMarket/formats.html)\n",
    "で書き出しを行ってみます。"
   ]
  },
  {
   "cell_type": "code",
   "execution_count": null,
   "metadata": {
    "collapsed": true
   },
   "outputs": [],
   "source": [
    "io.mmwrite(\"A.mtx\", A)"
   ]
  },
  {
   "cell_type": "markdown",
   "metadata": {},
   "source": [
    "ファイルの中身を出力してみるとMatrix Market形式で正しく出力されていることがわかります。Matrix Market形式は国際的に使われている疎行列のファイル形式です。"
   ]
  },
  {
   "cell_type": "code",
   "execution_count": null,
   "metadata": {
    "collapsed": false
   },
   "outputs": [],
   "source": [
    "%cat A.mtx"
   ]
  },
  {
   "cell_type": "markdown",
   "metadata": {},
   "source": [
    "また、既存のファイルを読み込んで新しく行列を作成することも可能です。"
   ]
  },
  {
   "cell_type": "code",
   "execution_count": null,
   "metadata": {
    "collapsed": true
   },
   "outputs": [],
   "source": [
    "B = io.mmread(\"A.mtx\")"
   ]
  },
  {
   "cell_type": "markdown",
   "metadata": {},
   "source": [
    "以下のようにしてファイルから行列が読み込めていることを確認できます。"
   ]
  },
  {
   "cell_type": "code",
   "execution_count": null,
   "metadata": {
    "collapsed": false
   },
   "outputs": [],
   "source": [
    "print B"
   ]
  },
  {
   "cell_type": "markdown",
   "metadata": {},
   "source": [
    "### 疎行列の線形代数"
   ]
  },
  {
   "cell_type": "markdown",
   "metadata": {},
   "source": [
    "以上では、Pythonによる密行列の線形代数までを紹介してきました。しかしながら、有限要素法計算の際にはメモリ節約のため疎行列計算が行われます。その際にはscipyのsparseパッケージとその下のlinalgパッケージを使用します。"
   ]
  },
  {
   "cell_type": "code",
   "execution_count": null,
   "metadata": {
    "collapsed": false
   },
   "outputs": [],
   "source": [
    "import scipy as sp\n",
    "from scipy.sparse import linalg"
   ]
  },
  {
   "cell_type": "code",
   "execution_count": null,
   "metadata": {
    "collapsed": true
   },
   "outputs": [],
   "source": [
    "linalg?"
   ]
  },
  {
   "cell_type": "markdown",
   "metadata": {},
   "source": [
    "密行列と同じ操作を疎行列の線形代数パッケージで実行します。"
   ]
  },
  {
   "cell_type": "code",
   "execution_count": null,
   "metadata": {
    "collapsed": false
   },
   "outputs": [],
   "source": [
    "A  = A.tocsc()\n",
    "AA = linalg.inv(A)\n",
    "print AA"
   ]
  },
  {
   "cell_type": "markdown",
   "metadata": {},
   "source": [
    "密行列の場合は行列積が\"*\"になりますので注意してください。先ほどと同じように単位行列が逆行列との積で得られます。"
   ]
  },
  {
   "cell_type": "code",
   "execution_count": null,
   "metadata": {
    "collapsed": false
   },
   "outputs": [],
   "source": [
    "print A*AA"
   ]
  },
  {
   "cell_type": "markdown",
   "metadata": {},
   "source": [
    "また、固有値解析も少し複雑ですが以下のように計算できます。"
   ]
  },
  {
   "cell_type": "code",
   "execution_count": null,
   "metadata": {
    "collapsed": false
   },
   "outputs": [],
   "source": [
    "X = sp.rand(A.shape[0], 3)\n",
    "linalg.lobpcg(A,X)"
   ]
  },
  {
   "cell_type": "markdown",
   "metadata": {},
   "source": [
    "密行列の場合と同じ計算結果になることが確認できます。\n",
    "それぞれの関数の説明は以下で確認してください。"
   ]
  },
  {
   "cell_type": "code",
   "execution_count": null,
   "metadata": {
    "collapsed": true
   },
   "outputs": [],
   "source": [
    "sp.rand?"
   ]
  },
  {
   "cell_type": "code",
   "execution_count": null,
   "metadata": {
    "collapsed": true
   },
   "outputs": [],
   "source": [
    "linalg.lobpcg?"
   ]
  },
  {
   "cell_type": "markdown",
   "metadata": {
    "collapsed": false
   },
   "source": [
    "### ここまでのまとめ\n",
    "* 疎行列の計算にはScipyのsparseモジュールが便利である。\n",
    "* Scipyのioモジュールを使用すると、各種形式で行列の入出力が可能である。"
   ]
  },
  {
   "cell_type": "markdown",
   "metadata": {},
   "source": [
    "## Getfem++の学習"
   ]
  },
  {
   "cell_type": "code",
   "execution_count": null,
   "metadata": {
    "collapsed": true
   },
   "outputs": [],
   "source": [
    "import getfem as gf\n",
    "import numpy as np\n",
    "from scipy import io"
   ]
  },
  {
   "cell_type": "markdown",
   "metadata": {},
   "source": [
    "本節ではメッシュ作成とそれを離散化した行列を作成するパッケージGetfem++について説明します。必要となるオブジェクトは以下の図に示すものになります。"
   ]
  },
  {
   "cell_type": "markdown",
   "metadata": {},
   "source": [
    "<img src=\"http://download.gna.org/getfem/html/homepage/_images/getfem_structure1.png\">"
   ]
  },
  {
   "cell_type": "markdown",
   "metadata": {},
   "source": [
    "#### Femオブジェクト \n",
    "有限要素で何を使用するかを指定する。(ラグランジュ要素Pk、Qkなど)\n",
    "\n",
    "#### Meshオブジェクト\n",
    "メッシュの指定(point:節点とconvex:要素などから作られる)\n",
    "\n",
    "#### Integオブジェクト\n",
    "積分方法を指定する。\n",
    "\n",
    "#### MeshFemオブジェクト\n",
    "メッシュの要素に対してFemを設定したオブジェクト、自由度数などの情報も設定する。\n",
    "\n",
    "#### MeshImオブジェクト\n",
    "メッシュの要素に対して積分方法を指定したオブジェクト\n",
    "\n",
    "#### Assemblyオブジェクト\n",
    "離散化した行列組み立てのためのオブジェクト。MeshFemとMeshImを基に作成する。\n",
    "\n",
    "#### Modelオブジェクト\n",
    "モデル全体の情報を設定するオブジェクト。今回は未使用。\n"
   ]
  },
  {
   "cell_type": "markdown",
   "metadata": {},
   "source": [
    "マニュアルからわかるように、規則的なメッシュを作成したり、Gmshのメッシュファイルなどからインポートすることも可能です。ただ、今回はメッシュオブジェクトに慣れることを目的としますので、まずは１次元の空のMeshオブジェクトを作成します。"
   ]
  },
  {
   "cell_type": "code",
   "execution_count": null,
   "metadata": {
    "collapsed": true
   },
   "outputs": [],
   "source": [
    "gf.Mesh?"
   ]
  },
  {
   "cell_type": "code",
   "execution_count": null,
   "metadata": {
    "collapsed": true
   },
   "outputs": [],
   "source": [
    "m = gf.Mesh('empty', 1)"
   ]
  },
  {
   "cell_type": "markdown",
   "metadata": {},
   "source": [
    "ご覧のようにこの時点ではメッシュは空です。このメッシュに節点と要素を追加していきます。"
   ]
  },
  {
   "cell_type": "code",
   "execution_count": null,
   "metadata": {
    "collapsed": false
   },
   "outputs": [],
   "source": [
    "print m"
   ]
  },
  {
   "cell_type": "markdown",
   "metadata": {},
   "source": [
    "要素を追加していきます。(add_convexメソッド)"
   ]
  },
  {
   "cell_type": "code",
   "execution_count": null,
   "metadata": {
    "collapsed": true
   },
   "outputs": [],
   "source": [
    "m.add_convex?"
   ]
  },
  {
   "cell_type": "markdown",
   "metadata": {},
   "source": [
    "GeoTransが必要であることが分かりましたので、GeoTransのマニュアルも確認します。"
   ]
  },
  {
   "cell_type": "code",
   "execution_count": null,
   "metadata": {
    "collapsed": true
   },
   "outputs": [],
   "source": [
    "gf.GeoTrans?"
   ]
  },
  {
   "cell_type": "markdown",
   "metadata": {},
   "source": [
    "座標 x = 0.0からx = 2.0の間に平行６面体要素を追加します。"
   ]
  },
  {
   "cell_type": "code",
   "execution_count": null,
   "metadata": {
    "collapsed": true
   },
   "outputs": [],
   "source": [
    "m.add_convex?"
   ]
  },
  {
   "cell_type": "code",
   "execution_count": null,
   "metadata": {
    "collapsed": false
   },
   "outputs": [],
   "source": [
    "m.add_convex(gf.GeoTrans('GT_QK(1,1)'),[[0,2]])"
   ]
  },
  {
   "cell_type": "code",
   "execution_count": null,
   "metadata": {
    "collapsed": false
   },
   "outputs": [],
   "source": [
    "m.add_convex(gf.GeoTrans('GT_QK(1,1)'),[[2,4]])"
   ]
  },
  {
   "cell_type": "markdown",
   "metadata": {},
   "source": [
    "メッシュmに２つの要素が追加されました。"
   ]
  },
  {
   "cell_type": "code",
   "execution_count": null,
   "metadata": {
    "collapsed": false
   },
   "outputs": [],
   "source": [
    "print m"
   ]
  },
  {
   "cell_type": "markdown",
   "metadata": {},
   "source": [
    "ちなみにこのMeshオブジェクトはVTKファイルにExportできます。\n",
    "1次元のメッシュでは寂しいので、２次元の方眼メッシュを作成しましょう。"
   ]
  },
  {
   "cell_type": "code",
   "execution_count": null,
   "metadata": {
    "collapsed": true
   },
   "outputs": [],
   "source": [
    "m2 = gf.Mesh('cartesian', np.array([0.0, 1.0, 2.0]), np.array([0.0, 1.0, 2.0]))"
   ]
  },
  {
   "cell_type": "code",
   "execution_count": null,
   "metadata": {
    "collapsed": true
   },
   "outputs": [],
   "source": [
    "m2.export_to_vtk?"
   ]
  },
  {
   "cell_type": "code",
   "execution_count": null,
   "metadata": {
    "collapsed": true
   },
   "outputs": [],
   "source": [
    "m2.export_to_vtk('m2.vtk','ascii')"
   ]
  },
  {
   "cell_type": "markdown",
   "metadata": {},
   "source": [
    "これをParaviewで確認すると4要素の方眼メッシュが作成されていることが分かります。"
   ]
  },
  {
   "cell_type": "markdown",
   "metadata": {},
   "source": [
    "次に、先ほどの１次元のメッシュを使用して剛性マトリックスと質量マトリックスを作成してみます。"
   ]
  },
  {
   "cell_type": "code",
   "execution_count": null,
   "metadata": {
    "collapsed": true
   },
   "outputs": [],
   "source": [
    "gf.asm_linear_elasticity?"
   ]
  },
  {
   "cell_type": "code",
   "execution_count": null,
   "metadata": {
    "collapsed": true
   },
   "outputs": [],
   "source": [
    "gf.MeshFem?"
   ]
  },
  {
   "cell_type": "markdown",
   "metadata": {},
   "source": [
    "変位用のMeshFemとデータ用のMeshFemを作成します。MeshFemはMesh上にFem要素を割り当てるためのオブジェクトです。"
   ]
  },
  {
   "cell_type": "code",
   "execution_count": null,
   "metadata": {
    "collapsed": true
   },
   "outputs": [],
   "source": [
    "mfu = gf.MeshFem(m,1) # 変位用MeshFem\n",
    "mfd = gf.MeshFem(m,1) # データ用MeshFem"
   ]
  },
  {
   "cell_type": "markdown",
   "metadata": {},
   "source": [
    "今回は１次元のLagrange要素$Q_1$を使用します。"
   ]
  },
  {
   "cell_type": "code",
   "execution_count": null,
   "metadata": {
    "collapsed": true
   },
   "outputs": [],
   "source": [
    "gf.Fem?"
   ]
  },
  {
   "cell_type": "code",
   "execution_count": null,
   "metadata": {
    "collapsed": true
   },
   "outputs": [],
   "source": [
    "fem = gf.Fem('FEM_QK(1,1)')"
   ]
  },
  {
   "cell_type": "markdown",
   "metadata": {},
   "source": [
    "作成したFem要素をMeshFemに設定します。"
   ]
  },
  {
   "cell_type": "code",
   "execution_count": null,
   "metadata": {
    "collapsed": true
   },
   "outputs": [],
   "source": [
    "mfu.set_fem(fem)\n",
    "mfd.set_fem(fem)"
   ]
  },
  {
   "cell_type": "markdown",
   "metadata": {},
   "source": [
    "次は、積分要素を設定します。"
   ]
  },
  {
   "cell_type": "code",
   "execution_count": null,
   "metadata": {
    "collapsed": true
   },
   "outputs": [],
   "source": [
    "gf.Integ?"
   ]
  },
  {
   "cell_type": "markdown",
   "metadata": {},
   "source": [
    "今回は１次のガウス積分を使用します。"
   ]
  },
  {
   "cell_type": "code",
   "execution_count": null,
   "metadata": {
    "collapsed": true
   },
   "outputs": [],
   "source": [
    "im = gf.Integ('IM_GAUSS1D(1)')"
   ]
  },
  {
   "cell_type": "code",
   "execution_count": null,
   "metadata": {
    "collapsed": true
   },
   "outputs": [],
   "source": [
    "mim = gf.MeshIm(m, im)"
   ]
  },
  {
   "cell_type": "code",
   "execution_count": null,
   "metadata": {
    "collapsed": true
   },
   "outputs": [],
   "source": [
    "gf.asm_linear_elasticity?"
   ]
  },
  {
   "cell_type": "code",
   "execution_count": null,
   "metadata": {
    "collapsed": true
   },
   "outputs": [],
   "source": [
    "gf.asm_mass_matrix?"
   ]
  },
  {
   "cell_type": "code",
   "execution_count": null,
   "metadata": {
    "collapsed": false
   },
   "outputs": [],
   "source": [
    "# ラメの弾性定数\n",
    "Lambda = np.array([1.0, 1.0, 1.0])\n",
    "Mu = np.array([1.0, 1.0, 1.0])\n",
    "# 剛性行列の作成\n",
    "K = gf.asm_linear_elasticity(mim, mfu, mfd, Lambda, Mu)\n",
    "print K.full() # 剛性行列の出力\n",
    "# 質量行列の作成\n",
    "M = gf.asm_mass_matrix(mim, mfu)\n",
    "print M.full() # 質量行列の出力"
   ]
  },
  {
   "cell_type": "markdown",
   "metadata": {},
   "source": [
    "以上により作成した剛性マトリックスと質量マトリックスはSpmatというGetfem++独自の行列オブジェクトで、先ほど紹介したMatrixMarketのフォーマットに出力するメソッドも備えています。"
   ]
  },
  {
   "cell_type": "markdown",
   "metadata": {},
   "source": [
    "また、自分で微分方程式を定義して計算することも可能です。その際にはgf.asm_volumicを使用します。"
   ]
  },
  {
   "cell_type": "code",
   "execution_count": null,
   "metadata": {
    "collapsed": true
   },
   "outputs": [],
   "source": [
    "gf.asm_volumic?"
   ]
  },
  {
   "cell_type": "markdown",
   "metadata": {},
   "source": [
    "線形等方弾性問題の微分方程式は次のように表せます。\n",
    "\n",
    "$\\nabla\\cdot\\left[\\left\\{ \\nabla\\boldsymbol{U}+\\left(\\nabla\\boldsymbol{U}\\right)^{T}\\right\\}\\mu + tr\\left(\\nabla\\boldsymbol{U}\\right)\\boldsymbol{I}\\lambda\\right]=\\boldsymbol{F}$\n",
    "\n",
    "Getfem++ではテンソルを使用した表現で以下のように微分方程式を定義できます。"
   ]
  },
  {
   "cell_type": "code",
   "execution_count": null,
   "metadata": {
    "collapsed": false
   },
   "outputs": [],
   "source": [
    "K = gf.asm_volumic(\"lambda=data$1(#2);\"+ \\\n",
    "                   \"mu=data$2(#2);\"+ \\\n",
    "                   \"t=comp(vGrad(#1).vGrad(#1).Base(#2));\"+ \\\n",
    "                   \"M(#1,#1)+= sym(t(:,i,j,:,i,j,k).mu(k)+ t(:,j,i,:,i,j,k).mu(k)+ t(:,i,i,:,j,j,k).lambda(k))\", \n",
    "                   mim, mfu, mfd, np.array([1.0, 1.0, 1.0]), np.array([1.0, 1.0, 1.0]))"
   ]
  },
  {
   "cell_type": "markdown",
   "metadata": {},
   "source": [
    "当然ながら結果は同じになります。以下のようにすると\"小さい\"行列であれば先ほどのNumpyのarrayオブジェクトが出力されます。"
   ]
  },
  {
   "cell_type": "code",
   "execution_count": null,
   "metadata": {
    "collapsed": false
   },
   "outputs": [],
   "source": [
    "K.full()"
   ]
  },
  {
   "cell_type": "markdown",
   "metadata": {},
   "source": [
    "もちろん、構造用のNavierの式の離散化だけではありません。laplacianやhelmholtzなどの関数があります。\n",
    "つまり、１つのメッシュオブジェクトでさまざまな微分方程式の離散化が可能ということです。"
   ]
  },
  {
   "cell_type": "markdown",
   "metadata": {},
   "source": [
    "さて、この得られた行列はScipyの疎行列というわけではなく、SpmatというGetfem++(Gmm++)独自の形式です。"
   ]
  },
  {
   "cell_type": "code",
   "execution_count": null,
   "metadata": {
    "collapsed": false
   },
   "outputs": [],
   "source": [
    "K?"
   ]
  },
  {
   "cell_type": "markdown",
   "metadata": {},
   "source": [
    "Matrix-Marketフォーマットで出力してみます。"
   ]
  },
  {
   "cell_type": "code",
   "execution_count": null,
   "metadata": {
    "collapsed": true
   },
   "outputs": [],
   "source": [
    "K.save('mm', \"K.mtx\")\n",
    "M.save('mm', \"M.mtx\")"
   ]
  },
  {
   "cell_type": "markdown",
   "metadata": {
    "collapsed": true
   },
   "source": [
    "出力されたファイルはノートブックと同じディレクトリに保存されています。"
   ]
  },
  {
   "cell_type": "code",
   "execution_count": null,
   "metadata": {
    "collapsed": false
   },
   "outputs": [],
   "source": [
    "K = io.mmread(\"K.mtx\")\n",
    "M = io.mmread(\"M.mtx\")"
   ]
  },
  {
   "cell_type": "code",
   "execution_count": null,
   "metadata": {
    "collapsed": false
   },
   "outputs": [],
   "source": [
    "print \"K = \"\n",
    "print K\n",
    "print \"M = \"\n",
    "print M"
   ]
  },
  {
   "cell_type": "markdown",
   "metadata": {},
   "source": [
    "このようにScipyの疎行列に容易に変換できます。そのため、Scipyを使用した静解析や固有値解析を行うことにより有限要素法の解析が可能となります。\n",
    "さて１次元メッシュで次のような階がnp.arrayオブジェクトで得られたとします。"
   ]
  },
  {
   "cell_type": "code",
   "execution_count": null,
   "metadata": {
    "collapsed": false
   },
   "outputs": [],
   "source": [
    "outou = np.array([1.0, 2.0, 3.0])\n",
    "print outou"
   ]
  },
  {
   "cell_type": "markdown",
   "metadata": {},
   "source": [
    "これをベクトル情報付きのVTKファイルとして出力します。その際にはGetfem++のSliceオブジェクトを使用します。"
   ]
  },
  {
   "cell_type": "code",
   "execution_count": null,
   "metadata": {
    "collapsed": true
   },
   "outputs": [],
   "source": [
    "gf.Slice?"
   ]
  },
  {
   "cell_type": "markdown",
   "metadata": {},
   "source": [
    "スライスオブジェクトを作成する際にはメッシュをスライスすることで断面などの表示か可能です。\n",
    "しかし、今回は特に断面を見る必要もないので何もしません。"
   ]
  },
  {
   "cell_type": "code",
   "execution_count": null,
   "metadata": {
    "collapsed": true
   },
   "outputs": [],
   "source": [
    "sl = gf.Slice(('none',), m, 1)"
   ]
  },
  {
   "cell_type": "markdown",
   "metadata": {},
   "source": [
    "スライスオブジェクトにはVTKにMeshFemオブジェクトと応答値であるarrayオブジェクトを引数としてVTKに出力する機能があります。"
   ]
  },
  {
   "cell_type": "code",
   "execution_count": null,
   "metadata": {
    "collapsed": true
   },
   "outputs": [],
   "source": [
    "sl.export_to_vtk?"
   ]
  },
  {
   "cell_type": "code",
   "execution_count": null,
   "metadata": {
    "collapsed": true
   },
   "outputs": [],
   "source": [
    "sl.export_to_vtk('m_results.vtk', 'ascii', mfu, outou, 'jiyuunanamae')"
   ]
  },
  {
   "cell_type": "markdown",
   "metadata": {
    "collapsed": false
   },
   "source": [
    "#### ここまでのまとめ\n",
    "* メッシュはGetfem++のMeshオブジェクトにより作成することができる。このメッシュはVTKファイルに出力しParaviewで確認することが可能である。\n",
    "* Meshオブジェクトに有限要素オブジェクトと積分法オブジェクトを割り当てることにより、それぞれMeshFemオブジェクトとMeshImオブジェクトを作成することができる。\n",
    "* MeshFemオブジェクトとMeshImオブジェクトから有限要素法により離散化した行列を得ることができる。この行列はSpmatオブジェクトであるが、ファイル出力をしてScipyで読み込むことで各種操作が可能である。"
   ]
  },
  {
   "cell_type": "markdown",
   "metadata": {},
   "source": [
    "# ギャラリー\n",
    "\n",
    "今回、未紹介のもので出力が面白かったものをいくつか掲載しました。"
   ]
  },
  {
   "cell_type": "markdown",
   "metadata": {},
   "source": [
    "#### 電磁ポテンシャル"
   ]
  },
  {
   "cell_type": "code",
   "execution_count": null,
   "metadata": {
    "collapsed": false
   },
   "outputs": [],
   "source": [
    "\"\"\"\n",
    "Demonstrates computation of gradient with matplotlib.tri.CubicTriInterpolator.\n",
    "\"\"\"\n",
    "from matplotlib.tri import Triangulation, UniformTriRefiner,\\\n",
    "    CubicTriInterpolator\n",
    "import matplotlib.pyplot as plt\n",
    "import matplotlib.cm as cm\n",
    "import numpy as np\n",
    "import math\n",
    "%matplotlib inline\n",
    "\n",
    "\n",
    "#-----------------------------------------------------------------------------\n",
    "# Electrical potential of a dipole\n",
    "#-----------------------------------------------------------------------------\n",
    "def dipole_potential(x, y):\n",
    "    \"\"\" The electric dipole potential V \"\"\"\n",
    "    r_sq = x**2 + y**2\n",
    "    theta = np.arctan2(y, x)\n",
    "    z = np.cos(theta)/r_sq\n",
    "    return (np.max(z) - z) / (np.max(z) - np.min(z))\n",
    "\n",
    "\n",
    "#-----------------------------------------------------------------------------\n",
    "# Creating a Triangulation\n",
    "#-----------------------------------------------------------------------------\n",
    "# First create the x and y coordinates of the points.\n",
    "n_angles = 30\n",
    "n_radii = 10\n",
    "min_radius = 0.2\n",
    "radii = np.linspace(min_radius, 0.95, n_radii)\n",
    "\n",
    "angles = np.linspace(0, 2*math.pi, n_angles, endpoint=False)\n",
    "angles = np.repeat(angles[..., np.newaxis], n_radii, axis=1)\n",
    "angles[:, 1::2] += math.pi/n_angles\n",
    "\n",
    "x = (radii*np.cos(angles)).flatten()\n",
    "y = (radii*np.sin(angles)).flatten()\n",
    "V = dipole_potential(x, y)\n",
    "\n",
    "# Create the Triangulation; no triangles specified so Delaunay triangulation\n",
    "# created.\n",
    "triang = Triangulation(x, y)\n",
    "\n",
    "# Mask off unwanted triangles.\n",
    "xmid = x[triang.triangles].mean(axis=1)\n",
    "ymid = y[triang.triangles].mean(axis=1)\n",
    "mask = np.where(xmid*xmid + ymid*ymid < min_radius*min_radius, 1, 0)\n",
    "triang.set_mask(mask)\n",
    "\n",
    "#-----------------------------------------------------------------------------\n",
    "# Refine data - interpolates the electrical potential V\n",
    "#-----------------------------------------------------------------------------\n",
    "refiner = UniformTriRefiner(triang)\n",
    "tri_refi, z_test_refi = refiner.refine_field(V, subdiv=3)\n",
    "\n",
    "#-----------------------------------------------------------------------------\n",
    "# Computes the electrical field (Ex, Ey) as gradient of electrical potential\n",
    "#-----------------------------------------------------------------------------\n",
    "tci = CubicTriInterpolator(triang, -V)\n",
    "# Gradient requested here at the mesh nodes but could be anywhere else:\n",
    "(Ex, Ey) = tci.gradient(triang.x, triang.y)\n",
    "E_norm = np.sqrt(Ex**2 + Ey**2)\n",
    "\n",
    "#-----------------------------------------------------------------------------\n",
    "# Plot the triangulation, the potential iso-contours and the vector field\n",
    "#-----------------------------------------------------------------------------\n",
    "plt.figure()\n",
    "plt.gca().set_aspect('equal')\n",
    "plt.triplot(triang, color='0.8')\n",
    "\n",
    "levels = np.arange(0., 1., 0.01)\n",
    "cmap = cm.get_cmap(name='hot', lut=None)\n",
    "plt.tricontour(tri_refi, z_test_refi, levels=levels, cmap=cmap,\n",
    "               linewidths=[2.0, 1.0, 1.0, 1.0])\n",
    "# Plots direction of the electrical vector field\n",
    "plt.quiver(triang.x, triang.y, Ex/E_norm, Ey/E_norm,\n",
    "           units='xy', scale=10., zorder=3, color='blue',\n",
    "           width=0.007, headwidth=3., headlength=4.)\n",
    "\n",
    "plt.title('Gradient plot: an electrical dipole')\n",
    "plt.show()"
   ]
  },
  {
   "cell_type": "markdown",
   "metadata": {},
   "source": [
    "#### アニメーション出力"
   ]
  },
  {
   "cell_type": "code",
   "execution_count": null,
   "metadata": {
    "collapsed": true
   },
   "outputs": [],
   "source": [
    "from tempfile import NamedTemporaryFile\n",
    "from IPython.display import HTML\n",
    "\n",
    "VIDEO_TAG = \"\"\"<video controls>\n",
    " <source src=\"data:video/x-m4v;base64,{0}\" type=\"video/mp4\">\n",
    " Your browser does not support the video tag.\n",
    "</video>\"\"\"\n",
    "\n",
    "def anim_to_html(anim):\n",
    "    if not hasattr(anim, '_encoded_video'):\n",
    "        with NamedTemporaryFile(suffix='.mp4') as f:\n",
    "            anim.save(f.name, fps=20, extra_args=['-vcodec', 'libx264'])\n",
    "            video = open(f.name, \"rb\").read()\n",
    "        anim._encoded_video = video.encode(\"base64\")\n",
    "    \n",
    "    return VIDEO_TAG.format(anim._encoded_video)\n",
    "\n",
    "def display_animation(anim):\n",
    "    plt.close(anim._fig)\n",
    "    return HTML(anim_to_html(anim))"
   ]
  },
  {
   "cell_type": "code",
   "execution_count": null,
   "metadata": {
    "collapsed": false
   },
   "outputs": [],
   "source": [
    "import pylab as plt\n",
    "import numpy as np\n",
    "from matplotlib import animation\n",
    "\n",
    "# First set up the figure, the axis, and the plot element we want to animate\n",
    "fig = plt.figure()\n",
    "ax = plt.axes(xlim=(0, 2), ylim=(-2, 2))\n",
    "line, = ax.plot([], [], lw=2)\n",
    "\n",
    "# initialization function: plot the background of each frame\n",
    "def init():\n",
    "    line.set_data([], [])\n",
    "    return line,\n",
    "\n",
    "# animation function.  This is called sequentially\n",
    "def animate(i):\n",
    "    x = np.linspace(0, 2, 1000)\n",
    "    y = np.sin(2 * np.pi * (x - 0.01 * i))\n",
    "    line.set_data(x, y)\n",
    "    return line,\n",
    "\n",
    "# call the animator.  blit=True means only re-draw the parts that have changed.\n",
    "anim = animation.FuncAnimation(fig, animate, init_func=init,\n",
    "                               frames=100, interval=20, blit=True)\n",
    "\n",
    "# call our new function to display the animation\n",
    "display_animation(anim)"
   ]
  },
  {
   "cell_type": "markdown",
   "metadata": {
    "collapsed": true
   },
   "source": [
    "## おすすめの本\n",
    "\n",
    "Python入門書としては、以下の書籍がわかりやすいです。Amazonで購入できます。\n",
    "<img src=\"http://ecx.images-amazon.com/images/I/41xYd-p3mvL._SX298_BO1,204,203,200_.jpg\">\n",
    "また、IPythonやNumpy/Scipyを勉強するには以下の書籍がおすすめです。\n",
    "AmazonのKindleで購入が可能となっています。\n",
    "<img src=\"http://ecx.images-amazon.com/images/I/51moRIhvzhL._AA324_PIkin4,BottomRight,-47,22_AA300_SH20_OU09_.jpg\">\n",
    "\n"
   ]
  },
  {
   "cell_type": "code",
   "execution_count": null,
   "metadata": {
    "collapsed": true
   },
   "outputs": [],
   "source": []
  }
 ],
 "metadata": {
  "kernelspec": {
   "display_name": "Python 2",
   "language": "python",
   "name": "python2"
  },
  "language_info": {
   "codemirror_mode": {
    "name": "ipython",
    "version": 2
   },
   "file_extension": ".py",
   "mimetype": "text/x-python",
   "name": "python",
   "nbconvert_exporter": "python",
   "pygments_lexer": "ipython2",
   "version": "2.7.10"
  }
 },
 "nbformat": 4,
 "nbformat_minor": 0
}
