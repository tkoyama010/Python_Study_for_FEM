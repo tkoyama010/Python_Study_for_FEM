{
 "cells": [
  {
   "cell_type": "markdown",
   "metadata": {},
   "source": [
    "# 有限要素法のためのPython入門\n",
    "\n",
    "\n",
    "## はじめに\n",
    "\n",
    "本日紹介するライブラリはオブジェクト指向の考え方を基に作成されています。\n",
    "今日勉強する内容はすべてオブジェクトに関するものです。\n",
    "オブジェクトとは以下の図に示すようにプロパティとメソッドが基になっています。\n",
    "<img src=\"https://upload.wikimedia.org/wikipedia/commons/1/18/Oop-uml-class-example.png\">\n",
    "現在変数に格納されているものが何であるかは<変数>?と入力することで参照可能です。\n"
   ]
  },
  {
   "cell_type": "markdown",
   "metadata": {},
   "source": [
    "## 紹介する機能について\n",
    "\n",
    "PythonにはNumpy/Matplotlib/Scipy/Getfem++などのパッケージがあり、それらを組み合わせることにより容易に有限要素法のスクリプトを組むことができます。それぞれのパッケージに関しては各Wikipediaの内容を確認してください。\n",
    "\n",
    "Numpy (https://ja.wikipedia.org/wiki/NumPy)\n",
    "\n",
    "Matplotlib(https://ja.wikipedia.org/wiki/Matplotlib)\n",
    "\n",
    "Scipy (https://ja.wikipedia.org/wiki/SciPy)\n",
    "\n",
    "Getfem++ (https://ja.wikipedia.org/wiki/Getfem%2B%2B)\n",
    "\n",
    "それぞれのパッケージはPythonでは以下のように呼び出します。"
   ]
  },
  {
   "cell_type": "code",
   "execution_count": null,
   "metadata": {
    "collapsed": true
   },
   "outputs": [],
   "source": [
    "import numpy as np"
   ]
  },
  {
   "cell_type": "markdown",
   "metadata": {},
   "source": [
    "これで、これらのパッケージはそれぞれ、np/sp/gf/pltとしてインポートされました。\n",
    "各パッケージの機能は<module>.の後にタブキーを打つことで実行可能な関数などが表示されます。"
   ]
  },
  {
   "cell_type": "code",
   "execution_count": null,
   "metadata": {
    "collapsed": false
   },
   "outputs": [],
   "source": [
    "np."
   ]
  },
  {
   "cell_type": "code",
   "execution_count": null,
   "metadata": {
    "collapsed": true
   },
   "outputs": [],
   "source": [
    "np?"
   ]
  },
  {
   "cell_type": "markdown",
   "metadata": {},
   "source": [
    "## Numpyの学習 〜 密行列による線形解析〜\n",
    "\n",
    "本節ではNumpyのチュートリアル\n",
    "\n",
    "https://docs.scipy.org/doc/numpy-dev/user/quickstart.html\n",
    "\n",
    "の内容を解説します。"
   ]
  },
  {
   "cell_type": "markdown",
   "metadata": {},
   "source": [
    "### 配列の作成\n",
    "numpyを使用する利点としては多次元配列の操作が容易になることがあげられます。 numpyの配列のクラスはndarrayと呼ばれています。ndarrayの主なプロパティには主に以下のものがあります。\n",
    "\n",
    "\n",
    "<img src=\"http://docs.scipy.org/doc/numpy-1.10.0/_images/threefundamental.png\">\n",
    "\n",
    "#### ndarray.ndim\n",
    "配列の次元\n",
    "\n",
    "#### ndarray.shape\n",
    "配列の形状。n行m列の行列については、 形状 （M、N）となります 。\n",
    "\n",
    "#### ndarray.size\n",
    "配列の要素数の合計。\n",
    "\n",
    "#### ndarray.dtype\n",
    "配列の要素のタイプ。numpy.int32、numpy.int16、およびnumpy.float64などがあります。\n",
    "\n",
    "#### ndarray.itemsize\n",
    "配列の各要素のサイズ（バイト単位）。 \n",
    "\n",
    "#### ndarray.data\n",
    "配列の実際の要素を含むバッファー。 インデックスで配列の要素にアクセスするため、このプロパティを使用する必要はありません。\n"
   ]
  },
  {
   "cell_type": "markdown",
   "metadata": {},
   "source": [
    "#### 例\n",
    "\n",
    "実際に配列を定義してみます。例えば、ベクトル$b = \\left\\{ \\begin{array}{c}6\\\\7\\\\8\\end{array}\\right\\}$と$A=\\left[\\begin{array}{ccc}\n",
    "1 & 2 & 0\\\\\n",
    "2 & 5 & 6\\\\\n",
    "0 & 6 & 9\n",
    "\\end{array}\\right]$の行列を定義したい場合には次のように定義します。"
   ]
  },
  {
   "cell_type": "code",
   "execution_count": null,
   "metadata": {
    "collapsed": false
   },
   "outputs": [],
   "source": [
    "b = np.array([6, 7, 8])\n",
    "A = np.array([[1, 2, 0],[2, 5, 6],[0, 6, 9]])\n",
    "# bを出力します\n",
    "print \"b =\"\n",
    "print b\n",
    "# Aを出力します\n",
    "print \"A =\"\n",
    "print A"
   ]
  },
  {
   "cell_type": "markdown",
   "metadata": {},
   "source": [
    "np.arrayについて詳細を確認したい場合は次のようにコマンドを入力します。"
   ]
  },
  {
   "cell_type": "code",
   "execution_count": null,
   "metadata": {
    "collapsed": true
   },
   "outputs": [],
   "source": [
    "np.array?"
   ]
  },
  {
   "cell_type": "markdown",
   "metadata": {},
   "source": [
    "このコマンドを入力するとコマンドの呼び出し方法・目的・パラメータの説明が出てきます。\n",
    "詳細説明から分かるようにarrayには先ほど指定したobject以外にも引数があります。この引数のなかで\"引数=\"となっているものはデフォルト引数と呼ばれ指定されない場合は説明に書かれた値が使用されます。\n",
    "\n",
    "デフォルト引数を変更したい場合には以下のように指定します。"
   ]
  },
  {
   "cell_type": "code",
   "execution_count": null,
   "metadata": {
    "collapsed": false
   },
   "outputs": [],
   "source": [
    "A = np.array([[1, 2, 0],[2, 5, 6],[0, 6, 9]], dtype=complex)\n",
    "print A"
   ]
  },
  {
   "cell_type": "markdown",
   "metadata": {},
   "source": [
    "dtypeは詳細説明にもあるとおりarrayのデータ型を指定する引数です。これを\"dtype=complex\"としているため今回は複素数の行列が作成されています。"
   ]
  },
  {
   "cell_type": "markdown",
   "metadata": {},
   "source": [
    "#### 図の出力\n",
    "\n",
    "ipoython notebookで2次元の図を出力する場合にはmatplotlibが使われます。\n",
    "\n",
    "https://ja.wikipedia.org/wiki/Matplotlib\n",
    "\n",
    "以下のようにモジュールを呼び出します。２行目の\"%matplotlib inline\"はmatplotlibの図をiPython Notebook内で描写したグラフを展開するためのものです。"
   ]
  },
  {
   "cell_type": "code",
   "execution_count": null,
   "metadata": {
    "collapsed": true
   },
   "outputs": [],
   "source": [
    "from matplotlib import pylab as plt\n",
    "%matplotlib inline"
   ]
  },
  {
   "cell_type": "code",
   "execution_count": null,
   "metadata": {
    "collapsed": false
   },
   "outputs": [],
   "source": [
    "plt.plot(b)"
   ]
  },
  {
   "cell_type": "markdown",
   "metadata": {},
   "source": [
    "### 線形代数\n",
    "Numpyの線形代数に関する関数はnp.linalg以下にあります。"
   ]
  },
  {
   "cell_type": "code",
   "execution_count": null,
   "metadata": {
    "collapsed": true
   },
   "outputs": [],
   "source": [
    "np.linalg?"
   ]
  },
  {
   "cell_type": "markdown",
   "metadata": {},
   "source": [
    "例えば、先ほど作成した行列$A$の逆行列を計算したい場合はinv関数を使用します。"
   ]
  },
  {
   "cell_type": "code",
   "execution_count": null,
   "metadata": {
    "collapsed": true
   },
   "outputs": [],
   "source": [
    "np.linalg.inv?"
   ]
  },
  {
   "cell_type": "code",
   "execution_count": null,
   "metadata": {
    "collapsed": false
   },
   "outputs": [],
   "source": [
    "AA = np.linalg.inv(A)\n",
    "print AA"
   ]
  },
  {
   "cell_type": "markdown",
   "metadata": {},
   "source": [
    "Aに対して行列積(np.dot)を行うと以下のように単位行列が作成されます。これにより正しく逆行列が計算されることがわかります。"
   ]
  },
  {
   "cell_type": "code",
   "execution_count": null,
   "metadata": {
    "collapsed": true
   },
   "outputs": [],
   "source": [
    "np.dot?"
   ]
  },
  {
   "cell_type": "code",
   "execution_count": null,
   "metadata": {
    "collapsed": false
   },
   "outputs": [],
   "source": [
    "np.dot(A,AA)"
   ]
  },
  {
   "cell_type": "markdown",
   "metadata": {},
   "source": [
    "また、逆行列だけでなく固有値解析の実行も可能です。"
   ]
  },
  {
   "cell_type": "code",
   "execution_count": null,
   "metadata": {
    "collapsed": false
   },
   "outputs": [],
   "source": [
    "a, V = np.linalg.eig(A)\n",
    "# 固有値を出力します\n",
    "print \"固有値=\"\n",
    "print a\n",
    "# 固有値ベクトル\n",
    "print \"固有ベクトル=\"\n",
    "print V\n",
    "plt.plot(V[:,0])\n",
    "plt.plot(V[:,1])"
   ]
  },
  {
   "cell_type": "markdown",
   "metadata": {},
   "source": [
    "## Scipyの学習〜疎行列による線形代数〜\n",
    "\n",
    "ScipyはNumPyを基盤にした科学計算ライブラリです。本節ではScipyのチュートリアル\n",
    "\n",
    "http://docs.scipy.org/doc/scipy/reference/tutorial/\n",
    "\n",
    "の内容のうち、疎行列による線形代数関係のライブラリの説明をします。"
   ]
  },
  {
   "cell_type": "code",
   "execution_count": null,
   "metadata": {
    "collapsed": false
   },
   "outputs": [],
   "source": [
    "import numpy as np\n",
    "from scipy import sparse"
   ]
  },
  {
   "cell_type": "code",
   "execution_count": null,
   "metadata": {
    "collapsed": true
   },
   "outputs": [],
   "source": [
    "sparse?"
   ]
  },
  {
   "cell_type": "markdown",
   "metadata": {},
   "source": [
    "Scipyで疎行列を操作する際にはNumpyで使用していたarrayオブジェクトとは別のオブジェクトを使用します。疎行列に使用されているオブジェクトは複数あり、相互に変換可能ですが今回はcoo_matrixオブジェクトを紹介します。"
   ]
  },
  {
   "cell_type": "code",
   "execution_count": null,
   "metadata": {
    "collapsed": true
   },
   "outputs": [],
   "source": [
    "# A sparse matrix in COOrdinate format\n",
    "sparse.coo_matrix?"
   ]
  },
  {
   "cell_type": "code",
   "execution_count": null,
   "metadata": {
    "collapsed": false
   },
   "outputs": [],
   "source": [
    "A = np.array([[1, 2, 0],[2, 5, 6],[0, 6, 9]], dtype=complex)\n",
    "# 行のインデックス\n",
    "I = np.array([0,0,1,1,1,2,2])\n",
    "# 列のインデックス\n",
    "J = np.array([0,1,0,1,2,1,2])\n",
    "# 値\n",
    "V = np.array([1,2,2,5,6,6,9])\n",
    "A = sparse.coo_matrix((V,(I,J)),shape=(3,3))\n",
    "print A"
   ]
  },
  {
   "cell_type": "markdown",
   "metadata": {},
   "source": [
    "以上のように各インデックスに値の入った疎行列が作成されます。また、これらの疎行列はファイルへの保存と読み込みが可能です。"
   ]
  },
  {
   "cell_type": "code",
   "execution_count": null,
   "metadata": {
    "collapsed": true
   },
   "outputs": [],
   "source": [
    "from scipy import io"
   ]
  },
  {
   "cell_type": "code",
   "execution_count": null,
   "metadata": {
    "collapsed": true
   },
   "outputs": [],
   "source": [
    "io?"
   ]
  },
  {
   "cell_type": "markdown",
   "metadata": {},
   "source": [
    "ここではMatrix Market形式(http://math.nist.gov/MatrixMarket/formats.html)\n",
    "で書き出しを行ってみます。"
   ]
  },
  {
   "cell_type": "code",
   "execution_count": null,
   "metadata": {
    "collapsed": false
   },
   "outputs": [],
   "source": [
    "from scipy import io"
   ]
  },
  {
   "cell_type": "code",
   "execution_count": null,
   "metadata": {
    "collapsed": true
   },
   "outputs": [],
   "source": [
    "io.mmwrite(\"A.mtx\", A)"
   ]
  },
  {
   "cell_type": "markdown",
   "metadata": {},
   "source": [
    "ファイルの中身を出力してみるとMatrix Market形式で正しく出力されていることがわかります。"
   ]
  },
  {
   "cell_type": "code",
   "execution_count": null,
   "metadata": {
    "collapsed": false
   },
   "outputs": [],
   "source": [
    "%cat A.mtx"
   ]
  },
  {
   "cell_type": "markdown",
   "metadata": {},
   "source": [
    "また、既存のファイルを読み込んで新しく行列を作成することも可能です。"
   ]
  },
  {
   "cell_type": "code",
   "execution_count": null,
   "metadata": {
    "collapsed": true
   },
   "outputs": [],
   "source": [
    "B = io.mmread(\"A.mtx\")"
   ]
  },
  {
   "cell_type": "code",
   "execution_count": null,
   "metadata": {
    "collapsed": false
   },
   "outputs": [],
   "source": [
    "print B"
   ]
  },
  {
   "cell_type": "markdown",
   "metadata": {},
   "source": [
    "### 疎行列の線形代数"
   ]
  },
  {
   "cell_type": "markdown",
   "metadata": {},
   "source": [
    "以上では、Pythonによる密行列の線形代数までを紹介してきました。しかしながら、有限要素法計算の際にはメモリ節約のため疎行列計算が行われます。その際にはscipyのsparseパッケージとその下のlinalgパッケージを使用します。"
   ]
  },
  {
   "cell_type": "code",
   "execution_count": null,
   "metadata": {
    "collapsed": false
   },
   "outputs": [],
   "source": [
    "import scipy as sp\n",
    "from scipy.sparse import linalg"
   ]
  },
  {
   "cell_type": "code",
   "execution_count": null,
   "metadata": {
    "collapsed": true
   },
   "outputs": [],
   "source": [
    "linalg?"
   ]
  },
  {
   "cell_type": "markdown",
   "metadata": {},
   "source": [
    "密行列と同じ操作を疎行列の線形代数パッケージで実行します。"
   ]
  },
  {
   "cell_type": "code",
   "execution_count": null,
   "metadata": {
    "collapsed": false
   },
   "outputs": [],
   "source": [
    "A  = A.tocsc()\n",
    "AA = linalg.inv(A)\n",
    "print AA"
   ]
  },
  {
   "cell_type": "markdown",
   "metadata": {},
   "source": [
    "密行列の場合は行列積が\"*\"になりますので注意してください。先ほどと同じように単位行列が逆行列との積で得られます。"
   ]
  },
  {
   "cell_type": "code",
   "execution_count": null,
   "metadata": {
    "collapsed": false
   },
   "outputs": [],
   "source": [
    "print A*AA"
   ]
  },
  {
   "cell_type": "markdown",
   "metadata": {},
   "source": [
    "また、固有値解析も少し複雑ですが以下のように計算できます。"
   ]
  },
  {
   "cell_type": "code",
   "execution_count": null,
   "metadata": {
    "collapsed": false
   },
   "outputs": [],
   "source": [
    "X = sp.rand(A.shape[0], 3)\n",
    "linalg.lobpcg(A,X)"
   ]
  },
  {
   "cell_type": "code",
   "execution_count": null,
   "metadata": {
    "collapsed": true
   },
   "outputs": [],
   "source": [
    "sp.rand?"
   ]
  },
  {
   "cell_type": "code",
   "execution_count": null,
   "metadata": {
    "collapsed": false
   },
   "outputs": [],
   "source": [
    "linalg.lobpcg?"
   ]
  },
  {
   "cell_type": "markdown",
   "metadata": {},
   "source": [
    "密行列の場合と同じ計算結果になることが確認できます。"
   ]
  },
  {
   "cell_type": "markdown",
   "metadata": {},
   "source": [
    "## Getfem++の学習"
   ]
  },
  {
   "cell_type": "code",
   "execution_count": null,
   "metadata": {
    "collapsed": true
   },
   "outputs": [],
   "source": [
    "import getfem as gf"
   ]
  },
  {
   "cell_type": "markdown",
   "metadata": {},
   "source": [
    "本節ではメッシュ作成とそれを離散化した行列を作成するパッケージGetfem++について説明します。必要となるオブジェクトは以下の図に示すものになります。"
   ]
  },
  {
   "cell_type": "markdown",
   "metadata": {},
   "source": [
    "<img src=\"http://download.gna.org/getfem/html/homepage/_images/getfem_structure1.png\">"
   ]
  },
  {
   "cell_type": "markdown",
   "metadata": {},
   "source": [
    "#### Femオブジェクト \n",
    "有限要素で何を使用するかを指定する。(ラグランジュ要素Pk、Qkなど)\n",
    "\n",
    "#### Meshオブジェクト\n",
    "メッシュの指定(point:節点とconvex:要素などから作られる)\n",
    "\n",
    "#### Integオブジェクト\n",
    "積分方法を指定する。\n",
    "\n",
    "#### MeshFemオブジェクト\n",
    "メッシュの要素に対してFemを設定したオブジェクト、自由度数などの情報も設定する。\n",
    "\n",
    "#### MeshImオブジェクト\n",
    "メッシュの要素に対して積分方法を指定したオブジェクト\n",
    "\n",
    "#### Assemblyオブジェクト\n",
    "離散化した行列組み立てのためのオブジェクト。MeshFemとMeshImを基に作成する。\n",
    "\n",
    "#### Modelオブジェクト\n",
    "モデル全体の情報を設定するオブジェクト。今回は未使用。\n"
   ]
  },
  {
   "cell_type": "markdown",
   "metadata": {},
   "source": [
    "まずは１次元のからのMeshオブジェクトを作成します。"
   ]
  },
  {
   "cell_type": "code",
   "execution_count": null,
   "metadata": {
    "collapsed": true
   },
   "outputs": [],
   "source": [
    "m = gf.Mesh('empty', 1)"
   ]
  },
  {
   "cell_type": "markdown",
   "metadata": {},
   "source": [
    "要素(add_convexメソッド)を追加していきます。"
   ]
  },
  {
   "cell_type": "code",
   "execution_count": null,
   "metadata": {
    "collapsed": true
   },
   "outputs": [],
   "source": [
    "gf.GeoTrans?"
   ]
  },
  {
   "cell_type": "code",
   "execution_count": null,
   "metadata": {
    "collapsed": false
   },
   "outputs": [],
   "source": [
    "m.add_convex(gf.GeoTrans('GT_QK(1,1)'),[[0,2]])"
   ]
  },
  {
   "cell_type": "code",
   "execution_count": null,
   "metadata": {
    "collapsed": false
   },
   "outputs": [],
   "source": [
    "m.add_convex(gf.GeoTrans('GT_QK(1,1)'),[[2,4]])"
   ]
  },
  {
   "cell_type": "code",
   "execution_count": null,
   "metadata": {
    "collapsed": false
   },
   "outputs": [],
   "source": [
    "print m"
   ]
  },
  {
   "cell_type": "code",
   "execution_count": null,
   "metadata": {
    "collapsed": true
   },
   "outputs": [],
   "source": [
    "mfu = gf.MeshFem(m,1) # 変位用MeshFem\n",
    "mfd = gf.MeshFem(m,1) # データ用MeshFem"
   ]
  },
  {
   "cell_type": "code",
   "execution_count": null,
   "metadata": {
    "collapsed": true
   },
   "outputs": [],
   "source": [
    "mfu.set_fem(gf.Fem('FEM_QK(1,1)'))\n",
    "mfd.set_fem(gf.Fem('FEM_QK(1,1)'))"
   ]
  },
  {
   "cell_type": "code",
   "execution_count": null,
   "metadata": {
    "collapsed": true
   },
   "outputs": [],
   "source": [
    "gf.Integ?"
   ]
  },
  {
   "cell_type": "code",
   "execution_count": null,
   "metadata": {
    "collapsed": true
   },
   "outputs": [],
   "source": [
    "im = gf.Integ('IM_GAUSS1D(1)')"
   ]
  },
  {
   "cell_type": "code",
   "execution_count": null,
   "metadata": {
    "collapsed": true
   },
   "outputs": [],
   "source": [
    "mim = gf.MeshIm(m, im)"
   ]
  },
  {
   "cell_type": "code",
   "execution_count": null,
   "metadata": {
    "collapsed": true
   },
   "outputs": [],
   "source": [
    "gf.asm_linear_elasticity?"
   ]
  },
  {
   "cell_type": "code",
   "execution_count": null,
   "metadata": {
    "collapsed": true
   },
   "outputs": [],
   "source": [
    "gf.asm_mass_matrix?"
   ]
  },
  {
   "cell_type": "code",
   "execution_count": null,
   "metadata": {
    "collapsed": true
   },
   "outputs": [],
   "source": [
    "K = gf.asm_linear_elasticity(mim, mfu, mfd, np.array([1.0, 1.0, 1.0]), np.array([1.0, 1.0, 1.0]))"
   ]
  },
  {
   "cell_type": "code",
   "execution_count": null,
   "metadata": {
    "collapsed": false
   },
   "outputs": [],
   "source": [
    "print \"剛性行列の計算\"\n",
    "print K.full()\n",
    "M = gf.asm_mass_matrix(mim, mfu)\n",
    "print \"質量行列の計算\"\n",
    "print M.full()"
   ]
  },
  {
   "cell_type": "markdown",
   "metadata": {},
   "source": [
    "以上により作成した剛性マトリックスと質量マトリックスはSpmatというGetfem++独自の行列オブジェクトで、先ほど紹介したMatrixMarketのフォーマットに出力するメソッドも備えています。"
   ]
  },
  {
   "cell_type": "code",
   "execution_count": null,
   "metadata": {
    "collapsed": true
   },
   "outputs": [],
   "source": [
    "K?"
   ]
  },
  {
   "cell_type": "code",
   "execution_count": null,
   "metadata": {
    "collapsed": true
   },
   "outputs": [],
   "source": [
    "K.save('mm', \"K.mtx\")\n",
    "M.save('mm', \"M.mtx\")"
   ]
  },
  {
   "cell_type": "code",
   "execution_count": null,
   "metadata": {
    "collapsed": true
   },
   "outputs": [],
   "source": [
    "K = io.mmread(\"K.mtx\")\n",
    "M = io.mmread(\"M.mtx\")"
   ]
  },
  {
   "cell_type": "code",
   "execution_count": null,
   "metadata": {
    "collapsed": false
   },
   "outputs": [],
   "source": [
    "print \"K = \"\n",
    "print K\n",
    "print \"M = \"\n",
    "print M"
   ]
  },
  {
   "cell_type": "markdown",
   "metadata": {},
   "source": [
    "このようにScipyの疎行列に容易に変換できます。そのため、Scipyを使用した連立方程式の計算や固有値解析を行うことにより有限要素法の解析が可能となります。"
   ]
  },
  {
   "cell_type": "code",
   "execution_count": null,
   "metadata": {
    "collapsed": false
   },
   "outputs": [],
   "source": [
    "a = np.ones((2,3), dtype=int)\n",
    "b = np.random.random((2,3))\n",
    "a *= 3\n",
    "a"
   ]
  },
  {
   "cell_type": "code",
   "execution_count": null,
   "metadata": {
    "collapsed": false
   },
   "outputs": [],
   "source": [
    "b += a\n",
    "b"
   ]
  },
  {
   "cell_type": "markdown",
   "metadata": {},
   "source": [
    "異なる型の配列で動作している場合、結果の配列の型は、より一般的または正確な1（アップキャストとして知られる動作）に相当します。"
   ]
  },
  {
   "cell_type": "code",
   "execution_count": null,
   "metadata": {
    "collapsed": false
   },
   "outputs": [],
   "source": [
    "a = np.ones(3, dtype=np.int32)\n",
    "b = np.linspace(0,np.pi,3)\n",
    "b.dtype.name"
   ]
  },
  {
   "cell_type": "code",
   "execution_count": null,
   "metadata": {
    "collapsed": false
   },
   "outputs": [],
   "source": [
    "c = a+b\n",
    "c"
   ]
  },
  {
   "cell_type": "code",
   "execution_count": null,
   "metadata": {
    "collapsed": false
   },
   "outputs": [],
   "source": [
    "c.dtype.name"
   ]
  },
  {
   "cell_type": "code",
   "execution_count": null,
   "metadata": {
    "collapsed": false
   },
   "outputs": [],
   "source": [
    "d = np.exp(c*1j)\n",
    "d"
   ]
  },
  {
   "cell_type": "code",
   "execution_count": null,
   "metadata": {
    "collapsed": false
   },
   "outputs": [],
   "source": [
    "d.dtype.name"
   ]
  },
  {
   "cell_type": "markdown",
   "metadata": {},
   "source": [
    "そのような配列のすべての要素の合計を計算などの多くの単項演算は、ndarrayクラスのメソッドとして実装されています。"
   ]
  },
  {
   "cell_type": "markdown",
   "metadata": {},
   "source": [
    "それは関係なく、その形状の、番号のリストであるかのようにデフォルトでは、これらの操作は、アレイに適用されます。 しかし、 軸パラメータを指定することで、あなたは配列の指定した軸に沿って操作を適用することができます。"
   ]
  },
  {
   "cell_type": "markdown",
   "metadata": {},
   "source": [
    "### ユニバーサル機能\n",
    "\n",
    "numpyのは、罪、COS、およびEXPなどの使い慣れた数学関数を提供します。 numpyのでは、これらは「ユニバーサル機能」（ufunc）と呼ばれています。 numpyの中では、これらの機能は、出力として、配列を生成する、アレイ上の要素ごとに動作します。"
   ]
  },
  {
   "cell_type": "markdown",
   "metadata": {},
   "source": [
    "参照してください。:\n",
    "\n",
    "all , any , apply_along_axis , argmax , argmin , argsort , average , bincount , ceil , clip , conj , corrcoef , cov , cross , cumprod , cumsum , diff , dot , floor , inner , inv , lexsort , max , maximum , mean , median , min , minimum , nonzero , outer , prod , re , round , sort , std , sum , trace , transpose , var , vdot , vectorize , where"
   ]
  },
  {
   "cell_type": "markdown",
   "metadata": {},
   "source": [
    "### インデックス、スライスと反復処理\n",
    "一次元配列は、インデックス付きのスライスと同じよう、巡回できないリストや他のPythonシーケンス。"
   ]
  },
  {
   "cell_type": "markdown",
   "metadata": {},
   "source": [
    "多次元配列は、軸ごとに一つのインデックスを持つことができます。 これらの指標は、カンマで区切られたタプルに記載されています："
   ]
  },
  {
   "cell_type": "markdown",
   "metadata": {},
   "source": [
    "少ないインデックスは軸の数より提供されている場合には、不足しているインデックスは、完全なスライスとみなされます。"
   ]
  },
  {
   "cell_type": "markdown",
   "metadata": {},
   "source": [
    "残りの軸を表すために、必要に応じて：B [i]の中括弧内の式は、以下のように多くのインスタンスが続く私として扱われます。 numpyのは、また、bと 、この使用してドットを書き込むことができます[I、...]。\n",
    "\n",
    "完全な索引付けタプルを生成するために必要なドット （...）は、のような多くのコロンを表します。 xはランク5アレイである場合たとえば、その後、（すなわち、それは5の軸があります）\n",
    "\n",
    "* 、[：、：、1,2]×[1,2、...]は 、xと等価です\n",
    "\n",
    "* X [...]、[3] xに[：、：、：、：、3]と\n",
    "\n",
    "* X [4、...、5 ,:] xに[4、：、：、5 ,:]。"
   ]
  },
  {
   "cell_type": "markdown",
   "metadata": {},
   "source": [
    "多次元配列の繰り返し処理は、最初の軸に対して行われます。"
   ]
  },
  {
   "cell_type": "code",
   "execution_count": null,
   "metadata": {
    "collapsed": false
   },
   "outputs": [],
   "source": [
    "import numpy as np\n",
    "a = np.array([[1.0, 2.0], [3.0, 4.0]])\n",
    "print(a)"
   ]
  },
  {
   "cell_type": "markdown",
   "metadata": {},
   "source": [
    "1は、配列の各要素に対して操作を実行したい場合は、1があるフラット属性を使用することができますイテレータ配列のすべての要素の上に："
   ]
  },
  {
   "cell_type": "markdown",
   "metadata": {},
   "source": [
    "参照してください。 :\n",
    "\n",
    "インデックス 、 インデックス （参照）、newaxis、ndenumerate、 インデックス"
   ]
  },
  {
   "cell_type": "markdown",
   "metadata": {},
   "source": [
    "### 操作形状\n",
    "#### アレイの形状を変化させる\n",
    "\n",
    "配列には、各軸に沿った要素の数によって与えられた形状をしています："
   ]
  },
  {
   "cell_type": "markdown",
   "metadata": {},
   "source": [
    "配列の形状は、様々なコマンドを使用して変更できます。"
   ]
  },
  {
   "cell_type": "markdown",
   "metadata": {},
   "source": [
    "ラヴェル（結果の配列内の要素の順序）は、通常は「Cスタイル」である、つまり、右端のインデックスが「最速を変更する」ので、[0,0]、[0,1]である要素の後に。 アレイは、他の形状に整形されている場合は、再び配列は「Cスタイル」として扱われます。 numpyのは、通常はこの順序で格納されている配列を作成するので、ラヴェル（）通常はその引数をコピーする必要はありませんが、配列を別の配列のスライスを取るか、異常なオプションを使用して作成することによって行われた場合、それをコピーする必要があるかもしれません。 関数）（ラヴェル）と（再形成も左端のインデックスは最速を変更するには、Fortran形式の配列を使用するために、オプションの引数を使用して、指示することができます。\n",
    "\n",
    "リシェイプのに対し、関数は、変更された形でその引数を戻しndarray.resizeの方法は、配列自体を改変します。"
   ]
  },
  {
   "cell_type": "markdown",
   "metadata": {},
   "source": [
    "ディメンションが再形成操作で-1として与えられている場合、他の寸法を自動的に計算されます。"
   ]
  },
  {
   "cell_type": "markdown",
   "metadata": {},
   "source": [
    "##### 参照してください\n",
    "ndarray.shape、 形を整え 、 サイズ変更 、 ラヴェル"
   ]
  },
  {
   "cell_type": "markdown",
   "metadata": {},
   "source": [
    "### 異なるアレイを一緒にスタッキング\n",
    "\n",
    "複数のアレイは異なる軸に沿って互いに積層することができます。"
   ]
  },
  {
   "cell_type": "markdown",
   "metadata": {},
   "source": [
    "機能column_stack 2次元配列に列として1D配列をスタックします。 それはすることと等価であるvstackのみ1Dアレイに："
   ]
  },
  {
   "cell_type": "markdown",
   "metadata": {},
   "source": [
    "次元以上、との配列の場合hstack彼らの第二の軸に沿ってスタック、vstack彼らの最初の軸に沿ってスタック、およびCONCATENATEは連結が起こるはずそれに沿って軸の数を与えるオプションの引数を可能にします。"
   ]
  },
  {
   "cell_type": "markdown",
   "metadata": {},
   "source": [
    "#### 注意\n",
    "\n",
    "複雑なケースでは、 R_及びC_は、 1つの軸に沿って番号を積層してアレイを作成するために有用です。 彼らは範囲リテラルの使用を許可します（ \"：\"）："
   ]
  },
  {
   "cell_type": "markdown",
   "metadata": {},
   "source": [
    "引数として配列を使用するとR_とC_に似てvstackとhstackデフォルトの動作ではなく、連結するために沿った軸の数を与えるオプションの引数を可能にします。"
   ]
  },
  {
   "cell_type": "markdown",
   "metadata": {},
   "source": [
    "参照してください。 \n",
    "hstack、vstack、column_stack、 連結 、C_、R_"
   ]
  },
  {
   "cell_type": "markdown",
   "metadata": {},
   "source": [
    "### いくつかの小さなものにつのアレイを分割する\n",
    "\n",
    "使用hsplitを 、あなたは、どちらか、またはその後の分割が発生した列を指定して返すように均等に形配列の数を指定することで、横軸に沿って配列を分割することができます："
   ]
  },
  {
   "cell_type": "markdown",
   "metadata": {},
   "source": [
    "vsplitは、垂直軸に沿って分割し、array_splitは 1がどの分割する軸に沿って指定することができます。"
   ]
  },
  {
   "cell_type": "markdown",
   "metadata": {},
   "source": [
    "## コピーとビュー\n",
    "動作し、配列を操作すると、そのデータは、時には新しい配列にコピーされ、時にはされていません。 これは多くの場合、初心者のための混乱の源です。 3つのケースがあります。\n",
    "\n",
    "### まったくコピーしない\n",
    "\n",
    "単純な割り当ては、配列オブジェクトまたはそのデータのないコピーを作成しません。"
   ]
  },
  {
   "cell_type": "markdown",
   "metadata": {},
   "source": [
    "Pythonは参照として変更可能なオブジェクトを渡すので、関数呼び出しにはコピーを行いません。"
   ]
  },
  {
   "cell_type": "markdown",
   "metadata": {},
   "source": [
    "### 表示または浅いコピー\n",
    "\n",
    "異なる配列オブジェクトは、同じデータを共有することができます。 ビューの方法は、同じデータを見て、新しい配列オブジェクトを作成します。"
   ]
  },
  {
   "cell_type": "markdown",
   "metadata": {},
   "source": [
    "配列をスライスすると、それのビューを返します。"
   ]
  },
  {
   "cell_type": "markdown",
   "metadata": {},
   "source": [
    "### ディープコピー\n",
    "\n",
    "コピー方法は、配列とそのデータの完全なコピーを作成します。"
   ]
  },
  {
   "cell_type": "markdown",
   "metadata": {},
   "source": [
    "### 関数とメソッドの概要"
   ]
  },
  {
   "cell_type": "markdown",
   "metadata": {},
   "source": [
    "ここでのカテゴリの注文いくつかの有用なnumpyの関数やメソッド名のリストです。 参照ルーチンを完全なリストについて。"
   ]
  },
  {
   "cell_type": "markdown",
   "metadata": {},
   "source": [
    "#### アレイの作成\n",
    "arange , array , copy , empty , empty_like , eye , fromfile , fromfunction , identity , linspace , logspace , mgrid , ogrid , ones , ones_like , r , zeros , zeros_like"
   ]
  },
  {
   "cell_type": "markdown",
   "metadata": {},
   "source": [
    "#### 変換\n",
    "ndarray.astype、atleast_1d、atleast_2d、atleast_3d、 マット"
   ]
  },
  {
   "cell_type": "markdown",
   "metadata": {},
   "source": [
    "#### 操作\n",
    "array_split , column_stack , concatenate , diagonal , dsplit , dstack , hsplit , hstack , ndarray.item , newaxis , ravel , repeat , reshape , resize , squeeze , swapaxes , take , transpose , vsplit , vstack\n"
   ]
  },
  {
   "cell_type": "markdown",
   "metadata": {},
   "source": [
    "#### 質問\n",
    "すべての 、 任意の 、 ゼロ以外 、 どこ"
   ]
  },
  {
   "cell_type": "markdown",
   "metadata": {},
   "source": [
    "#### 注文\n",
    "ARGMAX、argmin、argsort、 最大、最小 、PTP、searchsorted、 ソート"
   ]
  },
  {
   "cell_type": "markdown",
   "metadata": {},
   "source": [
    "#### 事業\n",
    "選択し 、 圧縮し 、cumprod、CUMSUM、 インナー 、ndarray.fill、IMAG、PROD、 置く 、PutMaskですです、本当の、合計"
   ]
  },
  {
   "cell_type": "markdown",
   "metadata": {},
   "source": [
    "#### 基礎統計学\n",
    "COV、 平均 、STD、VAR"
   ]
  },
  {
   "cell_type": "markdown",
   "metadata": {},
   "source": [
    "#### 基本線形代数\n",
    "クロス 、 ドット 、 アウター 、linalg.svd、 州交通省"
   ]
  },
  {
   "cell_type": "markdown",
   "metadata": {},
   "source": [
    "## 少ない基本"
   ]
  },
  {
   "cell_type": "markdown",
   "metadata": {},
   "source": [
    "### ルールの番組\n",
    "放送は、普遍的な機能は全く同じ形状を有していない入力に有意義な方法で対処することができます。\n",
    "\n",
    "放送の最初のルールは、すべての入力配列は、次元の数が同じでない場合は、すべての配列は、次元の数が同じになるまで、 \"1\"を繰り返し小さなアレイの形状の前に追加されるということです。\n",
    "\n",
    "放送の二番目のルールは、特定のディメンションの行為に沿っ1の大きさの配列が、彼らはその次元に沿って最大の形状に配列のサイズを持っていたかのようにことを保証します。 配列要素の値は、「ブロードキャスト」アレイのその次元に沿って同じであると仮定されます。\n",
    "\n",
    "放送ルールを適用した後、すべての配列のサイズが一致している必要があります。 詳細はで見つけることができる放送 。"
   ]
  },
  {
   "cell_type": "markdown",
   "metadata": {},
   "source": [
    "## ファンシーインデックスとインデックストリック\n",
    "numpyのは、通常のPython配列以上のインデックス作成の施設を提供しています。 我々の前に見たように、整数とスライスによってインデックス付けに加えて、配列は整数とブール値の配列の配列によってインデックス付けすることができます。"
   ]
  },
  {
   "cell_type": "markdown",
   "metadata": {},
   "source": [
    "### インデックスの配列とインデックス"
   ]
  },
  {
   "cell_type": "markdown",
   "metadata": {},
   "source": [
    "インデックス付きの配列 a が多次元である場合には、インデックスの単一のアレイは、最初の寸法を指します。 次の例では、パレットを使用してカラー画像にラベルの画像を変換することによって、この動作を示しています。"
   ]
  },
  {
   "cell_type": "markdown",
   "metadata": {},
   "source": [
    "また、複数の次元のインデックスを与えることができます。 各次元のインデックスの配列は、同じ形状を有していなければなりません。"
   ]
  },
  {
   "cell_type": "markdown",
   "metadata": {},
   "source": [
    "当然のことながら、私たちは順番にiとj を入れて （リストと言う）し、リストにインデックス付けを行うことができます。"
   ]
  },
  {
   "cell_type": "markdown",
   "metadata": {},
   "source": [
    "しかし、我々は、この配列は、最初の次元をインデックスすると解釈されるため、配列にiとj を置くことによってこれを行うことはできません。"
   ]
  },
  {
   "cell_type": "markdown",
   "metadata": {},
   "source": [
    "アレイとインデックス作成のもう一つの一般的な使用は、時間に依存する一連の最大値の検索です。"
   ]
  },
  {
   "cell_type": "markdown",
   "metadata": {},
   "source": [
    "また、に割り当てる対象として配列とインデックス付けを使用することができます。"
   ]
  },
  {
   "cell_type": "markdown",
   "metadata": {},
   "source": [
    "インデックスのリストが繰り返しが含まれている場合ただし、割り当ては最後の値を残し、数回行われます。"
   ]
  },
  {
   "cell_type": "markdown",
   "metadata": {},
   "source": [
    "これは十分に合理的ですが、あなたはそれが何を期待しないこととして、Pythonの+ =構文を使用する場合は気をつけてください："
   ]
  },
  {
   "cell_type": "markdown",
   "metadata": {},
   "source": [
    "0は、インデックスのリストに2回出現するにもかかわらず、0番目の要素は一度だけインクリメントされます。 Pythonは「A = A + 1」に相当すると「+ = 1 A」を必要とするからです。"
   ]
  },
  {
   "cell_type": "markdown",
   "metadata": {},
   "source": [
    "## ブール配列とインデックス"
   ]
  },
  {
   "cell_type": "markdown",
   "metadata": {},
   "source": [
    "（整数）のインデックスの配列を持つ私たちのインデックス配列は我々が選択するインデックスのリストを提供しているとき。 ブール指標ではアプローチが異なります。 我々は明示的に私たちが望む、アレイ内のどの項目を選択し、我々はそうでないもの。\n",
    "\n",
    "1ブールインデックス作成のための考えることができる最も自然な方法は、元の配列と同じ形状を持つブール配列を使用することです。"
   ]
  },
  {
   "cell_type": "markdown",
   "metadata": {},
   "source": [
    "このプロパティは、割り当てに非常に役立ちます。"
   ]
  },
  {
   "cell_type": "markdown",
   "metadata": {},
   "source": [
    "あなたはの画像を生成するブールインデクシングを使用する方法を参照するには、次の例を見ることができマンデルブロ集合を ："
   ]
  },
  {
   "cell_type": "markdown",
   "metadata": {},
   "source": [
    "ブール値を持つインデックス付けの第二の方法は、インデックス作成を整数に、より似ています。 配列の各次元のために私たちは私たちが望むのスライスを選択する1Dブール配列を与えます。"
   ]
  },
  {
   "cell_type": "markdown",
   "metadata": {},
   "source": [
    "あなたがスライスしたい1Dブール配列の長さは寸法（または軸）の長さと一致しなければならないことに注意してください。 前の例では、B1は長さ3（ の行数）、および（長さ4の）B2と1ランクの配列の2番目のランク（列）インデックスに適しています。"
   ]
  },
  {
   "cell_type": "markdown",
   "metadata": {},
   "source": [
    "### ix_（）関数\n",
    "ix_の関数は、それぞれ次的なn-upletのための結果を得るために、異なるベクターを組み合わせて使用することができます。 たとえば、a、bおよびcベクトルの各々から採取した全てのトリプレットのすべてのA + B * Cを計算したい場合は："
   ]
  },
  {
   "cell_type": "markdown",
   "metadata": {},
   "source": [
    "また、次のように削減実現することができます。"
   ]
  },
  {
   "cell_type": "markdown",
   "metadata": {},
   "source": [
    "し、それを次のように使用します。"
   ]
  },
  {
   "cell_type": "markdown",
   "metadata": {},
   "source": [
    "通常のufunc.reduceに比べて減らすのこのバージョンの利点は、の使用にすることである放送ルールを引数配列出力回数ベクトルの数の大きさを作成しないようにするために。"
   ]
  },
  {
   "cell_type": "markdown",
   "metadata": {},
   "source": [
    "### 文字列を含むインデックス\n",
    "参照RecordArraysを 。"
   ]
  },
  {
   "cell_type": "markdown",
   "metadata": {},
   "source": [
    "## 線形代数\n",
    "進行中の作業。 ここに含まれるべき基本的な線形代数。\n"
   ]
  },
  {
   "cell_type": "markdown",
   "metadata": {},
   "source": [
    "### 単純な配列の演算\n",
    "進行中の作業。 ここに含まれるべき基本的な線形代数。"
   ]
  },
  {
   "cell_type": "markdown",
   "metadata": {},
   "source": [
    "### 単純な配列の演算\n",
    "多くのためnumpyのフォルダにlinalg.pyを参照してください。"
   ]
  },
  {
   "cell_type": "markdown",
   "metadata": {},
   "source": [
    "## コツとヒント\n",
    "ここでは短いと役立つヒントのリストを与えます。"
   ]
  },
  {
   "cell_type": "markdown",
   "metadata": {},
   "source": [
    "## 「自動」リシェイプ\n",
    "\n",
    "配列の次元を変更するには、自動的に推定されることでサイズのいずれかを省略することができます。"
   ]
  },
  {
   "cell_type": "markdown",
   "metadata": {},
   "source": [
    "## ベクトルスタッキング\n",
    "\n",
    "どのように我々は、同じサイズの行ベクトルのリストから2次元配列を作成しますか？ MATLABでは、これは非常に簡単です：xと yは、あなたが唯一のM = [X、Y]を行う必要があり、同じ長さの2つのベクトルである場合。 numpyのでは、この関数は積み重ねが行われるようになっている寸法に応じて、dstack、hstackとvstackを column_stack経由で動作します。 例えば："
   ]
  },
  {
   "cell_type": "markdown",
   "metadata": {},
   "source": [
    "以上の2次元でのそれらの機能の背後にあるロジックは、奇妙なことができます。"
   ]
  },
  {
   "cell_type": "markdown",
   "metadata": {},
   "source": [
    "## ヒストグラム\n",
    "\n",
    "numpyののヒストグラム配列のヒストグラムとビンのベクトル：配列に適用される関数は、ベクトルのペアを返します。注意してください：matplotlib のは、また、（と呼ばれるヒストグラムを構築するための機能を有しているHIST numpyの内の1つとは異なりMatlabののように、）。主な違いはということですpylab.histをしながら、自動的にヒストグラムをプロットnumpy.histogramが唯一のデータを生成します。"
   ]
  },
  {
   "cell_type": "markdown",
   "metadata": {},
   "source": [
    "## 深い読み\n",
    "\n",
    "* Pythonのチュートリアル\n",
    "* numpyのリファレンス\n",
    "* scipyのチュートリアル\n",
    "* scipyの講義ノート\n",
    "* MathWorks社のMATLAB、R、IDL、numpyの/ scipyの辞書"
   ]
  },
  {
   "cell_type": "code",
   "execution_count": null,
   "metadata": {
    "collapsed": false
   },
   "outputs": [],
   "source": [
    "a.transpose()"
   ]
  },
  {
   "cell_type": "code",
   "execution_count": null,
   "metadata": {
    "collapsed": false
   },
   "outputs": [],
   "source": [
    "np.linalg.inv(a)"
   ]
  },
  {
   "cell_type": "code",
   "execution_count": null,
   "metadata": {
    "collapsed": false
   },
   "outputs": [],
   "source": []
  },
  {
   "cell_type": "code",
   "execution_count": null,
   "metadata": {
    "collapsed": false
   },
   "outputs": [],
   "source": [
    "u = np.eye(2) # unit 2x2 matrix; \"eye\" represents \"I\"\n",
    "u"
   ]
  },
  {
   "cell_type": "code",
   "execution_count": null,
   "metadata": {
    "collapsed": false
   },
   "outputs": [],
   "source": [
    "j = np.array([[0.0, -1.0], [1.0, 0.0]])\n",
    "j"
   ]
  },
  {
   "cell_type": "code",
   "execution_count": null,
   "metadata": {
    "collapsed": false
   },
   "outputs": [],
   "source": [
    "np.dot (j, j) # matrix product"
   ]
  },
  {
   "cell_type": "code",
   "execution_count": null,
   "metadata": {
    "collapsed": false
   },
   "outputs": [],
   "source": [
    "np.trace(u)"
   ]
  },
  {
   "cell_type": "code",
   "execution_count": null,
   "metadata": {
    "collapsed": false
   },
   "outputs": [],
   "source": [
    "y = np.array([[5.], [7.]])\n",
    "np.linalg.solve(a, y)"
   ]
  },
  {
   "cell_type": "code",
   "execution_count": null,
   "metadata": {
    "collapsed": false
   },
   "outputs": [],
   "source": [
    "np.linalg.eig(j)"
   ]
  },
  {
   "cell_type": "code",
   "execution_count": null,
   "metadata": {
    "collapsed": true
   },
   "outputs": [],
   "source": [
    "np.linalg.eig?"
   ]
  },
  {
   "cell_type": "code",
   "execution_count": null,
   "metadata": {
    "collapsed": false
   },
   "outputs": [],
   "source": [
    "a = np.arange(30)\n",
    "a.shape = 2,-1,3  # -1 means \"whatever is needed\"\n",
    "a.shape"
   ]
  },
  {
   "cell_type": "code",
   "execution_count": null,
   "metadata": {
    "collapsed": false
   },
   "outputs": [],
   "source": [
    "a"
   ]
  },
  {
   "cell_type": "code",
   "execution_count": null,
   "metadata": {
    "collapsed": false
   },
   "outputs": [],
   "source": [
    "x = np.arange(0,10,2)\n",
    "x"
   ]
  },
  {
   "cell_type": "code",
   "execution_count": null,
   "metadata": {
    "collapsed": false
   },
   "outputs": [],
   "source": [
    "y = np.arange(5)\n",
    "y"
   ]
  },
  {
   "cell_type": "code",
   "execution_count": null,
   "metadata": {
    "collapsed": false
   },
   "outputs": [],
   "source": [
    "m = np.vstack([x,y])\n",
    "m"
   ]
  },
  {
   "cell_type": "code",
   "execution_count": null,
   "metadata": {
    "collapsed": false
   },
   "outputs": [],
   "source": [
    "xy = np.hstack([x,y])\n",
    "xy"
   ]
  },
  {
   "cell_type": "code",
   "execution_count": null,
   "metadata": {
    "collapsed": false
   },
   "outputs": [],
   "source": [
    "a = np.arange(12).reshape(3,4)\n",
    "b = a > 4\n",
    "b                                          # b is a boolean with a's shape"
   ]
  },
  {
   "cell_type": "code",
   "execution_count": null,
   "metadata": {
    "collapsed": false
   },
   "outputs": [],
   "source": [
    "a[b]                                       # 1d array with the selected elements"
   ]
  },
  {
   "cell_type": "code",
   "execution_count": null,
   "metadata": {
    "collapsed": false
   },
   "outputs": [],
   "source": [
    "a[b] = 0                                   # All elements of 'a' higher than 4 become 0\n",
    "a"
   ]
  },
  {
   "cell_type": "code",
   "execution_count": null,
   "metadata": {
    "collapsed": false
   },
   "outputs": [],
   "source": [
    "def mandelbrot( h,w, maxit=20 ):\n",
    "    \"\"\"Returns an image of the Mandelbrot fractal of size (h,w).\"\"\"\n",
    "    y,x = np.ogrid[ -1.4:1.4:h*1j, -2:0.8:w*1j ]\n",
    "    c = x+y*1j\n",
    "    z = c\n",
    "    divtime = maxit + np.zeros(z.shape, dtype=int)\n",
    "    for i in range(maxit):\n",
    "        z = z**2 + c\n",
    "        diverge = z*np.conj(z) > 2**2            # who is diverging\n",
    "        div_now = diverge & (divtime==maxit)  # who is diverging now\n",
    "        divtime[div_now] = i                  # note when\n",
    "        z[diverge] = 2                        # avoid diverging too much\n",
    "    return divtime\n",
    "plt.imshow(mandelbrot(400,400))\n",
    "plt.show()"
   ]
  },
  {
   "cell_type": "code",
   "execution_count": null,
   "metadata": {
    "collapsed": true
   },
   "outputs": [],
   "source": [
    "a = np.arange(12).reshape(3,4)\n",
    "b1 = np.array([False,True,True])             # first dim selection\n",
    "b2 = np.array([True,False,True,False])       # second dim selection"
   ]
  },
  {
   "cell_type": "code",
   "execution_count": null,
   "metadata": {
    "collapsed": false
   },
   "outputs": [],
   "source": [
    "a[b1,:]                                   # selecting rows"
   ]
  },
  {
   "cell_type": "code",
   "execution_count": null,
   "metadata": {
    "collapsed": false
   },
   "outputs": [],
   "source": [
    "a[b1]                                     # same thing"
   ]
  },
  {
   "cell_type": "code",
   "execution_count": null,
   "metadata": {
    "collapsed": false
   },
   "outputs": [],
   "source": [
    "a[:,b2]                                   # selecting columns"
   ]
  },
  {
   "cell_type": "code",
   "execution_count": null,
   "metadata": {
    "collapsed": false
   },
   "outputs": [],
   "source": [
    "a[b1,b2]                                  # a weird thing to do"
   ]
  },
  {
   "cell_type": "code",
   "execution_count": null,
   "metadata": {
    "collapsed": false
   },
   "outputs": [],
   "source": [
    "a = np.array([2,3,4,5])\n",
    "b = np.array([8,5,4])\n",
    "c = np.array([5,4,6,8,3])\n",
    "ax,bx,cx = np.ix_(a,b,c)\n",
    "ax"
   ]
  },
  {
   "cell_type": "code",
   "execution_count": null,
   "metadata": {
    "collapsed": false
   },
   "outputs": [],
   "source": [
    "bx"
   ]
  },
  {
   "cell_type": "code",
   "execution_count": null,
   "metadata": {
    "collapsed": false
   },
   "outputs": [],
   "source": [
    "cx"
   ]
  },
  {
   "cell_type": "code",
   "execution_count": null,
   "metadata": {
    "collapsed": false
   },
   "outputs": [],
   "source": [
    "ax.shape, bx.shape, cx.shape"
   ]
  },
  {
   "cell_type": "code",
   "execution_count": null,
   "metadata": {
    "collapsed": false
   },
   "outputs": [],
   "source": [
    "result = ax+bx*cx\n",
    "result"
   ]
  },
  {
   "cell_type": "code",
   "execution_count": null,
   "metadata": {
    "collapsed": false
   },
   "outputs": [],
   "source": [
    "result[3,2,4]"
   ]
  },
  {
   "cell_type": "code",
   "execution_count": null,
   "metadata": {
    "collapsed": false
   },
   "outputs": [],
   "source": [
    "a[3]+b[2]*c[4]"
   ]
  },
  {
   "cell_type": "code",
   "execution_count": null,
   "metadata": {
    "collapsed": true
   },
   "outputs": [],
   "source": [
    "def ufunc_reduce(ufct, *vectors):\n",
    "    vs = np.ix_(*vectors)\n",
    "    r = ufct.identity\n",
    "    for v in vs:\n",
    "        r = ufct(r,v)\n",
    "    return r"
   ]
  },
  {
   "cell_type": "code",
   "execution_count": null,
   "metadata": {
    "collapsed": false
   },
   "outputs": [],
   "source": [
    "ufunc_reduce(np.add,a,b,c)"
   ]
  },
  {
   "cell_type": "code",
   "execution_count": null,
   "metadata": {
    "collapsed": false
   },
   "outputs": [],
   "source": [
    "# Build a vector of 10000 normal deviates with variance 0.5^2 and mean 2\n",
    "mu, sigma = 2, 0.5\n",
    "v = np.random.normal(mu,sigma,10000)\n",
    "# Plot a normalized histogram with 50 bins\n",
    "plt.hist(v, bins=50, normed=1)       # matplotlib version (plot)\n",
    "plt.show()"
   ]
  },
  {
   "cell_type": "code",
   "execution_count": null,
   "metadata": {
    "collapsed": false
   },
   "outputs": [],
   "source": [
    "# Compute the histogram with numpy and then plot it\n",
    "(n, bins) = np.histogram(v, bins=50, normed=True)  # NumPy version (no plot)\n",
    "plt.plot(.5*(bins[1:]+bins[:-1]), n)\n",
    "plt.show()"
   ]
  },
  {
   "cell_type": "markdown",
   "metadata": {},
   "source": []
  },
  {
   "cell_type": "markdown",
   "metadata": {},
   "source": []
  },
  {
   "cell_type": "markdown",
   "metadata": {},
   "source": []
  },
  {
   "cell_type": "code",
   "execution_count": null,
   "metadata": {
    "collapsed": true
   },
   "outputs": [],
   "source": [
    "x_ = solve(A.toarray(), b)"
   ]
  },
  {
   "cell_type": "code",
   "execution_count": null,
   "metadata": {
    "collapsed": false
   },
   "outputs": [],
   "source": [
    "err = norm(x-x_)\n",
    "err < 1e-10"
   ]
  },
  {
   "cell_type": "code",
   "execution_count": null,
   "metadata": {
    "collapsed": false
   },
   "outputs": [],
   "source": []
  },
  {
   "cell_type": "code",
   "execution_count": null,
   "metadata": {
    "collapsed": false
   },
   "outputs": [],
   "source": [
    "I = array([0,0,1,3,1,0,0])\n",
    "J = array([0,2,1,3,1,0,0])\n",
    "V = array([1,1,1,1,1,1,1])\n",
    "B = sparse.coo_matrix((V,(I,J)),shape=(4,4)).tocsr()\n",
    "print B"
   ]
  },
  {
   "cell_type": "code",
   "execution_count": null,
   "metadata": {
    "collapsed": false
   },
   "outputs": [],
   "source": [
    "G_dense = np.array([[0, 2, 1],\n",
    "                    [2, 0, 0],\n",
    "                    [1, 0, 1]])\n",
    "G_masked = np.ma.masked_values(G_dense, 0)\n",
    "from scipy.sparse import csr_matrix\n",
    "G_sparse = csr_matrix(G_dense)\n",
    "print G_sparse"
   ]
  },
  {
   "cell_type": "code",
   "execution_count": null,
   "metadata": {
    "collapsed": true
   },
   "outputs": [],
   "source": [
    "from scipy.sparse import linalg"
   ]
  },
  {
   "cell_type": "code",
   "execution_count": null,
   "metadata": {
    "collapsed": false
   },
   "outputs": [],
   "source": [
    "A = A.tocsc()"
   ]
  },
  {
   "cell_type": "code",
   "execution_count": null,
   "metadata": {
    "collapsed": false
   },
   "outputs": [],
   "source": [
    "B = B.tocsc()"
   ]
  },
  {
   "cell_type": "code",
   "execution_count": null,
   "metadata": {
    "collapsed": true
   },
   "outputs": [],
   "source": [
    "m = gf.Mesh?"
   ]
  },
  {
   "cell_type": "code",
   "execution_count": null,
   "metadata": {
    "collapsed": true
   },
   "outputs": [],
   "source": [
    "m = gf.Mesh"
   ]
  },
  {
   "cell_type": "code",
   "execution_count": null,
   "metadata": {
    "collapsed": true
   },
   "outputs": [],
   "source": [
    "m = gf.Mesh"
   ]
  },
  {
   "cell_type": "code",
   "execution_count": null,
   "metadata": {
    "collapsed": true
   },
   "outputs": [],
   "source": [
    "m = gf.Mesh"
   ]
  },
  {
   "cell_type": "code",
   "execution_count": null,
   "metadata": {
    "collapsed": true
   },
   "outputs": [],
   "source": [
    "m = gf.Mesh"
   ]
  },
  {
   "cell_type": "code",
   "execution_count": null,
   "metadata": {
    "collapsed": true
   },
   "outputs": [],
   "source": [
    "m = gf.Mesh"
   ]
  },
  {
   "cell_type": "code",
   "execution_count": null,
   "metadata": {
    "collapsed": true
   },
   "outputs": [],
   "source": [
    "m = gf.Mesh"
   ]
  },
  {
   "cell_type": "code",
   "execution_count": null,
   "metadata": {
    "collapsed": true
   },
   "outputs": [],
   "source": [
    "m = gf.Mesh"
   ]
  },
  {
   "cell_type": "code",
   "execution_count": null,
   "metadata": {
    "collapsed": true
   },
   "outputs": [],
   "source": [
    "m = gf.Mesh('cartesian', np.arange(10))"
   ]
  },
  {
   "cell_type": "code",
   "execution_count": null,
   "metadata": {
    "collapsed": false
   },
   "outputs": [],
   "source": [
    "print m"
   ]
  },
  {
   "cell_type": "code",
   "execution_count": null,
   "metadata": {
    "collapsed": true
   },
   "outputs": [],
   "source": [
    "mfu = gf.MeshFem(m)"
   ]
  },
  {
   "cell_type": "code",
   "execution_count": null,
   "metadata": {
    "collapsed": false
   },
   "outputs": [],
   "source": [
    "print mfu"
   ]
  },
  {
   "cell_type": "code",
   "execution_count": null,
   "metadata": {
    "collapsed": true
   },
   "outputs": [],
   "source": [
    "mfu.set_fem(gf.Fem('FEM_PK(1,1)'))"
   ]
  },
  {
   "cell_type": "code",
   "execution_count": null,
   "metadata": {
    "collapsed": false
   },
   "outputs": [],
   "source": [
    "print mfu"
   ]
  },
  {
   "cell_type": "markdown",
   "metadata": {},
   "source": [
    "# ギャラリー\n",
    "\n",
    "今回、未紹介のもので出力が面白かったものをいくつか掲載しました。"
   ]
  },
  {
   "cell_type": "code",
   "execution_count": 1,
   "metadata": {
    "collapsed": false
   },
   "outputs": [
    {
     "data": {
      "image/png": "[encoded data removed]",
      "text/plain": [
       "<matplotlib.figure.Figure at 0x7f8bad1b1990>"
      ]
     },
     "metadata": {},
     "output_type": "display_data"
    }
   ],
   "source": [
    "\"\"\"\n",
    "Demonstrates computation of gradient with matplotlib.tri.CubicTriInterpolator.\n",
    "\"\"\"\n",
    "from matplotlib.tri import Triangulation, UniformTriRefiner,\\\n",
    "    CubicTriInterpolator\n",
    "import matplotlib.pyplot as plt\n",
    "import matplotlib.cm as cm\n",
    "import numpy as np\n",
    "import math\n",
    "%matplotlib inline\n",
    "\n",
    "\n",
    "#-----------------------------------------------------------------------------\n",
    "# Electrical potential of a dipole\n",
    "#-----------------------------------------------------------------------------\n",
    "def dipole_potential(x, y):\n",
    "    \"\"\" The electric dipole potential V \"\"\"\n",
    "    r_sq = x**2 + y**2\n",
    "    theta = np.arctan2(y, x)\n",
    "    z = np.cos(theta)/r_sq\n",
    "    return (np.max(z) - z) / (np.max(z) - np.min(z))\n",
    "\n",
    "\n",
    "#-----------------------------------------------------------------------------\n",
    "# Creating a Triangulation\n",
    "#-----------------------------------------------------------------------------\n",
    "# First create the x and y coordinates of the points.\n",
    "n_angles = 30\n",
    "n_radii = 10\n",
    "min_radius = 0.2\n",
    "radii = np.linspace(min_radius, 0.95, n_radii)\n",
    "\n",
    "angles = np.linspace(0, 2*math.pi, n_angles, endpoint=False)\n",
    "angles = np.repeat(angles[..., np.newaxis], n_radii, axis=1)\n",
    "angles[:, 1::2] += math.pi/n_angles\n",
    "\n",
    "x = (radii*np.cos(angles)).flatten()\n",
    "y = (radii*np.sin(angles)).flatten()\n",
    "V = dipole_potential(x, y)\n",
    "\n",
    "# Create the Triangulation; no triangles specified so Delaunay triangulation\n",
    "# created.\n",
    "triang = Triangulation(x, y)\n",
    "\n",
    "# Mask off unwanted triangles.\n",
    "xmid = x[triang.triangles].mean(axis=1)\n",
    "ymid = y[triang.triangles].mean(axis=1)\n",
    "mask = np.where(xmid*xmid + ymid*ymid < min_radius*min_radius, 1, 0)\n",
    "triang.set_mask(mask)\n",
    "\n",
    "#-----------------------------------------------------------------------------\n",
    "# Refine data - interpolates the electrical potential V\n",
    "#-----------------------------------------------------------------------------\n",
    "refiner = UniformTriRefiner(triang)\n",
    "tri_refi, z_test_refi = refiner.refine_field(V, subdiv=3)\n",
    "\n",
    "#-----------------------------------------------------------------------------\n",
    "# Computes the electrical field (Ex, Ey) as gradient of electrical potential\n",
    "#-----------------------------------------------------------------------------\n",
    "tci = CubicTriInterpolator(triang, -V)\n",
    "# Gradient requested here at the mesh nodes but could be anywhere else:\n",
    "(Ex, Ey) = tci.gradient(triang.x, triang.y)\n",
    "E_norm = np.sqrt(Ex**2 + Ey**2)\n",
    "\n",
    "#-----------------------------------------------------------------------------\n",
    "# Plot the triangulation, the potential iso-contours and the vector field\n",
    "#-----------------------------------------------------------------------------\n",
    "plt.figure()\n",
    "plt.gca().set_aspect('equal')\n",
    "plt.triplot(triang, color='0.8')\n",
    "\n",
    "levels = np.arange(0., 1., 0.01)\n",
    "cmap = cm.get_cmap(name='hot', lut=None)\n",
    "plt.tricontour(tri_refi, z_test_refi, levels=levels, cmap=cmap,\n",
    "               linewidths=[2.0, 1.0, 1.0, 1.0])\n",
    "# Plots direction of the electrical vector field\n",
    "plt.quiver(triang.x, triang.y, Ex/E_norm, Ey/E_norm,\n",
    "           units='xy', scale=10., zorder=3, color='blue',\n",
    "           width=0.007, headwidth=3., headlength=4.)\n",
    "\n",
    "plt.title('Gradient plot: an electrical dipole')\n",
    "plt.show()"
   ]
  },
  {
   "cell_type": "code",
   "execution_count": 2,
   "metadata": {
    "collapsed": true
   },
   "outputs": [],
   "source": [
    "from tempfile import NamedTemporaryFile\n",
    "from IPython.display import HTML\n",
    "\n",
    "VIDEO_TAG = \"\"\"<video controls>\n",
    " <source src=\"data:video/x-m4v;base64,{0}\" type=\"video/mp4\">\n",
    " Your browser does not support the video tag.\n",
    "</video>\"\"\"\n",
    "\n",
    "def anim_to_html(anim):\n",
    "    if not hasattr(anim, '_encoded_video'):\n",
    "        with NamedTemporaryFile(suffix='.mp4') as f:\n",
    "            anim.save(f.name, fps=20, extra_args=['-vcodec', 'libx264'])\n",
    "            video = open(f.name, \"rb\").read()\n",
    "        anim._encoded_video = video.encode(\"base64\")\n",
    "    \n",
    "    return VIDEO_TAG.format(anim._encoded_video)\n",
    "\n",
    "def display_animation(anim):\n",
    "    plt.close(anim._fig)\n",
    "    return HTML(anim_to_html(anim))"
   ]
  },
  {
   "cell_type": "code",
   "execution_count": 3,
   "metadata": {
    "collapsed": false
   },
   "outputs": [
    {
     "data": {
      "text/html": [
       "<video controls>\n",
       " <source src=\"data:video/x-m4v;base64,AAAAIGZ0eXBpc29tAAACAGlzb21pc28yYXZjMW1wNDEAAAAIZnJlZQAAgkltZGF0AAACrgYF//+q\n",
       "3EXpvebZSLeWLNgg2SPu73gyNjQgLSBjb3JlIDE0NiByMjU1NSAwYzIxNDgwIC0gSC4yNjQvTVBF\n",
       "Ry00IEFWQyBjb2RlYyAtIENvcHlsZWZ0IDIwMDMtMjAxNSAtIGh0dHA6Ly93d3cudmlkZW9sYW4u\n",
       "b3JnL3gyNjQuaHRtbCAtIG9wdGlvbnM6IGNhYmFjPTEgcmVmPTMgZGVibG9jaz0xOjA6MCBhbmFs\n",
       "eXNlPTB4MzoweDExMyBtZT1oZXggc3VibWU9NyBwc3k9MSBwc3lfcmQ9MS4wMDowLjAwIG1peGVk\n",
       "X3JlZj0xIG1lX3JhbmdlPTE2IGNocm9tYV9tZT0xIHRyZWxsaXM9MSA4eDhkY3Q9MSBjcW09MCBk\n",
       "ZWFkem9uZT0yMSwxMSBmYXN0X3Bza2lwPTEgY2hyb21hX3FwX29mZnNldD00IHRocmVhZHM9MTIg\n",
       "bG9va2FoZWFkX3RocmVhZHM9MiBzbGljZWRfdGhyZWFkcz0wIG5yPTAgZGVjaW1hdGU9MSBpbnRl\n",
       "cmxhY2VkPTAgYmx1cmF5X2NvbXBhdD0wIGNvbnN0cmFpbmVkX2ludHJhPTAgYmZyYW1lcz0zIGJf\n",
       "cHlyYW1pZD0yIGJfYWRhcHQ9MSBiX2JpYXM9MCBkaXJlY3Q9MSB3ZWlnaHRiPTEgb3Blbl9nb3A9\n",
       "MCB3ZWlnaHRwPTIga2V5aW50PTI1MCBrZXlpbnRfbWluPTIwIHNjZW5lY3V0PTQwIGludHJhX3Jl\n",
       "ZnJlc2g9MCByY19sb29rYWhlYWQ9NDAgcmM9Y3JmIG1idHJlZT0xIGNyZj0yMy4wIHFjb21wPTAu\n",
       "NjAgcXBtaW49MCBxcG1heD02OSBxcHN0ZXA9NCBpcF9yYXRpbz0xLjQwIGFxPTE6MS4wMACAAAAR\n",
       "gGWIhAA3//72h/gU2O5lun/9P+C6zp85f52wAAANOWv0vKDbmAmVtS1KwKzZPrPrizEGME122qmI\n",
       "yA9lZSz+skzIn+2gyUsLNmz4cVMZjBp+kg/TbJfR6RT20TfwKz0zbj9w+FuiPYs3jL8ED97TREXV\n",
       "+elJfdAvz8ys/lFdzrhnin5vPwfmXTV/nApAT+BYZyZiIZq+Lb/76399v7SkA1h5Rf0g/gKGhJK6\n",
       "rY/8kb/N1HEl7zOxXwo4GG/xUnzr2HUpzBy6EdgkeS9HqLgAA0upaiO3b3kAaEKyGhaED1sRwLNY\n",
       "1eOjKY9W1sO6sNLwVbtc/BwyE99i0VLijXkQWABW7ZYCXXVJTOghRMO5/5vHYHU262NxqDwQvINK\n",
       "RiDtnwbSKKqZIy0bK4rhodHoqKmQ18U4HjUpWJlev2AwkIESfkuARoXzOp6tnETjDj+W9+/b6gsG\n",
       "IcraGeHpNJukVeE7Cl3I1AASpbJMWuY98bYF3H7Jmyoz6QNax96F6QRMB/YL8ojkHzP7PR/cAAMN\n",
       "sbrjiXbNesWGSGwnfohEIVcFYEAkcGHh5zIoUFDYb9iaDiKnjPkm5G31r/WrkgnWbYhbwreOTKTo\n",
       "22RD/9QZpORaGshqCZ3ZRKFiEp+TTvau01euHNfAlAeakbY7zGDoWymrnfqErkLrzBpesgewg+ZD\n",
       "eiznYBuVtpX+8BI8tAwzmDIx32kQMPgTo9eHpcDSv5/FSYPf8irKGePk8qg1XqpyvVDqvv1SDFg6\n",
       "k+LjLc5qgWvJGNp/aNNrC1PMHvEruofUdRaoyqFInE/pn92dbMgVcNA6RQdjM+087IjKxFViv9nA\n",
       "MtnDqeG987n8uNFD+4DwzPFlz38xCb2/cvL/GilNorUvks9Ud6c0a9fjXvO8XajLGAnqPhvEsIAD\n",
       "w5rJJnmpfsYONFmK7Xi+ca+9/Bg+0IBQv6Qlx+TopyXY9+ZvALoM4W5/hmp/ZC1rnRBaJ99OWdmK\n",
       "2hAhCwKe9z3Yy3UpxSEVP4Ae+e7A4X7ocLngOblhSzrrX48nDPFWCLA1Nj2r4CvzNYQWesiiWlXb\n",
       "zdsR38bNN0w6uN29aSlr33WrvYooNmR5oe+gZP510mHqIzP73W/TvTcZHWoQyTH8x9mgDtB2hlDS\n",
       "6XkOVNMrCieS/IVNQaaFOK2a/ykynONTBYpXACFLjZfn0zcpqJ6yW/vlnhxX8szlalLTbR+153ty\n",
       "xno03mmDdgurmjxPcvneBiu+nKYaVbuU581Aq/uY70rLat05rVDDPBaH4qmbM0Nv2FXJrH1H9+ox\n",
       "Ng813LlmxS4D8Ozt1/+1uUWzHEVL70lG91wecsFf6FgtI+RUw2GPmckFvTw97kRHBSgMY4aakVs+\n",
       "tNpCR2r/2dJSMf0fjjXzhifa/luHmjiTQ27r7rV3+WKDWpDNQ6cZJBCmKf51C5rMMSxtNN6s+BGa\n",
       "18Xe3/vzyAJ2wPxt+rYWZHpp7kQy9msHTi0o34qtBF6ToP5khITqn8d4ZWlNJobHjA0tdKmzY7BP\n",
       "MMlSpBndzyF7JRO/to7ACZys2tnmHW7lBAxALxmYgTy7p0stKSeFJpOLrkjwgQmUFXcs0HaXY9xG\n",
       "qIT5G8t6xWN6v908i8zY97gWwBOVGic0QxflM6jarCbuststqjb25PxR6raA+b9OQaR9xEmkpNuF\n",
       "e9V1p6NP+q3zhZb2UBE41Fg1h3CfdXBvVlGaLyhjDaVLXp91j6YP7E5fMPk2IkjWX0xafE+6d/bA\n",
       "1UBV0z7WATmC6EuN5bGy3gTnivxPgmMA/M5pYCWvsMUrn8JlwKh26YSLGhgBthUhd0Hpyevkhv+i\n",
       "Wj4NvOIwO8Ix0tmTEPRqWpgHKJRJ5SeXwRL8KN3E2o6t4TDgtSWxmvNpC6KCpqkwq6fxmD99VYbf\n",
       "9cm5REZ4XBEICEaFUNdIaTeT0/Xd5xPp9oF/PV23yAsdYEMnGRzIu0Wv1n8x3i3Ofe1VBKVIi/0x\n",
       "kTBo2t71lOvrB+L7PqS2m/ZcBV3xs7cvQoDXf9wAlp+2nDn9fbT+q/AWBWMnaq7mCxIWG/e5mAAw\n",
       "NnkHjDmGOYAHvklX5n5Ycu8AT2dt8dNgFbxAIhnoR751unxaQbNAGuw6ghct3RmPBZwAifhyU7Vc\n",
       "rE2e2AZ0kSrOkY6Hu5Wgv5AMbmL6qkJd6XcMOAbwZEq7iVUDgb79B4E7oT9yMWvPZN2SfLpdCZhc\n",
       "/FhOS/P9PNqeX53gq7FbnJ1H8cTIXvpIc/TFsbEb+GfckOCDN/5+Lx9TKVfA+Ey3/2li+WkS6xtC\n",
       "9J9PbGZxM8ylUyFt7VGgR+qKVU89mlKGuXwSUVe0m8akJPPAjXOaOMBMEAV6GUXoN8tezx/ckJDY\n",
       "+t/+OjtS8q0NaOcTkGZLCiO4YQ4OwHatOVgNnuUwlI2NX6u2W+fog6ZvMw5lczfJFHn7ihsmUOwG\n",
       "MTG/vfQDXuia71zhF1pezqFfy2p73myqjupBo0+7iye6B7tpMu2WX4jYXPxMxeSYVNh2/qCfYGSL\n",
       "0mpPOSFqM6wpYgBT40OVByVkfvqF1oNjs8bmyk8ZTaZD5ske3ZZr941Gs/AZhhBALdof4mb8fTDp\n",
       "+SXHRvgUtmOidklqwQsuH4GPVGcR02n1plTT2e1y+L6YVTyfF3AXrWZeSvaG2GNDNpUuCD3OOzJN\n",
       "qDHAxkRxIlJG8n/XLbvtbByb5WMnY6yw+LGnOpmSTCEHscmHlVVdInQGuvYjllU5J0TgKF4V7X36\n",
       "ANmuKqLJIVTrDBw/sPkSfdnD1U+GkWGivYYg7tk27FVkEutXPQpt0wulUIrOtCUlfy2Tb8LIshGY\n",
       "hv6rM4plMTlj00CdIHlc2sqxh6HUfvCzRc+PVjioKoYqmm+Wcm8Ryh49wk7KDcgMbDMLR2VnHOe9\n",
       "bDjs3clzvHIV6KlP1mEQMyahZtPXQRZ+E2wFAmFDUkuvPN5lpbKZnMhpQOUccX7ilc32DxrdC6jI\n",
       "LqjghMWGBfG42RyKeNXUzW3v/+2f7KxsLrxcLE14Fz/rOpUvJ+p+ucPMoxcUhvwigfwji0ofyF/T\n",
       "yD4vuiYjpQQhqyiOlJpKWZsAJh33+xFJ6LNsuvKzwtFUa0eVSP1emxifEJTlLGOg4k2ZRyDOrdhE\n",
       "2jTAbGtuUiYSDxtG6KD/xR1hrX7nf8LrM+ambmAFRdRwPpRzbg2RZdSuEWCoWe/gIYwCPKWt7tw1\n",
       "/Vbo60HzGdFwFKgqsBkUEIlmcK+EuZ5WC/CYbX5PHAADWQY3wQNqk807Id5mayhnn+jziU/9Y46H\n",
       "9s4OH2V0+aHfnHBrB/zG7RAvjzj6oUemhwsP+mYRNM9C5lgV8q8GbPSRmRV7cBC8TWGFJZpJA2cm\n",
       "sRcmgOmgzupfKBtUKKB01ghXn4hgm+x5zPS8wwtfHWj/5i9AtEFcZ8232h2Efxnz4uVqqfLTZ1x1\n",
       "EQ0A0b7RjRt1PySY29oC68xxJ/bmuFxs15arTMlFrUYXRDvJ+fqzfjlXqOFxKNIjB48QEYY4wWPQ\n",
       "FMTvy1ow9fVkpDWuHBgme/BuNhraAyYvcLNK2RGZA7cKh5mt0egjhqmoDTlbW+Di7L6Gpp1rjPnS\n",
       "4qjoj89nLiyizo5HYOXriLlxHB45rJ9/jNPyM6zfRrtfg0T1TxK9XPxQO2paIeWQZkJ3R+EUrHnq\n",
       "9VcdlMPaNr0cs622JFCqyBMU4+CU5g0UVOhUgbhhZu7QCp0r22Tw4Td3bkQZFTIpvuY3s3mBZ9rT\n",
       "7mL7oWpJ9tNNjL5T4sEXOYmV0LBnRt2FDPmn8iZpMMsPhT1iW8kRVDFOMyVfty3B31rliVjVwVwj\n",
       "WFzKKvf6ouReIPlW9Sj0w+jaxJJtzS+IvnNZyd0s5PjuOWb/Q3AIuy217buYxQXyK/8a3itkz8G/\n",
       "rn4BHaDnJQ5j2oHVDFtX+bfx/55lKZpr8Cg31QPNJTbsXvGDAxdP63KnjRJy429vbZd4wEWzn8t3\n",
       "ORabbb9ftd7XpqsEJrTp42gxSMq0gTraQnkCVvvv1ZVVcG9Jw8DUuS6HV2hmWj4acqv816/rmWUg\n",
       "XHRhSPM1ezeeBari7FNmHml3J9KWb9gYdHhSK10FTr2ZId3MLwNBguuCZk+UrOdRFQjFshmV4bZt\n",
       "agZ9bZ64HUwbWIrusFFIODHc7lIuOky9OPurY8BZAVdOkHZdSEtDXLlCFtDr/q9LaN0CW/M+bm7F\n",
       "RrKXnFQiULStARg61uN/0K85EHZVU+R3nlsChN7j5lKi+rEiia+LnIWfWKF6CrmLqmXWglkdTMvx\n",
       "xQ/VnMxGaQndZSFozjHkx0O2YF2XE96L/3ptxqN3VIFtRgsHoGOi+54/0DBS0ct7AGIlJS0ZfA+I\n",
       "HYBIPyj6TH3bEmKbSZtgde+A+mcjBT1nCXqVL92boisqu1KJKLUpCofGUv6KLyOw5UeHSn5tk2MY\n",
       "cl1NL+M9p5ss3idL/59sSGKoHIPxF7gXC1uSawQHlhT8bCl7sFOuqxHp8af6VNUCbsrqvIOpLMvU\n",
       "wG1/oAAkOODjxl6SqoE3M3fTjT8yq6y2+LnTEhgJflQz/5LVFCGrf6vWVBP/s/jpeVrmoKyfMfXE\n",
       "6wn8fZvIhKpPyYHG7izNZooyBLQx2c+7i1wa6B/L+xnP17vzgq37d0LcayxqFqmFJ99zjw4lwZBj\n",
       "qU608ZQCGo7HnS7QPDp07u2MyTk0HfOqZ0/8B/3nP2098FykHGAL96L8UZWEwFsgQLDCscdAT/Bp\n",
       "8uGUN4nUX8NVDr+9yvcSym6LHjZlAz+aI/VoU2inwBUwq116awY1IbpBymeQovWex9qBwe4w90g6\n",
       "yVt9ZBz8F3U2RaYLaNbTY5kyb8t/d8Jfgs5IhOLppIj7A25k9A1YEDFSor5PUk8l6jg6M/M2zAba\n",
       "vokYii5/wOuvHRisHSbgFwomPliRY1s1nMfalCBYlBd8L0lI/a+H6IplQOSCxPij/XOid6B4mgEv\n",
       "lXvPXfHSvkdCqkmEeCeFhvJQfH5A4F9BRYxwD/J0W5ExP7VQVkYqYLLn/WDHIcOjNXdiQyecQMQ7\n",
       "xZ1lNe1He4sWT3LPpxzekcSM+uvsT6+mbSTURIX62mFHHjNvSuYLuBOT1zgqhqoSpiuY+CRL38WK\n",
       "h82Z9yBfQ7hj6+/dR1yc59TNx2QoxYz8x5gYOUFQGj+CyYTrIQ71ZVXk2u7pY7/bQDZR/VnuCxUE\n",
       "elHUSbVUCoDIzwefKGAy6LoQN+WTYZTAwvvls1xjy1ZGzg4NxO7W7DxIfJ36QeO95/ZMydyxcb5S\n",
       "yOlZumIzyDWlZ8SQF5EO2dMur1qLxjNolh3qjsFgVAUO1pBp0hZ8KJu71nqeL6Q1vT7ymC80NP6w\n",
       "4nDXHL75/Xp4GGE22SbKXxvslon6dsJCUxk6fBQ5bcOFrd/b6junZ+cO2Kp32+5bb8j5pz++2Jm0\n",
       "AsRPiRuMlRzwNxNVSyBG2nyefwhaYYPi6Bo9N3jXksUUYMIBJnrQUnAzQ4Yrv+E5zadXGsvY7CfV\n",
       "KJxvK2PVmN7Kor2Fvm461DWs7jaoQ3z0YJPZGkkSAUNcTzZgqgtUcvyYT+HKRTWKDyUyT7dr07Kz\n",
       "ELKAO70q5hFWbmPgfQ8Mr8hW6jNLyGLZlscUMgNm9mc/r4FLKa16EvDWM8eOeZlijFXfAFzo5Ay0\n",
       "QlZIN3CrRZxjhwZv3xuzck74+PsGyMAIBvf/JGVfFI0GHMj8gBMriTWN+4CF5MzZ4V0tsX9m4+OG\n",
       "uXbP9tBQHETtdIy6bUSXZPUy0YQn+1i8A9yo1VFE7JYX7whbDQGxze9jWQebXToxY5WPAXmbGgBp\n",
       "quWa0P3DWDt+SMIjUoQb+Osoa5Ch9ij05a1mVoI9O2P8kVieI9Cmx7zTDzITbm2qv3X7hrQZz5H2\n",
       "JWIGfdl97i4Dfkvkvm+JIsM+1BEb29NDQadUVcEe40u0rL0xqdBNIl6e5OSOpx3ibm/BrmFZJTmd\n",
       "aElZ8ypXulGeEVNXJFwAygnzpySrSHT1HBaAQAAAINVciakAAAJvQZohbEN//qeEJL19gIVcl3V/\n",
       "Jp3qM2aX/2RPZuO0Yuf4gbwv/xzFpEffG/p5dkWMMMnrjlNxQ42DpBoYkGDYcX9mNRPwbkDl55BI\n",
       "2geTtsIK5L1qQLaNKxg3Zr5yFx+oxhgq+rb5dQUSe/hc4Z6BCdhWZcAr0IlK18fxq+P40Cpl1Hto\n",
       "vrRQ/PyEluulMHfQ5oRKo8ePIrLuonBFk1iQD3KqmflytThkVnWftZa/v6NiazK1pKRZPicZ+sdc\n",
       "wNtbf3nRLCOId37q7kLLFnvJIMIzKFLCd+IjLDvqu5YPKc6ixUdumUvEOKlG4emocPiDA7dUDm5g\n",
       "MXqW0ndP4+ukm25438meXgUJwRzghPUDFhWXfGuVw50tZbIzpCCef4Xfg4juvacLvVOpQUczHtts\n",
       "+i8gtRNIM70Jf2Mt1tQNhEmc8PFVVyak2q8LXOpcaaKvnTGPU1myAtg7NHVYtBR3aqPQ03YKeRrX\n",
       "oex5mzXhPAnzt/BQyt1j3sK1lGP+f/3TVgqJgv6+6Rr8emzuSPC3UqQWaA8fOsMhnE3OiqShtxgG\n",
       "/oILL5fc+JIZCePUAPFdceindcPtwabUCQHjoO6I5k+tUdgNwLL0MBfXVvRYYrmXKNrfqjA93YZk\n",
       "7KzYVpGvfA/NJged446Cun/Pov1vCctFf/9/f4X6JxKiO4p8akyPxJxkHGbRwrgEZMuN47/PDAAz\n",
       "dq9gbMdzo+Joj3K2CWMMHVZWjtuf99n9cK6XufzeBOU1WyaGU2hnei2uxdwEQgwR8JdLnfLgu8Kq\n",
       "gKFzZBduyjThBda/+GrmVCOZWt5GDjMLXGKePnJHytkzh5wAAAGDQZpDPCGTKYQ3//6nhAGC9HPk\n",
       "mmlw2CohVJLF3ZlpJN7KG3cQRmRjYegSzhlFNTh3XotObRj8Fgg06R/twGDMyt0vgesaguXliZmP\n",
       "9KJP5LyY7+wms/DB9nMRGuNxAMcHxYvxw+5uiycEKTezD/rx8ZCvHYnay4MFAxhj5OmHOftVVRt6\n",
       "6FtMLqhac+WCo16jm9HtgKj7OMpEPK2tPmLmRpHlLST8ZXpU2y4aecBPqFTE7bqG9i7fP7N5GALS\n",
       "K6MluIS/T5OFfFeavrQaJB3S1i07bDrTj0oNWYFA8pWxWx97vlDdNXQGdHmmbSb4eAQ+yX6EmYsS\n",
       "lPGrkCjim/ZTNyOR7HfxTYdoXedhPkyPD+P7zNJjPyCWGHfx0BDoWL2nKXty5/GfeWMq9BkCSimm\n",
       "AJFmz6wtfAUUs4/+W1D2YTn/sFIymkWAvo67Ylzky8okQtZsckcoc7elznfK/aodrxpKaL9yuAja\n",
       "tqs5HV+URKyXartK2YqUoxqBxTLRerh2CJeBAAAAtQGeYmpCvwEuk2jrAiAJmUnjLI+DTd2qJVxi\n",
       "YovMq67ZgbGW5l1YjNsmTUynBdjqMM4q3ont91/eOhtrrAdKKX1ZIp/vHyT+/2NKFBfBACFO6nA+\n",
       "29pi8SS7FO6x+BS7wXGZdxCPO4x8/JyfnmuHzSLbCossFDehtUiXj0H5Z/TfXUId6YgUBwa32kDV\n",
       "ibK7p25qg32cvb61rCk59AZYrUxe4wLztEtclBOp2DdwsWoIjK1OR4QAAAEaQZpkSeEPJlMCG//+\n",
       "p4QANLYCTwXnWP7gfXft69ckWMJxvzTPQfnPOMKHcHz3ZgXDg41XfZvZMLJUunntchGotcn0K2DM\n",
       "P/+uvB14Gh0ECB8zKf8rKij//+z0IMwnWH39Tjb30BQD/t71q9eYym1/C9iFdxseyCtKTMCoPxTp\n",
       "HZUpTkZRokxBX6F/dDA6kCyKbfMnUDQpMtFLwdRFOW+hdbqXrZZrCrPJ3vbWwG2RlP9OQ3uNvBu4\n",
       "+iwlpiu2dcKQuqImfmAp0Qcw+nLl6Xhu69CF1VWHfg2TJ7jGB8s5WkmIJvlqKPVtIa2hp2mof8DS\n",
       "yKQiDJe+viLFiPVVDejeLOJ+kypPFg7QbYM3lGb6mcnFtHLNPbZfe6NPAAABqEGahUnhDyZTAh3/\n",
       "/qmWA5pX+4EogA+Bl7P//e+nwQNhZKkGuy0VjJ56Xc66DF9fVTmBHRuenOEzgSiknqbydeldWtSp\n",
       "0p9JQhjJilnvQuAiG5OpyyQIkjRO1LZOnKlAy/nLoeIWNl7iAI3hgAJ5bJ3By5kmGjQgfsc8iSGq\n",
       "7Uxofq6aCsVdik6fydLTsImdnzyjItSxxhnhNMhJIMiH/xaEWXLtqywV5Gn58Ie7zdhgI+bfgRLm\n",
       "mQAsPs6nUfoRHaAZftkpbgKQY6ujlEe1auVjgHuqLzk8WZdotgXMF+eW/zd+jiWOfi/WY5i55bsm\n",
       "3l6KeMh0eGskwTCsIvbIyRXlGCysIMXfIqKqOUSrnFTRGR6w4PktfjvUoi0eP+nV332GJgKXsW9v\n",
       "jttjgPifUtKG0q3qnXAtR6vM3Xs/X/npJaY2L104/43VbXesxRZjbD9cCCQjm43hQYZzzRWi1PVq\n",
       "z9PesMiw0yiDp2HXWSYKDieoad7JJgATuE9W7VF0xV2bNMGC8EyjvEOAM61rL3akxkUOcdcVMVqe\n",
       "RUpavzYpkhpxYn7UnoEAAAElQZqmSeEPJlMCHf/+qZYAGqNphXKa6wJVRw6necJt00TcqvcglIHB\n",
       "rsKeQHNxth/o6g8WCJ0Ym+ISfOpQPQdfRRIdRCV3Kb+ZYFdyKJRUnIA2BnY9/1lPf97jyd3bdx0M\n",
       "NgEshiGk3/Z5G7NpH2Fb5Vir0CP3WEc49T9tR/XKSly3EIVmHejik6GbbyPtIs2YEdU3Q+FZmzeR\n",
       "hmHyk8uw52HMfhiB8iF9bV2hcMGb+dmndHb0Y8Om13tdrOieneDK7/7dchF9GFwbf7+lKf23exxk\n",
       "cVbolA2h6IxZb+VDbNnX+WU5nXIpSxd0B4HZPoIJBEijWGRYlgsA/JGWjvNC+Fi7ah/lXwxWSZaW\n",
       "BNOy90x5rbG4oLGniubf2vwjKN86GN2Wl1EAAAGCQZrKSeEPJlMCG//+p4QANLfY04NI4/09v6YA\n",
       "J/VaaDc/+pbTmcZDxJxR2kyA+Lvy09LmLUF3c9Uj3nc5UyNKXH0lvZm5GtHpT+Af9WNfsrCQi++M\n",
       "G4MmSyOz0eZAFRYHihg5it/tAz/rlrpmC7gIKBkTrZOsdJlUYhQKNAg2zLmKWqDBhp6OHovIqI6K\n",
       "v42zkKMZN7FGpoy6XIPGL2BuBV/c75pqBvQxq+/P+1QQKsYMjijASmJfW78ApYk+6io5DK33cBUc\n",
       "9RkyaP83bCeVGwem3N8PXIqCn/Py1m+Dy+14Pwn1sAstjvR9qEzUEiHhcEc2mvjnLCe13osY4kN8\n",
       "fDs08+Gtlp0ySw/eUs6kDpmN/Ja8bg1dDYxzmpXaK8DKWxBzHr9hjjHzCVhUfFARB+p3nDR4Qb/T\n",
       "rsUXi4EysN0alj5Z+RsTrLIZZDoHN/1NeNcIKg1njXIH7Hqaig01anw824OsCj6nfKAIIYk4+eww\n",
       "c3/9THaogqRtqwt4CRw89l0AAAC2QZ7oRRE8M/8AIrkLBrytyUwBt7c32qYSLXSfTZrh/6Ppdl3A\n",
       "0fuCV1Lheodx6eOcfs9gNaTqcCo2ZmKURmCsxY1oMuPw0K+b+zybyVECXBq6zvYky/q4het8RMzu\n",
       "3QOls3ETxRZXcHOhGFf37Inb1fpb++QBJ38FniO3w+V/ICEswSYLA/wqcqqrLHPKezXwLUYaKsE8\n",
       "bf1PULZFLc1Biqu/jB1zdLClC/5yHCdE8HE95ktNhAwAAACpAZ8HdEK/AD98WXmRHCxff19yJFPP\n",
       "acafCyPqdR48mT7fzAJeVdix6Ra2AEh3BjDzs5Hrqg9ACaY0swnetx/67D1hOkq+kHNNWBj6iNC7\n",
       "Kf5ORhXFauF4vkgOwoxZVAh5y3r2sD4HoeTAyUSddTypzjVZZsoI++etz+iVEOM2YJFjhezOm2ci\n",
       "luE7Yq7mH0BFmPX2WrR/5f6n2b4sHZjpFP2SksaxLPgJeAAAAJcBnwlqQr8AP4zPopYPsOfscNWJ\n",
       "qOO4ATeTN0DzvlhxpP+9GmSUK2cVqKrDTXXNcPgjW/zL2YbJBHiLdwfj913K5nmgWcnxK9J0Q6ZF\n",
       "f1CsIuOFtL7BW5+ldgAZ7h1QDd5yHRWsjO+68b//d11uHNMdpr6tiyZkBuvjNch2cg+98lPD0JYa\n",
       "+TmetoWXOhGVFYM2LGDmF2MhAAABMEGbC0moQWiZTAh3//6plgAnPVsiP80WpTt0ItR38/NhqNdv\n",
       "ai+/YXSGnSgBFIe976J1hClkwnPZ4MCo3orqT/tdy2SB5InXiPcZyhbyVwlDVWVgBQPcOhc0QOTQ\n",
       "rhds26nUwKTS9USiFC+i5qPygPTHAwo76HAlC84/7zLhMru31WI4Qgv2g+WOTZguxlFCj47Zrn1D\n",
       "XvmTt+cxscpT4cUy4z5U5Yh8EoLLIORK2lXa4w5GbVzmfmeB4qbCK/Qy3SlYiDbbfs3o9r77t6gE\n",
       "vIFhp2iXY+QjySoJA8DXjwAIfNMakySdO3YlZh/PObmRnLw0cDUW/JedXtALVxEU/Qv8oLTZkbfo\n",
       "v4Dlyvog9birwQKvrAD1kL5236sWBdMESxgLq4y/JZctau8T4CBgekAAAAHGQZssSeEKUmUwId/+\n",
       "qZYDN8KPn+57Dhy+ryukAF52fDdOMDVjcioirf8/pgQGY1hW+hiFA+gx0J4XQaURGWHrEHdi6/k/\n",
       "/wyyQEfkUXnf5124tV0r2Y6t05lcVRrDRX32bXE8Ozmd6pOwcfuxs/+Nk9DYQYGfkjoVDdxs5SRt\n",
       "4pczzHM9lMqJOJLBM6S+k4YCIuKVreH5n7AeBTnmFdTDD0YpmZoPJ6VOVw2aYRtAjWAQJ1Mg9xHG\n",
       "5yg0BSe9s17JrqR6v/1hzWg7+kH9hWiLkkxSP/xeNZSbZHBRWGKE26M12l9A7kttSz9E6UEKefyJ\n",
       "KNGuVUP7t4fJe+W9symFuZi7pAcAk0OK7uWeHywavaa8qTad6VeSwHf66FFiG08wVeMUiqVGvcZR\n",
       "dfFI/uZUoKez5bU7Q8eQLgDuR35aX2v0qO6a5gBGx8e2kSxxCIAM+tSgoW7S7zzoeI5mjBLeFNCZ\n",
       "rd2ysPZe66gpisdoYmR5zLsW9dD+c3qjHlF09Vpe4K0CmrXaP49Cxvf6dWocr+9UV5X16ZjzO/vx\n",
       "gPhf+mwvyWKW9P95HVNYa3li+0x7dih5pm1dGuzib7zuYkBd+f30dgXcQAAAActBm1BJ4Q6JlMCG\n",
       "//6nhAAzpz/sJD1XZAEarBh7qla68dBbsvpEeIen1I+b/6D897Qow5/hUGWF6GRw6Zp/vV/VgHHO\n",
       "5jUt02AG0Gow6aEeabumsAbQb+bDezaUrAYqvzUnriTbessJE+QSeQbFBj4vVM/vHWger6QlYLeO\n",
       "u+BKHqk3Du86b+VcS3Hecm/BIdDeSCUtpShDRF3sIY2QRjyoV5G6nZ9kacm66BQ6YE2VHOzwgc8K\n",
       "xb499XoQXWGSjh/FWyxU7ZBREJ8S3eBeworE3pnVQyPBGrsUvTZ4x7ZPWT6pi5OQCeMAfrqXAaxi\n",
       "C11zp7Jw12MlST1ueJWefU9S8sqz6W2q6CjAg/IZIKD/EZMiRanvorESCFoaRM2JV0rPsLZForr+\n",
       "npGvaAlwxHrtKZwi/FmUbD7IBjBcrM0IZq/S7dx9IkUsGrHOeC9I9i3GEres0CswbdTomO6/eDvW\n",
       "+paG1S04fRJrtkIhnJumORLBDdGY5nKTo8pF3ClmgjCtdm0/gnu63hpvroZF/a1gWG6mEamhsJFA\n",
       "6HTUfzwJhhZRSooeF0EBGZYN+HHC+zXUO8H8QHKAxE71WGKp6G0jM5zNhG1S/AnANKEAAACsQZ9u\n",
       "RRE8M/8ALFTlllpSCTxgii6iFDnHZ2vUAJVQAAADAACeccgHXV9zSD4T6tk2WQh2J/Skv+4czn5i\n",
       "Yo5Rd6JyYdh4Ebz+08h7Ahe/Zrjep/09KNQf9vHnvglEj6RHN/lw/hwyX0ZduU89Cdakqpi18bEa\n",
       "9qNwv7T/+dArmdqOmZJF4g/efWYDG9t5FPhmBD8k9wl8Zd0QpfXx8L4LFEyYKpnQmDmwYzRrQQAA\n",
       "AIMBn410Qr8AUdO7EbXzcuY95FAfLfMuHk52QrPCfxkybx1Z5fXt6KdKlNOZGAo6XYNhAxat/9C/\n",
       "W0Df/xf95wCNqdpTBadTieyb8o0deB0M3DcADVZzfOBr//1toE+8GimGEajN+nivfQ1byyshsvAm\n",
       "6V2xTj7LXJ7LMkj/OtCuoQP7swAAAHYBn49qQr8AUeyXn8+yhlsdg/DkNXyI4iMifETBnb3vX9rF\n",
       "fZ7ji2XMR29gRxJ8xEdSY55xplmV4AshFRbOhe/4AoW5X60wMj8cAEAwsmYz2m7mfykv1TR5+oF4\n",
       "sW7BuP+lseSnRh1eSL+16/0GccRUTo9OSDegAAABNUGbkUmoQWiZTAh3//6plgAZ60D4dsKoAcb6\n",
       "ycF410LDUSjmLP7Lt6thpVnab+awHAFgE5+9M7XzyXvbPTooayoznFY0DHR6bEjikjVdsQF/LBg3\n",
       "kUxQJaCQhXIjIXRGdkGsnkDGjcz6i+Ljh5iHpw1V9OPQ1bP6gGQv/Ai9c0CsTZxtENn5jVvRsCIs\n",
       "lNzuhRTx7II4iFtVEMCB7NjkJzLdkw8dV1kud5/YIg+7gd7gqRI4gj4OCU8ZLW5grl6PXEgcdpfE\n",
       "3eihdrLhQ1ziEnVm2KelDHBVOTihBqIppQdCt6eLe9K38SfiXnRDG4TxvSkac0kArvnn5/hAa4bv\n",
       "nETjkw8JMQxEJBI5kKb4f+Yktpv+K73K2ewUGzviXIFmM7tKaVZZEdYAYOtlbO8nUc0MTcmIQAAA\n",
       "AX9Bm7JJ4QpSZTAh//6plgAZ6OBgwAiAiVQcKxXkHOkyQzQAD4E9LseXPqvXFzusn/2HW8e5Tfbc\n",
       "qQCbxZWsvujWNMD8F3S3HgeKtNIbD/0T6fA4rl45L0YoxsoP3bdmFlMun0HxGxUuuNsqjpVEIFpL\n",
       "m10joS1QiUCqPaY9ISJY0Bs4QhFGRB7ITCjpzh2TUjHXBB2exHLk0HVeXn1yAyzdA3US+yv03iwY\n",
       "VMKMsWR6wPd1E5EbZyo1NUElf/mMjzYBeRLku77Pv3jJRsuiw5w/l/modZnjrao4d+VkBExjMLOC\n",
       "ehEl01R+7osMCQWtWPlWn+o7tCahSnI1vfbhJ6LZ4UlMtMZt6WptKHn/z4BgYAXmrH8rVvxZkvnq\n",
       "CszskcN7yRSSMQei3Rf4UG+Xr9FUZrT/VAjA/rnKvU+X3Z/S/5P1+/DHQwQpCzXspzrhXtfosjev\n",
       "j4isal9oBaYO1QBsVdJxeNvsrOh96dJRyZRv1x8K+E62jBO1JwZBb25ZIQAAAeZBm9ZJ4Q6JlMCH\n",
       "f/6plgLlyS+ztqsOCaF8LOcvlkfIAiTZS1n3iG7HZogBzlx230UG8/sEvJq7feDWZ8MPeM/gTXmP\n",
       "BB+vLnqMYWpUWf/gAxCOXd/ds/wAlmaJValHDMtq77Dz2awclouQ7u0pQa/Nolk8CzrX1QYrm5aG\n",
       "Q8SZNxMPp4CrF9T5eIL1liHKODp6INSv/MR+AJrMp8/yyAe6hc8GBJ5SNk9YtbKUjduNh4hYe+2b\n",
       "X9Vor6Dyb3ajRi7TDU9dKMhv1U9IhT/Wmw/WdkwiGpepPmDLUXbI20uR3/GDqsp6cnWfTlFJ3edK\n",
       "rEFgKqzdpiWyTHuiu2aETqKcef/15PJCbvgHPaBS5gnbD5P0EF4Lk6mL9iCpsVwoaXolJO5HYYeq\n",
       "dwbzGLlUpz4YQTLIXBxe3cXEKH5ZudkqT/XWmhsUTTLnWPeR7RSEQg+l/7CqDEJz0IiPDih2K5hh\n",
       "C1c0vA2Gkzg3EmOXP6nmn/h5sy1vKK7xwb30Rd/Wg3DozfsRRhUL38tAHrjMCPfxTxMzDzneq8LW\n",
       "WHhVWidpDDBAlZ+qKD6QwJLRIcPvBE2JktZfKNNohuZCw3ovMqylVdynvlUakhFwYV49ZWYriQjT\n",
       "CCvdqHzGlQwouqbsXzKFyY1TP4AAAAC5QZ/0RRE8M/8ALFK8up8Rq+ztCYEp99SnqUYEbqOq6eI+\n",
       "SGp2tbbXhA26BWuZO+gEDyYtOdS5GrTHxcXIiL6MNbOsMfiamdFNRI8FGT6PTgcLGNjr8DtbaiC7\n",
       "oOicfxtyVfeWpKreeRmg6F7O9gAQ6KQauf227DYpgkp7XEyuvLzP6CQ6/c3R+CLMtjE3r0e5pByb\n",
       "IEydDEXig04S181932G9S+yBnVu4q6yhF6c0mNhbehvzQFCpUmwAAAB1AZ4TdEK/AFHTuxOul97d\n",
       "yDUrbpslrDqICYtIclBBD0t0dvE9owgy9ObGeXUSyD0NQtL1eFw5BJiTDCVrnSw2aZbh/ipeXtUn\n",
       "1zpUtUM4lkgoTY0hfC7ffv4AQPnnaISmxhppsarYLZAqmDmQt5RQ1iZhcO+BAAAAiwGeFWpCvwBR\n",
       "7D9gYeJmdUHgsWiE98GX54qm9XPciZ3kUcz+W1DtqF85jnNTKY9+QJS+da+zsLkqtyXFb9uBV3oI\n",
       "YNjW3vUguU4OSSw9OPX/lNqyVPAAIQ4vWeAC9+ZVumxsA3ENfDfYr+6Z9wLkShb/0QUXK/rDZhPE\n",
       "ntJFejYAxvq/66nbChnZkRAAAAHcQZoaSahBaJlMCHf//qmWABlIH8ZIARGLliwg0F/s+Hp7GNI4\n",
       "KCPnmJ6jnM9BBQAAG8F9MTIAAC4ADmZDvA7mBnUqOSaHu+ux4fS3lmStmVgly5Sds4TMu6oaRePr\n",
       "7VtBjGiPCbHEgxI1z/JwPrA/SWsQhpUtdfJP4FwDPAiXErdkKuMd4lA8kdxgjcbe790WrVuXvI7O\n",
       "LuFet055x/yq3nAwYLjeWzeQ3VU9A4fdISjb1O09CP2I+ejZD9vaEukj4iib8K1ANzaJaYK4BP5/\n",
       "AEaWMN+zO/97XYTxp3NZIHUQtmQKBIoOdQK+HrE8gURlYlU2cVV46zbtrYZhkwVp385wvUaaZnyr\n",
       "CeZFmlOD40RQY7ZZg51Z2zp92QN+zQD3oA3p9+mrlbO2/moTLPBfB5IkUjVmYDtehCMQ9FYyG+vr\n",
       "tX/2KJgNPxp/Lvrm3pvaAxC3ffhFYZyESZ8RZwAMhZlOKje/B/hdhn4WSQfnOHXUkPvPn4sA9YZJ\n",
       "3sfzEkVLnXzINB+phVgi3+/3xs/yefXx6WhGOrhs7nvWkyBUNfWkjPUhoCYrFQrGdJO51Ixn2Bfy\n",
       "9HtLPn8BCOjd26Nsh0JS2jex3wS7MRONiELRN7BR+UtyZAkWftv3b7EAAAC+QZ44RREsM/8ALFTd\n",
       "lpm25z1w7Z4R7/0Xj5HPl4ZElriRPO0o36xEU1szllZqz5JKKmUXtgFbcgg+8F9ICHRT2A8+Mld5\n",
       "4otrrEdZCEYj5UJjX41U7jnpeYHM4xvO7yIiRa1S04lgZr94bUxRacNSELG6ZlO69O9T0/1CsNp8\n",
       "MwISYdCp/b/eQVG3Ho2Q1VXVrxgBCdGueoTX/x2Vgul+LBND+eMYUnhZi8s8nly9snp5xtt/xdSu\n",
       "EhtRjsAecQAAAHQBnld0Qr8AUdNAG/WYNGZbkqw0x5OUOx1vxIc3jzGjG8JN6qol3O1oU8PtBzIi\n",
       "ZmFHi37Oo1glVADHivllyd/wxQyQVtyWw3ZIfU9L7Ys5isT9vgdV25T10wAQrsdEpud2xShr+fyS\n",
       "v2onfbQ9WWXl8+LxgAAAAGIBnllqQr8AUew/YGZBNJIA56e0Mdo3b0YSbVIiqHhm/ET+zPrsNm27\n",
       "lpc1X2xqLYb+SHZYS3VOdNAeqVN2qY4ic1MpmPqNZZvF4tl4rMf/KCtXqlv9YB53SjZFAfaoQ2qa\n",
       "kQAAAV9Bml1JqEFsmUwIb//+p4QAYnhMy88nyjc2K+AG1nZmz/RnGRsebQAAAwC7hr93RiODKIaA\n",
       "XCU/kxkXq4RWLemwukYFecpNtzosaeunezBZ1fHsTSINI+a397yGbcSfxtbx546C+FBFmsh5Ubs/\n",
       "+f2xtmekmM4QHW+SPWQQ4ory+PfxSBIvJEvQocdUhuSyFw93R/Ef2BNemiAmd7cypaTIUQct8fyf\n",
       "FxzyzMHWS5HvfEdHreRD6GXiHRrkNyCgSUPExgPJojXc3NkFpL96pcCsCoD+voubVXsQ642KP1X6\n",
       "xHX/Hf1i2myT5RnTE1mzut5snZvpJbpg0uumIeXf4Xz+oFxd3X+XOlX2MTCY9oXaDFMeOdJnlrRq\n",
       "nDLUi/eooUcKxnJAv3fSsi27fQYus3m4i0aME6ed1s0dM+RutSRzjfA41zalU4HY726hmSxqdZNV\n",
       "CKXVWBro6YtNEbWdTwwAAACRQZ58QhX/AFH5awjx/TEjonDgykl6p4EI64aODcvgbfaPGg+P90Be\n",
       "N+Qq0QN+FKSqaFJlnOnfoTW5Rzdrynj65WBz68fEwYKPwdFJ+OvbrWuBhVt+Aldc7YXLwEjrZZ9N\n",
       "a+gBIBmSt/yoOU4rqrRCA+wPuSlDg3i6jpE+Fhh0Bd9YVS8dOCJMDdO4Wq8Z/hnAoQAAAHABnptp\n",
       "EK8AUdNmgv61jPvDxD9QolYat8SmM470c8rNmQDTzJo523G/WGmsERkS5c3M5f/SWMODZY4RjEgG\n",
       "SwUdIugUhru3IcYaxp/OPwgi2tVWM2KZHP2e+RxePu/6qAD7H2Qthggskv+GKfYejDOhAAABt0Ga\n",
       "nkmoQWyZTAhv//6nhAAyNjIwzNq1REReAAbPxlHZlb3wMB8A8Q3J4UYS/2ISGkNtyXJYW4f4bq/F\n",
       "2nu7CYbFrzDvXYd0EyLaEliHjNKS2W+2WZJ1YL6hlWcPEZDsIHj5ACIiZQJdt5aHyaB/dXaIYykQ\n",
       "400g8QgMZqgilLzMA/8hQ0ZmE5xkJAODh5nRQvsL/7jU11qqIZDwoJBShubTfDrwfmtOkPEVEE+Z\n",
       "fuNePUQmQYDpOE0U9kp5kKVy7YCLDeXLZLhoMgY4ss+QnplUFXwNO0lGOmXSFdBzfVNseJYrCkgT\n",
       "BcruuGESwBFBCU3c841U+qPz/wtBH85fAZO+hW3YsH+iJ3y3mp1LSf/GuEUXCpCXkL6DAnJK/1A2\n",
       "gqpWigeGvzEFK7XkAcmrf+d1iHri1KAHB6fUJIstjZiZadq2mFq9bJCJ5c7zH5Sb2W9PeXVr9apF\n",
       "7coxqMnd38qecVNvs909T1OU3vo+sBbwo3MDhsD6LerekbWH1YspOU8X26KuEVZHBIFgn6TQzROd\n",
       "F/9HwE3FOfZIXzDmSdCHOHoUk210MddeCqvzs0ji26lDLX0nuoAAAAGEQZq/SeEKUmUwIb/+p4QA\n",
       "MjfY04HwW/iAGsOqv9hRrK4cgRrrjwAApQhsR8LC4nh4T4WTWyGTY9kbWdMj+MOPf4Y+ONTaGgI0\n",
       "yf0QAJgbteGvtFQ5PiUns+hIyMTzQ5k+1n0+K5OHIvmxdWvX85o9gXP2ftCKwGn7mmKee+mHlZL4\n",
       "g/cqqTd0XfHcP347VRaN//rwNq9ftDZGl/ZX4fITZ4tc7ZzUu55eki/RuVjUzTtLiAnGi6spqPeG\n",
       "lMD711WnGa3y5ryo3lRwFHlANSx49UOicLh9UsToBhIPlTKcki1x1HiRzkM0qTeuLvPMsbojHQOS\n",
       "4KIXA0yzYd7X8YJhpo2b1EK1IxaievJK6ElQ1EL2R5p4kQxOHZh+34qbaQ6ChxVeF6cDx+yyvEWF\n",
       "CRte7O99ouU/O/dlC3txS36nli8WWVFpy33e9t25ygBkCMh4BUAHrd9BeQfeI+3ECV41GQh1dlfC\n",
       "rRH4CPyqkGr7H0gwmWG5+45sooJEqRJKNbWkpCLwgwAAAVtBmsFJ4Q6JlMFNEw3//qeEADEvDYUF\n",
       "HCBf6KbAAiF4EjB12i//6DL7JaNmuywD2K0O7pg0nGlFZ5l7YKb+oBYtCjaLOm39RRwR5pjm0dCK\n",
       "iaf+aTU6KqSS05xRlWHTU9esmDtvLDrLUrjE6W7evUl6WCXYTf2sgASyJe8CUgC+8W4TeAF6zylF\n",
       "iRrowKYWu6GCEUWxQbaTYepkHx36fimFkLcvlHTEV4Y2dVkG0wTu8BhfVgNsnC15wLYeZev/Ec7c\n",
       "F1+lE3gFseC2+hICTApAAgt5npHwJ5iX6e3QYTs5v6SCt+ex/y5aUznH5qmyvAJ8viqK3UzS0BRH\n",
       "E3cGXr9hVuJiFtmYWbBlLlaqClwS34O8N4lLJRL8ZaKMW4hcjoFySrpQx9W02fXRCjH+mnBcmEb9\n",
       "HLqa5TI5gAqBfjtyD7i85anDYZfFa+YFOKvt5AlYLX2ke56cnuqKMQAAALQBnuBqQr8ATKh5cVtu\n",
       "we9p3d1Lgvs8OoCE4myenv6BjREWo2e9imVYZXBJaDVDj5ScNmgCRO4i9k8XR5mqxD7rE5iIUkE1\n",
       "zywtuUYVClvqHMx6djBjJ71gxUoljGCFmzUrb8WLRRBetBaqg+ApQkxRPMRwjiHPW5hOHbgHvWjK\n",
       "OhBH5LG5viJ1F1NK45LN1AG/7pIAQR83grJloMIkWzRVuMsH68rPj2d1rCiZ4LBbY8Eda7gAAAEv\n",
       "QZriSeEPJlMCG//+p4QAMSWn5byNnMJ3lck1R0wLZ9QArZdcQJiAiTrYJAAAAwAAAwDQardaNf7s\n",
       "xX/+oFOMd4GyWXdCT7z1Pp6RVbnnp8j9bX9PyAHvSBY4IS9bWon6R4etgG+6WGYKDYIQ/lqVP0Gc\n",
       "zFey2/diCf/WprfF2WeHgfQpWTW3JLwd69r4QTPpztPQ8bamnFCOycB/lRnS2x7MFCSNGgMiCZv3\n",
       "MBlGTK4AW5Wg6BkVnTjymlE8QeUb9wS3fhzJnBR8NKgQ++EpcWE9aieFXs7MFcRpSXK827hsQKc4\n",
       "9y0TA3fCMPMmFd7fulTGowXsHmWQsauH+dsw7UqCNnYWrfxFm+cuYAp/GZ8mnFSxNeXU9UHrEJsG\n",
       "rfPvvR2StRhzzKOeFBwSaQalAAABp0GbA0nhDyZTAhv//qeEADDu20sAEW8c1Qj+4LYVT5o0PqAs\n",
       "lYMbGLhTc5tabQ/Xf8JluCBPAM2F75SHpRfdbd+iYWCdy93fj6I08weno0O4UyHx8IyYQzQ7yPCL\n",
       "6pkjMo3ep7RqSZrtsbD0kL65w2ur+7+/VJvajpREs8xumyfjBQKwhuuZgu6m0NnMJaAsHezZP/Y8\n",
       "n15GCydKeJfndsbFllMJNOd/CT9lwL2BvuRGNXYLmpNahMyO+9SaIKB7aq8+c8saOsRS+VjdhaUk\n",
       "Evomo8WRBiGthB68JEsLzDgjd9zN1Mwstd3/g5eXDxSpqVzt/Q/RPxC81FAxzc+KIGRfvIMgh9Vf\n",
       "kULjT5+TU87AIEhYi11xDOSn9uWMIiSzneijbupbI8p2BTgWMuGqluoAj2bgCyZg+XH/rMogW7oH\n",
       "RsxByYf3VE3vC3SdkflDODf0xk67takq41clG868ErAdxJENmmRMo/7RnLa6FfYx8DV+eDZpucvj\n",
       "KZSddOLKq6CFAFIt+ynZtgri56oefnhqk63QE2WZj8nQluW0yKcNNiwkYFkD8QAAAVxBmyVJ4Q8m\n",
       "UwURPDf//qeEADD2Ak4nichdpXLyQ4m1aSLQaaWQewARkDBU//FIMJq5Q2FVJrAXfw/XOegwZoWJ\n",
       "nScpQgefe0fqY0Ez2f/tSJQe/gDb1SFC5P1fAk0sZYJan0JSSCnfUcJIHywYN55V4SS+E1B9jK8i\n",
       "1/ND35zzog6aCV9zq1dv48zSYBMTqNaNe1oAYnC/cD8K00nYkCkmjI4jSQca0Qy2jBPZlCZOKiIu\n",
       "NVaUk7ULiySHqDPxV4DPU8lAdOrg9ca/IC99+OICkPtJaE2E3fnVF/KwTVcgcgXQ6wRx6zviv7T0\n",
       "3OWKGHox3jc0pSz8jY3RqvFztbL2QtznI3r2awddOhcTW8dEeQEoggwPBSlfmWlsxsLR8M9EcGCQ\n",
       "HrX+WPW5JPxDyv5NNVm79v+niV4Xf+JO2mmj1AiFH/IG7MAcqcdoxxCFcCDQnPqthDLJftVVR7sA\n",
       "AAC7AZ9EakK/AEyoeW2Zp0PDOHjifqKcSQjnN9LJ0QD5GUiZH5SSvQUrgSo1VTje+En1ROcjRjMP\n",
       "XX+qPNZMZmrIKt9P/+1kncCqugzGnDGd6Eh+qgp3fsYiRbjk7mPPsoxO/viwqROw4D93tbiDeB4+\n",
       "ylscHfLXCAAB+4iqUtsv8CKJITRd4QUDkMCn6FMj2OjtwzVtTYZ6lx/aIExE3aXfewE7+Ex4qB1G\n",
       "UhTDXNTxZH4sQS+B8dRLhfYDTwAAAQ1Bm0ZJ4Q8mUwIb//6nhAUvjT9bOTsSSbF3wtnMoxskpGlr\n",
       "5QPiAKGyMtOP2s2HP45zwzdgv+jLb4dkP0OF/6gC7+OuzeaK/6eJAiJJ40amgB7/bgcmZ8yBxLvM\n",
       "0yo60GFqPS93WYNE+HPkGL6Xw/GooJ6ir8mFMsrprmoPtf6Ol1TOuyp8tlXq25avpTrl1/dh30M6\n",
       "JC/BwYYuNFXy6mBcyCmXQ4CkWN+Bl0uxeFaXj2NmZaDoQgVqzBVRLV6lwzqVfT+WNwtgHzR1AeYQ\n",
       "066FN0Nn8qazgulQh+L1eZFUkABQKYMuElxINUfPIc3xKh5ChiArIHAtjO+no3rgeBPPM9IrW4hf\n",
       "YmrF+oVYoQAAAZJBm2dJ4Q8mUwIb//6nhAAw9JKAgARX+9+8kzJcgB2VugRQkpq1CBnj/2k0G1mW\n",
       "8ER8ssTlA2f6hdsqus5od0GSQ0/eOH1zLsF1V3pcK1nfIBVL4SGijm8qIu6j+ebOy31frDs35r/T\n",
       "3RV01lNXRQggTz34xKTkjwW2SW0xUYOwkdtF0B4os0Dciz6Otgk9tFu2VPg11rGUhp9A9hKglJvy\n",
       "xizJUbRTMteFm2lTPrXZpxJ14nCp1h02PPRvuHLa6QtfRy+2o9fGApRskkV0pLAA77+iQ8NKPgAD\n",
       "9itRlXy/I15udL9qCqdbAzfCGOZZ1o/FirUvGp+dbGUkKIPUo5WLdpKxIL6/IRisPVUYk/01c8Uv\n",
       "vr1BgAQMUrxt7N+qJF2STLbn7No8jAEmR7MnQp6aAR2sjjhtff58NRJhOTDijn38cApOlJJKgX+C\n",
       "ro7Hwts6s3LX+I9FnAxvSP9RKVFbpfHjVCTGxIqwi91O9YdLbd75/lQp4Fxn5sLIWEDXbQ5+s9F1\n",
       "lBxVKeocQisYrIZryx8AAAEkQZuISeEPJlMCG//+p4QAR7ptx15263mI4BMm8dbi40VFqgBWYZNH\n",
       "SyN/bzK8qRK4MCh27d5uIn7bwzC3Cxh0A0iZXLAGhe3vH37pYEnN1Y1fJqL1OXNJNzguk0ltd/EK\n",
       "pTyKXDhX3SkLNdkDqzEMT4/rTws3XD5hpMhyOcRDUO71dltsi90KdweIfc7SfIRNgo+VksTVf1Iv\n",
       "uDUho03+QCuDwHPeJaUqiJv8JLkOczcI3iUq9CoB2TBXMinzod1lJS46ymdeQIcGKth0ii6FvTfu\n",
       "kfxLgThDY3juzltZNcuBLPT4zk8eNos8eZhjK43DjrF9rPfF+u2+Mf/f0+AfkII2fGQTiMnfbSJ6\n",
       "5dJyF71+viAfjfe+zUQeULKmoaXdBSE/gAAAATpBm6lJ4Q8mUwIb//6nhAAvt9VJZvQGRt5jbVjK\n",
       "rCaNw5T3tMXogA2+XEMz9dyV+8RWrYHtaqj3hekB867rK/7yDLfJU4FKuxB7RKWNzjWBfX2cnMWk\n",
       "q84rAwX/gLQ0dej4Hdfh4azmAOhlzfLQIKRlMLz5O8/HJYqvpopTXgZRsHORFy59miz4K2WX8BrE\n",
       "8+lyXO8LtUVRT3voiqBxCfqZkxb3BALZ8gq7SysAa1xvNPLIhU1wf/WU6Y/gFrczaD8nPi85LucZ\n",
       "ZGidXv2SQAMGthIb+0K2fFfVQqQF+eeZ/lBb7DAsvcytrp1b2sOZPuHdvX6h1xc3PyqSH4MrWZ63\n",
       "x7tK33RRuPWsOl32sCFoSxQlMfQY7xw9pKb75yIguOD//nF5IaFJvTZybokyNukti2o1TK46ap68\n",
       "UAAAAPxBm8pJ4Q8mUwIb//6nhAAvt9VJDLoAAjA8oFweumU7p/AHIAACF4P+f8eMCh3IYYXnzAWw\n",
       "3th/wJizliGtwTsAoEwoIcFeEuWeRndXLblTPpb7+9+J6miXQOjIoABhGiDO+D43/x9WYrOKD98Q\n",
       "FCedaCdg0xjqaXAu7btxN+Go9W2Of0zLeqsOvfoHeVnX1YvaKxMJhh4UwqunOUUann4VmDjfXJSj\n",
       "vK5o4deh+4ilOUFJHfyfoLDLz+hDFzXQoucOlrqqOwPNcjcNvOdiBf+tQw3VBxnXiKbQ8t7aXq5u\n",
       "O5N8bP9iYmFsW/nT5Hl0QLnahbgW4BcsFc17QjEAAAEyQZvrSeEPJlMCG//+p4QAL7fVTIkANkQL\n",
       "qX/YwHixOF4lPZyG0Snt1cOcnkpxeY658GgeVUmRcGb4MkMNh3yGQ8LnVrkh2xHv1Nuq+7/yS4d3\n",
       "ckvapJn7jSR+KO5ljwHdNHnu3MapPsCDtMGYt613Df+UTZhBtM6nk+OEvXfsni03VLp0aceOOR31\n",
       "1qH8d/cDH6HpJE/p4ax8rdwAMkHNfkYvar0NT/oHweJPLCHKr4JFv72t/tALqMuzb3ZN/6B5Z5CR\n",
       "JfbdBpDVZOftMRBel737gTZfzogGB+1z/73nAC/YNXXDHkEwPZrV28iqbHzfIrF82Jg6JckWjoSI\n",
       "lsrkVVYEMrZLDggTao43i4P38SCfHUchOqzl3VCpD5j+zhRUJvQ+G4wugAkvg889PA8e7M5AAAAB\n",
       "J0GaDEnhDyZTAhv//qeEAF15lcXVuK2cGEMIArb0iDZZqWBvbyfMDU8v/xTtQa0G89JWP3nWnSX0\n",
       "eTzLp8xJLrDYfcbib3RYaJtieXQHvTAeraWOIt/exx0U2+4aSOBMzXKfhy277iNS82eA/QKiLu5w\n",
       "Lb0D5hSmBHhb5ovcMd9rQGTlha2dgq+a8KHQ0eF8eRFpe5pz3yYJyeZgKnPXoG1RVrmDFjBVxAdM\n",
       "64a4YczUEpelT+HCXqXvdXDI8k1CuA0/nUBCz+jtE47kH/egptFIJF31o/EBba948QOy2NNUv28y\n",
       "oTh5dWWyAYysoFPK880zaYEVRtBhJTkq9dRhDnVr1WNbr5XgKAd2xtbW+GqhEXq2qOgwVHz8M6qB\n",
       "oo4tCR3YKg8FaIAAAAFRQZouSeEPJlMFETw3//6nhABf+EzJxkArgCqyE5nnQyS2wP0v+tTdfVTQ\n",
       "LTUwn3nxoA+vK6FkCvZ3pubdsRjU4a+VXiQoCyuND15BOX+GYfmyly8mK6MZZmEf/dluyIfxypxX\n",
       "5trxaF6opbkSCT9WTiqztu/5qAjeIXp0OZEKMYth2ZGjlPuhTU0YS84BX4R4DSMb6LkFXp8h/NZh\n",
       "aq6u9cZ0CoMlGTQTMvTETfZ6VbL742CatKx+bk41AZFV4sg8C0KBhJXemi4Q4W/YcIhNVkPZKFvf\n",
       "6uIeLwoBw+cAre4Yxqk+6ljvT37pD3i8WW62kt4DgcNlADMp9RlocJshM8nDfOwPtmYKW3HimNyT\n",
       "nPBvLWIm6XS5QrYocUyGTNm1FBS2wGecDCIVAjZB9Yu754aL4+Yw+FQrxi8+/fIaNPHClt8516qb\n",
       "bN0AbkTY+5ZWwQAAAMEBnk1qQr8ATWXwqObdHh2/gDaCd5qADVIAAAMACmDjwVjNoruE6HD5xd02\n",
       "XMfMeQt+RgBBKCMn355LnxsCnndgiwlyT8f6k6OVUgZNNJC5Tv4Lzgf2RiCgn0p+wNub0BU9OHYe\n",
       "pE/yLSo8JcfTWzqXhZ1S2/5ixCMDnCoh3EDAjsX9fDVL+sk//gDbgBBns5gkpDKVPrpyjMFrHecq\n",
       "kBt3u+/0HexrLi30wCpyU4H+8/hjODujXxWJS+ud2ZkbQHXBAAABGEGaT0nhDyZTAhv//qeEAC+2\n",
       "Ak4nitoAH93AySfqixx/GEAzAQ2YHMXmAqPuUMJmXsJ81bYLR6DXSVnVMyEGBal1h6KPeAvedc+d\n",
       "V7AgcYX4srxsIIV4l8j2RdBoNJYtYJA47mik+dMVUyVVYQS20FHmsukZ8Oms8ludiMNnLAlpLe9k\n",
       "kXFnvYmnAqBvmw5JgsVh0H+brWY6p+LQUh5Q07IDisUr4hBFy/HMw9oe2JoLHdL9ZBSXU9w+uTF2\n",
       "71UZtT5DcZw/cahzQtqmqQTOvxiUxLN8p1ufCyami52Hv4RGpnAj/XBzksKitAKR03x5ecPRJxbE\n",
       "zyBDlS6gSM/VnU8bW1csMgVHftcUlFVAz8PuFmkO2nqw5VUAAAG+QZpwSeEPJlMCG//+p4QAL7SS\n",
       "AQAL1ADbfUmOpBbDM3cyaztev67oXs5KvTlFFBt93yxNN1qq8rf/OboQmP58Ax9klUCMCdtixAA4\n",
       "xhro/mtJy09KRy/BCzL3saC6SXbYJpaSOBPmLk5RQjdZi4NROjnJzRVWpStu/owE8P7d6i2omwc1\n",
       "o9q9/OfIoI3sOpFmXUMpUztfb+bF8fk+v3wrmpi2jaQBHtrRuHj8cHc1xgPsb//d+1ya5YhJk/ck\n",
       "ibOYob4hOys0q6ZaTBbq3IBtnnThUZLB1xQKPu3lyNW/0ALqestAGCgPgbZV/ejyaYPoJq6/8jKB\n",
       "CR30LZx1Bt28Ws75gFgQVUrBo6P0xw1m3+sTWz+nMTjxe0xUyKUSgB6Wjr+T0A92Ink/y/MiiiDp\n",
       "qrYikanYcUEYrqOqMUx3N8jGMup5ntQeHNdXKXD55YpJ578Hd7CXS2Uecy5UmRLJRyjNZBI642FX\n",
       "M5t/FrCI1596syvHiIb61v/59b0sSPHQsPQiUeewp237PlmR2CFG5H+jJQMQUEJN3K7Rbcts/+tl\n",
       "zNNNQQz5fo+sc9CCIzOxNuOJW55Slme+cy8d8fgAAAFLQZqSSeEPJlMFETw3//6nhAAv/CYtpJQ5\n",
       "waSrW2SrB3AFSxhL5SnUsFAYoD69XrSE0a1515hRS70Ml/mM9I58NgPl4A84uE6wVSINZurd1uub\n",
       "TzZBZl/CaZYsZvX9Fb2NM4r8h/vorAKJTzy2pzIARe5lCWUrm8MxDL/Ug3+PZ+s1Aup8ryzzzwC6\n",
       "JrqzuorVjPT3LR/5SUsjYkW2ntnwsH42qaQ5FMkVN59oGgfCeT0OsQPCSgpG0i2qbqCaQcdkwBzC\n",
       "ucqFAviXkwfEDR+Y0JLBFjkjnVjWmjwkjypBPdL646MIzBVPLKjZ196ZNs52uZOJJbseoHbG+9X4\n",
       "V8vvzOxoUPAfuPidS1rWqkXeZBaDQL2A9tucjgMgxRc6fOEjvdgRKZyI3bDeWNKjahOjbRhVEjyc\n",
       "N7vxIUyMpWcxN7884TP7YnME4OI4SAAAAKcBnrFqQr8ASKh5dRmiV1okXqkzcp+t0XkYHnMJCQep\n",
       "VAVsUG0rSboPlYWhYdshF9IZgOvUMkWglMBBFN9wsdUvvjuOsqGbdPeuLDGzanMNJDwMzSa9dACH\n",
       "Wp6KSD3Ex+2k60Q0Z20CTiDWQuxKRhc7NjJzV1Y8CMb3WIj/GgnpSs/MfQCK0BCuKhZsNyNHs924\n",
       "8STObiMM1sUHVxn0AZ3+zWlqoc1CRwAAATxBmrNJ4Q8mUwIb//6nhAAugAJOLXWAAilTCPKsMdDF\n",
       "UkQBVpJMGV0bum7OwgHDjt4p+3eWEOOqDa5jT4pg7oY3PHgZe++5rQPgSWrfxBRhKnpz/Vr/frIG\n",
       "vnLkmFvmSEe4PtMxqpHZZZfjWMcpGsWgPFe+JWYZFSGC2gzwegbVFWuYv8GnDNx11PPguH9lys0C\n",
       "CVzfMa1iK9O/QVf790XE/1IO9KrptEneQ1QjJnxYc2+sAVjzu7feamKkWAnPid7yTmiGIrdgT5RM\n",
       "CaL+eUZWOOQRG2/3idtFACNftwB24xUs6WIo8VtueKFzGnFVUWxNqnsHpPFC0jGTjBYu/r9ub1vh\n",
       "/im9p0++h4KzXIdkWOvD+Wjpep7sO06vV2NB75KMtB/Pb3WOE+8rmgob+elghEm8AESC25JrV1c4\n",
       "AAABv0Ga1EnhDyZTAhv//qeEAC542/IAFs8JhMgK/hRuXgiP6eD7ZM/0/5LmxoS0BmOH+K2E5jHW\n",
       "bX4fr0wNg0chk5QLFGdk/OfGH3pRn/Ye3MNk0QFZ06PUQY/CWEEHLLvitMkcgnCkMUxxtuASPiP8\n",
       "XsHlA/H1WuPqfiv8O/2p0LnaVI0hjrd1kaNNN5w32WDd11an4eEMKBCTjyGr+I4hJIbmKJDUOMH9\n",
       "NT94zLDNDjClbNI///vitj1Yr0uaTHgEGKkDB9SsQlYFG4ihwtc8f7RCFY1osExK6cN4dHBPfgII\n",
       "AVEFhDnOMGF//qPfTx0C158PwRj8asoWWsQix//TTu+4LSybuA20ig/AQESXXEQvbob3rhqFe5Ru\n",
       "+qxmVNCs1f6j5c7WRIUQ4DLWlGIwPhswr2lnVsA+j3BqjY9OUW5pkDls8fRT5RSRZjvYyl6Zg7e3\n",
       "7w3XfpXCnDObGS1G8paAIiFQtRKa3NObKsRYtA/qFnQokuRaHO2spYb93pijsa8yaIs2dbYG4IVg\n",
       "NSSqFqF5fKB+DwwVeFvA1lKP7DpM8R/A+yldX8GbTLh6T1vcWNpTnkRUzp0qRpXMGqnw2AAAAV9B\n",
       "mvVJ4Q8mUwIb//6nhAAugdVMiQBAfn7bpbF+MS3/xfYJ76B9IxGrvfEWuFX/KmpRYGJ3en+2w1Lz\n",
       "JU7pAxI546JejwLjmptwX/2ZyEtUxhGCv9lRajrmEYf9MjimtCy9xuBCglBZwfbfCyAEPP3dTNue\n",
       "qS0AniI17T6GxtEuhfpfV89ywsLebyUPaJ0cQiaQn99Y51+caugS/KNdY7TP/xHxuaVgHx/FBmD4\n",
       "mvI5TXW+Oj15Sf62rHPmwN249MWz8pUKl+DWfz/SmPgJZM/UMCv6N7wz6L1qhMEfzYESpRG5tE2p\n",
       "flUODfbt7kn3GXdB+3IB0pkssNeQGFKmYil3FgFGA/tnHKS9ryv6E0QpO2wkhqkdxpfB03XDtQPn\n",
       "CSQLNPNwui+fLbW9sJlli01hV54Fk6qAVlPRCsYlMxztSc8Uu/8wc+tbPkApbiUQFv7kZqD7gDfB\n",
       "t3OKRSm9IAkAAAEdQZsWSeEPJlMCHf/+qZYAF3iO05wxFVaXqnDqf+oFTj/3LT41bz5heL9aPdcp\n",
       "4ehYc4IG6gD5qi32jj8te6G3jmQnINqyeVijV6XwM4YiU9GHbXwX/sHPhBsewDDSr5ULeFFItWso\n",
       "Wte75oo6B6YiAgF3nk03hHuhxUcsfBfTZSRSuEEalzgVeqzK2gkA0hTZCJ5B/p+8MVBQnMHotxRC\n",
       "P7oDRjQ/YSLxUqpm9mop0dCfzqe5LkMf13LWcH0cGZ8fZNH9YMj2xV1Q9NI6ubYrPhFaiDpfw+7T\n",
       "UNzkvRpWDENgwJ32OVJkmBJf1NRu9XU2Gil2aW5qOjJGlmmsQbKljYW2OeSO2zRD/wNH/H+nIKcH\n",
       "4wc8AhD6J6mIxirgAAABZkGbOEnhDyZTBRE8O//+qZYAF3BA+HPnlRAC2g/qKL/qVeJJRPNXZGRl\n",
       "3u/zcFol/P2Z3zePHrZoWL0PJPyy0NKmP+oRenb6s+zl7XZ0D4IEO43rhwr6Qe3v7d0OmyJFA4Xq\n",
       "bLPGM1cZwK9nmP+Ke2VPPGiDdO13Hz/nc5DSq79PDnH7nTEdoOYyHYWiYLPWOb1TBsQOaM3/YQQs\n",
       "Fqyesz2ovL5B2nujCzICOomRJYta/rAHTcwZIIGMeIRLXTimsmRk0lJNkbzdIqv7VOGc/rXuNt++\n",
       "5uwm4Q4RhwhqmHCrPp9GmF0IEe5IPAq02P2i4j1YSV5363l/VD6Os+m+O9ssf7Lh6fqFiCdFZHp3\n",
       "+0A3Y9OkMj2qcX3PiNKepC6VEMDsBjkKDEz+aFZKVCCPW25qVYbGFDfABw1kQJPWpBuikmOvitim\n",
       "b3r5MwiiJM/WklWg6Q+z2re3GCSwJ9NsLTpRsT4GLMcAAACoAZ9XakK/ACWo12aGb8rMo0smJIib\n",
       "HExbapzLRQKIGMf1oyj7XBvBYMi5GTIlPjTtsIIKGXuezvJN/dO2ABAsTboPQ+2Q6Lj/zY03PUBh\n",
       "bi11sjTzp8AQlDRJqg+GOIdwHoo+oz5WQQ12nA+yyDQrHjP8Na2KdII2Wu8EPvB9RLdN7qrubIC/\n",
       "dLtBqEYTsV5S2ozFEjpxTcOqByesEEEr37AO5viKgEHBAAAB40GbWknhDyZTBTw7//6plgAXbRVC\n",
       "BNQxRlRHABrp29ZSCLKkrsi/a8fo+X23gIE9pkVu+fZLVSiLLmkDSl+bXV+dSO0kBMdGKutSKCW3\n",
       "bRa1+qUSgMRKGM4GYKXwsHEnjcuQ5+QJyGDO4PSxbdJH6APq9ITtdgaptpK49JlFewl0YtWbHUzK\n",
       "pQ8xxnJvJ6loNBT90t2PYopycGnHiB+WkJYpjtf/nXXDA3us8yfF5IT1Bnmo0L/FVO1y+EfgsqYK\n",
       "V5BMyvf9Qy3Gs3qcbtbeCnh9H0GFz/pwmknABwUS5u4JAwUyIzgZ4vA7/5NSfcpGNE2XOM8hDrRD\n",
       "aX4OJXm233qKS1A/EQi9zq9LTBrqUgxbP3WfRhPoyIrWWTGehA44SAqPA/QX5umWx5VVL9WAyV9n\n",
       "6lUxdjPxEXk6LPH41Sf9ZKcVbFB7V1C/nXf8k/+swx+uvCbhh3W4TJI3Eicyfrbyo0vwjNPuWyzo\n",
       "rcKgZ9RoffYenVxnCcsttctbBi12AAB0cM9z8IaQbVT6NeXgGtsO2CGfynpgL7w3zUlGz+U602FG\n",
       "eTCZwkMp2tM1n+FTbO9CoMC21RptftuJ35s22G3XDoe/JheWfZARrFpf3hBU1TPjwUmNI/CckVTZ\n",
       "3MIFEc0TwAAAAI0Bn3lqQr8ASKh5dKs9RgD8LNYeCBgsO6Aest7L4ftGg3QAUJ0810tEJ7IAG1Gl\n",
       "iPDsLTGIh7s8t9Xqd9gj/ww33cQ5njR8cKORhmT4KFQraxGWUQSTHDX3s6fZLUxkgnVXrEhdATdm\n",
       "vm5d1svOzCGuuDwjPek+GlmiOGRVq0ER55ixWddI25JCJW2+amEAAAFrQZt8SeEPJlMFPDf//qeE\n",
       "AC68ytJ2R7Pc9n3YwAOF8AO+O/3f+LRXfBJiuE+TahPCx1PLkTRx8erVZrEbpN7MCV2V1pSsQQeF\n",
       "BiVgdsU4V4lHE4vRbHs1E56UK8cM4nUbKcCBaZ6lLBhcPyNYDhqsjMx3J79hMAh6/tDqE4UTxJkF\n",
       "Tqu9ly34vB7dvwruyKyg2DzFEPkQJ0FVxEIxN3wRWPdPfVFZWZvtI4KNnBSAcEmgTzICiP1icEcn\n",
       "4J9pJ5l64rA/je3UHGSyo4mcQT6jPto38z9TziYlnSKmSdov82Jj1tMec/JfklcqKnlIl/VMcwFc\n",
       "UsyvDNIHY111YE4wtePqZrYiKRUm9BZ7/FOCO/DR/c/SRxKc/ZP60Ehtofzd90ixQSbvp1u27gka\n",
       "oyFQgbVUeSClSivGqH9fD6piztSWWVE3vFp6+CWzyuRcZ3jQICsAMn/Wbvdt1uB0AysnOIx0SWfV\n",
       "BeiEdoHwAAAAkAGfm2pCvwA3Vi6IPwWeAregmBCnm9FA5moU4AJ286MmNdNY7oOlB1N+eJseBd/l\n",
       "sQw0AYNlV3EdpRGnwkttSbbBGhn50QiweParQ6CRWsBYs/bBCNMJmnz77vDSEEnZO6TyjaIA5Plx\n",
       "76rJKnGAcUlC/FYXQL84/v5XabsDT1bL2RY0acUNDPE80l+hnuakgQAAAWZBm55J4Q8mUwU8N//+\n",
       "p4QALZKMa4AuADjUPUM7lQgEvP6ilmPgTD7SrkwVoDoNUwNa5KYs5blcus7nojqHs943aPbwDHBx\n",
       "42wrU8gcdBilK1syWM/XjH3T4U5ehq7nWdtK53GKCOD1Kg5Ph9Oe0CSGoluc+BlABMFTUby6jgpU\n",
       "KHF8Mz7H8y/hncN+nqhQgRKo2fwNZD1LsYJZuOlk77AcFW+7AK/zA/BnJHyNI/931B0C9alZwdhz\n",
       "DcEariOip2MH6NIUUf/ZiVPm9euk1JHiZC018Ts6y9t+Krs9rMxrhi0s5wMmXXCz9CGfflBkKKyG\n",
       "Cq5NMPLdJ3Uc+i5z87iOgzL8DR3h5Q9Ej0W3IuBm5AExDSjnMY30Wz+UMpuuZPy7/Vbd1qUNDY6L\n",
       "3qfO/mRAbbeTSAofZdGjEJtpH+43FEAytcI5ElMWEOk/Vd/L+CeP3DtsPyrkAKX6yGeSRbvmlgsv\n",
       "sed5AAAAcAGfvWpCvwAkwR3+l4iIRRWMvhqaWIIy+gBCc8qjpqiwAr/Ub4jmuLp+k9Q3wvDXTbyr\n",
       "PaZvWIdbKf90Rho0OSubyGx7mgEmZo3aZfCJisBZ48blsNlMjtWi1XekmxQYVdyxQfb/ZLiNoNgU\n",
       "UE79O4AAAAEuQZu/SeEPJlMCG//+p4QALXCpBolTABECsLLOif9TgGbRSi3oW1tS3DOCjuAwNdrT\n",
       "QLZcIKdxaGPeXnKJemR8sRucBTco1Y3dlQWNWcg5pGkwHnHP/HxdrsxqdZDRJf8qA/Oke9g2AnJq\n",
       "PdKhj9V1mlXkE+SFPqruCepQ7UZ9VwE6SxGoRxLMI04a23mL30F1KI0Hyw7ONoEHO0yuJVDQCTaT\n",
       "CNSNPgBtTs+cGMMC9Ls8EniCX+nUT9KkfAfjDxRrJ821cb8o96cibo38DYLfZuElgdmpvSoQIfT7\n",
       "RgkW0tYb2VfozXNCZP0Wsyj/W7OVBHnZNuuHNcMB2yf3pRfqrIczqNmS0ZlKDhSEnoUr67ym/AoO\n",
       "5pzey7RzF9BnXKxLzher9Uy1GJCahGsumJwAAAGHQZvASeEPJlMCHf/+qZYAFuUECw4FADP7x474\n",
       "4aMKP+N3y8JAUvFZJ7zEASLPMGpQFKTAJAEJfF///9SIaPv7rRwCrbDBR9JYf0YyWj8TVBYwVfIM\n",
       "HyXQnb5xTTHanA4XC8UvKdf6gVcCn83555aippqJHSvCk9vVDz6qVHSouYXqU6ij9lbuMtOgv0eG\n",
       "vYGDBZeuXzHez6gnH9jm1TeDCDQXZalyXxlxAFZp3cI1b1F9vJE8HErstjfMKjMZJeCK8xWlF7UE\n",
       "m//WdW7S067Or9+PhRYOVk/BHR4JFWvtmAk/8x6lmIUMjJxxxyrj8j5tAK7bbhfKjzPySrQ/ebyD\n",
       "OV7ep3KUKag6UWfOjblnGMikXbyoaqtOqvjs7vP3mXwd4jKfIFwp80yv2FXMkxeFXIGrJfrrmXnD\n",
       "JJyoNAACMmhJouPEhaJknv9cFvrP6Ho4sMr7lt3U3GaR95WQE7fGkFbC9pRB1n72AG0H1zJ1SPW4\n",
       "Qnu4h4fdAOgU4rBseAzM5KnlE+9ZgQAAAUZBm+JJ4Q8mUwURPDv//qmWABvOAFABCnw0YHj2DQ4v\n",
       "+D1zhW9NUfew/dvTo4bqxeHR/Gh6sw8+pXJu7WCDHvcj+KEqz0ir6WKDaXHuKBm2nCHCpp3Vvda2\n",
       "9v2JODig+J/Bla1lzj1A+oKsR3ITDT4F8MVabSnPb+cQk0K25DBNNqy20mZA/b87b0HNprpvzx0N\n",
       "CukLuZNk83bqhw3saYdJrFeI6Ub1HSQk5nZr8H6+LqJKWheO6/+8nW+o8hY+IPmkBrRYbEdWzChW\n",
       "Is/6w42k45FfkhDUauo44DnvXfuMiG5692+D/kmmFzDzpDHnDDW2M2mgYUcl4zNbrqyXtxFcOXKj\n",
       "X5SyQqA8o1uwOJmHXdy0GFYQwiY4xwma21wkt8BtepEk3yeqc8+OOLotvJtCBV/P2/wPd8vTguCK\n",
       "vdwuISboU3U+gAAAALIBngFqQr8ARpUjiJbufNfD+AE7ecBFv5fW62cMMKqceVxfrjiccbzBiGK+\n",
       "PviyVbLZUYdhvrYUc4siqledN6rok8ZV3P0XODQxg2dQ4/VymoR0IsMUsYOjbk8ExY3Hxggu0mho\n",
       "AxeDKXMmg1ZcmyiS83K9D+FJYBY5E2vq6tsWoRYQMyZkOJw4OJpzPWHPkij+7nJSUWcLjeaQW4lE\n",
       "kvuBLVVulbEDNotm8wVy0W1e3uuPAAABzEGaBEnhDyZTBTw3//6nhAA3JyxfzsftYANk1pcDv4ru\n",
       "yW5AcDVt3Ds/ifu82ue6rD7ENKRNLbQAqiT44GXQcj9ls1YL9BauzR9uhaGhsrOqx1Ysk5MU/+DJ\n",
       "hozyMawZ9F9haTnr0zIasxpAD9PeDqs3BuLWowCRIQdo8yor7r4zB45/6YivBv1ngrQojq4i0ptZ\n",
       "/7n/8h9pf90LuBs4PK3YN7gIc+ukbyprLnLn89AsXIbtmeTM8rZMzRVAeRCzm14Qi5ml6qzOaDth\n",
       "tNENGN/jMlRhb0gAAbNd8Kuk5goqqEQQzOsGBvUqfupLbaHLvu9Kp16I9ak7LvrBdlQOLoVFtbyB\n",
       "dH/RZyN13Yj7YqkOz/v3f/+ZAkxKoWyNC1cms26G88C6gj9+jMhuXN3nEB6hZu5CubgS2yCGozsn\n",
       "f5uGRf0DE7chf9njCQL73veo6dBXGN3ldl1D7yzSOI+imZDPUHPV222j9eQINEQ3jLOrRC8BxyGa\n",
       "VKebh9YfbpSTfZT5AyDZyEBUoL1iUB725U/4QcCW7EbVaDtc2ivBviuZkMj/VtbfsVXGAA/I75PL\n",
       "d/nUsAjdzg8x0WDgkNoPBO2DaddCin4rBw11uoAAAACRAZ4jakK/AEWDYUjnZhqf5mE+IULaOa8+\n",
       "b/fhD1YD+n2oAITeTIDOEsXJ/1LcZfJF2ZdxtHjyWWXUD2vLCS+or/sZJxlGxqKnw5WQMTjRw3tt\n",
       "iGPZgbO4nDq84bBy1Z5JB/32kzbiBXOLxucoRz5o6QoXBX5tBINKKoiFVhEMZ1yhwXHj3kSOu5c/\n",
       "MClp5ymw8QAAAW9BmiZJ4Q8mUwU8N//+p4QANya74VdCd0ACdveZyfiMChl13UZJvJwjAg/G23Bx\n",
       "AsWhllyCdk5Bd4ermLL4wT/Kf0JakWyJzxBDp3/+cabVcmz5dQZl0TrQAAADAPaTUzoxgEJM+ZaH\n",
       "NZbPt+tgCP6pbI02/wrlBRSY3NdFJaMsdSMmyC8ckLG07o3arT3hBiImqxEP3SmuwZe1n4NFrDMY\n",
       "yucZpuEKuCdfXl1KPsK/048Ikkak1Tr/wJDdV6GC2njFfhmkyEjE3rWpqeGgRWc7EYbS3hXvN62H\n",
       "eruNwXPr9r58ODT+LOw1U8CJIf3VtF1t4Hgx4JwfGfV7BG3hwTf1aiEvLs56/Oriqea3Zvywukfh\n",
       "K9MNCd69H4eatefRG6Bfx7MmWMJypHKJmwvdHow+8VPBTeRW6A4THysB/iA7/BxvXEFAXgzGapeH\n",
       "3T2pmagKQifM7SZYSOvedUbN7sqp+EZGgrRoW7bM8cGLNidBAAAAeQGeRWpCvwBEqHl1GcVisMj6\n",
       "s5jDIJuRmBGEHjQtMu6o/iD2B/xgAIfcyRpE9Go/3u1CWWD4TwFLPyRvBq9ajHckevAtw1rfdEhy\n",
       "aMbrT+gPWdKW4fnT39ZHIaFGTQ/a5IIrhNptes4zVAJLylrdtbZCyAhAn8LQ6IEAAAE8QZpHSeEP\n",
       "JlMCHf/+qZYAG8WexcFk5f4ANqugF9h1Q9ssvYb3qn2wnD0EumqljlXXrXEk+ryGHip4sphBIxb1\n",
       "9E9iAViq0PEdGJ45W34UVvDvzIhqsefrP4iEGsc9wfi61dPw6lyV4Gv3e+IYoblMi0so80LLK9r3\n",
       "nTKceVyL37rbI3xUXUm+DNsgtWELLIhfQFzoAlV5KrnZK0bH8t3/J2b1b7/+CSTA+Om/iMBAArVF\n",
       "CxD7HkmO7L9+PEGmtiz/SYrG5GT8wGTyekR+km0YtRsTBxll+2hr4j7JE6P0WLvbjTl8tW8+Ll2O\n",
       "rPBPKObWiYCzwfEHhYQikvikY0vIyQE0jZe1OJjwle+jV+/bERMBXUBlNoXAmKKzJFU0sT3n14cQ\n",
       "i6LmUTWmRH4F+frkFDacqPo2tuLFLkrfgQAAAVpBmmlJ4Q8mUwURPDv//qmWABvE1wL2ThpO/gA2\n",
       "o4rztkdtTZw1wD/Gqr1zhye3BGJPMtOS6iKYPTsmdVnyTdQ54YE89YBlQUCM/mlzF2myzDMlqz+N\n",
       "C8awramhYzw2edd9QZ5WQfu+l1Mv4g2DdXsRnjcMV16fNUeLhG6Ze1K9KN2B80/MFnAgAnn+0p/m\n",
       "e388oD87M7ewi0ChuxRsYBWlEHyP/48lxCOs4sbPchMIJS2sksgG7Q/zjkh6nyx5htPYj9J2+RWx\n",
       "H/CXtBTkRDUF5P03gCDoa+/ZkL6R13I1O96Vk0DkvBYJd/bqQoiOFS36ckkoXh4drtu1cwiu8Vhz\n",
       "lkKr0OObBQYhEqyyfcvydwLNyD23Ol/+z8pYKlwwVb9pfx2v4kD4yAkyzxMADBXAbAAAAwOCgqgt\n",
       "znfgvfJFtLt97IV0NEZjyfNUgFAIIK/0DDQNdlHBjq2YAAAAnwGeiGpCvwBEqHlNNfxnzGSvAAhP\n",
       "6lEKRqEj38/kxEySFxA1U6PBXZHG5qDMMiHhjQnHCBmDhmBoQaFsANub7dGPn+lW6tT8MtGozj+p\n",
       "Mj2/k0dRjBP5VmGgU6gRs8YS067ohu81taA8Q3+WQbrGSSJNY3lySJ8QVEVNVbAV6wg9g7DG6YPj\n",
       "A+e6RyLmQnegZhWFirEZBIb6WdZUG8MupAAAAdZBmotJ4Q8mUwU8N//+p4QAboUBIvQ0F/1Q7xa+\n",
       "AFiKIpy5HYeB8elKdaRXFRh9x9x1MukKh0q0Bfr15vOz+EgZxI6Sc+8hvoP8T/GWnEPzRt2lHtDT\n",
       "xKNTYQ7o/alEWZvMGN3Mg3pGBHXiWEvT/u6H+vwDwhwB3VANGvgJRC8lqAeRfd4mH0YxWV7XwBVK\n",
       "n7gXEE7+1RKO5EI+wfWAzSTEEykrZQfIKyhCZ+KsxGn42Fj4bQagsilXWwJkXDKftNNYt03X0cH2\n",
       "XT62LrA2/M5uEEvZzG/tDHBoCxcVEzuqwqHAukr8X0uD/m/2fdCUOnp3djD+Acm4ZHxOV4K8XpdU\n",
       "ND3qF9YvRT0pgqrBe0c+VYGv/i9CukALzWFaghUAIlQv2ED5cjOZYavvtzts+2qwoxlMW5uuz2kW\n",
       "qRNOies7MPDfl/jW6ts603oVmyXJg8ghqz/Cx2eOXWZhwrfBc4JBWzpps2w8HP8AdRtjKGPv498g\n",
       "DqB8UsmhESzlYWtPbXtyelDrHBHAzAy5rwXGjvKdGSZoW4BvsJehtR0wz0GQVGKXBzLV6jB4R0bt\n",
       "oFdq+JnqYDUPPDsPp6yG+iEed3h25ArtWu5fcYuJ6prpVCrx7EZgualAyQAAAIEBnqpqQr8ARWWM\n",
       "QZxIDBiOOAEKF+MIfzlR66ngSb4HVL/ITQR5MFrCcNjidsgkgh1QwHb9SN9tRLgo4hy4uzwTzpU5\n",
       "WuKk5vuyhoUvMSbavkTFN2m/LUvgmUycKWer3Sy/MjkQPmB8jJrdv9m82qlS8ewWlRnMNXXyol2s\n",
       "s1cB5uAAAAFKQZqtSeEPJlMFPDf//qeEADcqJTWIpu7wAGsqTWKXkWyULuNC/NfDiylqGFcCeYzi\n",
       "4/TkbBGOkAMvgNoveu7bP5CEoVCLTwWHh3DNp3wXMiKutPYG4l2lyaGH8A4khNzxXEqHNwSYLF3P\n",
       "OL1kFgNxcQp4/+IF/PQKMuN3oPhwuOfuBy4KqU3VU3lMbZkKX2LWxZfBXpSDloebV/u9wYTeDF0h\n",
       "0huTqs3twLNWd6cbvnggB/BSIZcjFR2sESg08FzOKzyoOeriYUcOJCwwsAQVcuyWBtJ7vN4zg5F3\n",
       "04nI56RCpGWj4xD74/mk0DM80qw/foHj7Lbf3LWWDrDSCV/TgTD+uZEuiYSr0Qp94rnbuO+1Ul7t\n",
       "zUNuW5Bz0HS2QYoezFeVo5D5NRNwdo0DFam11AZwvB8pTWKCOZ1XeJ9i6w19eNmTd5lcfwzvAAAA\n",
       "bQGezGpCvwBDg1y8b0z8Y11SnAGJ+QpUGk0IbA0/lQATm+xh3UbbNNe3cyf3P3cl7Lcp4Xcf6zfn\n",
       "7xfuaOSlHJ56GKx4ukVCimwn02ARWR4TLuVoAO51Deup8bDyr1a4nL0Ms80HHSgQ3EMD6cEAAAEF\n",
       "QZrOSeEPJlMCG//+p4QAVHmVxyCiOeKxcANQRSOFcvtu7iLoaN7lzWUnHRzBkvpRS+yqNSiq+Av1\n",
       "UoSZq+9ISQu6kxAigO0ZwU2tSzmn6RMsLL6xLLa3znqblEMvL1RyFV+bUU1aca6ZjjEZ7nWCpCjg\n",
       "oOsRuvzDANtdmym+lo3tLg3/bpBcqsqXjvCWs5FcnN9+k0R8DY52Y9Xy3wp8mHRKQO7UDSR+Kijm\n",
       "0bGahrpz9QcxG3taBLg3HjQGUHuopkMGpZGI+vCZwCqqQC7MmjmjXHf3Y/gxejwLb9cAXrqvmOgu\n",
       "DYHHffpGoc8JVnr14vgAx1R885cmYM3n6ldNH9aMUvNhAAABXEGa8EnhDyZTBRE8N//+p4QAbm1B\n",
       "LM2qdSAFhcD3TqQwzTRmtCVD6hsvHRg5lbcPdY2HF4VxbKQLPShNVuTE1PuP9F3AmWR0sLayuqQM\n",
       "Q8XHyTD9nAT0iFQSVVCQL9xAJGqF8La9aJsTE33sfZtlrfv23n+YFR1qA6nnZ/KhgvJEV0WFinyu\n",
       "NXAi2rgWeSz9JCjGzXanckH0uUyS2YZgnfnBZ6ip+/sdmBf1LuWBqtHpeQ9qR/zjYmc9fIjhiXlU\n",
       "g+Uzk+g1AwS3W/KtNTaY0tJVgH3yZ9wiS8EoP5aEjmOG88JOe4V1tBTMoWV++n2q+bzR9t4iDINY\n",
       "CEUahxAWmBqHm4RVq9F8dpsQxBKcmGH2xBHxKMEabJJmQyemH5Eeqro65Q5BGWRejr6j5d5ybhUv\n",
       "5QT9iPxWCK0xFM/pD1UTd01pWhXQJi16oJ8jk6CcuBok0KSJ9luTjQLBgQAAAJsBnw9qQr8ALEpq\n",
       "yOfHyV81krSChFud1Ds6w3D4A8ZACE1WQSLN9wRGsmznrSvHheHFYS4ZRwU9X2te/CjmFqpaV7C8\n",
       "YX+s0iP1gmaDI4sJ+e0YFnKJ73JAjfpbrpgIfcZEEddmRNn+RsLcL6CKsnDGFkxISmiWVWHX73De\n",
       "fNis+L8QpwnL7K1Gkf9g/Vy/iu9SvO3zY9sm3qPuwAAAARVBmxFJ4Q8mUwIb//6nhABu9E3lhKuY\n",
       "ItozH/zFE92/oSiRfhAsd/q0gUdyR1CxU/5QopypmMwvNeXbZUtHSpp5xktXpnsTBa7s4uMp8Cai\n",
       "6fy4zgZGW1UgWo2UxIIBLv0dETmcDf+MKzyVHELbHLM8itfU91SJbojc1KysVPya8bwleCH8IcUW\n",
       "wKwEXyW9qUCEyiXHUrw6Xvv04PRTbLyxEin1viIf+2tuTx1VlAIkCtmI88+VfaJR59vJZvgnT0wN\n",
       "zJ7GlTv3/KEKcP0CbL4j2EVi3gslHfz69aenZkc+Gf1I0pTF8kvKl/kLsNPIFpRtgG/DeVfVqNhC\n",
       "Nc2/N+2hd8qQ5KOUMdYIbaCZnTzclexeSwUgAAABoUGbMknhDyZTAh3//qmWABvE1mKr1JpABO3w\n",
       "0rjOV6+4y02ZR1ih/EeWR7tlCZQqIf/W5xCm2dH4yGwGOy/tMx0I7jPt2Rtnva1hE/aUDJ6eHYs4\n",
       "4EKaYp17eXLRrNIxRwrxSGXgRH2QVtXk226VbMhU9/73n9RsS47fT4Eammxazs/pICpQFsYL+FzD\n",
       "1dcdVxKcfSsZDUy98IrMPVBjAR6p0TdBnZEi9t+DRQReI4gRTRqJgA/l7NrUErYgh31ls5yluTES\n",
       "re16l6cDBiYvZz7J1eD92BkB/0YNG9hAqW+se0wcPBivYTiX/IEfN9/SlcS9hCmA0klcke6wIdPj\n",
       "3AogBXF2in3ELUWZzFt0f7yOqpOJNch6ByfxBf6icAzwqFSqDprC62tlDtpGbIbb3AnmMqHCyyFo\n",
       "VhzJlblebOZjXxP6AedVDCI67W8yfmbQQ1CyYaH2ysAniTjzgK7mCnFiwP1OVggzzf7XSmoELoXu\n",
       "SKUBNg6eJc00OnOyle1RJx668YsMg4bWuT/w/wNqCT+onmp0qsDTGruemQ+pfxo24wAAAX9Bm1RJ\n",
       "4Q8mUwURPDf//qeEADcnZ5TXYWBJVQAf0hGcu5x0uqxWseQqJA+KTW4/i4UhpCLRzAu923BCV98Z\n",
       "Av5uY7wUWp/apy1p2MnlqY3fDURU7p6HpcLT8Aykj+qtu3wA67jwD1oAAAMAABqc+cH64BekB/Vz\n",
       "V1bInJIqkBfVWN5sF/3pGvXteekJhZ47ZBtLKv9rn08sMNCY/F1iUwXNeWHLFBHVX7v75iW2pf5v\n",
       "23VnUJB84Rqt09Jex3Nho6H05wBNmRaiDj9vYpRosSvof/AzNO2P4snSN/Hsn7FNbyDOM/WF/0/t\n",
       "UeIy0TVJp6QNA1PFWDsjwa7WUl1Nx+ZmfPU+lAjDoVPBogSBU+ncYBGgoSDHvP/7dEcqPkzDhd3x\n",
       "FJkVrIPaNS82I1vVDgVWF8+S0f5LmOXP8k8h7MhyDoMs/XAYUVuY1rTqMJ9vMzeubv0nNHnY/LOI\n",
       "75Hr8sm+qx7Jh0kKmUPhb76g0CuiOrYJC4jj4UHZ0neMPNcoWAAAALgBn3NqQr8AV7/5cVt+Kuus\n",
       "Hj49KXwAbOGeeHt/yGS7a1Xc/BwB1IZKpxBH7EJQPlInQy8NfRbvUZhIUw14mevc4DCc1nl7J2b/\n",
       "BS0yruLxY8WjUnLRAhKlGd8hCp5nVd1pNzJjfOlZxxOBXmkS5jCvUwLE3DL+9pcBw3cfqsDkOqZK\n",
       "ICma8LlRXRndoLjLWFZ6UhEesnGCfKScqTNWC1JwvruAAAAIhnQIjhKj4Fmd+pK5VeY04DEgAAAB\n",
       "z0GbdknhDyZTBTw3//6nhAA3JrR/X33VXUAA/g9grZ8c5O+BG2dzxs7U3T4ClqXfwfMpLBVFVBef\n",
       "qyxm5lGc0dn9pzWXzAw4/qfZRMX5iwcUpMrqYfWf2nfA+aujebPOv8MxGycMHdRL6/uZIosTSoM/\n",
       "0NMhC5puOt7fEHuC5584MQzzMGShaL4RVinnjSt7qL4Vxy0ibLczYxZp3KE08d6/DqPBI6/fK08r\n",
       "nVz/0lbbwjqnzmsMgziJSZMiUrV6tTOCP19MjpP+kXZadBy2tdb1PuFbe9ZXY00XPQHLrIhFXo/z\n",
       "vROj2Qy0PCoRHnO7b/rrY62zJ9CEE7fDyMvBNv3jZJloGJgXZ9WEt5cwilEJV5wSsIw5is91q9ZP\n",
       "FKnpaPktdvwbeFPiRMlQxgMwdRJ8V9jS/AV53kNjjHrXar26JbaDytF+VJ1l+FqDPeyYlUIYzmSW\n",
       "JZy85kqk6UQunnAqMjQ7dL1f/4SwFAuT8j08/ueUjq3QljaXpxtxZsZ/bM4Phq5zy1ENcdhwb7BF\n",
       "8M+RsbuvJKFxwzIfZ8aaZVR9TxlxmSTvGi3lfnW9NHoDXrcdhaKx8q/7lPvC2GrbgiShTv4UyLJN\n",
       "rGPXt3UDiMEAAAB/AZ+VakK/AFe/+W1xfjMsMLrZqytToAITmITtlH+bQ9OyCC6fNxXEzfbukVqi\n",
       "rC1iUG179vKVxpR7SnkywjaZJpq44zQaTHFXR3ELZZymteLEZvo3p/Noa7LIf5Bu5HPaYWRt+K80\n",
       "qg952DPh4VxughGUv/EWdUIRUl7QzupakAAAAPxBm5dJ4Q8mUwIb//6nhAA3JrVV9ctkkABLJ77y\n",
       "BIW6VxyRQjpzZc9zK8jBHW5b8JHcp5yPLAUkSRK8gvA59wMYAW+xab1ZJGLq0TiFZCm/yt3CbcgJ\n",
       "vRgyD/cfpWKEwhkoWLuvJL7LqNlV/vVEOq1GTu93thCc7m2ci2wv7vt1YB1HIwLXtOmNuLtldqDk\n",
       "A3lPghp/zd8qt53kFP7Wlb8JEfnsmL8fHAzFcL/n5cVg9sT327IsVR/pPxrWrhAytqCKY5Uot0Xt\n",
       "e3QIiua9y/lMAUWjUcXLDGNLmkLsMqG6UBSeCxYcSzMHMoX93oraK8uC2R2FWRyxOi4Lbn8AAAEn\n",
       "QZu5SeEPJlMFETw3//6nhAA3Q8uSIAB/B7BYcSXcSX+9HwHQIu7MtAa5jjo16XpBffyy1Bty/s1z\n",
       "06DSLRkT8+a8OsNfaWfyTM0V3UBQ/07nFxi93zPiZkwDmzbTNau6Vky//m82cqVh3TguzAgXtpYR\n",
       "RLD+1Fy+gsRnWWimEbX3xAx6uWSjMJhOq7s/AF4nue4V6H4j88DXsvVPM4GdRZScr2+k246ca6dr\n",
       "Zq0W07/y5Mj707ApdxjBqspI1c5hoguC37Ny/foKf+ksgYkXRoRVUheU7YbWngIoUg0+eJqVgzNM\n",
       "gbSaBU6MFKYCq2yv4YbJAnDrcQDKnM63UrEEBKXYRoDa7EBNGV2JCAsZqzf90VRtSFS2359zKGUx\n",
       "sEuXztOpoPpPAwAAAJUBn9hqQr8AQKh5VHtP9iBT6+5/pub/ySRYufYrJpfZp8xx4+zFOMUDs4bz\n",
       "XSMj8cJffIuGJSBDYykZKJhcSUv8pFoXJFpXRplEuQKLi3oPp1a+Z6l/t+RRq99nAHx93qht99rW\n",
       "y5XXWvuj+MujO9XyWKXdGJS49Ly/BKWt7AtvkqxZAeE0QVocndeAV+U6GwNRCoxUcAAAAQ1Bm9pJ\n",
       "4Q8mUwIb//6nhAA3JrwnM18ACdvMitDteXW+Hi7L+Us+2i0lRX0IML1TWkYZvXd+MnSi6gCt1Mas\n",
       "adnir2GQj5UVmzpVritFHG3JQXSn9I842AJTmFNGf2N/eoXauC44CP3QUUFcFpNbDc4gAMoDz3BP\n",
       "iVX8wviFrDcGuuSxuddaznOIt2KnIx+3sBbQ+PQMnart/IK9f6z1b/qiJrVvG2noSPBYRHH0Wft4\n",
       "8Tu9NfejnpAAHAGfHCVghYLkM6ZUirznjFTT9ntVC3T4fKI2veAErTrPwEGuOzDOttMhpTrG5BVG\n",
       "F3kV0DeD+M9/cxr26ao2CErQoz/XY3vw5Efv75VxnpmGVMdxgQAAATdBm/xJ4Q8mUwURPDf//qeE\n",
       "ADdnn3JaqQBbjfEugp3cMyX3P6ys0cT9EvHvCmzHOL3VIBT2glysaWBSXM4B2MY/ORNo4MpNJTvp\n",
       "xz6tS6UGpGbL5hJDVHaOSsRL10TM4brZfr7OSoAfuBVED+nLoQeU7qiAIWGFpA+peC6A1nmD68KP\n",
       "sczIpkfkYenzlHrmpLe9dJNtMosWx4y0iRCdqRfj/RokKQcH0ylurpzNVYCzUk2/tjFL4w5tGJ4h\n",
       "S6bbjj3RtvQFpWhfLG/Ma5cUjlz8fd3jKF67X1VrJs8u1xC5ClwkSGOMUz/r5v/Gx0IO3chFi/8L\n",
       "qAW8hHex5DinCvfdKto+rhBmyl5lf3Edhwt1KIFBs2Ztv4YbFq+sfPcw2mBdIkyb6EADO4WetF2/\n",
       "S8pUP+xaqVsIjQAAALABnhtqQr8AVnlgEQ3hDGoVp7sYTqADVIAAAAMD+DeHmXrcEQsi+ONvyGmY\n",
       "4jpPJJb0ri/fn/+g6BT53ioYBeINUlMcUD3bHScoLAJ3wFPLK360ERTTKkjSzD1tX3qzx7MDBEnR\n",
       "uVGQxbwBQzpLAflkBNWnKxlF08lozbt+W01C/S6sjGx9fjttcD5150kAABFxbfiXtajAAmk+u9xN\n",
       "lKmuaalRNXRDVqkeuQcthmqXgQAAAbBBmh5J4Q8mUwU8N//+p4QANiAUm5VgAnZ7Wfd+zbdAR5/n\n",
       "9RWskGchA6BdlSKArChJHgVWLEOD2oqYoMctTqO5P/8BAUkgQquuqubvl8ZPXSpe7HS/mVbmuKWg\n",
       "+rbNEfRmxs+avdRqwTUD5Nt0nNq6oH/U1nzxTcIj6F+jS0gh48+5qkrBM5iH6tE76iN1GviglPGB\n",
       "k3bUxHKjI8PKXXUSB8zl3KVPinzvcMcd/u7hS4ibBs5NKntmGpXXDTVAomkYzPDubBu/UbrzuI6S\n",
       "CDvKDiQUm0NvOs2JlmSWGsjLBT5CcDwwf9+98wdQsxKdm68JeiwwZRJSHv0UFa7Uo9qrhXm9md+p\n",
       "SPxa+TS80G+s/IADcPlyOiNSi8jsILgMwzJWsI8RMXBiwvKsGs/c0U5o205LadTisV7kzTrVnys8\n",
       "d7YQV6HpCjGi8kPxkfdTdqhjUUNyICNcW+mD2E2mmd0ycquPBAAAAwACuqflMmht+SAYyPO0Se8n\n",
       "XWUier22HvbQ0Rul+n8ObI8m7FJWkr5mV+pab9NqKMfZhp3KZ4/4qYPt9C5BV1atdlJAtN2FkfkA\n",
       "AACbAZ49akK/AFV/+XFbfnnPA6OSMf3rFUMIyvf45U+O7yOWYywo/wuaXdsII5HnTAB+K5PUDDA1\n",
       "Pu4V6iNZrR/OGHWf+d94coinP/uhSYssibTzJ144mCOYxETgodqhgEThn81/r4521oLUhiopqsjI\n",
       "TzhUzM30oIHi+rfcHxRdM+7br3/rnOEx+7SFV9QST/nfKueRFDnriFAgIqAAAAD3QZo/SeEPJlMC\n",
       "G//+p4QANe7apRp3FEk0ACxh4Wf/9BpT+3fySYXgzQkNqPZUcJl4p4Pe686h5JJn4SlpPzTdA00/\n",
       "eKmfvJFsWh18cWjC6z8WDwvbRbMthSYHlI2RvY1cgb3f6r/7IB0XkgvVsvyubG/lI/v1T0aLVrQB\n",
       "tht+czPau50cdYufvV2Fk+CGHkSuECMoapv9g64wX5NsJ2uNeZjxfBTTQ5n7etnCrc4TDMiu+0uR\n",
       "iQKdK0fPHn9kN2PcOXSgH0TC9CaJAKHmI63QQvmKv4p/mRSZC4DXtVxe8SS0T9JlrAHgaJz6i+xr\n",
       "jJISJQ+zjsvoNAAAAR5BmkBJ4Q8mUwIb//6nhABp+EzL0PutcrABa8JhGGIg5+f7CNYcp5akKZpQ\n",
       "FvaVMhJ7ErybhOHcjARttcWHJH3D+XFbeKfZx81eNkvKd6MfiP4ljSo2yXRjewilC6X3T5CQnnGy\n",
       "F/OG37lgN2s7n6xcDKSrycERiceU09UUZQewrevYvVMXZvccyRAvT+T005ToawhuxSHaniz0a9Ju\n",
       "i9pdiFfz/7HApOaXoAh3hez8mjN3jvMa6gGXiBCxgC3n2+++MlKVSTteCjaJdFGtB7gxjKF+qp5x\n",
       "EYi8Lxx3b7jJT/yFMna1OpZElHvGJdpO9oBvayi9zv/fz9z+MrtJvIVRO2Qoxc5YaHMsL4DWoqPf\n",
       "edn+XpIdHPOThsYR3/FVAAAAx0GaYknhDyZTBRE8M//+nhAA05YDhLi2DdPaQ+ZXY3UwMhJ/Bxw2\n",
       "F45xBHNfYZFx+90L2yOBuEAFvLPnU9Lh45f7dBRSuko9my6DvXWHv6B8555jdRBeX8vuirx9KvWe\n",
       "S1kx4bKRjX1rUjSceDf22EiVyxV8w6PSTAYLXM/QOgc7/DwcoY3Ka4s27svxFRyVz340Jylv9aUP\n",
       "5EumZmDrdPmsHnKxItZ9idsN2+eSvQu6NAADJnSmy9BR7FW7R0RlcG2A4BtdNEAAAADHAZ6BakK/\n",
       "ACvAOMvDFYiZqNaO07FkSEE1MOkTAtZLkWwJaxkyfiti8A4pOsO0j2I++Kr0UnampO0zCGAA1WT8\n",
       "R7en///nxfzJo17N7UQQitj0BOjOIf4sbRB0Yk8To6CC7UlyUY81QmeyQkMNAsH3IftJYCehdRHR\n",
       "KiurR7seoZfWeA5acHKLn0ypsC665Cp01LjvuuHOo6FRvQxN9+LKm7IumHKZlu1w6Cs88FFJsaDW\n",
       "n5XLXT+eQwiTAXAURt95LZZC2iQOCQAAAMFBmoNJ4Q8mUwIV//44QAM2gqXTZzikT9BqaBYeCv1A\n",
       "Bp3O1bzODLhrGezOgAjOu5PpueKe6s6oaHhFw85PdB2aNhNE5d22HWrgwKQc7ImNrBhztVrSOdvC\n",
       "ikyHtOGzBElDsqwD0kCBJO2fyAaZPHv5Af264irX6Jwle6KMWdzBr+z7u2hI0f1vmsp8HabSAAAD\n",
       "AQ/7dmUpn6LPTQVF+cf0oMDrTZhllLh5XtPWFqmmORk18o0cjrptlXPWQHkcyJ3zAAAHIW1vb3YA\n",
       "AABsbXZoZAAAAAAAAAAAAAAAAAAAA+gAABOIAAEAAAEAAAAAAAAAAAAAAAABAAAAAAAAAAAAAAAA\n",
       "AAAAAQAAAAAAAAAAAAAAAAAAQAAAAAAAAAAAAAAAAAAAAAAAAAAAAAAAAAAAAAAAAAIAAAZLdHJh\n",
       "awAAAFx0a2hkAAAAAwAAAAAAAAAAAAAAAQAAAAAAABOIAAAAAAAAAAAAAAAAAAAAAAABAAAAAAAA\n",
       "AAAAAAAAAAAAAQAAAAAAAAAAAAAAAAAAQAAAAAGwAAABIAAAAAAAJGVkdHMAAAAcZWxzdAAAAAAA\n",
       "AAABAAATiAAABAAAAQAAAAAFw21kaWEAAAAgbWRoZAAAAAAAAAAAAAAAAAAAKAAAAMgAVcQAAAAA\n",
       "AC1oZGxyAAAAAAAAAAB2aWRlAAAAAAAAAAAAAAAAVmlkZW9IYW5kbGVyAAAABW5taW5mAAAAFHZt\n",
       "aGQAAAABAAAAAAAAAAAAAAAkZGluZgAAABxkcmVmAAAAAAAAAAEAAAAMdXJsIAAAAAEAAAUuc3Ri\n",
       "bAAAAJZzdHNkAAAAAAAAAAEAAACGYXZjMQAAAAAAAAABAAAAAAAAAAAAAAAAAAAAAAGwASAASAAA\n",
       "AEgAAAAAAAAAAQAAAAAAAAAAAAAAAAAAAAAAAAAAAAAAAAAAAAAAAAAAABj//wAAADBhdmNDAfQA\n",
       "Ff/hABdn9AAVkZsoNhLQgAAAAwCAAAAUB4sWywEABmjr48RIRAAAABhzdHRzAAAAAAAAAAEAAABk\n",
       "AAACAAAAABRzdHNzAAAAAAAAAAEAAAABAAACkGN0dHMAAAAAAAAAUAAAAAIAAAQAAAAAAQAABgAA\n",
       "AAABAAACAAAAAAMAAAQAAAAAAQAACgAAAAABAAAEAAAAAAEAAAAAAAAAAQAAAgAAAAACAAAEAAAA\n",
       "AAEAAAoAAAAAAQAABAAAAAABAAAAAAAAAAEAAAIAAAAAAgAABAAAAAABAAAKAAAAAAEAAAQAAAAA\n",
       "AQAAAAAAAAABAAACAAAAAAEAAAoAAAAAAQAABAAAAAABAAAAAAAAAAEAAAIAAAAAAQAACAAAAAAB\n",
       "AAAEAAAAAAEAAAAAAAAAAgAABAAAAAABAAAGAAAAAAEAAAIAAAAAAgAABAAAAAABAAAGAAAAAAEA\n",
       "AAIAAAAABwAABAAAAAABAAAGAAAAAAEAAAIAAAAAAgAABAAAAAABAAAGAAAAAAEAAAIAAAAABAAA\n",
       "BAAAAAABAAAGAAAAAAEAAAIAAAAAAQAABgAAAAABAAACAAAAAAEAAAYAAAAAAQAAAgAAAAABAAAG\n",
       "AAAAAAEAAAIAAAAAAgAABAAAAAABAAAGAAAAAAEAAAIAAAAAAQAABgAAAAABAAACAAAAAAEAAAYA\n",
       "AAAAAQAAAgAAAAABAAAEAAAAAAEAAAYAAAAAAQAAAgAAAAABAAAGAAAAAAEAAAIAAAAAAQAABgAA\n",
       "AAABAAACAAAAAAEAAAQAAAAAAQAABgAAAAABAAACAAAAAAIAAAQAAAAAAQAABgAAAAABAAACAAAA\n",
       "AAEAAAYAAAAAAQAAAgAAAAABAAAEAAAAAAEAAAYAAAAAAQAAAgAAAAABAAAEAAAAAAEAAAYAAAAA\n",
       "AQAAAgAAAAABAAAGAAAAAAEAAAIAAAAAAgAABAAAAAABAAAGAAAAAAEAAAIAAAAAAQAABAAAAAAc\n",
       "c3RzYwAAAAAAAAABAAAAAQAAAGQAAAABAAABpHN0c3oAAAAAAAAAAAAAAGQAABQ2AAACcwAAAYcA\n",
       "AAC5AAABHgAAAawAAAEpAAABhgAAALoAAACtAAAAmwAAATQAAAHKAAABzwAAALAAAACHAAAAegAA\n",
       "ATkAAAGDAAAB6gAAAL0AAAB5AAAAjwAAAeAAAADCAAAAeAAAAGYAAAFjAAAAlQAAAHQAAAG7AAAB\n",
       "iAAAAV8AAAC4AAABMwAAAasAAAFgAAAAvwAAAREAAAGWAAABKAAAAT4AAAEAAAABNgAAASsAAAFV\n",
       "AAAAxQAAARwAAAHCAAABTwAAAKsAAAFAAAABwwAAAWMAAAEhAAABagAAAKwAAAHnAAAAkQAAAW8A\n",
       "AACUAAABagAAAHQAAAEyAAABiwAAAUoAAAC2AAAB0AAAAJUAAAFzAAAAfQAAAUAAAAFeAAAAowAA\n",
       "AdoAAACFAAABTgAAAHEAAAEJAAABYAAAAJ8AAAEZAAABpQAAAYMAAAC8AAAB0wAAAIMAAAEAAAAB\n",
       "KwAAAJkAAAERAAABOwAAALQAAAG0AAAAnwAAAPsAAAEiAAAAywAAAMsAAADFAAAAFHN0Y28AAAAA\n",
       "AAAAAQAAADAAAABidWR0YQAAAFptZXRhAAAAAAAAACFoZGxyAAAAAAAAAABtZGlyYXBwbAAAAAAA\n",
       "AAAAAAAAAC1pbHN0AAAAJal0b28AAAAdZGF0YQAAAAEAAAAATGF2ZjU2LjM2LjEwMA==\n",
       "\" type=\"video/mp4\">\n",
       " Your browser does not support the video tag.\n",
       "</video>"
      ],
      "text/plain": [
       "<IPython.core.display.HTML object>"
      ]
     },
     "execution_count": 3,
     "metadata": {},
     "output_type": "execute_result"
    }
   ],
   "source": [
    "import pylab as plt\n",
    "import numpy as np\n",
    "from matplotlib import animation\n",
    "\n",
    "# First set up the figure, the axis, and the plot element we want to animate\n",
    "fig = plt.figure()\n",
    "ax = plt.axes(xlim=(0, 2), ylim=(-2, 2))\n",
    "line, = ax.plot([], [], lw=2)\n",
    "\n",
    "# initialization function: plot the background of each frame\n",
    "def init():\n",
    "    line.set_data([], [])\n",
    "    return line,\n",
    "\n",
    "# animation function.  This is called sequentially\n",
    "def animate(i):\n",
    "    x = np.linspace(0, 2, 1000)\n",
    "    y = np.sin(2 * np.pi * (x - 0.01 * i))\n",
    "    line.set_data(x, y)\n",
    "    return line,\n",
    "\n",
    "# call the animator.  blit=True means only re-draw the parts that have changed.\n",
    "anim = animation.FuncAnimation(fig, animate, init_func=init,\n",
    "                               frames=100, interval=20, blit=True)\n",
    "\n",
    "# call our new function to display the animation\n",
    "display_animation(anim)"
   ]
  },
  {
   "cell_type": "code",
   "execution_count": 4,
   "metadata": {
    "collapsed": false
   },
   "outputs": [
    {
     "data": {
      "text/html": [
       "<video controls>\n",
       " <source src=\"data:video/x-m4v;base64,AAAAIGZ0eXBpc29tAAACAGlzb21pc28yYXZjMW1wNDEAAAAIZnJlZQAAjKJtZGF0AAACrgYF//+q\n",
       "3EXpvebZSLeWLNgg2SPu73gyNjQgLSBjb3JlIDE0NiByMjU1NSAwYzIxNDgwIC0gSC4yNjQvTVBF\n",
       "Ry00IEFWQyBjb2RlYyAtIENvcHlsZWZ0IDIwMDMtMjAxNSAtIGh0dHA6Ly93d3cudmlkZW9sYW4u\n",
       "b3JnL3gyNjQuaHRtbCAtIG9wdGlvbnM6IGNhYmFjPTEgcmVmPTMgZGVibG9jaz0xOjA6MCBhbmFs\n",
       "eXNlPTB4MzoweDExMyBtZT1oZXggc3VibWU9NyBwc3k9MSBwc3lfcmQ9MS4wMDowLjAwIG1peGVk\n",
       "X3JlZj0xIG1lX3JhbmdlPTE2IGNocm9tYV9tZT0xIHRyZWxsaXM9MSA4eDhkY3Q9MSBjcW09MCBk\n",
       "ZWFkem9uZT0yMSwxMSBmYXN0X3Bza2lwPTEgY2hyb21hX3FwX29mZnNldD00IHRocmVhZHM9MTIg\n",
       "bG9va2FoZWFkX3RocmVhZHM9MiBzbGljZWRfdGhyZWFkcz0wIG5yPTAgZGVjaW1hdGU9MSBpbnRl\n",
       "cmxhY2VkPTAgYmx1cmF5X2NvbXBhdD0wIGNvbnN0cmFpbmVkX2ludHJhPTAgYmZyYW1lcz0zIGJf\n",
       "cHlyYW1pZD0yIGJfYWRhcHQ9MSBiX2JpYXM9MCBkaXJlY3Q9MSB3ZWlnaHRiPTEgb3Blbl9nb3A9\n",
       "MCB3ZWlnaHRwPTIga2V5aW50PTI1MCBrZXlpbnRfbWluPTIwIHNjZW5lY3V0PTQwIGludHJhX3Jl\n",
       "ZnJlc2g9MCByY19sb29rYWhlYWQ9NDAgcmM9Y3JmIG1idHJlZT0xIGNyZj0yMy4wIHFjb21wPTAu\n",
       "NjAgcXBtaW49MCBxcG1heD02OSBxcHN0ZXA9NCBpcF9yYXRpbz0xLjQwIGFxPTE6MS4wMACAAAAI\n",
       "6mWIhAA///73I/wKbWkON0//3P+NW65VqSAyPgAAClM9a5eYBLftiQ/55erUUSr5LXoK5jOYt+ah\n",
       "iJf6PLZYnd47FRDvVliMEoQsODzTxONwmohUO+C0hXVaR3Ctw/fxaTD6ZbXVpujrVuWHY1OC6/Ge\n",
       "6S3QfPKlqZ/fSmmNsdEo7tpH/FT/+Qbo6sRFXQKow8ex+8sPNIkR/P3T/rAUGW4ghkrVXM5S0iya\n",
       "/3m80Gl//neYls+ofR8gl/XZCTAFTBs7/qDImc9bcXte1bIAmHKFGcllSKYBeckoSsuU1CAb4eDx\n",
       "8Q1Zz6Zht5/jleSbEDMu/pIjZ4WBazVzpAfaJcTrFOOONd9z/v+9qpJnLM8Plt2MHBF1hE3pgc++\n",
       "khPEhPX9XROj6U0GayJyVSjtGql4dym4j0jCKTxj7KbzmsegFURkBV5hciOwJ+qxcTqloOxqLn0c\n",
       "kAEctZXIKjfUhU/+/V3X6BC9aM6zgReX78gABj9bLoysfxi+zmiwaI8HEnR/jQ/zR8xyWtBFt0VK\n",
       "8Qm6FjeJdaofaMl2zBEDLUf98aGoAm7DmFc2iDxSS/n5FUj5f9z5k/msgk38CGrUFs4dXqJxU/9g\n",
       "ADydKNQSZ48tZ3f9j7AUn/Kk4J+zom3a31dTDgAkNH1qCWGN+DbP/rnSox3UP4Na31ZbCIBzZol2\n",
       "hV9gY/8OP+VP9DVhg7OAhmqKG0HQAoL4WzxKDyT08trSyxLtQS24bsMdxbh+vb9DZ04SEOcXzgD5\n",
       "1Q56q9e9WrP07H7fOrWeI4V2iLhiVAnm3wammDbvwIrXOKjFfOvdaMBEThoEJj0r1sQqEECtRy6f\n",
       "PLAW6uq9V2aACQBt69f+Vz55KSgXhgwey8YSaILPQECZ4asvk69NL2OUKsIAAEGkmaKoD9O9cpkI\n",
       "8Njyp43QWklrJxu0FEl96zAL+ozBRLsL8gZqA7x3P+I9togURKeAd/n/6G3Fh0CQ2a1hCyjTKMqf\n",
       "R9TK7Cnhtmo1iY+1M/rNNZ/iJ8xTm1bf5XnVSNqw2vxswEvZzTtJmNzhK0ti4GqjSYFYfJzqIThP\n",
       "X3plbly7NY4myg48I5g6TJICcJOD2wNqnITh0ZaNIVg8+7nYnP6p22uxCz7V759UYG2ENz9f39DV\n",
       "9T85Zi9Gyl8yQu6HOlf/68gGnQpksaIn89vuzGEDXVUHs8gvwA+TKiLroeYa5fYkBWSAPUQmvwfW\n",
       "pBth09aWWzyGqA204P5SHtRHvJfYF1/9PoRvgWmLY+8clw+hNgEVfvR4pP0weSlmnxQCDjWKg5Du\n",
       "dPpXT23SYIOcGcXQTjFW8nQ4sb0sJp3Bhi0INZTEAzI5lfDfFowAy+sVxXy93zu8PXSn04/dEHzK\n",
       "Zf2eem2E9U691zpo3ZloNUu3H0SfCLDCzQ4xYuioT5PBI1EJ54txJ4VQC6gXI+aGULs7AHdoExRe\n",
       "xMBgfe/ToT5PEnjB6WOzAARAW4RMg7qWRCOclzPds/QoEf/+xh7GixQMdPMZQJUbUNocgJyGezCn\n",
       "rZPuQGoM9f3ep1G7vCXuLV3GakZCC+eYNO6f2tN9gUSWUUp8WFPz8pGVHigWamj5Z7BMu8WiZvdS\n",
       "U/G6AQ9EtYKMj6YMy9rOVnt5HEy616kCvbWMZ5o/XUExyDlJD+LnF3fqPKltUF8KTEIwu9DgRizO\n",
       "zDwwtUKaFlTCturTgANXQmf7/FODqP7i0ry482zCav5rncIBBl0sBfmGLLCKue4L5nIyJ7SvQFEG\n",
       "hTkIXUBdBuE3Yf7oIPsdW2EsZJyeq28+uiRra94wL9D58nvhCd/NBm9xNRVyIUKPenQFIu3d8hik\n",
       "7tGFLM9epVdrtDWGsF6fam92u3rJAWbpgP17OY/rfCVhQRkeFwWoG1vJEtGeOIOxC4ZRO64uyBGQ\n",
       "4whl+GpwrLJOINv2eUJ1UY6N1fmhyqRkhzcxHMVO6FYPMaq4Uw4l0Kobrz+Zy5S75Kjl+6WblP2+\n",
       "t4WN2/Y0o5e34DUFUsN0lgc/nWL7Dk7dxUORC3se6tIH097ELMa2cqJk+oMbCKC+UdjHo3uX2iGn\n",
       "GWbbnpKEvPFkAe+hWOrQL9TXKXsgd/hV3//h0Rs/+hX7CPzLODpswebEVbPZJ7e+SfcAmuowWiDD\n",
       "anqqR0WBKneUP8WpczjNXCxMJXqUE7My12dJXMAljpbWnelk5yIcPJaWobVDXg6rhbpa29uyzcUh\n",
       "A1329yywLCZf3r0jYsVcSVYyaR2TM+pf/1iSgVRPd87nxM+Z2IjmGLWVqdKfJZx5OyBaSLQeIG/7\n",
       "EdZBlLmcZqiSOE01ZvUJnjKDTNGzTEplsV2foeYLeaE5Xo4CLKoIqF5AuFFvB7SiodlSebRUwl37\n",
       "Q7xzf0VWWdXmkl3QqpUy/WJcRxgtyn7NAmlBlebK8ec39PLzNGhAa1lHtUTg0Mwl8mS7sJDq6pJr\n",
       "9jHmLecc4XvB9eG6mihz4vvwUPwpD5+nF4CCskqbQVkXQp5RFEsO4nzUCBWmAOmVMpbJlPyYI0Vo\n",
       "fEukkPqySbjPkpYpOydbOdoLuQNG+hGFTB41in/kzMnvpojsn+p4YLVcQ2VuS8ue/3/obfxvGNRU\n",
       "utcwhPYcamrFFsYZIjD7EPKgbS0WX5d39u9GLmWCUPNo2DKQDb0NO1ynLRZRXj4lNS9IA2vcxTlh\n",
       "PTxmTL9QExW3RjVscvaYWAMQNWld+1G1TGxqZJI5mgcTI/0WXJN4U4pX5/IoERybzgbPPKynVF0F\n",
       "O1zBB0MHiTtHOZhmzmq9oOYoRU+4e2+HQe144nIML5gVHzK5E0hzlT74//b8eLzSv+ZeKpyrtuXT\n",
       "wVxxUImMS1lUpOdJ3WR+Gi0h+d1S4DPeEe+Y2mlCYmXEGBqiFpUlefoWqQ+HHwtIM1nzVBXEZUP0\n",
       "fq681gEY2prnXhISbnEGB6KdIv2usDuM5bfNc2e9in1waqzCI3JMieiU8ZNeAHcm05ZoblKqIJwb\n",
       "WZz0F78+cT0HoI/S3YmaKN6mxyIeCy0lIQ9JR7B+Bjxy0u4R+6OwE3KrhOansAGbYuZaYcABIwA+\n",
       "z8XBAAAAakGaJGxD//6plhMCkcATX5ErvwKTvXxS7f/4wC5/6Dl/xsd7OuoAreB955QsSR3hjo0s\n",
       "9y6pLTCs3TgBAN6tuTrO0LYLkkfnLWyfvW4fz5Ith3IRL26cvVLm4ogcXaeEjqc0+pVSd5oLt6AA\n",
       "AAAdQZ5CeIZ/AhXvn/1gA9PDSL+k8Uxn7kfTO8f46GEAAAAbAZ5hdEK/A5mxlDUqIU38pDGOR4Wg\n",
       "qRDe7EaqAAAAEgGeY2pCvwBsHaZTON5Grfk8IQAAACNBmmhJqEFomUwIf//+qZYAQnq2s9lLaPZI\n",
       "gXLKr2SHhZ7KgQAAABZBnoZFESwz/wA5/PJIHe2g7O0ERIWBAAAAEgGepXRCvwBsADw9Tk+Qt+Tw\n",
       "gQAAAA8BnqdqQr8AB0Gdiq1tV7AAAAAcQZqsSahBbJlMCH///qmWAASCgf7b0w7L6CyXgAAAABJB\n",
       "nspFFSwz/wAD4hRg64Oal4EAAAAQAZ7pdEK/AAdCzKNxtIbq9gAAAA8BnutqQr8AB0DeW9kjhvwA\n",
       "AAAZQZrwSahBbJlMCH///qmWAASAyWyQFjw7oQAAABFBnw5FFSwz/wAD4ahwy1zKgQAAAA4Bny10\n",
       "Qr8ABz/lIzpDwQAAAA0Bny9qQr8AB0DeXOkPAAAAGUGbNEmoQWyZTAh///6plgAEgMEhSAseHdAA\n",
       "AAARQZ9SRRUsM/8AA+Gd+GWuZUEAAAAOAZ9xdEK/AAc/5SM6Q8AAAAAOAZ9zakK/AAc/vWlzpDwA\n",
       "AAApQZt4SahBbJlMCH///qmWAcxGGAwpV1ERJ0xZyaf2TkH1Zt7IYT2lcYEAAAATQZ+WRRUsM/8A\n",
       "B8ST/8IYROpewAAAAA8Bn7V0Qr8ADoWZRmHeQ+8AAAAQAZ+3akK/AA5/etLYaBNL2QAAACNBm7xJ\n",
       "qEFsmUwIf//+qZYACUGCQo9p1h2Rc6cG5+D9OZYy4AAAABNBn9pFFSwz/wAH8JP/sGof2BLxAAAA\n",
       "EAGf+XRCvwAO3FXFkE5wZUAAAAAQAZ/7akK/AA7XepGuI8AD7wAAABtBm+BJqEFsmUwIf//+qZYA\n",
       "CUGHMhMi+YOghL0AAAATQZ4eRRUsM/8AB+878LbXjNBvwAAAABABnj10Qr8ADtuap6/HgAfcAAAA\n",
       "EAGeP2pCvwAO13rSRJAA+4EAAAAbQZokSahBbJlMCH///qmWABKDDmQmrVdMsJOAAAAAEkGeQkUV\n",
       "LDP/AA/hbc/uiPUXEQAAAA4BnmF0Qr8ADtuaqKdEHAAAABABnmNqQr8AHa71pbDQJouJAAAAHEGa\n",
       "aEmoQWyZTAh///6plgASgxHhCaxKXP+oakEAAAATQZ6GRRUsM/8AD9534ZSCE6i4gQAAABABnqV0\n",
       "Qr8AHbc1UTMY7gbVAAAAEAGep2pCvwAdrvWlsNAmi4gAAAAgQZqsSahBbJlMCH///qmWABMDEeEI\n",
       "VbDxYudOlf8KAtoAAAATQZ7KRRUsM/8AEFfp0LhhhEBcQQAAABABnul0Qr8AHmc1T1+PAAesAAAA\n",
       "EAGe62pCvwAeXvWjuI8AB6wAAAAbQZrwSahBbJlMCH///qmWABMDFFkJkXzB0EEnAAAAEkGfDkUV\n",
       "LDP/ABBXs2C+OJoG1QAAABABny10Qr8AHl1MUic1AEnBAAAADgGfL2pCvwAeXpDS50H+AAAAHEGb\n",
       "NEmoQWyZTAh///6plgAmBiiw6FukQwHgb0AAAAAUQZ9SRRUsM/8AILcyBhNjtoVYKKEAAAAOAZ9x\n",
       "dEK/AB5nNVFOg/wAAAAQAZ9zakK/ADzM8wybypDBRQAAAB9Bm3hJqEFsmUwId//+qZYAJwUDc3+X\n",
       "M/tLkA9MsGDBAAAAFUGflkUVLDP/ACGvZtksXhZmzcBaQAAAABIBn7V0Qr8APi5qnr8cZVygDKkA\n",
       "AAARAZ+3akK/AD4d0gatC0uQKKEAAAAbQZu8SahBbJlMCHf//qmWACcFCa9/8nHXGgMqAAAAEkGf\n",
       "2kUVLDP/ACGvhfl78gANCQAAABABn/l0Qr8APhqYpaij5oRcAAAADgGf+2pCvwA+KvLbIHzBAAAA\n",
       "GEGb/UmoQWyZTAh///6plgAnBochxjwG9QAAABxBmgFJ4QpSZTAh//6plgAoG4m1y8Ym//cyQHTA\n",
       "AAAAE0GeP0U0TDP/ACKvZtksXjNAaEAAAAAPAZ5edEK/AD+NpOCqoARdAAAADwGeQGpCvwA/ivJd\n",
       "TZwBXwAAABlBmkVJqEFomUwIf//+qZYAKBuP8cwyAF3BAAAAEUGeY0URLDP/ACKvhfl+cFtAAAAA\n",
       "DgGegnRCvwA/ehC24JeBAAAADgGehGpCvwA/fRW2QPSBAAAAH0GaiUmoQWyZTAh///6plgApO4m1\n",
       "wyOZmrc4j8KAVMEAAAAUQZ6nRRUsM/8AI6Y5LSo6JBtyBy0AAAAPAZ7GdEK/AEF8kzrcAIeAAAAA\n",
       "EAGeyGpCvwBBc2DZkaAA5YAAAAAbQZrNSahBbJlMCH///qmWACk7ibs1vNKDJAcdAAAAEUGe60UV\n",
       "LDP/ACO2SVigEAq4AAAADwGfCnRCvwBBd1FddACHgAAAAA0BnwxqQr8AQV/3uQO7AAAAHkGbEUmo\n",
       "QWyZTAh///6plgAqW4/3Iuv3GXniPwoBSQAAABFBny9FFSwz/wAktyKVmBAKaQAAAA0Bn050Qr8A\n",
       "QXdSigFlAAAADwGfUGpCvwBDXrzBpnAFNAAAAB1Bm1VJqEFsmUwIf//+qZYAVLcf7m5quak2CDAR\n",
       "8QAAABJBn3NFFSwz/wBJbl+/OGC8ApoAAAAPAZ+SdEK/AEN3UV10AIOAAAAADwGflGpCvwCGvXym\n",
       "rZoH+QAAADNBm5lJqEFsmUwIf//+qZYAV3hb8B2oAS1dgPLJf7MP7hQ2/72jxQORJ5clI1Wyf+zA\n",
       "KqAAAAAUQZ+3RRUsM/8AS25MAaMkjOjgFFEAAAAPAZ/WdEK/AIbupOuqpAbVAAAAEgGf2GpCvwCK\n",
       "5sGzIslBYICRgAAAAB5Bm91JqEFsmUwIf//+qZYAVwEWqlo8CccQghRgIuEAAAATQZ/7RRUsM/8A\n",
       "S17HdKoFWC0BgwAAABEBnhp0Qr8AirRNMaZJ8B4GpQAAAA8BnhxqQr8Air18pq2aB80AAAAhQZoB\n",
       "SahBbJlMCH///qmWAFd55mpsiZTF+Rgw9lf+zAKaAAAAFEGeP0UVLDP/AEtsktAML2JpYEbAAAAA\n",
       "DwGeXnRCvwCK7qTrqqQGrQAAABEBnkBqQr8AiubCqZMq38GBGwAAABpBmkVJqEFsmUwIf//+qZYA\n",
       "LJuPWpttGZIDUwAAABFBnmNFFSwz/wAmr4LaWuQNWAAAAA8BnoJ0Qr8AR3dRH3cIBeUAAAANAZ6E\n",
       "akK/AEdevmyBvQAAADpBmolJqEFsmUwIf//+qZYALfwtv4h7BACZlCV9v5ic/ev2IDYVL1Tnljo7\n",
       "anHmW8BbzgTbVOuYgPSBAAAAEkGep0UVLDP/ACfQMBqFeLIGhQAAAA4BnsZ0Qr8AR1onNkDegAAA\n",
       "ABABnshqQr8ASXNg2ZGgANCAAAAAHEGazUmoQWyZTAh///6plgAtwItkofi+YOggPSEAAAASQZ7r\n",
       "RRUsM/8AJ8fkq7giaAuIAAAADwGfCnRCvwBJWiUzuAANCAAAAA0BnwxqQr8ASV6+bIGzAAAAIEGb\n",
       "EUmoQWyZTAh///6plgAu24m2RyOZ9Lc6r/9iwM+BAAAAEkGfL0UVLDP/ACjwLHcWMiASsQAAAA0B\n",
       "n050Qr8ASXdSigFBAAAADwGfUGpCvwBLdjwftAB3QAAAABtBm1VJqEFsmUwId//+qZYALtpBNtJe\n",
       "Z/5iA7sAAAATQZ9zRRUsM/8AKOe+K6vwZdyBlwAAAA8Bn5J0Qr8AS3dRH3cIBZwAAAAOAZ+UakK/\n",
       "AEtf9ZXSAWcAAAAZQZuZSahBbJlMCHf//qmWAC7aQTA9cwAqYAAAABFBn7dFFSwz/wAo574OW2At\n",
       "oQAAAA4Bn9Z0Qr8AS1onNkDUgQAAAA4Bn9hqQr8AS17RlJ0DUgAAAB1Bm9pJqEFsmUwIf//+qZYA\n",
       "MBGqcQyGmlMEvkUG3QAAAFhBm/5J4QpSZTAh//6plgAwWz/4SM5ACE7TmwnuBBp3mo7qKKe5S6+7\n",
       "H2CIey+HJ1/CAiIrMO7tkNReMm0L9J6YxIJWVvIfO0DFmmBGxULq/sbw99+pQCPgAAAAFUGeHEU0\n",
       "TDP/ACoPGW60ikyXkwUCvwAAABIBnjt0Qr8ATXhvc344yrlAFJEAAAARAZ49akK/AE1zYNmRZI5b\n",
       "wYEAAAAbQZoiSahBaJlMCH///qmWADBcXugZA3PBaQHHAAAAE0GeQEURLDP/ACoPGW7KTyp1CNkA\n",
       "AAAQAZ5/dEK/AE1a2JRRR80HHAAAAA4BnmFqQr8ATWVjQzVCNwAAACBBmmZJqEFsmUwIf//+qZYA\n",
       "GKjButHITnIRa8ZfRM8GfAAAABNBnoRFFSwz/wAVmBJIEPlMQEbBAAAADgGeo3RCvwAmrWxKToM/\n",
       "AAAAEgGepWpCvwAn1LTSahbEE9QJeQAAACNBmqpJqEFsmUwIf//+qZYAGKtFFC5SoABDztJxZJ/5\n",
       "NgCkgQAAABJBnshFFSwz/wAVk98HHgiaBVQAAAAQAZ7ndEK/ACfIbEgsvegBxwAAAA4BnulqQr8A\n",
       "J9T33s6DKwAAABtBmu5JqEFsmUwIf//+qZYAGKtEpLkLCDJEC7gAAAASQZ8MRRUsM/8AFZPfBy0P\n",
       "eoiYAAAADgGfK3RCvwAnyGxKToMrAAAAEAGfLWpCvwAnymjKMNAmiJkAAAAiQZsySahBbJlMCH//\n",
       "/qmWABjOL3RD7nMjmrG7suGz/ZgSMQAAABVBn1BFFSwz/wAVlCJOX+GQ/0tYPaAAAAAQAZ9vdEK/\n",
       "ACfXN71mMdwKaAAAABIBn3FqQr8AJ8sQlPPQXmSELaEAAAAdQZt2SahBbJlMCH///qmWAAykXRWn\n",
       "4xIcH8mwCggAAAATQZ+URRUsM/8ACxIRJxVvjNBTQAAAABABn7N0Qr8AFHub3N+PAAvJAAAAEAGf\n",
       "tWpCvwAUdYhIOI8AC8gAAAAZQZu6SahBbJlMCH///qmWAAykXRZHBkAk4QAAABFBn9hFFSwz/wAL\n",
       "EhEXsI4j4QAAAA4Bn/d0Qr8AFHQ2JSdDFgAAAA4Bn/lqQr8AFHWISk6GLQAAABtBm/5JqEFsmUwI\n",
       "d//+qZYADKQBwsdbrdj4QcAAAAATQZ4cRRUsM/8ACxIwL2ABCdSFgQAAAA8Bnjt0Qr8AFHub3sdR\n",
       "wUMAAAAPAZ49akK/ABR8LLP9qdIWAAAAG0GaIkmoQWyZTAh3//6plgAMtxeiyVQmeDILaAAAABJB\n",
       "nkBFFSwz/wALEphkNxcgKGEAAAAPAZ5/dEK/ABR2HUUR/6QsAAAADgGeYWpCvwAKOsQlJ0YtAAAA\n",
       "GEGaY0moQWyZTAh///6plgAGUqa4bUDpgAAAAB9BmodJ4QpSZTAh//6plgAGejXxxkhW/oAXMTf/\n",
       "kUzJAAAAE0GepUU0TDP/AAWtGBeoBQhRgbMAAAAPAZ7EdEK/AAqDDovapIKHAAAADwGexmpCvwAK\n",
       "hG+UKeMCFwAAACBBmstJqEFomUwIf//+qZYABno18cZIVv6AFzEoh96kbAAAABVBnulFESwz/wAF\n",
       "rRgXpNfCzNm4QsAAAAAPAZ8IdEK/AAqDDovapIKHAAAAEQGfCmpCvwAKhG+UKctE4keMAAAAI0Gb\n",
       "D0moQWyZTAh3//6plgAGg4vQ16OpkaaMHJ0qgx/8CmZAAAAAFEGfLUUVLDP/AAWtSHIAQjO3zELB\n",
       "AAAAEQGfTHRCvwAKh0pORjda9keNAAAADwGfTmpCvwAFQj02jgAFxQAAAB9Bm1NJqEFsmUwId//+\n",
       "qZYAAz1RcYeq5ovKoHD/fMoIAAAAEkGfcUUVLDP/AALW1eKtNHJcQAAAAA8Bn5B0Qr8ABUOlJyMq\n",
       "A2cAAAAPAZ+SakK/AAVCPS2+QgNmAAAAHkGblEmoQWyZTAh3//6plgADPVPvuXFj1yAf/6kVMAAA\n",
       "ACNBm7hJ4QpSZTAh3/6plg2OIQCvGDDhHkv8VaDiUliQt4V3NQAAABRBn9ZFNEwz/wAC1tP0mpkI\n",
       "ZvxCwAAAABEBn/V0Qr8ABUGHRe1DPjKbgQAAABEBn/dqQr8ABUI3zq+6bEwEvQAAACFBm/xJqEFo\n",
       "mUwIb//+p4QABneEzJymPbQDXCMeWU/4FZkAAAATQZ4aRREsM/8AAtamJMh25QmlDQAAABABnjl0\n",
       "Qr8ABUE4+d7YeTIWAAAADwGeO2pCvwACoRvlCnjCFwAAAB1Bmj1JqEFsmUwId//+qZYAAZ6p9wLP\n",
       "5+1JX++agwAAABxBml5J4QpSZTAh3/6plgABnqn3As/n7UPn+NUHAAAAHkGaf0nhDomUwIf//qmW\n",
       "AAGekFDjoomC89OGz/YtdwAAAB9BmoNJ4Q8mUwIf//6plgABno2xcZIVv6AFzIP+zKmBAAAAE0Ge\n",
       "oUURPDP/AAFrRWnpNfGaUMAAAAAPAZ7AdEK/AAKh0pORlQNnAAAAEgGewmpCvwACoYWTliBYLsTx\n",
       "gAAAACVBmsdJqEFomUwIf//+qZYAAaDi9ntVf83AHFkjuHEVt7vZZcjBAAAAFUGe5UURLDP/AAFr\n",
       "Ugy77zhBbQbZgQAAABEBnwR0Qr8AAqHSk5GN1r2XjQAAAA8BnwZqQr8AAo7bNrO/BYEAAAAZQZsL\n",
       "SahBbJlMCH///qmWAADKRXoSgZCTgAAAABFBnylFFSwz/wAAsSDrcttUwAAAAA4Bn0h0Qr8AAUdh\n",
       "1J3FgQAAAA4Bn0pqQr8AAUdXpKTuLAAAABtBm09JqEFsmUwIf//+qZYAAMpFehxwVGrIraAAAAAS\n",
       "QZ9tRRUsM/8AALEg63LQ97ixAAAADgGfjHRCvwABR+hIzuLBAAAADwGfjmpCvwABR1ekpDHzcQAA\n",
       "ACJBm5NJqEFsmUwIf//+qZYAAMtxe6Bj3dxoFNpLEpn/9fB4AAAAFEGfsUUVLDP/AACxIOp7AAgb\n",
       "LHEwAAAAEAGf0HRCvwABR7p96zGO6hkAAAARAZ/SakK/AAFHV6SjDPaGtEwAAAAfQZvXSahBbJlM\n",
       "CH///qmWAABlIu7pHHFYhP/Vf/sZAgAAABNBn/VFFSwz/wAAWJB1uKt8ZtNBAAAAEAGeFHRCvwAA\n",
       "o90+5vx4C8gAAAAQAZ4WakK/AACjq9JBxHgLyQAAABtBmhtJqEFsmUwIf//+qZYAAGW4vZmUYDyu\n",
       "Y70AAAASQZ45RRUsM/8AAFiUgaW3XNPIAAAADwGeWHRCvwAAo6a3Ap0FTQAAAA4BnlpqQr8AAJ8p\n",
       "bik9KgAAABtBml9JqEFsmUwIf//+qZYAAGKi/AJQKjVkbuEAAAASQZ59RRUsM/8AAFZPcny0PfKZ\n",
       "AAAADgGenHRCvwAAn10+9npUAAAAEAGenmpCvwAAnyluKMNAopgAAAAhQZqDSahBbJlMCH///qmW\n",
       "AABjOL3QMfwCTA3kl4k7/go/AAAAFUGeoUUVLDP/AABWT3J8Vb4WZs3jYAAAABIBnsB0Qr8AAJ9d\n",
       "Pu/nsbX4j3EAAAASAZ7CakK/AACfK9JBxHAc8I9wAAAAG0Gax0moQWyZTAh3//6plgAAMZxeYkId\n",
       "ocjljwAAABJBnuVFFSwz/wAAKypA0vGS4DEAAAAPAZ8EdEK/AABPkzvaJYNVAAAADgGfBmpCvwAA\n",
       "TXNsxZeBAAAAGUGbC0moQWyZTAh3//6plgAAMBA6Uz1zKSAAAAARQZ8pRRUsM/8AACoHuVv3GUAA\n",
       "AAAOAZ9IdEK/AABNWryUoD8AAAANAZ9KakK/AABNX7+8PgAAAEBBm09JqEFsmUwIb//+p4QAAF/4\n",
       "TFY9qAGqZmLju6Q/D+X5iWQtj5ktvKxuiCddmLjs5dmBqJ7jcGCdVjBRRkT4AAAAFEGfbUUVLDP/\n",
       "AAAqB7la98zTGVtBAAAAEQGfjHRCvwAATVojiKdnEdIxAAAAEQGfjmpCvwAATXP1PPN0VsaBAAAA\n",
       "GEGbkEmoQWyZTAhv//6nhAAAXPGcygVQ8AAAABZBm7FJ4QpSZTAhv/6nhAAAXPJmS/iwAAAAGUGb\n",
       "0knhDomUwIb//qeEAABc8ZzKA2l6BTEAAAAZQZvzSeEPJlMCHf/+qZYAAC7aeOxHK+yE+AAAABhB\n",
       "mhRJ4Q8mUwId//6plgAALtrNHZ2Y5TAAAAAeQZo4SeEPJlMCHf/+qZYAAC8c8wmSgnfVX0bMukzB\n",
       "AAAAFUGeVkURPDP/AAAo59/blb4WZs4KwAAAABEBnnV0Qr8AAEtaGUyerJqNSwAAABEBnndqQr8A\n",
       "AEteokGlFMVYsQAAABpBmnlJqEFomUwIf//+qZYAAC3nbHsBXlYOugAACc5liIIABL/+94R+BTcB\n",
       "A9/qh//yQf+Gv9t/tJ45rju0OK7IN2WqeAAAAwAAAwB7r48P/sf0UYazEAfJ8gHDnO+qlPRj7i5Y\n",
       "rFweJcQ9F7IKmfdQtIQ2npQnY0Gy+p8ie3HjeO67TnaUbpLq9lp9WoPX0TyPDNlh4yMH48k9vVo/\n",
       "KacOmilYI/hl6RgjSBGWvSEvkJXXzznfsPtQEdJIClYXijy4KmfqZGq4mneD3g92PcMS7x55gHeF\n",
       "T7AfdlCTcJ032X5zxCs6CqZOzbOsWCnofA/XAMuSOpj+Jf4UqVH7T+HrgpLdXkPZfI5g/UIBdEJw\n",
       "UQoCUps5mrwLjPvN5WPtAgMe93ACUMmJepv5jwWjHTDzRA+WjhsmtNEqjI1IlZN4wtWPw9TuELk2\n",
       "oArD391uY16waSBLt10T9p2jqBvd0c3UIIaUBEh0ApW+CnXczZq7ri/J4KkrrrjuD9JGBYmOT+eA\n",
       "J4+Bn/SpAFgxheRlogQx76iNq5GBa3WeUclcqb/JlcB9UGxdCfGajchtODLqwysOhxk7bhAs4OmN\n",
       "MBQpg0LBSvFb7DuGmZp1830tSz9wurNuywlkwGoPYFx/4xEJIxBm4tAOmJs7OAzgwq9dy0TiDxCP\n",
       "O+l3K7/ByTbzFSHf57VY7zQ/FnmblEwfa9rGAxzMppRlUJrsLLQDSwAQYfctaVWC6r5wGZiOXle5\n",
       "xlJQsc+eJXFhkEweOqkEpy8WLoRvgUywQuwTEO1qcjqMRHH+8pgydittufZvDPf0NaamEy/8RfMj\n",
       "gl9UA3/EqdvaibiS3/wzSNMoH5LW+q2rnFw2+x4ySW1PnwShp80TcbbrTjlHaIy3YSfkTiiz7AQC\n",
       "BQzqkAiIfmCHKyqirNUVgjZ19WaPbi+R8M4FmHG/VEG72fFP2UKxBIbt59lqiS4I3z1tTAd7WWyP\n",
       "v+ZP719w0AB6SmFeoQkdHC/epfH9Br0nDCEJvanXsZE9nKOXmK32ltsm9uDNwAAHweSfxn80s3KZ\n",
       "CLPKWN+bk79xnwdtAuZD569GG68tSSIgrJHJGFU2ulephZjgXiVmtzTwtiTDq/9t4s1CteSUNiA2\n",
       "vYIMOjNjxNlmBJLKFHBS9XQNDkh6Bk9xUOWWHOqieuDwx45DXvdD07CNJdqpxaMWwp0pmNzhiI13\n",
       "7eBnQBbNHOaAmqtY1YoF9vcGidL+1yI/F8Oh38khIxJxfvAC8FGbDbZq5x5JzRBjBDqrYlnWhMPX\n",
       "zWmAjwgbgZrFdsBWebDotPKP6il5jybVgmWyjX5vKkeqIyNVJXVwL2SHVaf2d830mMOJlpzHK0zE\n",
       "jE8sl4McQoUwoHLoQtXxG/REWTyPre5BM5ArhIwFJL4M40v2vYCq3n8VcddIysuq5CutpcU0CQfu\n",
       "AKQk0jzCSVwxHVNWqc6fLZi8q35cBwwlTzTEaoLnR8cfmFu8voI8pWT8v8H6fZ8IeeNy8YBr9u9N\n",
       "bicwfndvuuBnXO78++N4+BMVMltn64fNLHI5YEtzfgvnfIF99WDBEybhgrouBNAC6WuXaf7a2aVQ\n",
       "l1FOmLsog4RLMmY2peTM2M/uqIum4agp8Op8kRnHJtg9E4zYf//ZAPh7RBtXhXWCIk6f+E5OPLPj\n",
       "aQl6E3V1hPj9rq+EuEA1RZ2Iu17k7v9hENF2q5IG34ttA/kgSpbWHILLhi8Kg/nC+AHkG7o+Ft24\n",
       "Q+WuAN4CkgtMR3Hm10EjO8HmAzOl8AFog4YInNZ7TBHkwc/8Rt3WdO0toxM6Lv9xFPaeuA4DD4Iq\n",
       "pMPcwkLmToEWLP61nvyW2lrjAEO0qscDt61XESPwgKB2gkpDRpMBTJ5AZgbcqq4/CsoNZ7h8c3dU\n",
       "dLFelKYzoVcFhi/Xh0kea2u8d4K4gItI65u1HpE0qr/gOBDv3hrSHk5t+uWKS578h5ofoCGj3fdR\n",
       "OwCZAHFgzXaO2ms9ml3DufZD7NN5gKRWg/R8CfObMIdm/neezGwAJ4vLn4aVn4QV3BcgmHGf1d6J\n",
       "XAr9sV90qgrWrWwTu7MmNJ8DbH0/lUCI0nLG+h5cMujLw+bYqMtoH/ZEfrZ8yAvRpcvedeKasAll\n",
       "qW5puu2TXm4wNFzttezpzgKTig9DTd3gk68vKlnDCoxW0MQK5GmaeIQFd2G5em4puiQIIYbZvTjX\n",
       "zAp5tR4qZ04fYuY9W3Sn/S7ir2fnOATZ9Htxxh4ywQDANd+daq03HerjbHSz+W1z3d3IQfsVItZu\n",
       "TNuoXxv7J3ne1ZSLWbkzbqF6p/Ob5MtUKuCHdt1DDqW9wfPGM1JfL+E1+IJjRPQB3yOdFuAkQByl\n",
       "ttS7sTXPoX//MgsdikRBCVbrUfCKbr6u/hsoxj9YkOWv5VOY9QiZTm82akKSTsjiL08R5RbCMCpi\n",
       "zylu5HovM1MArlgflRWMqIWwvQ4f1xXpVGOnwXqjdnQrncSuWjukVwY4oVrHmMMy3NoY7ZTzCmhQ\n",
       "CUF0eHMpHmtbid6Rlhcm/185Ak7uhZYUnTQbp6OETB765tQ1CoQqoKG28rCbc0RrkSvVCEGDYV4y\n",
       "2qLn6vA7omsnOZAMNqF8bRgjbYGwfAKq1e5Ax+uTOy7/nXkRNlijRzNVKz55wJxFTB3wKQnTFYfW\n",
       "A/21ToJz1mJSP5Aa/EOCUQNZUlkDPW4Fh6jR7xvqPjsrQz+WH6g0X3LSKrdjcKAvmgGySVPNSod9\n",
       "L8MBLcSOhSKPwt7aeaGQQmqaO03cbYeZ21MWa+3wZYukO17An86HZxcXNsFNrpDxZSH052r1D+7T\n",
       "eFB+7pehTxD5GrAF/JlP8HqbYNnbvNBGKVjfJT1E/Ewlu53TQWglmm1peMVy5g0gM+6916YGnEw/\n",
       "YmcZ42J+2bFHZ7QlrClaFP+Ts3sc2VCVMO5UrscSeMEv/pFN4mDhCxRCj1qArp33dA4XEHuG3jwT\n",
       "2CxvZe6k23vO7KzJ6nbUvJ1DA0/8a5fP9co7+4xSyrCsrQKQA/r7f1iiL/f35vVJOjP0YSNTqoel\n",
       "Eqex8hYYJIyQfzO8s3gZGXEzNcD21Mm8diDZg2lSDGQL08JfuhJg6RqFJvShJItq9zkptaa+SFot\n",
       "qalfBLmaJsFKZqaJ4KNjo6zms6min87FQYz6SmPFfUqw1TJj4npYO+oTugPnGcnjShrai67c8iUA\n",
       "L66Mu8pwPuWJJwIqnn4mnze2XQFTXVK/0uvUh13Spskuwut2MwNf0LAFHnjgyCEEkoJwDht8+u7f\n",
       "beYD57yC2VtD1++jCrNXWAPNOZvYWl7v7kBOjneEdXVqFWWV6SdOIb2tpNwMOr15J8HNcsfkccVX\n",
       "gPDx8SQ9BBPoRkyWcJLVWhoZvXZkkEwJr2nqZJ+5a78HbPEO8D6Y9yfAAAAG3QAAAMpBmiRsQ//+\n",
       "qZYTApHAE198134FJ3r6uh7/va1z2ONG3cUbwdecCePdDKMmPvoifRH9hy6WlTR+bUnwh3dc805M\n",
       "6QHF22RAKfQDMfUTyCdS0YH9BOpsq0RPp1VgEq11oyW6uyiCLNZmu6N1H+5eL2mue9meiOEgnz3r\n",
       "KnkZpHK623ceNpKyFIWCQ7hBo7k6LULjReZcdNMvKcRALrET4btETH7cRo/h0H6d6MuXrGULjQ+l\n",
       "NfwwCCC0OUinSC8dM6kNXdN6RzCJlsSAAAAAa0GeQniGfwIV727iZBKLsLrnbi4JV1Y42/HNGG7G\n",
       "gTiZQAkNrSDgHwLfMNy6RgCJBBq+8/OEk6LCPCrd8TEkQYjj+FTI3kG92cUpFOYBT+Pk+oCiZ+SD\n",
       "/1gv6ea12UzmHFYwVJZ6d/F0y2JBAAAANgGeYXRCvwOZsTDI6hme00r3TeJgEPmgj8/4ATqFujQ+\n",
       "A3mYfLThgF2d4JldR/YJ+ar7SH1ZQQAAADgBnmNqQr8AAEd2fUwo+siwB/csk9xP0nHPLqt8AJ1C\n",
       "3Roe+YgqB5o8uFkklxSeIHW9U8z/ju1dYAAAAJRBmmhJqEFomUwIf//+qZYAABbhDceRlKcFHHYk\n",
       "AAdCP0QvHr2yGfkyDRUuMP0Ujgi0hcW4KjxOH/skHRIOjyEEVt1xj7eC5mVFP/g/H50mty4ToNqZ\n",
       "X7i/w8I3XhXMypIENhSt1mwfC9qv0YqMd+sH74RnNj4sXmlTP9rC1gf79NS6IMQnU7Ss9QIZTpPk\n",
       "DrRapmnQAAAAQEGehkURLDP/AAAmuvzLy2xmGzTUsyUKrhM32nQImMABJ7WkHAPgW+Ybl0jAESCD\n",
       "Yz5YW4DlnFl3DEe+mqaD5jMAAAA8AZ6ldEK/AABHXZwHfRDdYIg6WTh5gSvn6ep4ABJ6xRzpqXXu\n",
       "cFR10GMRsWEoNdy0vna8vShwph6iXfi8AAAANQGep2pCvwAAR3Z9ZQljUq6UQGNBygXKHQAkNYo5\n",
       "01Lr3OCo66DGI2EU8b4v0E+FJNCaFblZAAAARkGarEmoQWyZTAh///6plgAALfzzNTLVsoPue1BZ\n",
       "Cnf8wcFcntMmlKOyk4ADmkqY79YEHTJ4uQ8P/7NOQ/HKf/YMSVJOOYAAAAA2QZ7KRRUsM/8AACa6\n",
       "/Mcv3q57VDoIYhwtQAdxbSDgHwLfMNy6RgCJBhR2145JsgwiOtHFZyF9AAAAMAGe6XRCvwAAR12c\n",
       "CdHuT8mycKVwAdxoo501Lr3OCo66DGXUFXqde8vHzQef8vCPmQAAAC4BnutqQr8AAEd2fWYblzHs\n",
       "wuLggA7jRRzpqXXucFR10GMun3zUA0r925Qxx83BAAAAO0Ga8EmoQWyZTAh///6plgAALNzzNR4n\n",
       "+DALbNVl5yVgqAL0UrzrdgQdMni5Dw//nlPfE/fl26DnbCeBAAAANEGfDkUVLDP/AAAmsa8jrr/U\n",
       "MrG+fJu3FEAHcW0g4B8C3zDcukYAiQYUfJeTCbAJgkrQvHoAAAAuAZ8tdEK/AABHXZwJoLJxle7j\n",
       "4QAdxoo501Lr3OCo66DGXUEdqYP9o9zQea8egAAAACsBny9qQr8AACS7FV4gUORiEAHcaKOdNS69\n",
       "zgqOugxl1A1KR1LD7GXycztxAAAAOEGbNEmoQWyZTAh///6plgAAFcUSvVwPufc3/oSCIA45KmO/\n",
       "WBB0yeLkPD//FhvjE/qsRRLEusUYAAAAL0GfUkUVLDP/AAAT6nRQpud2fYIAO4tpBwD4FvmG5dIw\n",
       "BEgwo8RrW7dtIcTo5nbgAAAAKwGfcXRCvwAAJK7wt0bT57ogA7jRRzpqXXucFR10GMuoJJSRpYho\n",
       "zDjmduEAAAArAZ9zakK/AAAku1opVTCAsyABKAHRzpqXXucFR10GMuoL/U4n4ggy67mduQAAADhB\n",
       "m3hJqEFsmUwIf//+qZYAABXeeZBmWCDpu2A7JnUAXopXnW7Ag6ZPFyHh//agPgF/cnJfNi6hPQAA\n",
       "ADFBn5ZFFSwz/wAAE+p0ULn/JZwMZQgA7i2kHAPgW+Ybl0jAESDCjeTxhDX/dBBjj5uAAAAALQGf\n",
       "tXRCvwAAJK7xGPqSyAMAOQAdxoo501Lr3OCo66DGXT/xqLT9oNzLua8egAAAACwBn7dqQr8AACS7\n",
       "W/T0fSBmiUAHcaKOdNS69zgqOugxl1BZKOlK//GXicfNwQAAADhBm7xJqEFsmUwIf//+qZYAABUt\n",
       "yF9bqLuV//QkEQBxyVMd+sCDpk8XIeH/+LDfGJ/VYiiWJdYowAAAAC9Bn9pFFSwz/wAAE+p0A9Ob\n",
       "1W2CADuLaQcA+Bb5huXSMARIMKPEa1u3bSHE6OZ24AAAACsBn/l0Qr8AACSu7Ur+6qttQAdxoo50\n",
       "1Lr3OCo66DGXUBnqeT8QYZfpzO3BAAAAKwGf+2pCvwAAJLtYevXVsP1KAEiAdHOmpde5wVHXQYy6\n",
       "gCdZiftjj5dzfb0AAAA5QZvgSahBbJlMCH///qmWAAAVTnmQZmbE50rqHHZM6gC9FK863YEHTJ4u\n",
       "Q8P/7UB8Av7k5L5sXUJ5AAAAMUGeHkUVLDP/AAAT6nQHMymZdRcWvUAJD3kg4B8C3zDcukYAiQYU\n",
       "aF+Moa/0oImhePUAAAAtAZ49dEK/AAAkru1K+pLI4AulACRAOjnTUuvc4KjroMZdP/GotP2g3Mu5\n",
       "rx6AAAAALAGeP2pCvwAAJLtYxPR9egIIQAdxoo501Lr3OCo66DGXUFko6Ur/8ZeJx83BAAAAOUGa\n",
       "JEmoQWyZTAh3//6plgAAFKUSvGfruRTwv9wKjAAnhAF9gMpB0x1/cPD//Db/c4fhpXhIjfxRgAAA\n",
       "ADBBnkJFFSwz/wAAE+pzwdUK4wsecgA7i2kHAPgW+Ybl0jAESDCjxGtbt20hxOjmduEAAAArAZ5h\n",
       "dEK/AAAkrumHfm8+5cAHcaKOdNS69zgqOugxl1BJKSNLENGYccztwQAAACsBnmNqQr8AACS7VcpG\n",
       "8LHZIAO40Uc6al17nBUddBjLqAz1PJ+IMMv05nbgAAAAO0GaaEmoQWyZTAh3//6plgAAKBpKCU8u\n",
       "+L2875cBTuRLoxAJilpXGBlIOmOv7h4f/zO/x0Nz8DFcQsslAAAANEGehkUVLDP/AAAitzKwdJjH\n",
       "8MI9Q2maEAHcW0g4B8C3zDcukYAiQYUa2yhL1dM0C4fAi4EAAAAtAZ6ldEK/AAAkrunE4MsBfSXS\n",
       "gBIgHRzpqXXucFR10GMun/jUWn7QbmXc149AAAAALwGep2pCvwAAP4z1KnAD7rC60HSNQAkQDo50\n",
       "1Lr3OCo66DGXT2XUNb+oFJgBbe9xAAAAOEGaqUmoQWyZTAh3//6plgAAKBrNHZ2ZZfNv3AwcQDSz\n",
       "ErjBGGh9a/RYN7//tfPzEN3JvP3Eb19wAAAAOEGazUnhClJlMCHf/qmWAAAoGkoJTxouy7exP3Aw\n",
       "cQCYpaVxgZSDpjr+4eH/9r5+Yhu5N5+4jevvAAAAMkGe60U0TDP/AAAir4IViXpU3vj1o4IAO4tp\n",
       "BwD4FvmG5dIwBEgwo6T8fH+AHBH79ePRAAAALQGfCnRCvwAAP3oHCYhKzpyr0oAO40Uc6al17nBU\n",
       "ddBjLqGScm5eAo/Yea8egQAAAC4BnwxqQr8AAD9olCILGKmW7YA5AB3GijnTUuvc4KjroMZdP/Go\n",
       "tP2g3Mu5rx6BAAAAPUGbDkmoQWiZTAh///6plgAAKBwKapaW/oAXK/77s//0LRUAgihK7tM1pRS+\n",
       "as6SH/+L58ai5KmFvaCzfcAAAAA8QZsySeEKUmUwIf/+qZYAAChc8yHuoDBD4dAsk8/zK4S5ivoA\n",
       "4kpXnW7Ag6ZPFyHh//OLd2934qD9QyieAAAANEGfUEU0TDP/AAAitkwqaZSuHyYz0+8/VCADuLaQ\n",
       "cA+Bb5huXSMARIMKNy/FzbqL6ZLG3vcAAAAvAZ9vdEK/AAA/jbTgq6DNu72b/k0AHcaKOdNS69zg\n",
       "qOugxl096HEafqGj4FzAi4AAAAAtAZ9xakK/AAA/gKbZGPVhZiKMgASgB0c6al17nBUddBjLp/g1\n",
       "FX+ophlCbe9wAAAAcEGbdkmoQWiZTAh///6plgAAJz1ZnWgAlx16DzMxXhdrOd9HBfqS02ww1WgT\n",
       "RXuFokpxDSWraQKxaQYyY5y39JaIaYx76HDsATYsieL5w1BCqGdVxGaj+/0JXdpFJC6HiDv4f/4g\n",
       "D5pL4+H8gNPvlcEAAAAzQZ+URREsM/8AAENuX79u/EU1ePvc9RoAO4tpBwD4FvmG5dIwBEgwoz0l\n",
       "Bpq/dIiG+vHpAAAALAGfs3RCvwAAPi3BkZLVhOsNoAO40Uc6al17nBUddBjLqAz1PJ+IMMv05nbh\n",
       "AAAALQGftWpCvwAAfFnYHTPnhObZWGoASIB0c6al17nBUddBjLp800/dK/WuTscfNwAAAEdBm7pJ\n",
       "qEFsmUwIf//+qZYAAE56trN3ulL8iGQOv4AHNno////aQNtf/EAsGBcn4mzMV3QAUrTJ4uQ8MzUT\n",
       "+XCZiWn9EQMUwAAAADRBn9hFFSwz/wAAQ2MkECUoEGZ55r13SNAAk/eSDgHwLfMNy6RgCJBhR4X4\n",
       "7v7/WCKX68ehAAAALgGf93RCvwAAfDiWD90rSfCJsKWQAJQA6OdNS69zgqOugxl1A0ajz/aEwyzm\n",
       "vHoAAAAvAZ/5akK/AAB5meYKKsrBfc1HLSA6ADuNFHOmpde5wVHXQYy6fNDihP1EnMO5gRcAAAA6\n",
       "QZv+SahBbJlMCH///qmWAAAnPVtR4clMrd9O1PI7JnUAXopXnW7Ag6ZPFyHh//aBvaY3cnJfNi6h\n",
       "PQAAADRBnhxFFSwz/wAAQXX5menwr4izYdCCbSQAdxbSDgHwLfMNy6RgCJBhRs343bdRvTJI297g\n",
       "AAAALgGeO3RCvwAAeXimCaHQoXB9lqXhAB3GijnTUuvc4KjroMZdQJepj7uqV52W3vcAAAAsAZ49\n",
       "akK/AAB5mdgRcEsI4ShqAEiAdHOmpde5wVHXQYy6fzNQ2ftCuZRzXj0AAAA9QZoiSahBbJlMCH//\n",
       "/qmWAABMDFKgIypb+gBcr/rorP/9C0VAF6KV51uwIOmTxch4f/2fntKLLwqviW9fcAAAADdBnkBF\n",
       "FSwz/wAAQUj/KBon/xTd+TFQPKPhcHqAEh7yQcA+Bb5huXSMARIMKNRJQ+av4iIW7j5vAAAALQGe\n",
       "f3RCvwAAeCHthVZ+DzybvagA7jRRzpqXXucFR10GMuoQ7VCN4BQzDpj5uAAAADEBnmFqQr8AAHl6\n",
       "I0lzoakHXH4Supx1AB3GijnTUuvc4KjroMZdPXdQz0rmi5CS297hAAAAPEGaZkmoQWyZTAh///6p\n",
       "lgAATHq2jx1AxoHw53pBVNAz+bUAXopXnW7Ag6ZPFyHh//PKe+J+/HFy2IQ74QAAADRBnoRFFSwz\n",
       "/wAAQV7FutteFmbY9tkuCzQAJP3kg4B8C3zDcukYAiQYUb9+NG3aNUy1+vHoAAAALwGeo3RCvwAA\n",
       "eXUKQUrfiSIpxntZwgA7jRRzpqXXucFR10GMuoIbUx93V3M4Lb3uAAAAMAGepWpCvwAAeXuVjuI4\n",
       "Dnta9i8WZAAlADo501Lr3OCo66DGXT8JrB39Q5jD8297gQAAADhBmqpJqEFsmUwIf//+qZYAAEoM\n",
       "SMAmspZwt/0JBEAcclTHfrAg6ZPFyHh//iw3xif1WIoliXWKMAAAADBBnshFFSwz/wAAP3knjzIH\n",
       "m0M45IAO4tpBwD4FvmG5dIwBEgwo8RrW7dtIcTo5nbkAAAAsAZ7ndEK/AAB2pagSmexqYKbaAEiA\n",
       "dHOmpde5wVHXQYy6gN9T+fh8DLruZ24AAAAsAZ7pakK/AAB2u5WXnt9jzbagA7jRRzpqXXucFR10\n",
       "GMuoDPU8n4gwy/TmduEAAAA4QZruSahBbJlMCH///qmWAABKDD6AmspZwt/0JBEAcclTHfrAg6ZP\n",
       "FyHh//iw3xif1WIoliXWKMEAAAAwQZ8MRRUsM/8AAD950kZkDzaGcckAHcW0g4B8C3zDcukYAiQY\n",
       "UeI1rdu2kOJ0cztxAAAALAGfK3RCvwAAdt0WRZ61h5ybQAdxoo501Lr3OCo66DGXUBnqeT8QYZfp\n",
       "zO3BAAAALAGfLWpCvwAAdruVl57fY822oAO40Uc6al17nBUddBjLqAz1PJ+IMMv05nbgAAAAPUGb\n",
       "MkmoQWyZTAh///6plgAAlBh9CPpUt/QAuV/1eyz//QtFQBeiledbsCDpk8XIeH/9n57Siy8Kr4lv\n",
       "X3AAAAA1QZ9QRRUsM/8AAH7zo7foMsWNyiR1q8hHqAEh7yQcA+Bb5huXSMARIMKNK/FS/fzYRFoX\n",
       "j0EAAAAuAZ9vdEK/AADtxfBKsuRXj5kK3aADuNFHOmpde5wVHXQYy6f29RWff4MZdnHzcAAAADAB\n",
       "n3FqQr8AAO13Kx3EcBzx66TyR2UAJEA6OdNS69zgqOugxl0/Cawd/UOYw/Nve4AAAAA8QZt2SahB\n",
       "bJlMCH///qmWAACU9W1G4cYSaSqFtl2rNA3/LUAXopXnW7Ag6ZPFyHh//Oke+J+/HFy2IQ75AAAA\n",
       "NEGflEUVLDP/AAB+9NYW2vCzNn+eNWQs0ACT95IOAfAt8w3LpGAIkGFG/fjRt2jVMtfrx6EAAAAv\n",
       "AZ+zdEK/AADtuix6/HGVc72t7mKaADuNFHOmpde5wVHXQYy6e9DiNP1DR8C5gRcAAAAsAZ+1akK/\n",
       "AADtgt8BGToxyVCgASgB0c6al17nBUddBjLqCyUdKV/+MvE4+bgAAAA3QZu6SahBbJlMCHf//qmW\n",
       "AACQE3obf81R4W+4FRgATwgC+wGUg6Y6/uHh//ht/ucPw0rwkRv4owAAADBBn9hFFSwz/wAAfDTW\n",
       "GX5ebQzjkgA7i2kHAPgW+Ybl0jAESDCjxGtbt20hxOjmduEAAAAsAZ/3dEK/AADn6hSXbVsDz3Lg\n",
       "A7jRRzpqXXucFR10GMuoJJSRpYhozDjmduAAAAArAZ/5akK/AADoG8u2t7LekagA7jRRzpqXXucF\n",
       "R10GMuoDPU8n4gwy/TmduAAAADpBm/5JqEFsmUwId//+qZYAASAm9Db/dfa5HKPE33AwcQCYpaVx\n",
       "gZSDpjr+4eH/9r5+Yhu5N5+4jevvAAAAMUGeHEUVLDP/AAD4lt0UASMHmwBsmgASfvJBwD4FvmG5\n",
       "dIwBEgwo4z8gH9/5BGb9ePQAAAAsAZ47dEK/AADoOiyK2rWHnJtAB3GijnTUuvc4KjroMZdQGep5\n",
       "PxBhl+nM7cEAAAAtAZ49akK/AAHQfyJY3hQq8KAsoASIB0c6al17nBUddBjLqBf1I59/4MtU4+bh\n",
       "AAAAOEGaP0moQWyZTAh///6plgABIE4vRTWmdR2J/6FBiATFQld2ma0opfNWdJD/+2KfMY3cnRfP\n",
       "i6hPAAAAOEGaQ0nhClJlMCH//qmWAAEgMoIkBYm2ztaNDjsmdQBeiledbsCDpk8XIeH/9qA+AX9y\n",
       "cl82LqE9AAAAMUGeYUU0TDP/AAD4aawyryKnM4JJXIAO4tpBwD4FvmG5dIwBEgwo8y8j02AHBIWh\n",
       "ePQAAAAuAZ6AdEK/AAHP+ktc5bTEw0VB8kAHcaKOdNS69zgqOugxl1Av6kc+/8GWqcfNwQAAACsB\n",
       "noJqQr8AAdA3l1PHst6RqADuNFHOmpde5wVHXQYy6gM9TyfiDDL9OZ25AAAAOEGah0moQWiZTAh/\n",
       "//6plgABIDSEbWsg68Lf9CQRAHHJUx36wIOmTxch4f/4sN8Yn9ViKJYl1ijAAAAAL0GepUURLDP/\n",
       "AAD4hGbq0XXXHHJAB3FtIOAfAt8w3LpGAIkGFHiNa3btpDidHM7cAAAAKwGexHRCvwAB0LGl5d6P\n",
       "85NoAO40Uc6al17nBUddBjLqAz1PJ+IMMv05nbkAAAArAZ7GakK/AAHQNZGp49lvSNQAdxoo501L\n",
       "r3OCo66DGXUBnqeT8QYZfpzO3AAAADlBmstJqEFsmUwIf//+qZYAAkBpCJAVqumZo7E/9CgxAHHJ\n",
       "Ux36wIOmTxch4f/2xT5jG7k6L58XUJ8AAAAxQZ7pRRUsM/8AAfEtvFhVNPMAkeNAAk/eSDgHwLfM\n",
       "Ny6RgCJBhRxn5AP7/yCM368egAAAACsBnwh0Qr8AAdCzKVO9H+cm0AHcaKOdNS69zgqOugxl1AZ6\n",
       "nk/EGGX6cztxAAAALQGfCmpCvwADoP5FC5I8FZmRU1ACRAOjnTUuvc4KjroMZdP5mobP2hXMo5rx\n",
       "6QAAADhBmw9JqEFsmUwIf//+qZYAAkCakiTN5pFPRocdkzqAL0UrzrdgQdMni5Dw//tQHwC/uTkv\n",
       "mxdQnwAAADFBny1FFSwz/wAB8QjNwuDtlaRAyTQAJP3kg4B8C3zDcukYAiQYUcx+Qz/AAgjl+vHp\n",
       "AAAALQGfTHRCvwADoWZSLcjwJZZGGQAJQA6OdNS69zgqOugxl1AP6kc+/4GWKcfNwAAAACwBn05q\n",
       "Qr8AA6BvLfnbKrwGlKABKAHRzpqXXucFR10GMuoLJR0pX/4y8Tj5uAAAAENBm1NJqEFsmUwIf//+\n",
       "qZYDgAL0Btq8whrb/ckZ5qV3x56Qj8fwW+X/oR+WyledbsCDpk8XIeH/8NDeK3msw/UMgritAAAA\n",
       "L0GfcUUVLDP/AAHxCM3TsXXXHHJAB3FtIOAfAt8w3LpGAIkGFHiNa3btpDidHM7cAAAAKwGfkHRC\n",
       "vwADoWZSjb0f5ybQAdxoo501Lr3OCo66DGXUBnqeT8QYZfpzO3AAAAArAZ+SakK/AAOgby6Nx7Le\n",
       "kagA7jRRzpqXXucFR10GMuoDPU8n4gwy/TmduQAAADpBm5dJqEFsmUwIf//+qZYABIDQ2SArV7W5\n",
       "2UeJv/QoMQBxyVMd+sCDpk8XIeH/9sU+Yxu5Oi+fF1CfAAAANUGftUUVLDP/AJLr/h5gjJO0Yh58\n",
       "twJ8n1ACQ95IOAfAt8w3LpGAIkGFGjPhs9WfNAfHsq2BAAAAKwGf1HRCvwADn/KRo29P+e5cAHca\n",
       "KOdNS69zgqOugxl1BJKSNLENGYccztwAAAAtAZ/WakK/AAdA3lvZJCnRjkqFAAlADo501Lr3OCo6\n",
       "6DGXUFko6Ur/8ZeJx83AAAAAOUGb20moQWyZTAh///6plgAEgMlskBYm2zsujQ47JnUAXopXnW7A\n",
       "g6ZPFyHh//agPgF/cnJfNi6hPQAAADZBn/lFFSwz/wCS6/4eYIyNOKJTyxqdMaHykgA7i2kHAPgW\n",
       "+Ybl0jAESDCjbvxa26NumTxqOmAAAAAtAZ4YdEK/AAc/6S3LyQpgGyYdQAdxoo501Lr3OCo66DGX\n",
       "UHtqXK8AoZh0x83AAAAALAGeGmpCvwAHQfyJ3UKc6oZfKAEiAdHOmpde5wVHXQYy6gH9SOff8DLF\n",
       "OPm5AAAAOEGaH0moQWyZTAh///6plgAEgMlskBY9deFv+hIIgDjkqY79YEHTJ4uQ8P/8WG+MT+qx\n",
       "FEsS6xRgAAAANEGePUUVLDP/AJLr/h5gjI04omGts+DueoASHvJBwD4FvmG5dIwBEgwo2E8THq0J\n",
       "mGA9lW0AAAArAZ5cdEK/AAdCxpdw3o/zk2gA7jRRzpqXXucFR10GMuoDPU8n4gwy/TmduQAAACsB\n",
       "nl5qQr8AB0H8ioDjhMEm1ACRAOjnTUuvc4KjroMZdP7Os1P2xx8m5vt6AAAAOkGaQ0moQWyZTAh/\n",
       "//6plgAJAZLZICtXoSqJidif+hQYgDjkqY79YEHTJ4uQ8P/7Yp8xjdydF8+LqE8AAAA1QZ5hRRUs\n",
       "M/8Akuv+HmCZJ2k0EPNq5AnyfUAJD3kg4B8C3zDcukYAiQYUaM+Gz1Z80B8eyrYAAAArAZ6AdEK/\n",
       "AAdCxpdw3o/zk2gA7jRRzpqXXucFR10GMuoDPU8n4gwy/TmduQAAACwBnoJqQr8ADoM6805yzggG\n",
       "XygBIgHRzpqXXucFR10GMuoB/Ujn3/AyxTj5uQAAADpBmodJqEFsmUwIf//+qZYACQGCQpAWJS5/\n",
       "1qNkRj7moAvRSvOt2BB0yeLkPD/+1AfAL+5OS+bF1CeAAAAANkGepUUVLDP/AJLr/h5gmRpxRKeW\n",
       "Ml0xofKSADuLaQcA+Bb5huXSMARIMKNu/Frbo26ZPGo6YAAAAC4BnsR0Qr8ADoOaqJmMd6mY3C2a\n",
       "gA7jRRzpqXXucFR10GMuoF/Ujn3/gy1Tj5uBAAAALQGexmpCvwAOgby3skep0Y5KhQAJQA6OdNS6\n",
       "9zgqOugxl1BZKOlK//GXicfNwAAAAD5BmstJqEFsmUwIf//+qZYACUGHMo9qj52Rc6cNn+xbJzb/\n",
       "6E/2Fg6Eru0ikhdDxB38P/8Lz4cpqrYRlh98rwAAADZBnulFFSwz/wCS6/4eYJm59GEE8FVKofqz\n",
       "PUAJD3kg4B8C3zDcukYAiQYVFo6vcNaAzCIeiE4AAAAuAZ8IdEK/AA7bmqevx4DAbfKAsoASIB0c\n",
       "6al17nBUddBjLqBf1I59/4MtU4+bgQAAAC4BnwpqQr8ADtd60dxHgMC3nCzqgA7jRRzpqXXucFR1\n",
       "0GMun/jUWn7QbmXc149BAAAAOUGbD0moQWyZTAh///6plgAJQYcyEyL5g6CdGhx2TOoAvRSvOt2B\n",
       "B0yeLkPD/+1AfAL+5OS+bF1CeQAAADVBny1FFSwz/wCS6/4eYJm59KHwhnKoCRBkIAO4tpBwD4Fv\n",
       "mG5dIwBEgwqMI1gb+0HOEI9EJwAAAC4Bn0x0Qr8ADtuap6/HgMBt8oCygBIgHRzpqXXucFR10GMu\n",
       "oF/Ujn3/gy1Tj5uAAAAALAGfTmpCvwAO13rS56SfY822oAO40Uc6al17nBUddBjLqAz1PJ+IMMv0\n",
       "5nbgAAAAOUGbU0moQWyZTAh///6plgASgw5kJq1XTLONsT/0KDEAcclTHfrAg6ZPFyHh//bFPmMb\n",
       "uTovnxdQnwAAADZBn3FFFSwz/wCS6/4eYLNz6USnljDlmND5SQAdxbSDgHwLfMNy6RgCJBhRt34t\n",
       "bdG3TJ41HTAAAAAtAZ+QdEK/AB24vzqqVuRG6UA1QAdxoo501Lr3OCo66DGXUA/qRz7/gZYpx83A\n",
       "AAAALgGfkmpCvwAdrvWlsNAnkd+sjrIAEoAdHOmpde5wVHXQYy6gX9SOff+DLVOPm4EAAABQQZuX\n",
       "SahBbJlMCHf//qmWABMeV/gh3qAOOF3bfoTSPu7OnBt6sLS1W5galLO/sX05eWOR0Xc83aJDGef3\n",
       "/x8ALdLGtNMxo9k43o5ZcnKEO+EAAAA4QZ+1RRUsM/8Akuv+HmC0zpp3h2hu/eEjcymXRoAO4tpB\n",
       "wD4FvmG5dIwBEgwqH+Sb2fZ1bAteiE8AAAAuAZ/UdEK/AB2tTFLUUfOuexZRkoAO40Uc6al17nBU\n",
       "ddBjLqGScm5eAo/Yea8egAAAAC8Bn9ZqQr8AHmZhYGAQKNImts10LIAEoAdHOmpde5wVHXQYy6fd\n",
       "NYg/qHIYVm3vcAAAADlBm9tJqEFsmUwId//+qZYAEwUC0vbKL3gbkX+gtK6cACeEAX2AykHTHX9w\n",
       "8P/7TR7SG7k2n0xFm+8AAAA5QZ/5RRUsM/8Akuv+HmC0stwh2lICaa24gRB0p1ACQ95IOAfAt8w3\n",
       "LpGAIkGFGXsn59WvVAoHwIuAAAAAMAGeGHRCvwAeUfBFHiEgOgFGtH3uaIAO40Uc6al17nBUddBj\n",
       "LqCaUc6WHyMu05nbgAAAADABnhpqQr8AHl6Q0iP5IFEp4plUZ7IAEoAdHOmpde5wVHXQYy6gO9R2\n",
       "fh4MZbuZ24EAAAA3QZofSahBbJlMCG///qeEACWjvg5uxwNXsv7gWuABsZGcrY1SDpjrLYeH/+F5\n",
       "+qhumN6G4lRijAAAADZBnj1FFSwz/wCS6/4eYLSy3CJa3jnaAh+ekAHcW0g4B8C3zDcukYAiQYUa\n",
       "M+Gz1Z80B8eyrYEAAAAtAZ5cdEK/AB5X4IFG3JNuPzhe6QAdxoo501Lr3OCo66DGXUHko9UsAMZg\n",
       "Jx83AAAALQGeXmpCvwAeXvWlwx826bWRU1ACRAOjnTUuvc4KjroMZdQDOsOP2hXMo5rx6AAAADdB\n",
       "mkBJqEFsmUwId//+qZYAEwKX6u4aLrwt9wKjAA2MxK4wRhofWv0WDe//8Nv9zh+GleEiN/FHAAAA\n",
       "NUGaYUnhClJlMCHf/qmWABMCuLcwJ/wt9wKjAA2MxK4wRhofWv0WDe//8Nv9zh+GleEiN/FGAAAA\n",
       "OkGahUnhDomUwId//qmWACcFCbFr7rdMPP1yyU2J+4GDmATwgC+wGUg6Y6/uHh//PW+e778zFPX2\n",
       "wnkAAAA5QZ6jRRE8M/8AkuRDgUh1sykhueArABZ+3xXVZLSADuLaQcA+Bb5huXSMARIMKignh69W\n",
       "e9AOZ4hPAAAAMAGewnRCvwA+MSlrTeO/hLsx+mW1KVwAdxoo501Lr3OCo66DGXUBnqPv9NXjMC29\n",
       "7gAAADEBnsRqQr8APh0ho7iOA539XkmRpS8agBIgHRzpqXXucFR10GMunzy4fT9MLzAuYEXAAAAA\n",
       "OEGaxkmoQWiZTAh3//6plgAnBXFt0ZjQm3Nv3AwcQDSzErjBGGh9a/RYN7//tfPzEN3JvP3Eb19x\n",
       "AAAAOEGa6knhClJlMCHf/qmWACcKBaT07D2z3IWyxSJaOIBMUtK4wMpB0x1/cPD/+00e0hu5Np9M\n",
       "RZvuAAAAOEGfCEU0TDP/AJLkQ4FIdbMpYzIetB4W1r/jD6gBIe8kHAPgW+Ybl0jAESDCorp82fVn\n",
       "lR0mb0fBAAAAMAGfJ3RCvwA+GpilqKQTCJQ0AflY8oASIB0c6al17nBUddBjLqBl1pNK245nxbe9\n",
       "wAAAAC0BnylqQr8APiry4B6bXEm5rmDUAJEA6OdNS69zgqOugxl0+Wag4/UXcwbmBF0AAAA4QZsr\n",
       "SahBaJlMCH///qmWACcGhyHGPCtcLf9CQRAJioSu7TNaUUvmrOkh//iw3xif1WIoliXWKMEAAAA5\n",
       "QZtPSeEKUmUwIf/+qZYAKBuJtcvGJv/3MkLZW//oR7YHmkqY79YEHTJ4uQ8P/7Pz2kpl24ePBZvv\n",
       "AAAAOEGfbUU0TDP/AJLkQ4FIdvLcYfPBoCTYyjogFKaADuLaQcA+Bb5huXSMARIMKiadvhNE2SSY\n",
       "PEd9AAAALwGfjHRCvwA/jaTgqsxmPSNOhUJOgA7jRRzpqXXucFR10GMunyzWHS7ZuGO5t73AAAAA\n",
       "LwGfjmpCvwA/ivKdBLmOUARCxX8DUAJEA6OdNS69zgqOugxl0891C/StczkPG3vcAAAAOEGbk0mo\n",
       "QWiZTAh///6plgAoG4/xzDICPcr/+hIIgDjkqY79YEHTJ4uQ8P/8WG+MT+qxFEsS6xRhAAAANkGf\n",
       "sUURLDP/AJLr/h5g7eZSxrpnhOVQLxg4gA7i2kHAPgW+Ybl0jAESDCoq388/Vn/R3Wb0fAAAAC4B\n",
       "n9B0Qr8AP1+oDG2HMcSArl56gA7jRRzpqXXucFR10GMuoHbUpf6k8GZFt73AAAAALQGf0mpCvwA/\n",
       "fRW/9q39bj9dCagBIgHRzpqXXucFR10GMun3nWAH6i7mDcwIuQAAADtBm9dJqEFsmUwIf//+qZYA\n",
       "KWX7JfhzpLjV5iGn2J/6FBiAOOSpjv1gQdMni5Dw//tinzGN3J0Xz4uoTwAAADpBn/VFFSwz/wCS\n",
       "6/4eYPB0YtLO2pDBcWAh9LP70pAB3FtIOAfAt8w3LpGAIkGFRX358+ZBWJQDPLmBAAAALgGeFHRC\n",
       "vwBBfJM64Wf5xDxddtZAAlADo501Lr3OCo66DGXT9vcUH+mchkybe9wAAAAvAZ4WakK/AEFzYNmR\n",
       "qQXACIWK/gagBIgHRzpqXXucFR10GMunnuoX6Vrmch4297gAAAA5QZobSahBbJlMCH///qmWACk7\n",
       "ibs1vNKDJCx2OOyZ1AF6KV51uwIOmTxch4f/2oD4Bf3JyXzYuoTxAAAANkGeOUUVLDP/AJLr/h5g\n",
       "8NUYOFoY+TleIW+mgA7i2kHAPgW+Ybl0jAESDColZNiZomoSRR4jvgAAAC4Bnlh0Qr8AQXdRXXln\n",
       "+cQ8XXbWQAJQA6OdNS69zgqOugxl0/b3FB/pnIZMm3vcAAAALQGeWmpCvwBBX/fe2rf1uP10JqAE\n",
       "iAdHOmpde5wVHXQYy6fedYAfqLuYNzAi4QAAAD1Bml9JqEFsmUwIf//+qZYAKluP9yLr9xl54j8K\n",
       "B8pt/9CgzAHNJUx36wIOmTxch4f/4Xnw6LVW1DND75XAAAAANkGefUUVLDP/AJLr/h5g85qtUmUp\n",
       "Tb4fFIFNQAkPeSDgHwLfMNy6RgCJBhUSsmxM0TUJIo8R3wAAAC0Bnpx0Qr8AQXdSl86zZvvM9LIQ\n",
       "Adxoo501Lr3OCo66DGXUCxqOP9STDH0297kAAAAvAZ6eakK/AENevMGmpA3tI3S5081ACRAOjnTU\n",
       "uvc4KjroMZdPThw+n6ZPmIcwIuAAAAA7QZqDSahBbJlMCH///qmWAFS3H+5uarmpNggwbuaR2Umo\n",
       "AvRSvOt2BB0yeLkPD/+fDeiL+jnF0HO2E8EAAAA3QZ6hRRUsM/8Akuv+Hl6BcqLpDMF/FbI7O6fU\n",
       "AJD3kg4B8C3zDcukYAiQYVD3JrIvs36SHXfR8AAAAC4BnsB0Qr8AQ1ommO4wVvryZCly4AO40Uc6\n",
       "al17nBUddBjLp/71KX+mlxnpbe9xAAAALwGewmpCvwCGvXymrewu/69d5TscgA7jRRzpqXXucFR1\n",
       "0GMunti4fT9MnzEOYEXBAAAASkGax0moQWyZTAh///6plgBXeFvwHagBLV2A8sl/sw/uFDb/vaPF\n",
       "EBfkV7CGUYNh+E6jC4S8d0pVrdsTXRkusAR7Ed78uVlkQh3wAAAAOUGe5UUVLDP/AJLr/h5iY4nW\n",
       "Rod+KUBDz4MKrJjgA7i2kHAPgW+Ybl0jAESDCpr5NeFomE250kR3wAAAAC8BnwR0Qr8Ahu6k66ro\n",
       "FXpGnQqEnQAdxoo501Lr3OCo66DGXT5ZrDpds3DHc297gQAAACIBnwZqQr8AiubBsyLJQWY6qoU9\n",
       "F/jLIM7KvuPGY82SOnvcAAAAO0GbC0moQWyZTAh///6plgBXARaqWjwJxxCCFGDYpWYwOAA5pKmO\n",
       "/WBB0yeLkPD/+eU98T9+XboOdsJ5AAAAOEGfKUUVLDP/AJLr/h5iVWrthKtXxgmU5ZUjDwoASHvJ\n",
       "BwD4FvmG5dIwBEgwqK5/OUzIE1Y4Z5cwAAAAIAGfSHRCvwCKtE0xpknwX0uIVGajbDBULntEh8fU\n",
       "D3uBAAAALwGfSmpCvwCKvXymrenu/69d5TscgA7jRRzpqXXucFR10GMunti4fT9MnzEOYEXBAAAA\n",
       "PkGbT0moQWyZTAh///6plgBXeeZqbImUxfkYMPZX/swPqvYF0moAvRSvOt2BB0yeLkPD/+yy8iiy\n",
       "7afGgs33AAAAOUGfbUUVLDP/AJLr/h5iYjPYtIz0BDfKGtqRGI31ACQ95IOAfAt8w3LpGAIkGFRD\n",
       "yarr7Nnbqet13QAAAC8Bn4x0Qr8Aiu6k66rmFXpGnQqEnQAdxoo501Lr3OCo66DGXT5ZrDpds3DH\n",
       "c297gAAAADEBn45qQr8AiubCqZMq38y0dgtvvJWNQAkQDo501Lr3OCo66DGXTwr05tuzeOQItR0w\n",
       "AAAAOEGbk0moQWyZTAh///6plgAsm49am20ZkhSLHHZM6gC9FK863YEHTJ4uQ8P/7UB8Av7k5L5s\n",
       "XUJ5AAAANkGfsUUVLDP/AJLr/h5g+NsFAPUWjMpGKMEUgA7i2kHAPgW+Ybl0jAESDCorp82fMgXE\n",
       "khnlzAAAAC8Bn9B0Qr8AR3dRH3dCVrAh7jlHpIAO40Uc6al17nBUddBjLp8s1h0u2bhjube9wAAA\n",
       "AC0Bn9JqQr8AR16+fe1b+tx+uhNQAkQDo501Lr3OCo66DGXT7zrAD9RdzBuYEXEAAABUQZvXSahB\n",
       "bJlMCH///qmWAC38Lb+IewQAmZQlfb+YnP3r9iA2FS9U55Y6O2px5lvAW84E21TrmIX9QzKeWV5m\n",
       "w59qw2uqgUgfuxkfLHfLw/fBos33AAAAN0Gf9UUVLDP/AJLr/h5g+9rNYASpg/4+DB+EfUAJD3kg\n",
       "4B8C3zDcukYAiQYVOrJru9EydWAueXMAAAAtAZ4UdEK/AEdaJz7yjBb8VJdOoAO40Uc6al17nBUd\n",
       "dBjLqCZ1oh+pTBlhbe9wAAAALwGeFmpCvwBJc2DZkagFwAiFiv4GoASIB0c6al17nBUddBjLp57q\n",
       "F+la5nIeNve4AAAAOkGaG0moQWyZTAh///6plgAtwItkofi+YOghf6HHZM6gC9FK863YEHTJ4uQ8\n",
       "P/7UB8Av7k5L5sXUJ4EAAAA3QZ45RRUsM/8Akuv+HmD7mxZsS8sWgQ+fvnh9QAkPeSDgHwLfMNy6\n",
       "RgCJBhUV0+bPmQLiSQzy5gAAAC4Bnlh0Qr8ASVolM7iANACHxU771AB3GijnTUuvc4KjroMZdQHO\n",
       "s8P01WMr5gRcAAAALQGeWmpCvwBJXr59bVv63H66E1ACRAOjnTUuvc4KjroMZdPvOsAP1F3MG5gR\n",
       "cQAAAD5Bml9JqEFsmUwIf//+qZYALtuJtkcjmfS3Oq//YsT+t//Qn+wDDKEru0ikhdDxB38P/8Lz\n",
       "4cpqrYRlh98rgAAAADdBnn1FFSwz/wCS6/4eYP6arJim1Xnoyj4mb6aADuLaQcA+Bb5huXSMARIM\n",
       "KiVk2JmiahJFHiO/AAAALQGenHRCvwBJd1KWjrNm+8z0shAB3GijnTUuvc4KjroMZdQLGo4/1JMM\n",
       "fTb3uQAAAC4Bnp5qQr8AS3Y8H7i62nXqxX8DUAJEA6OdNS69zgqOugxl0891C/StczkPG3vcAAAA\n",
       "OUGag0moQWyZTAh3//6plgAu2kE20l5n/mIXWxSJaOIBMUtK4wMpB0x1/cPD/+00e0hu5Np9MRZv\n",
       "uQAAADlBnqFFFSwz/wCS6/4eYP5aYmvQepFC0CHz988PqAEh7yQcA+Bb5huXSMARIMKiunzZ8yBc\n",
       "SSGeXMAAAAAvAZ7AdEK/AEt3UR93P5uQIe45R6SADuNFHOmpde5wVHXQYy6fLNYdLtm4Y7m3vcEA\n",
       "AAAuAZ7CakK/AEtf9ZXf64dI3OhQDKAEiAdHOmpde5wVHXQYy6fNNYc/pjsY5m3vcQAAADhBmsdJ\n",
       "qEFsmUwId//+qZYALtpBMD1zAP7tz9wKjAAnhAF9gMpB0x1/cPD//Db/c4fhpXhIjfxRgAAAADZB\n",
       "nuVFFSwz/wCS6/4eYP5aYfKoM8JyqBeMHEAHcW0g4B8C3zDcukYAiQYVFW/nn6s/6O6zej4AAAAt\n",
       "AZ8EdEK/AEtaJz5yjBb8VJdOoAO40Uc6al17nBUddBjLqCZ1oh+pTBlhbe9xAAAALgGfBmpCvwBL\n",
       "XtGUvdquzgY6uhNQAkQDo501Lr3OCo66DGXT7zrAD9RdzBuYEXAAAAA8QZsISahBbJlMCH///qmW\n",
       "ADARqnEMhppTBL5FKrZ//oWioBBFCV3aZrSil81Z0kP/7Pz2lFl4VXxLevuBAAAAckGbLEnhClJl\n",
       "MCH//qmWADBbP/hIzkAITtObCe4EGneajuoop7lLr7sfYIh7L4cnX8ICIisw7u2Q1F4ybQv0npjE\n",
       "glZW8h87QMWaYEbFQur+xvD336lA3UvPveNnjcoaeFBOZH5D4oqn1Rrx62onp6wowAAAADtBn0pF\n",
       "NEwz/wCS5EOBSID1At83W4zGadVcj4DXCD9QAkPeSDgHwLfMNy6RgCJBhU4cmvC0TJbc1C5cwQAA\n",
       "ACEBn2l0Qr8ATXhvc344yroNISi3EALObDnIHNCz3neHvcEAAAAiAZ9rakK/AE1zYNmRZI5qiWVj\n",
       "iH35SoRdbDnHiWR4gvD3uQAAADlBm3BJqEFomUwIf//+qZYAMFxe6BkDc8FpCx2OOyZ1AF6KV51u\n",
       "wIOmTxch4f/2oD4Bf3JyXzYuoT0AAAA5QZ+ORREsM/8Akuv+HmEB6gW/Nl8NDx08pi3nF6gBIe8k\n",
       "HAPgW+Ybl0jAESDCp55NYluTdqwp76PgAAAAMAGfrXRCvwBNWtiUUUgU2ihoA/Kx5QAkQDo501Lr\n",
       "3OCo66DGXUDLrSaVtxzPi297gAAAAC4Bn69qQr8ATWVjQ0uqNpG5fKAZQAkQDo501Lr3OCo66DGX\n",
       "T5prDn9MdjHM297hAAAAPkGbtEmoQWyZTAh///6plgAYqMG60chOchFrxl9Ezyf2OOyzYADmkqY7\n",
       "9YEHTJ4uQ8P/6AB7En785Ll8Qh3wAAAAOEGf0kUVLDP/AJLr/h5gw3hHf+H9nvG/fGEkPpSADuLa\n",
       "QcA+Bb5huXSMARIMKivvz58yCsSgGeXMAAAALgGf8XRCvwAmrWxKbmosW/EgmVUACUAOjnTUuvc4\n",
       "KjroMZdQTOtEP1KYMsLb3uEAAAAxAZ/zakK/ACfUtNJqFsQUccWbXGlzxGoASIB0c6al17nBUddB\n",
       "jLp6LOGY/RT8v3llWwAAAEdBm/hJqEFsmUwIf//+qZYIBpiQdEr0PLK3GTLVfTE+UgS20tXnZv/A\n",
       "gHyk7/0HscxKV51uwIOmTxch4f/yDnkoSytVnY4axQAAADhBnhZFFSwz/wCS6/4eYMNRcPjHJdyA\n",
       "Q+fvnh9QAkPeSDgHwLfMNy6RgCJBhUV0+bPmQLiSQzy5gAAAADABnjV0Qr8AJ8hsSCy9+fXyGf7M\n",
       "o6UACUAOjnTUuvc4KjroMZdP19xdf6aFydcwIuAAAAAuAZ43akK/ACfU997tpnbOBaK5g1ACRAOj\n",
       "nTUuvc4KjroMZdPlmoOP1F3MG5gRcQAAADRBmjlJqEFsmUwIV//+OEAC58xg5agIwfM1ACRAOjnT\n",
       "Uuvc4KjroMZdZKW7r/43sWgwQMUwAAAJzWWIhAAS//73hH4FNwED3+qH//JB/4a/23+0njmuO7Q4\n",
       "rsg3Zap4AAADAAADAHuvjw/+x/RRhrMQB8nyAcOc76qU9GPuLlisXB4lxD0XsgqZ91C0hDaelCdj\n",
       "QbL6nyJ7ceN47rtOdpRukur2Wn1ag9fRPI8M2WHjIwfjyT29Wj8ppw6aKVgj+GXpGCNIEZa9IS+Q\n",
       "ldfPOd+w+1AR0kgKVheKPLgqZ+pkariad4PeD3Y9wxLvHnmAd4VPsB92UJNwnTfZfnPEKzoKpk7N\n",
       "s6xYKeh8D9cAy5I6mP4l/hSpUftP4euCkt1eQ9l8jmD9QgF0QnBRCgJSmzmavAuM+83lY+0CAx73\n",
       "cAJQyYl6m/mPBaMdMPNED5aOGya00SqMjUiVk3jC1Y/D1O4QuTagCsPf3W5jXrBpIEu3XRP2naOo\n",
       "G93RzdQghpQESHQClb4KddzNmruuL8ngqSuuuO4P0kYFiY5P54Anj4Gf9KkAWDGF5GWiBDHvqI2r\n",
       "kYFrdZ5RyVypv8mVwH1QbF0J8ZqNyG04MurDKw6HGTtuECzg6Y0wFCmDQsFK8VvsO4aZmnXzfS1L\n",
       "P3C6s27LCWTAag9gXH/jEQkjEGbi0A6Ymzs4DODCr13LROIPEI876Xcrv8HJNvMVId/ntVjvND8W\n",
       "eZuUTB9r2sYDHMymlGVQmuwstANLABBh9y1pVYLqvnAZmI5eV7nGUlCxz54lcWGQVcdjmnol5xuT\n",
       "/QNoTJlNVwT6asQuSTMftpeJKCSKqr6T+7OSANXCbOJMWd3i4snD0G0pqSfkNCi06j79d2DAQNDn\n",
       "T+ZFQtTG/0aNA8G3fnOn7MxvWenWJhywm/MmQAwbzA05vhYfeZcAS0zB61jbpeEIneLoOiigaW43\n",
       "kGhAEnq9o2VAu/ZAlrJqbtEHqpVHTDS8Tm9WY56xfIPa3F42gsP4m1niOF1qAmzraqKwRrLhKsnt\n",
       "xfI+GcCzDUuYSmLmlmjhbR3VMnbWmxZ6cZA3N8tqYDvay2R+hv5YlzBoSiQRwDJSgFoZSmloWCJu\n",
       "ItAaGDc9LShOEAjNlbm4I94rJqzf4nzLWi4S10/kixN9AADbKgzt8wNLNymQiw0JYLmWt0xMYlAM\n",
       "BwUisAFkj0xEk/+z2+6be7cRlCBw2Z4o3V4RrPqXkkS0NsuXQ6/9YMRDx/VhlsJA9PwbsPtGjVqZ\n",
       "bhrbCLykyvncUF+oCKladtXgmi3zOZMHkgFM9clZPiAPRQiHkU41EjkgBJmNzezxUopQIQ+45Od9\n",
       "vKqcdEJ6O8BhgQT+/1vYaV96h8IFpjSDJXDMZ/8QBuJEvWzkz1QIgvTR5zCY0vItswTaChTAfvE/\n",
       "qRzJ4hEklvsvPNjX3youvQ875FreZ9ttRVf7B5Ouh2O9aj2NyeK/yFZXH1U7JV8MJLTMSMTyyXgx\n",
       "xAj48jK+Vssj8iJERZPI+t9zhfSHLS42NciWqot2eHBF7Qk1mYZ6MrLquQrrWdVgzjlVn4pCTSPM\n",
       "JJXDEcw5z5FTi/khklpXjWGsqeaYjVBc6Pjj9/d3l9BHlKyfl/g/T7PhDdEY0TE9VItRzzzt899T\n",
       "7rgZ1zu/P8FsRyfNVR/WrIak0MhLjlfyW5vwZuAJJ/GxI5H7jv8C/LP/FPrqPcV4frm045JtXza2\n",
       "AXoyvbqchRPw+IDo4KnjnkPH///Chdrwlta/t9GsnnXqcQ04FCMbSEwBKPlYT4/a6vhLfhdLuiia\n",
       "VyQPz/LkKp3FZdkucMvr6nh7c72U3ci5a/cF/5UbVIrBu/ub/duEPlrgDeApJxtFqtU0h6OM3gcM\n",
       "aGLsgBaIOGCJzWCuh9ExnP/Ebd1nUhGNaQLuV6mrwPGvAOAxGSKqTD3MJC5k618V9uV6Ulw3KFeQ\n",
       "81Ti+q5e8MTjig5UABUVuuodWUq/0eSHdlV3yXFS9ns8oDLgE1H9+9PfFRCy0OkA0ADO3Z0QlPPT\n",
       "dJpES2YiRSTXYobH3sqcvqUEs6gqPwvlbAgFPgxWZn8NKz8HZbalkRiM71d6JXAr+2Ai4M/j8oht\n",
       "F56JIR73Wad6fyyX35z9jfQ8xh1OpgnYXttBi+tqoCMCjhEJw0uXvOvFNWAtWcg9khammvNxkixA\n",
       "Kx7OnOApOKD0RJmuPdpFN4nnsKjFbQxHLCc/isokSIKaW3o4mFMZMcJ92TTb7UynzZmn0OdBTGuO\n",
       "e26VJVeb69n5zgE2fNQCliSLbnWqc7eFORtjpZ/La4L76RJxd3FmZa0smi1Iu+TvYQYEhVwQ7tuo\n",
       "ZbMI3xECzFmZa0smi2MtQdjx24nvJC4nF4d5qr6NALvO4zoyOZI4Xegq08QdqdO//9zTR364vQB6\n",
       "jhyYKULUhubcveZUdU6+PrPL9FFgbpjDu63PxTM9q+8SGxbL26NWDe1PGfPH53vIcsD8qKxlRC2F\n",
       "6JC01GPJJytdDCIoX39mAwfOw7pFcGOKGZxCfuYkJGetLGRE0KYYzIL+f53U0Ao+Bt6Rlhcm/185\n",
       "AlUqT+NpjxT8sj+YXlb3ZmpICTTJhwf/iS0SDpUiWhuuvEjCKvnWXWXtO34FzOoXfrBi8Hz6AMnV\n",
       "YxSydYklEKPnhUYUGuPoW1GRV4ysc658XHUzH8HSEyOBVvSiywKl/sZ+0O5O+Rwdruqs/zA/p3Di\n",
       "6B5+uxE53Ifn6GwHr8dedkXqLmim/AGstXZNs6iTxneGqJmFapez0AxcwBlClqUlOw7I6DQ/SUgs\n",
       "SDyYr1W/v0QjH2xgyJtKkvn97GLnGvAbvhrpDxZSH052r1D+7T8lSRApehTxD5Gro8sAZITFvX8s\n",
       "vbvNA8kVjfJU9SyZoh5+PdJcQQNEfxbZmUd0uzlD1ZRUb8NvR+xM4zxsOmURqSO0NLWFLfZgwcMz\n",
       "runwTRDGuU3SFgEsvStFpWsy9cLFEKPWoCunfd0DhcQe4bePBPYLG9l7qTbe87srMnqdtS8nUMDT\n",
       "/xrl9BznbXlW0iAms+9f/JPH9n6SSjID5SdUYJHBnRFWZLIjZ2ansfIWGCSMjf9SrngPRi1letVX\n",
       "OpJkrQlVTUkpUgxkC9PCX7oS0/SNQpN6UJJFtXuclOahVyQtFtTUr4JczRMW2YPOZ15psdHWWuan\n",
       "fufqOB2sP5H/qLPw7OwtL3f3IHDzKhT1cuZaxWRsOMrrtzyJQAvrpJWi7OCCRgks9hblmTQcbM6A\n",
       "qa6pX+l16kOu6RhdpDxNMKFLPE0JDtG5tWGhBJKCcA4bfPru323mA+pIwtlbQ9fvowqzV1irzTmb\n",
       "2Fpe7+5ATFTAPo+lcPspXGYEJJx58rgfkAoKTZW4YAoJNRxVeA8PHySb0EE+hGTJZwktuuFeuyc2\n",
       "VDz+QI61Nwa3LXfg7Z4h3gfTHuT4AAADAW0AAADFQZokbEP//qmWEwKRwBNffNd+BSd6+roe/72w\n",
       "NwZPlhpzY7mlytaLGB8Z16YnBUefy7MORgPYmYYYS5c75NkQrh2c6k+FqNeS9NvWnAkJdklIE/6/\n",
       "rgdPJ1Sy4eIff/QV5HGa2RUKQaUpxgBvyDM32m5iew9n5UtdPRjEB/QtefeQfO7jlcOdKEZYJcvi\n",
       "r5qB4TtT6cXifffpKk1NotLIFFag3dO2WBn/+OzBEDu9/81QHtz0x8G1xcnV3vOpc2w656lUOWEA\n",
       "AACBQZ5CeIZ/AhXveMWl/lAGNLYU4cYIOxggozHA4A1a2/5iADt+9phm6XbxivZrBVSu+6EbaKXS\n",
       "ObdWskpEapZrZ1RyY6LjDlaQKwfKjf1pUBVu+JiSIMRx/DIWBrnDNoDCinMAp/HyfUBK/PhK/1gu\n",
       "HX4XNtwmnFYlkmaumz30qhTQAAAATwGeYXRCvwOZsUWRR+RzWKUsGdYMpRqXLzm1AB27lxHXttz6\n",
       "UUZz8gwcQrWpNjGSnyQrqBeTHhEqMZioD98vnIFvd/ALwbEqWzqV8kM1EYkAAABIAZ5jakK/ACfL\n",
       "EJRhoHM77+tJfUCCLLvACaQyl10QZAlITXfhPXN/IpXDXJhz6zq5RUEMTQoSAZodyAzibGrve7qa\n",
       "Ph+QEjfxAAAAfUGaaEmoQWiZTAh///6plggGmJDmNeh5ZW4yZt1bLUB9Sx2d8wtcA/P9esTsxtuU\n",
       "g5KhmI6Eru0ikhdDxB38P/wP6fL+gKG7w9FUVZHt+b3B4Yd1jIs7OgGfDZHALydAp0thp0gxlBG1\n",
       "rALEpjGR+cqBjqty2BlDwXdqlU/wAAAAUkGehkURLDP/ABWVM48o5zmAjCEKiJjw4BtTDdoi4IsA\n",
       "D91h3vch3abWt9YpkNmPdctIOAfAt8w3LpGAIkEwR8AHJXs5S7mKQqNQ6rjTIS9KoqsAAABAAZ6l\n",
       "dEK/ACfIbEp50CTC2CfWaTy1JC+TChfLmoAO3cuIpQ8cIPBUddBjHBM4REGK6a2dCsLz6d3TDo3P\n",
       "Lp4TTgAAADoBnqdqQr8AFHp77kDt75Wp+g28ROJ5E4AZAB27lxFKHjhB4KjroMY4IsiFY5JZCG/v\n",
       "gjls0nx4okODAAAATUGarEmoQWyZTAh3//6plgAMpaEWXHgsCOJfSGrAJkTBY211lAi//b2T6/Jm\n",
       "O/uBda/GBBvyTCMWmF/hobDeD04IjdFVHJaqW5BK6npVAAAAQkGeykUVLDP/AAsSESceCMIbKJMy\n",
       "+JdrF66+Gs433sQAdv3tLoArmmdd2awVUruwIjihJ2SiJLgiKgh2wn4FkLCOgAAAADoBnul0Qr8A\n",
       "FHQ2IpK6M90v0CKFCFKGch6gA7dy4ilDxwg8FR10GMcE9tFAcmepX4UjU7AWZ84okOCAAAAANwGe\n",
       "62pCvwAUenvvbf3IfYJoDJGUYZAB27lxFKHjhB4KjroMY4JYiIY6XkhWOFLV02kmj13iUUEAAABD\n",
       "QZrwSahBbJlMCHf//qmWAAyloRZl6YI+HVj+jnUzR4n3AwcwCeEAX2AykHTHX9w8P/7aDN3t0H3Z\n",
       "ZDNa8sjJvAd6vgAAAEBBnw5FFSwz/wALEhEnLQ/L2xiSiKKSnzt5tAVriQgA7fvaXQBXNM67s1gq\n",
       "pXdgQeNAjtEhJSO4p+mP01CT3jlFAAAANwGfLXRCvwAUdDYlLftftTP5qVPz4FACQ1ijnTUuvc4K\n",
       "jroMY4KGKMY6YaplNy0JdNpJo9d4lFAAAAA4AZ8vakK/ABR1iEpDIkrN/GgOJ7GT1FAB27lxFKHj\n",
       "hB4KjroMY4JEiE46UeBWB9Xq4LRzO67xKKEAAABCQZsxSahBbJlMCH///qmWAAylUkIprTLWP6pd\n",
       "TvHif+hQZgE8KV51vXND8rfDHcZ//LG5frgDi3q8zXGosNH4DvV9AAAARUGbVUnhClJlMCH//qmW\n",
       "AAy3F7oGNtpS9mAAuXRIphUbag6oxZKjY47HiBJSvOt2BB0yeLkPD/+1AfAJfUrl+xVH7HKptwAA\n",
       "ADhBn3NFNEwz/wALEjBOWK94uKopAIF9V3o/1AB3FtIOAfAt8w3LpGAIkGFR5usbTZ2iXRDQuZ+I\n",
       "uQAAADABn5J0Qr8AFHQ2JRRSAh48F1elAB3GijnTUuvc4KjroMZdQyTk3L1ee2o29XAkETAAAAAu\n",
       "AZ+UakK/ABR22bWfHbq985OQAdxoo501Lr3OCo66DGXUAzrDj+dPdyGjXQYnIwAAAD9Bm5lJqEFo\n",
       "mUwIf//+qZYABno18cXk9/0T/xH4UZ2bf/QoMwBzSVMd+sCDpk8XIeH/+F58Oi5AK3pmVT0EE20A\n",
       "AAA3QZ+3RREsM/8ABa4FnxOlvr3L+K0P3RnLBAAk/eSDgHwLfMNy6RgCJBhUYRrA3+dXWz7fpU/i\n",
       "LgAAAC4Bn9Z0Qr8ACjsImDxp5pZVkACUAOjnTUuvc4KjroMZdQSSkjS19Y2uqOibmDbAAAAALwGf\n",
       "2GpCvwAKhHptHAyrd3fSCEAHcaKOdNS69zgqOugxl1BZKOlLVhjaTbz92QRNAAAAPkGb3UmoQWyZ\n",
       "TAh///6plgAGes6Qy5BXZliic+XdN/+hgMABzSVMd+sCDpk8XIeH/9DDej5XYuTem9zxfY8vAAAA\n",
       "OEGf+0UVLDP/AAWtGCcVb5KcTfI1NO9V+iAIAEn7yQcA+Bb5huXSMARIMKjQNYW/zta2gb9Yn8Rd\n",
       "AAAAMAGeGnRCvwAKgwiNctFCgD76qwgA7jRRzpqXXucFR10GMuoPbUuV6tYbTPengSCJgAAAAC8B\n",
       "nhxqQr8ACoR6bRwMq3d30ghAB3GijnTUuvc4KjroMZdQWSjpS1YY2k28/dkETAAAAD9BmgFJqEFs\n",
       "mUwId//+qZYABoOLzILFT2SoB4aYzGtlwkS/NQCCJaVxgZSDpjr+4eH/8/w9F1+NAz6ZnM59jy8A\n",
       "AAA5QZ4/RRUsM/8ABa2rxzeSpYSjI0OVr07bPw1wAdxbSDgHwLfMNy6RgCJBhUbBuAJ+eDNNV0Lx\n",
       "4CygAAAAMgGeXnRCvwAKgwiNcszLyL+IJjU9kAHcaKOdNS69zgqOugxl1A860alpD9tDd5rqseOA\n",
       "AAAAMQGeQGpCvwAKhHptG74C0nmkxpOiADuNFHOmpde5wVHXQYy6fuNRx/xP3uOkaTiseOEAAAA/\n",
       "QZpFSahBbJlMCHf//qmWAAM9DI3IE23LyqDH/vn56N+4GB2ZJC9U2BlIOmOv7h4f/4Vvw0HkB8+w\n",
       "qRFFZ6qAAAAAN0GeY0UVLDP/AAM3qSMF6jdqgFmi1lUB8oQAdxbSDgHwLfMNy6RgCJBhUbhrFX+d\n",
       "bWzrfqo/iLkAAAAvAZ6CdEK/AAVBh0XtZov1IyVYQAdxoo501Lr3OCo66DGXUHtqXK9WsNpnvTwJ\n",
       "BE0AAAAvAZ6EakK/AAVCN86vy14FSMiCEAHcaKOdNS69zgqOugxl1BZKOlLVhjaTbz92QRMAAAA/\n",
       "QZqGSahBbJlMCH///qmWAAM9VI8teYDzy4HN/dHzzT/6E/2ZJJUx37XND8rfDHcZ//UseEo8gEfw\n",
       "Pof4rPVRAAAAPkGaqknhClJlMCH//qmWAAM9UpT6jcBN6YWf/2b9ZRHFJAAJ9JVYf6vBCa9KX3D/\n",
       "/JhATH31zf2bnqAcqm2AAAAAJUGeyEU0TDP/AAM3qSMF6jdqfdqRayqCmuafaue6eqF2jY2cT0EA\n",
       "AAAYAZ7ndEK/AAVDpScjSIyh164cDI2fcBcjAAAAGQGe6WpCvwAFQj02jjN43ieyZ09i4aOqKIAA\n",
       "AAApQZruSahBaJlMCHf//qmWAANBxehr0dkXIB8aAIPn+TeRNpZagSE7s2AAAAAfQZ8MRREsM/8A\n",
       "AzepIwnKbqWC96z1aJFiUdhhfewQcQAAABgBnyt0Qr8ABUOlJyNIjEZj2mb7hg1h5n0AAAASAZ8t\n",
       "akK/AAVBuN28w1C1aI79AAAAIEGbMkmoQWyZTAh3//6plgABnobImQaSiH3NqHz/GqDgAAAAGEGf\n",
       "UEUVLDP/AAM3qJHziN6cRP+5W8CYEQAAABIBn290Qr8AA2ADDNHNHuWToIEAAAARAZ9xakK/AANg\n",
       "7icGmEvNLAkAAAAeQZtzSahBbJlMCH///qmWAAGekFDlIVy6FgbP9i13AAAAH0Gbl0nhClJlMCH/\n",
       "/qmWAAGejbFxkhW/oAXMg/7MqYAAAAAZQZ+1RTRMM/8AAzeokelkKW19ZISgT9JQEAAAABEBn9R0\n",
       "Qr8AA2ADDvJgxyaWBQAAABMBn9ZqQr8AA2DuJ/DzrNuxX5U+AAAAH0Gb20moQWiZTAh///6plgAB\n",
       "oOL3KvJ9DdfJl8GAaqAAAAAbQZ/5RREsM/8AAzeokfOI2knXY4aSyEgMxUCBAAAAEwGeGHRCvwAD\n",
       "YAMO8mDHG/Vy2vkAAAARAZ4aakK/AANg7hG6dnTBIIEAAAAZQZofSahBbJlMCH///qmWAADKRXoS\n",
       "gZCTgAAAABdBnj1FFSwz/wADN6iR84M2/JnUV3EMNAAAABABnlx0Qr8AA2ACFduFgyVBAAAAEAGe\n",
       "XmpCvwADYO1ZZaqkDJUAAAAdQZpDSahBbJlMCH///qmWAADKRXoccENX9X0BezAAAAAYQZ5hRRUs\n",
       "M/8AAzeokfODNvyZ06yPl3x7AAAAEAGegHRCvwADYAIV+BJhkqAAAAASAZ6CakK/AANg7VllqqPl\n",
       "DDuBAAAAIkGah0moQWyZTAh///6plgAAy3F7oGPd3GgU2ksSmf/18HkAAAAaQZ6lRRUsM/8AAzeo\n",
       "kfODNvyV7z9BtaRe8cwAAAASAZ7EdEK/AANgAhXvS0yyrq6DAAAAEwGexmpCvwADYO1ZZaqjrUCs\n",
       "Yy4AAAAfQZrLSahBbJlMCH///qmWAABlIu7pHHFYhP/Vf/sZAwAAABlBnulFFSwz/wADN6iR84J5\n",
       "/kzk1CKhMcwJAAAAEgGfCHRCvwADYAH3V6Wj74z8kgAAABIBnwpqQr8AA2DtQrLVT0SM/JIAAAAb\n",
       "QZsPSahBbJlMCH///qmWAABluL2ZlGA8rmO9AAAAGEGfLUUVLDP/AAM3qJHzgnoMjqB9bJeXOgAA\n",
       "ABEBn0x0Qr8AA2AB90saiMIESQAAABEBn05qQr8AA2DtQiJ4yQOPgAAAABtBm1NJqEFsmUwIf//+\n",
       "qZYAAGKi/AJQKjVkbuEAAAAYQZ9xRRUsM/8AAzeokfOCdXr6XRMsa749AAAAEAGfkHRCvwADYAH2\n",
       "p6Wmhx8AAAASAZ+SakK/AANg7UIieMjrUMsHAAAAIUGbl0moQWyZTAh///6plgAAYzi90DH8AkwN\n",
       "5JeJO/4KPgAAAB1Bn7VFFSwz/wADN6iR84J1evpbdm298DS966r9LQAAABQBn9R0Qr8AA2AB9pmZ\n",
       "UNpIgSrY+QAAABQBn9ZqQr8AA2DtQiLVT0SLcdU1KAAAABtBm9tJqEFsmUwId//+qZYAADGcXmJC\n",
       "HaHI5Y4AAAAYQZ/5RRUsM/8AAzeokfOCGQZHUO+Dry51AAAAEQGeGHRCvwADYAHn1YNEFslLAAAA\n",
       "EAGeGmpCvwADYO02zKLLDSEAAAAZQZofSahBbJlMCHf//qmWAAAwEDpTPXMpIAAAABdBnj1FFSwz\n",
       "/wADN6iR84IWvX2GZTEMNAAAABABnlx0Qr8AA2AB53zMqQRpAAAAEAGeXmpCvwADYO02yWTqNIAA\n",
       "AABAQZpDSahBbJlMCG///qeEAABf+ExWPagBqmZi47ukPw/l+YlkLY+ZLbysbognXZi47OXZgaie\n",
       "43BgnVYwUUZE+AAAABpBnmFFFSwz/wADN6iR84IWvX2BTCnmIGWV0QAAABMBnoB0Qr8AA2AB53ye\n",
       "Y/al537YAAAAEwGegmpCvwADYO02zLpXEAa/9oEAAAAYQZqESahBbJlMCG///qeEAABc8ZzKBVDx\n",
       "AAAAFkGapUnhClJlMCG//qeEAABc8mZL+LAAAAAZQZrGSeEOiZTAhv/+p4QAAFzxnMoDaXoFMQAA\n",
       "ABlBmudJ4Q8mUwId//6plgAALtp47Ecr7IT4AAAAGEGbCEnhDyZTAh3//qmWAAAu2s0dnZjlMQAA\n",
       "AB5BmyxJ4Q8mUwId//6plgAALxzzCZKCd9VfRsy6TMEAAAAZQZ9KRRE8M/8AAzeoaLuR4B/L7Sbe\n",
       "76G2oAAAABEBn2l0Qr8AAEtaGUyerJqNSwAAABEBn2tqQr8AAEteokGlFMVYsQAAABpBm21JqEFo\n",
       "mUwIf//+qZYAAC3nbHsBXlYOugAAAEBBm5FJ4QpSZTAh//6plgAALfzzNR4yHgAGRbWrzp1/MaD2\n",
       "xpPPWqcpsD3S/OIYH4kivJwCCe+KLvH+0PV3kddBAAAAGEGfr0U0TDP/AAM3qGiog3H180asgXxq\n",
       "gAAAAA8Bn850Qr8AAEl3aXXVWF0AAAAPAZ/QakK/AAAkubYwsU4hAAAAREGb1UmoQWiZTAh///6p\n",
       "lgAAFt3J4UNin4oADkyjoQUGKKYV9xj1Hv9QVWSA74xyNQ7L++NewB/SgXfIhlpHPSls02spAAAA\n",
       "F0Gf80URLDP/AAM3qGc0HjYS8TtkjSKZAAAADwGeEnRCvwAAJK0L+dwNCAAAAA8BnhRqQr8AACSv\n",
       "USDTPMwAAABMQZoZSahBbJlMCH///qmWAAAWbnlO9AAyr4DDTVD4GBJFz9TZgbdribI08+UEnMjr\n",
       "u2VnsnmD+/EOwV54RBGPfwy3qu64gWxETZLA4QAAABhBnjdFFSwz/wADN6hnND/NsBWNDjnqjsAA\n",
       "AAAPAZ5WdEK/AAAkrq05OGhAAAAAEQGeWGpCvwAAI7m6kneAubetAAAAWEGaXUmoQWyZTAh///6p\n",
       "lgAAFk3J4UCyNmZ/wAAE62MwekSM/PDzml0yRQwsiYatSnpkFXoiwuESOGYup7z8ny8RfV+2kXe9\n",
       "49EKqBbBD+v6kGp7ptsqzG8AAAAYQZ57RRUsM/8AAzeoZysgMAYJJUipJ0RxAAAAEQGemnRCvwAA\n",
       "I60MgKDzvCWcAAAAEAGenGpCvwAAI5x14nEu08gAAAAfQZqBSahBbJlMCH///qmWAAAWUVM7g8Wm\n",
       "5D0Auvdk4QAAABRBnr9FFSwz/wADN6hnIh4JlH38uAAAAA4Bnt50Qr8AACKtDPwDgAAAAA0BnsBq\n",
       "Qr8AACKv3+APAAAAGkGaxUmoQWyZTAh///6plgAAFd55kGZYINruAAAAFkGe40UVLDP/AAM3qGci\n",
       "H/0Ygfx1YiEAAAAPAZ8CdEK/AAAiu7RuzG1BAAAADwGfBGpCvwAAIq9RINM9FAAAABlBmwlJqEFs\n",
       "mUwIf//+qZYAABUtyF9bpI+BAAAAFEGfJ0UVLDP/AAM3qGcZeruzz2w8AAAADQGfRnRCvwAAIbu0\n",
       "xlsAAAANAZ9IakK/AAAhr1H4EwAAAB1Bm01JqEFsmUwId//+qZYAABVOeYPzGg+LQiOo4AAAABdB\n",
       "n2tFFSwz/wADN6hnGXq58psqTHncOAAAAA8Bn4p0Qr8AACG7tG7Mb8EAAAAQAZ+MakK/AAAhr1ud\n",
       "qGuDfgAAABlBm5FJqEFsmUwId//+qZYAABSdIRtdxB6BAAAAFEGfr0UVLDP/AAM3qGcQervDz2Am\n",
       "AAAADQGfznRCvwAAILu0xmUAAAANAZ/QakK/AAAgufr+ZQAAAB9Bm9VJqEFsmUwIb//+p4QAACjY\n",
       "nCs5DvwUCzB/8L2hAAAAFkGf80UVLDP/AAM3qGcQero271nXBbsAAAAPAZ4SdEK/AAAgu7RuzHLA\n",
       "AAAADwGeFGpCvwAAIK9RINM9XAAAAB1BmhZJqEFsmUwId//+qZYAACgaeOII71bJ6iNjEwAAABhB\n",
       "mjdJ4QpSZTAh3/6plgAAKBrNHLHTWE8AAAAaQZpbSeEOiZTAh3/+qZYAACgaSglPGi7IaYAAAAAX\n",
       "QZ55RRE8M/8AAzeoaE5AYLcAO7emPqEAAAAPAZ6YdEK/AAA/egbrcIEvAAAADwGemmpCvwAAP30F\n",
       "qatqvQAAAB5BmpxJqEFomUwIf//+qZYAACgcCmqWlv6AFyv+qswAAAAgQZqgSeEKUmUwIf/+qZYA\n",
       "AChc8yHuoDBD4dAsk8/zB9QAAAAaQZ7eRTRMM/8AAzeoaE71lEDanrYuM6fTjoEAAAARAZ79dEK/\n",
       "AAA/jbTgqbU+TDgAAAAPAZ7/akK/AAA/gKbYts2LAAAAU0Ga5EmoQWiZTAh///6plgAAJz1ZnWgA\n",
       "lx16DzMxXhdrOd9HBfqS02ww1WgTRXuFokpxDSWraQKxaQYyY5y39JaIaYx76HDsATYsieL5w1BC\n",
       "qEL1AAAAGEGfAkURLDP/AAM3qGq6HKPKor7lH67ywAAAAA4BnyF0Qr8AAD4twZFQcwAAABABnyNq\n",
       "Qr8AAHxZ2B0z4eqxAAAAK0GbKEmoQWyZTAh///6plgAATnq2s3e6UvyIZA6/gAc2ej///9pA21/8\n",
       "FfgAAAAZQZ9GRRUsM/8AAzeoarj/j0gQSfrk07FZgQAAABEBn2V0Qr8AAHw4lg/dKz7VYAAAABIB\n",
       "n2dqQr8AAHmZ5goqysF57FEAAAAcQZtsSahBbJlMCH///qmWAAAnPVtR4clMrd9DPwAAABlBn4pF\n",
       "FSwz/wADN6hql5tfDlCBgjIC38egAAAAEQGfqXRCvwAAeXimCaHQoHsUAAAADwGfq2pCvwAAeZnY\n",
       "EWsVIQAAAB9Bm7BJqEFsmUwIf//+qZYAAEwMUqAjKlv6AFyv+p44AAAAGUGfzkUVLDP/AAM3qGqV\n",
       "snbC1D9B866KslkAAAAQAZ/tdEK/AAB4cHf6WUnOqQAAABIBn+9qQr8AAHl6I0lzgfCAdzUAAAAh\n",
       "QZv0SahBbJlMCH///qmWAABMeraM0jALpVe/twHN+6RBAAAAGUGeEkUVLDP/AAM3qGqVsna9kD2m\n",
       "2d0f/dEAAAASAZ4xdEK/AAB5dQpBSt+JIE5pAAAAEwGeM2pCvwAAeXuVjuI3k5AuldAAAAAZQZo4\n",
       "SahBbJlMCH///qmWAABKDEjAJrH9MAAAABVBnlZFFSwz/wADN6hqdbJ2ydt2p80AAAAPAZ51dEK/\n",
       "AAB2pagSk+HAAAAADgGed2pCvwAAdruVlz4cAAAAGUGafEmoQWyZTAh///6plgAASgw+gJrH9MEA\n",
       "AAAVQZ6aRRUsM/8AAzeoanXD3ENZPy85AAAADgGeuXRCvwAAdt0WRT4dAAAADwGeu2pCvwAAdpbV\n",
       "cs5YsAAAAB9BmqBJqEFsmUwIf//+qZYAAJQYfQj6VLf0ALlf9S6YAAAAGkGe3kUVLDP/AAM3qG8r\n",
       "h6hF1j8947ArFLdBAAAAEQGe/XRCvwAA7cXwSrLkRr2AAAAAEgGe/2pCvwAA7XcrHcRwHPCHSAAA\n",
       "AB9BmuRJqEFsmUwIf//+qZYAAJT1bUbhxhJpKoW2XaAfAAAAGUGfAkUVLDP/AAM3qG8rpXDJr7LE\n",
       "MNQcN7oAAAAUAZ8hdEK/AADtuix6/HGRVH7pq4EAAAAPAZ8jakK/AADtgt8BBN+BAAAAGUGbKEmo\n",
       "QWyZTAh3//6plgAAkCf2CS+xr5gAAAAVQZ9GRRUsM/8AAzeobuulcQsafl5xAAAADgGfZXRCvwAA\n",
       "5+oUlzweAAAADQGfZ2pCvwAA6BvLng8AAAAcQZtsSahBbJlMCHf//qmWAAEgJvQ2/3X2uRpswQAA\n",
       "ABZBn4pFFSwz/wADN6h4G/i24FPNDxboAAAADgGfqXRCvwAA6Dosing8AAAADwGfq2pCvwAB0H8i\n",
       "WN3l9wAAABlBm61JqEFsmUwIf//+qZYAASBOL0U1ply8AAAAGkGb0UnhClJlMCHf/qmWAAEgKbFt\n",
       "/ycdcabNAAAAFkGf70U0TDP/AAM3qHgXSuIMCd9buZgAAAAQAZ4OdEK/AAHP+ktc5bRzfwAAAA0B\n",
       "nhBqQr8AAdA3lzsPAAAAGUGaFUmoQWiZTAh3//6plgABICxPGX5g2YEAAAAUQZ4zRREsM/8AAzeo\n",
       "eBoIT3lPAscAAAAOAZ5SdEK/AAHQsaXZh4AAAAAOAZ5UakK/AAHQNZGdh4AAAAAaQZpZSahBbJlM\n",
       "CGf//p4QABFRT/l3QkuWmBEAAAAVQZ53RRUsM/8AAzeonp6jKJ7Ms+9LAAAADQGelnRCvwAB0LMp\n",
       "Ow8AAAAQAZ6YakK/AAOg/kULkiT7gQAAABlBmptJqEFsmUwUTCv//jhAAENKTV9hNgurAAAAFAGe\n",
       "umpCvwAF+sW43gHJreZqXm6BAAAkaW1vb3YAAABsbXZoZAAAAAAAAAAAAAAAAAAAA+gAAIygAAEA\n",
       "AAEAAAAAAAAAAAAAAAABAAAAAAAAAAAAAAAAAAAAAQAAAAAAAAAAAAAAAAAAQAAAAAAAAAAAAAAA\n",
       "AAAAAAAAAAAAAAAAAAAAAAAAAAIAACOTdHJhawAAAFx0a2hkAAAAAwAAAAAAAAAAAAAAAQAAAAAA\n",
       "AIygAAAAAAAAAAAAAAAAAAAAAAABAAAAAAAAAAAAAAAAAAAAAQAAAAAAAAAAAAAAAAAAQAAAAAGw\n",
       "AAABIAAAAAAAJGVkdHMAAAAcZWxzdAAAAAAAAAABAACMoAAABAAAAQAAAAAjC21kaWEAAAAgbWRo\n",
       "ZAAAAAAAAAAAAAAAAAAAKAAABaAAVcQAAAAAAC1oZGxyAAAAAAAAAAB2aWRlAAAAAAAAAAAAAAAA\n",
       "VmlkZW9IYW5kbGVyAAAAIrZtaW5mAAAAFHZtaGQAAAABAAAAAAAAAAAAAAAkZGluZgAAABxkcmVm\n",
       "AAAAAAAAAAEAAAAMdXJsIAAAAAEAACJ2c3RibAAAAJZzdHNkAAAAAAAAAAEAAACGYXZjMQAAAAAA\n",
       "AAABAAAAAAAAAAAAAAAAAAAAAAGwASAASAAAAEgAAAAAAAAAAQAAAAAAAAAAAAAAAAAAAAAAAAAA\n",
       "AAAAAAAAAAAAAAAAABj//wAAADBhdmNDAfQAFf/hABdn9AAVkZsoNhLQgAAAAwCAAAAUB4sWywEA\n",
       "Bmjr48RIRAAAABhzdHRzAAAAAAAAAAEAAALQAAACAAAAABxzdHNzAAAAAAAAAAMAAAABAAAA+wAA\n",
       "AfUAABYgY3R0cwAAAAAAAALCAAAAAQAABAAAAAABAAAKAAAAAAEAAAQAAAAAAQAAAAAAAAABAAAC\n",
       "AAAAAAEAAAoAAAAAAQAABAAAAAABAAAAAAAAAAEAAAIAAAAAAQAACgAAAAABAAAEAAAAAAEAAAAA\n",
       "AAAAAQAAAgAAAAABAAAKAAAAAAEAAAQAAAAAAQAAAAAAAAABAAACAAAAAAEAAAoAAAAAAQAABAAA\n",
       "AAABAAAAAAAAAAEAAAIAAAAAAQAACgAAAAABAAAEAAAAAAEAAAAAAAAAAQAAAgAAAAABAAAKAAAA\n",
       "AAEAAAQAAAAAAQAAAAAAAAABAAACAAAAAAEAAAoAAAAAAQAABAAAAAABAAAAAAAAAAEAAAIAAAAA\n",
       "AQAACgAAAAABAAAEAAAAAAEAAAAAAAAAAQAAAgAAAAABAAAKAAAAAAEAAAQAAAAAAQAAAAAAAAAB\n",
       "AAACAAAAAAEAAAoAAAAAAQAABAAAAAABAAAAAAAAAAEAAAIAAAAAAQAACgAAAAABAAAEAAAAAAEA\n",
       "AAAAAAAAAQAAAgAAAAABAAAKAAAAAAEAAAQAAAAAAQAAAAAAAAABAAACAAAAAAEAAAoAAAAAAQAA\n",
       "BAAAAAABAAAAAAAAAAEAAAIAAAAAAQAACgAAAAABAAAEAAAAAAEAAAAAAAAAAQAAAgAAAAABAAAE\n",
       "AAAAAAEAAAoAAAAAAQAABAAAAAABAAAAAAAAAAEAAAIAAAAAAQAACgAAAAABAAAEAAAAAAEAAAAA\n",
       "AAAAAQAAAgAAAAABAAAKAAAAAAEAAAQAAAAAAQAAAAAAAAABAAACAAAAAAEAAAoAAAAAAQAABAAA\n",
       "AAABAAAAAAAAAAEAAAIAAAAAAQAACgAAAAABAAAEAAAAAAEAAAAAAAAAAQAAAgAAAAABAAAKAAAA\n",
       "AAEAAAQAAAAAAQAAAAAAAAABAAACAAAAAAEAAAoAAAAAAQAABAAAAAABAAAAAAAAAAEAAAIAAAAA\n",
       "AQAACgAAAAABAAAEAAAAAAEAAAAAAAAAAQAAAgAAAAABAAAKAAAAAAEAAAQAAAAAAQAAAAAAAAAB\n",
       "AAACAAAAAAEAAAoAAAAAAQAABAAAAAABAAAAAAAAAAEAAAIAAAAAAQAACgAAAAABAAAEAAAAAAEA\n",
       "AAAAAAAAAQAAAgAAAAABAAAKAAAAAAEAAAQAAAAAAQAAAAAAAAABAAACAAAAAAEAAAoAAAAAAQAA\n",
       "BAAAAAABAAAAAAAAAAEAAAIAAAAAAQAACgAAAAABAAAEAAAAAAEAAAAAAAAAAQAAAgAAAAABAAAK\n",
       "AAAAAAEAAAQAAAAAAQAAAAAAAAABAAACAAAAAAEAAAQAAAAAAQAACgAAAAABAAAEAAAAAAEAAAAA\n",
       "AAAAAQAAAgAAAAABAAAKAAAAAAEAAAQAAAAAAQAAAAAAAAABAAACAAAAAAEAAAoAAAAAAQAABAAA\n",
       "AAABAAAAAAAAAAEAAAIAAAAAAQAACgAAAAABAAAEAAAAAAEAAAAAAAAAAQAAAgAAAAABAAAKAAAA\n",
       "AAEAAAQAAAAAAQAAAAAAAAABAAACAAAAAAEAAAoAAAAAAQAABAAAAAABAAAAAAAAAAEAAAIAAAAA\n",
       "AQAACgAAAAABAAAEAAAAAAEAAAAAAAAAAQAAAgAAAAABAAAKAAAAAAEAAAQAAAAAAQAAAAAAAAAB\n",
       "AAACAAAAAAEAAAoAAAAAAQAABAAAAAABAAAAAAAAAAEAAAIAAAAAAQAACgAAAAABAAAEAAAAAAEA\n",
       "AAAAAAAAAQAAAgAAAAABAAAEAAAAAAEAAAoAAAAAAQAABAAAAAABAAAAAAAAAAEAAAIAAAAAAQAA\n",
       "CgAAAAABAAAEAAAAAAEAAAAAAAAAAQAAAgAAAAABAAAKAAAAAAEAAAQAAAAAAQAAAAAAAAABAAAC\n",
       "AAAAAAEAAAoAAAAAAQAABAAAAAABAAAAAAAAAAEAAAIAAAAAAQAABAAAAAABAAAKAAAAAAEAAAQA\n",
       "AAAAAQAAAAAAAAABAAACAAAAAAEAAAoAAAAAAQAABAAAAAABAAAAAAAAAAEAAAIAAAAAAwAABAAA\n",
       "AAABAAAKAAAAAAEAAAQAAAAAAQAAAAAAAAABAAACAAAAAAEAAAoAAAAAAQAABAAAAAABAAAAAAAA\n",
       "AAEAAAIAAAAAAQAACgAAAAABAAAEAAAAAAEAAAAAAAAAAQAAAgAAAAABAAAKAAAAAAEAAAQAAAAA\n",
       "AQAAAAAAAAABAAACAAAAAAEAAAoAAAAAAQAABAAAAAABAAAAAAAAAAEAAAIAAAAAAQAACgAAAAAB\n",
       "AAAEAAAAAAEAAAAAAAAAAQAAAgAAAAABAAAKAAAAAAEAAAQAAAAAAQAAAAAAAAABAAACAAAAAAEA\n",
       "AAoAAAAAAQAABAAAAAABAAAAAAAAAAEAAAIAAAAAAQAACgAAAAABAAAEAAAAAAEAAAAAAAAAAQAA\n",
       "AgAAAAABAAAKAAAAAAEAAAQAAAAAAQAAAAAAAAABAAACAAAAAAEAAAoAAAAAAQAABAAAAAABAAAA\n",
       "AAAAAAEAAAIAAAAAAQAACgAAAAABAAAEAAAAAAEAAAAAAAAAAQAAAgAAAAAFAAAEAAAAAAEAAAoA\n",
       "AAAAAQAABAAAAAABAAAAAAAAAAEAAAIAAAAAAgAABAAAAAABAAAKAAAAAAEAAAQAAAAAAQAAAAAA\n",
       "AAABAAACAAAAAAEAAAoAAAAAAQAABAAAAAABAAAAAAAAAAEAAAIAAAAAAQAACgAAAAABAAAEAAAA\n",
       "AAEAAAAAAAAAAQAAAgAAAAABAAAKAAAAAAEAAAQAAAAAAQAAAAAAAAABAAACAAAAAAEAAAoAAAAA\n",
       "AQAABAAAAAABAAAAAAAAAAEAAAIAAAAAAQAACgAAAAABAAAEAAAAAAEAAAAAAAAAAQAAAgAAAAAB\n",
       "AAAKAAAAAAEAAAQAAAAAAQAAAAAAAAABAAACAAAAAAEAAAoAAAAAAQAABAAAAAABAAAAAAAAAAEA\n",
       "AAIAAAAAAQAACgAAAAABAAAEAAAAAAEAAAAAAAAAAQAAAgAAAAABAAAKAAAAAAEAAAQAAAAAAQAA\n",
       "AAAAAAABAAACAAAAAAEAAAQAAAAAAQAACgAAAAABAAAEAAAAAAEAAAAAAAAAAQAAAgAAAAABAAAE\n",
       "AAAAAAEAAAoAAAAAAQAABAAAAAABAAAAAAAAAAEAAAIAAAAAAQAACgAAAAABAAAEAAAAAAEAAAAA\n",
       "AAAAAQAAAgAAAAABAAAKAAAAAAEAAAQAAAAAAQAAAAAAAAABAAACAAAAAAEAAAoAAAAAAQAABAAA\n",
       "AAABAAAAAAAAAAEAAAIAAAAAAQAACgAAAAABAAAEAAAAAAEAAAAAAAAAAQAAAgAAAAABAAAKAAAA\n",
       "AAEAAAQAAAAAAQAAAAAAAAABAAACAAAAAAEAAAoAAAAAAQAABAAAAAABAAAAAAAAAAEAAAIAAAAA\n",
       "AQAACgAAAAABAAAEAAAAAAEAAAAAAAAAAQAAAgAAAAABAAAKAAAAAAEAAAQAAAAAAQAAAAAAAAAB\n",
       "AAACAAAAAAEAAAoAAAAAAQAABAAAAAABAAAAAAAAAAEAAAIAAAAAAQAACgAAAAABAAAEAAAAAAEA\n",
       "AAAAAAAAAQAAAgAAAAABAAAKAAAAAAEAAAQAAAAAAQAAAAAAAAABAAACAAAAAAEAAAQAAAAAAQAA\n",
       "CgAAAAABAAAEAAAAAAEAAAAAAAAAAQAAAgAAAAABAAAKAAAAAAEAAAQAAAAAAQAAAAAAAAABAAAC\n",
       "AAAAAAEAAAoAAAAAAQAABAAAAAABAAAAAAAAAAEAAAIAAAAAAQAACgAAAAABAAAEAAAAAAEAAAAA\n",
       "AAAAAQAAAgAAAAABAAAKAAAAAAEAAAQAAAAAAQAAAAAAAAABAAACAAAAAAEAAAoAAAAAAQAABAAA\n",
       "AAABAAAAAAAAAAEAAAIAAAAAAQAACgAAAAABAAAEAAAAAAEAAAAAAAAAAQAAAgAAAAABAAAKAAAA\n",
       "AAEAAAQAAAAAAQAAAAAAAAABAAACAAAAAAEAAAoAAAAAAQAABAAAAAABAAAAAAAAAAEAAAIAAAAA\n",
       "AQAACgAAAAABAAAEAAAAAAEAAAAAAAAAAQAAAgAAAAABAAAKAAAAAAEAAAQAAAAAAQAAAAAAAAAB\n",
       "AAACAAAAAAEAAAoAAAAAAQAABAAAAAABAAAAAAAAAAEAAAIAAAAAAQAACgAAAAABAAAEAAAAAAEA\n",
       "AAAAAAAAAQAAAgAAAAABAAAKAAAAAAEAAAQAAAAAAQAAAAAAAAABAAACAAAAAAEAAAoAAAAAAQAA\n",
       "BAAAAAABAAAAAAAAAAEAAAIAAAAAAQAACgAAAAABAAAEAAAAAAEAAAAAAAAAAQAAAgAAAAACAAAE\n",
       "AAAAAAEAAAoAAAAAAQAABAAAAAABAAAAAAAAAAEAAAIAAAAAAQAABAAAAAABAAAKAAAAAAEAAAQA\n",
       "AAAAAQAAAAAAAAABAAACAAAAAAEAAAQAAAAAAQAACgAAAAABAAAEAAAAAAEAAAAAAAAAAQAAAgAA\n",
       "AAABAAAKAAAAAAEAAAQAAAAAAQAAAAAAAAABAAACAAAAAAEAAAoAAAAAAQAABAAAAAABAAAAAAAA\n",
       "AAEAAAIAAAAAAQAACgAAAAABAAAEAAAAAAEAAAAAAAAAAQAAAgAAAAABAAAKAAAAAAEAAAQAAAAA\n",
       "AQAAAAAAAAABAAACAAAAAAEAAAoAAAAAAQAABAAAAAABAAAAAAAAAAEAAAIAAAAAAQAACgAAAAAB\n",
       "AAAEAAAAAAEAAAAAAAAAAQAAAgAAAAABAAAKAAAAAAEAAAQAAAAAAQAAAAAAAAABAAACAAAAAAEA\n",
       "AAoAAAAAAQAABAAAAAABAAAAAAAAAAEAAAIAAAAAAQAACgAAAAABAAAEAAAAAAEAAAAAAAAAAQAA\n",
       "AgAAAAABAAAKAAAAAAEAAAQAAAAAAQAAAAAAAAABAAACAAAAAAEAAAoAAAAAAQAABAAAAAABAAAA\n",
       "AAAAAAEAAAIAAAAAAQAACgAAAAABAAAEAAAAAAEAAAAAAAAAAQAAAgAAAAABAAAKAAAAAAEAAAQA\n",
       "AAAAAQAAAAAAAAABAAACAAAAAAEAAAoAAAAAAQAABAAAAAABAAAAAAAAAAEAAAIAAAAAAQAABAAA\n",
       "AAABAAAKAAAAAAEAAAQAAAAAAQAAAAAAAAABAAACAAAAAAEAAAoAAAAAAQAABAAAAAABAAAAAAAA\n",
       "AAEAAAIAAAAAAQAACgAAAAABAAAEAAAAAAEAAAAAAAAAAQAAAgAAAAABAAAKAAAAAAEAAAQAAAAA\n",
       "AQAAAAAAAAABAAACAAAAAAIAAAQAAAAAAQAACgAAAAABAAAEAAAAAAEAAAAAAAAAAQAAAgAAAAAB\n",
       "AAAKAAAAAAEAAAQAAAAAAQAAAAAAAAABAAACAAAAAAEAAAoAAAAAAQAABAAAAAABAAAAAAAAAAEA\n",
       "AAIAAAAAAQAACgAAAAABAAAEAAAAAAEAAAAAAAAAAQAAAgAAAAABAAAEAAAAAAEAAAoAAAAAAQAA\n",
       "BAAAAAABAAAAAAAAAAEAAAIAAAAAAQAACgAAAAABAAAEAAAAAAEAAAAAAAAAAQAAAgAAAAABAAAK\n",
       "AAAAAAEAAAQAAAAAAQAAAAAAAAABAAACAAAAAAEAAAoAAAAAAQAABAAAAAABAAAAAAAAAAEAAAIA\n",
       "AAAAAQAACgAAAAABAAAEAAAAAAEAAAAAAAAAAQAAAgAAAAABAAAEAAAAAAEAAAoAAAAAAQAABAAA\n",
       "AAABAAAAAAAAAAEAAAIAAAAAAQAACgAAAAABAAAEAAAAAAEAAAAAAAAAAQAAAgAAAAABAAAKAAAA\n",
       "AAEAAAQAAAAAAQAAAAAAAAABAAACAAAAAAEAAAQAAAAAAQAACgAAAAABAAAEAAAAAAEAAAAAAAAA\n",
       "AQAAAgAAAAABAAAKAAAAAAEAAAQAAAAAAQAAAAAAAAABAAACAAAAAAEAAAoAAAAAAQAABAAAAAAB\n",
       "AAAAAAAAAAEAAAIAAAAAAQAACgAAAAABAAAEAAAAAAEAAAAAAAAAAQAAAgAAAAABAAAKAAAAAAEA\n",
       "AAQAAAAAAQAAAAAAAAABAAACAAAAAAEAAAoAAAAAAQAABAAAAAABAAAAAAAAAAEAAAIAAAAAAQAA\n",
       "CgAAAAABAAAEAAAAAAEAAAAAAAAAAQAAAgAAAAABAAAKAAAAAAEAAAQAAAAAAQAAAAAAAAABAAAC\n",
       "AAAAAAEAAAoAAAAAAQAABAAAAAABAAAAAAAAAAEAAAIAAAAAAQAACgAAAAABAAAEAAAAAAEAAAAA\n",
       "AAAAAQAAAgAAAAABAAAKAAAAAAEAAAQAAAAAAQAAAAAAAAABAAACAAAAAAEAAAoAAAAAAQAABAAA\n",
       "AAABAAAAAAAAAAEAAAIAAAAABQAABAAAAAABAAAKAAAAAAEAAAQAAAAAAQAAAAAAAAABAAACAAAA\n",
       "AAEAAAQAAAAAAQAACgAAAAABAAAEAAAAAAEAAAAAAAAAAQAAAgAAAAABAAAKAAAAAAEAAAQAAAAA\n",
       "AQAAAAAAAAABAAACAAAAAAEAAAoAAAAAAQAABAAAAAABAAAAAAAAAAEAAAIAAAAAAQAACgAAAAAB\n",
       "AAAEAAAAAAEAAAAAAAAAAQAAAgAAAAABAAAKAAAAAAEAAAQAAAAAAQAAAAAAAAABAAACAAAAAAEA\n",
       "AAoAAAAAAQAABAAAAAABAAAAAAAAAAEAAAIAAAAAAQAACgAAAAABAAAEAAAAAAEAAAAAAAAAAQAA\n",
       "AgAAAAABAAAKAAAAAAEAAAQAAAAAAQAAAAAAAAABAAACAAAAAAEAAAoAAAAAAQAABAAAAAABAAAA\n",
       "AAAAAAEAAAIAAAAAAQAACgAAAAABAAAEAAAAAAEAAAAAAAAAAQAAAgAAAAACAAAEAAAAAAEAAAoA\n",
       "AAAAAQAABAAAAAABAAAAAAAAAAEAAAIAAAAAAQAABAAAAAABAAAKAAAAAAEAAAQAAAAAAQAAAAAA\n",
       "AAABAAACAAAAAAEAAAoAAAAAAQAABAAAAAABAAAAAAAAAAEAAAIAAAAAAQAACgAAAAABAAAEAAAA\n",
       "AAEAAAAAAAAAAQAAAgAAAAABAAAKAAAAAAEAAAQAAAAAAQAAAAAAAAABAAACAAAAAAEAAAoAAAAA\n",
       "AQAABAAAAAABAAAAAAAAAAEAAAIAAAAAAQAACgAAAAABAAAEAAAAAAEAAAAAAAAAAQAAAgAAAAAB\n",
       "AAAKAAAAAAEAAAQAAAAAAQAAAAAAAAABAAACAAAAAAEAAAoAAAAAAQAABAAAAAABAAAAAAAAAAEA\n",
       "AAIAAAAAAQAACgAAAAABAAAEAAAAAAEAAAAAAAAAAQAAAgAAAAABAAAKAAAAAAEAAAQAAAAAAQAA\n",
       "AAAAAAABAAACAAAAAAEAAAoAAAAAAQAABAAAAAABAAAAAAAAAAEAAAIAAAAAAQAACgAAAAABAAAE\n",
       "AAAAAAEAAAAAAAAAAQAAAgAAAAABAAAEAAAAAAEAAAoAAAAAAQAABAAAAAABAAAAAAAAAAEAAAIA\n",
       "AAAAAQAACgAAAAABAAAEAAAAAAEAAAAAAAAAAQAAAgAAAAABAAAKAAAAAAEAAAQAAAAAAQAAAAAA\n",
       "AAABAAACAAAAAAEAAAYAAAAAAQAAAgAAAAAcc3RzYwAAAAAAAAABAAAAAQAAAtAAAAABAAALVHN0\n",
       "c3oAAAAAAAAAAAAAAtAAAAugAAAAbgAAACEAAAAfAAAAFgAAACcAAAAaAAAAFgAAABMAAAAgAAAA\n",
       "FgAAABQAAAATAAAAHQAAABUAAAASAAAAEQAAAB0AAAAVAAAAEgAAABIAAAAtAAAAFwAAABMAAAAU\n",
       "AAAAJwAAABcAAAAUAAAAFAAAAB8AAAAXAAAAFAAAABQAAAAfAAAAFgAAABIAAAAUAAAAIAAAABcA\n",
       "AAAUAAAAFAAAACQAAAAXAAAAFAAAABQAAAAfAAAAFgAAABQAAAASAAAAIAAAABgAAAASAAAAFAAA\n",
       "ACMAAAAZAAAAFgAAABUAAAAfAAAAFgAAABQAAAASAAAAHAAAACAAAAAXAAAAEwAAABMAAAAdAAAA\n",
       "FQAAABIAAAASAAAAIwAAABgAAAATAAAAFAAAAB8AAAAVAAAAEwAAABEAAAAiAAAAFQAAABEAAAAT\n",
       "AAAAIQAAABYAAAATAAAAEwAAADcAAAAYAAAAEwAAABYAAAAiAAAAFwAAABUAAAATAAAAJQAAABgA\n",
       "AAATAAAAFQAAAB4AAAAVAAAAEwAAABEAAAA+AAAAFgAAABIAAAAUAAAAIAAAABYAAAATAAAAEQAA\n",
       "ACQAAAAWAAAAEQAAABMAAAAfAAAAFwAAABMAAAASAAAAHQAAABUAAAASAAAAEgAAACEAAABcAAAA\n",
       "GQAAABYAAAAVAAAAHwAAABcAAAAUAAAAEgAAACQAAAAXAAAAEgAAABYAAAAnAAAAFgAAABQAAAAS\n",
       "AAAAHwAAABYAAAASAAAAFAAAACYAAAAZAAAAFAAAABYAAAAhAAAAFwAAABQAAAAUAAAAHQAAABUA\n",
       "AAASAAAAEgAAAB8AAAAXAAAAEwAAABMAAAAfAAAAFgAAABMAAAASAAAAHAAAACMAAAAXAAAAEwAA\n",
       "ABMAAAAkAAAAGQAAABMAAAAVAAAAJwAAABgAAAAVAAAAEwAAACMAAAAWAAAAEwAAABMAAAAiAAAA\n",
       "JwAAABgAAAAVAAAAFQAAACUAAAAXAAAAFAAAABMAAAAhAAAAIAAAACIAAAAjAAAAFwAAABMAAAAW\n",
       "AAAAKQAAABkAAAAVAAAAEwAAAB0AAAAVAAAAEgAAABIAAAAfAAAAFgAAABIAAAATAAAAJgAAABgA\n",
       "AAAUAAAAFQAAACMAAAAXAAAAFAAAABQAAAAfAAAAFgAAABMAAAASAAAAHwAAABYAAAASAAAAFAAA\n",
       "ACUAAAAZAAAAFgAAABYAAAAfAAAAFgAAABMAAAASAAAAHQAAABUAAAASAAAAEQAAAEQAAAAYAAAA\n",
       "FQAAABUAAAAcAAAAGgAAAB0AAAAdAAAAHAAAACIAAAAZAAAAFQAAABUAAAAeAAAJ0gAAAM4AAABv\n",
       "AAAAOgAAADwAAACYAAAARAAAAEAAAAA5AAAASgAAADoAAAA0AAAAMgAAAD8AAAA4AAAAMgAAAC8A\n",
       "AAA8AAAAMwAAAC8AAAAvAAAAPAAAADUAAAAxAAAAMAAAADwAAAAzAAAALwAAAC8AAAA9AAAANQAA\n",
       "ADEAAAAwAAAAPQAAADQAAAAvAAAALwAAAD8AAAA4AAAAMQAAADMAAAA8AAAAPAAAADYAAAAxAAAA\n",
       "MgAAAEEAAABAAAAAOAAAADMAAAAxAAAAdAAAADcAAAAwAAAAMQAAAEsAAAA4AAAAMgAAADMAAAA+\n",
       "AAAAOAAAADIAAAAwAAAAQQAAADsAAAAxAAAANQAAAEAAAAA4AAAAMwAAADQAAAA8AAAANAAAADAA\n",
       "AAAwAAAAPAAAADQAAAAwAAAAMAAAAEEAAAA5AAAAMgAAADQAAABAAAAAOAAAADMAAAAwAAAAOwAA\n",
       "ADQAAAAwAAAALwAAAD4AAAA1AAAAMAAAADEAAAA8AAAAPAAAADUAAAAyAAAALwAAADwAAAAzAAAA\n",
       "LwAAAC8AAAA9AAAANQAAAC8AAAAxAAAAPAAAADUAAAAxAAAAMAAAAEcAAAAzAAAALwAAAC8AAAA+\n",
       "AAAAOQAAAC8AAAAxAAAAPQAAADoAAAAxAAAAMAAAADwAAAA4AAAALwAAAC8AAAA+AAAAOQAAAC8A\n",
       "AAAwAAAAPgAAADoAAAAyAAAAMQAAAEIAAAA6AAAAMgAAADIAAAA9AAAAOQAAADIAAAAwAAAAPQAA\n",
       "ADoAAAAxAAAAMgAAAFQAAAA8AAAAMgAAADMAAAA9AAAAPQAAADQAAAA0AAAAOwAAADoAAAAxAAAA\n",
       "MQAAADsAAAA5AAAAPgAAAD0AAAA0AAAANQAAADwAAAA8AAAAPAAAADQAAAAxAAAAPAAAAD0AAAA8\n",
       "AAAAMwAAADMAAAA8AAAAOgAAADIAAAAxAAAAPwAAAD4AAAAyAAAAMwAAAD0AAAA6AAAAMgAAADEA\n",
       "AABBAAAAOgAAADEAAAAzAAAAPwAAADsAAAAyAAAAMwAAAE4AAAA9AAAAMwAAACYAAAA/AAAAPAAA\n",
       "ACQAAAAzAAAAQgAAAD0AAAAzAAAANQAAADwAAAA6AAAAMwAAADEAAABYAAAAOwAAADEAAAAzAAAA\n",
       "PgAAADsAAAAyAAAAMQAAAEIAAAA7AAAAMQAAADIAAAA9AAAAPQAAADMAAAAyAAAAPAAAADoAAAAx\n",
       "AAAAMgAAAEAAAAB2AAAAPwAAACUAAAAmAAAAPQAAAD0AAAA0AAAAMgAAAEIAAAA8AAAAMgAAADUA\n",
       "AABLAAAAPAAAADQAAAAyAAAAOAAACdEAAADJAAAAhQAAAFMAAABMAAAAgQAAAFYAAABEAAAAPgAA\n",
       "AFEAAABGAAAAPgAAADsAAABHAAAARAAAADsAAAA8AAAARgAAAEkAAAA8AAAANAAAADIAAABDAAAA\n",
       "OwAAADIAAAAzAAAAQgAAADwAAAA0AAAAMwAAAEMAAAA9AAAANgAAADUAAABDAAAAOwAAADMAAAAz\n",
       "AAAAQwAAAEIAAAApAAAAHAAAAB0AAAAtAAAAIwAAABwAAAAWAAAAJAAAABwAAAAWAAAAFQAAACIA\n",
       "AAAjAAAAHQAAABUAAAAXAAAAIwAAAB8AAAAXAAAAFQAAAB0AAAAbAAAAFAAAABQAAAAhAAAAHAAA\n",
       "ABQAAAAWAAAAJgAAAB4AAAAWAAAAFwAAACMAAAAdAAAAFgAAABYAAAAfAAAAHAAAABUAAAAVAAAA\n",
       "HwAAABwAAAAUAAAAFgAAACUAAAAhAAAAGAAAABgAAAAfAAAAHAAAABUAAAAUAAAAHQAAABsAAAAU\n",
       "AAAAFAAAAEQAAAAeAAAAFwAAABcAAAAcAAAAGgAAAB0AAAAdAAAAHAAAACIAAAAdAAAAFQAAABUA\n",
       "AAAeAAAARAAAABwAAAATAAAAEwAAAEgAAAAbAAAAEwAAABMAAABQAAAAHAAAABMAAAAVAAAAXAAA\n",
       "ABwAAAAVAAAAFAAAACMAAAAYAAAAEgAAABEAAAAeAAAAGgAAABMAAAATAAAAHQAAABgAAAARAAAA\n",
       "EQAAACEAAAAbAAAAEwAAABQAAAAdAAAAGAAAABEAAAARAAAAIwAAABoAAAATAAAAEwAAACEAAAAc\n",
       "AAAAHgAAABsAAAATAAAAEwAAACIAAAAkAAAAHgAAABUAAAATAAAAVwAAABwAAAASAAAAFAAAAC8A\n",
       "AAAdAAAAFQAAABYAAAAgAAAAHQAAABUAAAATAAAAIwAAAB0AAAAUAAAAFgAAACUAAAAdAAAAFgAA\n",
       "ABcAAAAdAAAAGQAAABMAAAASAAAAHQAAABkAAAASAAAAEwAAACMAAAAeAAAAFQAAABYAAAAjAAAA\n",
       "HQAAABgAAAATAAAAHQAAABkAAAASAAAAEQAAACAAAAAaAAAAEgAAABMAAAAdAAAAHgAAABoAAAAU\n",
       "AAAAEQAAAB0AAAAYAAAAEgAAABIAAAAeAAAAGQAAABEAAAAUAAAAHQAAABgAAAAUc3RjbwAAAAAA\n",
       "AAABAAAAMAAAAGJ1ZHRhAAAAWm1ldGEAAAAAAAAAIWhkbHIAAAAAAAAAAG1kaXJhcHBsAAAAAAAA\n",
       "AAAAAAAALWlsc3QAAAAlqXRvbwAAAB1kYXRhAAAAAQAAAABMYXZmNTYuMzYuMTAw\n",
       "\" type=\"video/mp4\">\n",
       " Your browser does not support the video tag.\n",
       "</video>"
      ],
      "text/plain": [
       "<IPython.core.display.HTML object>"
      ]
     },
     "execution_count": 4,
     "metadata": {},
     "output_type": "execute_result"
    }
   ],
   "source": [
    "# -*- coding: UTF-8 -*-\n",
    "import math\n",
    "import matplotlib.pyplot as plt\n",
    "import matplotlib.animation as animation\n",
    "%matplotlib inline\n",
    "\n",
    "fig = plt.figure()\n",
    "\n",
    "ims = []\n",
    "for i in range(720):\n",
    "    rad = math.radians(i)\n",
    "    im = plt.scatter(math.cos(rad), math.sin(rad))\n",
    "    ims.append([im])\n",
    "\n",
    "ani = animation.ArtistAnimation(fig, ims, interval=1, repeat_delay=1000)\n",
    "\n",
    "display_animation(ani)"
   ]
  },
  {
   "cell_type": "markdown",
   "metadata": {
    "collapsed": true
   },
   "source": [
    "## おすすめの本\n",
    "\n",
    "Python を勉強するには以下の書籍がおすすめです。AmazonのKindleで購入が可能となっています。\n",
    "<img src=\"http://ecx.images-amazon.com/images/I/51moRIhvzhL._AA324_PIkin4,BottomRight,-47,22_AA300_SH20_OU09_.jpg\">\n",
    "\n"
   ]
  },
  {
   "cell_type": "code",
   "execution_count": null,
   "metadata": {
    "collapsed": true
   },
   "outputs": [],
   "source": []
  }
 ],
 "metadata": {
  "kernelspec": {
   "display_name": "Python 2",
   "language": "python",
   "name": "python2"
  },
  "language_info": {
   "codemirror_mode": {
    "name": "ipython",
    "version": 2
   },
   "file_extension": ".py",
   "mimetype": "text/x-python",
   "name": "python",
   "nbconvert_exporter": "python",
   "pygments_lexer": "ipython2",
   "version": "2.7.10"
  }
 },
 "nbformat": 4,
 "nbformat_minor": 0
}
