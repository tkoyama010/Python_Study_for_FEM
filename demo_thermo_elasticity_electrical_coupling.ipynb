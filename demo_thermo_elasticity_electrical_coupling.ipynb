{
 "cells": [
  {
   "cell_type": "code",
   "execution_count": null,
   "metadata": {
    "collapsed": true
   },
   "outputs": [],
   "source": [
    "import getfem as gf\n",
    "import numpy as np\n",
    "from scipy.sparse import linalg\n",
    "from scipy import io"
   ]
  },
  {
   "cell_type": "code",
   "execution_count": null,
   "metadata": {
    "collapsed": false
   },
   "outputs": [],
   "source": [
    "h = 2\n",
    "\n",
    "mo1 = gf.MesherObject('rectangle', [0., 0.], [100., 25.])\n",
    "mo2 = gf.MesherObject('ball', [25., 12.5], 8.)\n",
    "mo3 = gf.MesherObject('ball', [50., 12.5], 8.)\n",
    "mo4 = gf.MesherObject('ball', [75., 12.5], 8.)\n",
    "mo5 = gf.MesherObject('union', mo2, mo3, mo4)\n",
    "mo  = gf.MesherObject('set minus', mo1, mo5)\n",
    "\n",
    "mesh = gf.Mesh('generate', mo1, h, 2)\n",
    "mesh = gf.Mesh('generate', mo, h, 2)"
   ]
  },
  {
   "cell_type": "code",
   "execution_count": null,
   "metadata": {
    "collapsed": false
   },
   "outputs": [],
   "source": [
    "# detect some boundary of the mesh\n",
    "P = mesh.pts()\n",
    "cright = (abs(P[0,:] - P[0,:].max()) < 1e-6)\n",
    "cleft  = (abs(P[0,:] - P[0,:].min()) < 1e-6)\n",
    "pidright = np.compress(cright,range(0,mesh.nbpts()))\n",
    "pidleft  = np.compress(cleft,range(0,mesh.nbpts()))\n",
    "fright = mesh.faces_from_pid(pidright)\n",
    "fleft  = mesh.faces_from_pid(pidleft)\n",
    "# create boundary region\n",
    "NEUMANN_BOUNDARY = 1\n",
    "DIRICHLET_BOUNDARY = 2\n",
    "mesh.set_region(NEUMANN_BOUNDARY,fright)\n",
    "mesh.set_region(DIRICHLET_BOUNDARY,fleft)"
   ]
  },
  {
   "cell_type": "code",
   "execution_count": null,
   "metadata": {
    "collapsed": true
   },
   "outputs": [],
   "source": [
    "mfp = gf.MeshFem(mesh, 1)\n",
    "mfp.set_fem(gf.Fem('FEM_PK(2,1)'))"
   ]
  },
  {
   "cell_type": "code",
   "execution_count": null,
   "metadata": {
    "collapsed": false
   },
   "outputs": [],
   "source": [
    "x = mfp.basic_dof_nodes()[0,:]\n",
    "y = mfp.basic_dof_nodes()[1,:]\n",
    "tri = mfp.basic_dof_from_cvid()[0].reshape([-1,3])\n",
    "\n",
    "import pylab as plt\n",
    "%matplotlib inline\n",
    "\n",
    "plt.figure(figsize=(10, 10))\n",
    "plt.gca().set_aspect('equal')\n",
    "plt.triplot(x,y,tri,color=\"red\")"
   ]
  },
  {
   "cell_type": "code",
   "execution_count": null,
   "metadata": {
    "collapsed": true
   },
   "outputs": [],
   "source": [
    "mfd = gf.MeshFem(mesh, 1)\n",
    "mfd.set_fem(gf.Fem('FEM_PK(2,1)'))"
   ]
  },
  {
   "cell_type": "code",
   "execution_count": null,
   "metadata": {
    "collapsed": true
   },
   "outputs": [],
   "source": [
    "mfu = gf.MeshFem(mesh, 2)\n",
    "mfu.set_fem(gf.Fem('FEM_PK(2,2)'))"
   ]
  },
  {
   "cell_type": "code",
   "execution_count": null,
   "metadata": {
    "collapsed": false
   },
   "outputs": [],
   "source": [
    "mim = gf.MeshIm(mesh, gf.Integ('IM_TRIANGLE(3)'))"
   ]
  },
  {
   "cell_type": "code",
   "execution_count": null,
   "metadata": {
    "collapsed": false
   },
   "outputs": [],
   "source": [
    "Lambda = np.repeat([1.0],mfd.nbdof())\n",
    "Mu = np.repeat([1.0],mfd.nbdof())\n",
    "K = gf.asm_linear_elasticity(mim, mfu, mfd, Lambda, Mu)"
   ]
  },
  {
   "cell_type": "code",
   "execution_count": null,
   "metadata": {
    "collapsed": false
   },
   "outputs": [],
   "source": [
    "(H,R) = gf.asm_dirichlet(DIRICHLET_BOUNDARY, mim, mfu, mfd, mfd.eval('[[1, 0], [0, 1]]'), mfd.eval('[0,0]'))\n",
    "(N,U0) = H.dirichlet_nullspace(R)"
   ]
  },
  {
   "cell_type": "code",
   "execution_count": null,
   "metadata": {
    "collapsed": true
   },
   "outputs": [],
   "source": [
    "K.save('mm', 'K.mtx'); K = io.mmread('K.mtx')\n",
    "N.save('mm', 'N.mtx'); N = io.mmread('N.mtx')"
   ]
  },
  {
   "cell_type": "code",
   "execution_count": null,
   "metadata": {
    "collapsed": true
   },
   "outputs": [],
   "source": [
    "Nt = N.transpose()\n",
    "KK = Nt*K*N"
   ]
  },
  {
   "cell_type": "code",
   "execution_count": null,
   "metadata": {
    "collapsed": false
   },
   "outputs": [],
   "source": [
    "F = gf.asm_boundary_source(NEUMANN_BOUNDARY, mim, mfu, mfd, np.repeat([[1.0],[0.0]], mfd.nbdof(), 1))"
   ]
  },
  {
   "cell_type": "code",
   "execution_count": null,
   "metadata": {
    "collapsed": false
   },
   "outputs": [],
   "source": [
    "FF = Nt*F"
   ]
  },
  {
   "cell_type": "code",
   "execution_count": null,
   "metadata": {
    "collapsed": true
   },
   "outputs": [],
   "source": [
    "UU = linalg.spsolve(KK, FF)"
   ]
  },
  {
   "cell_type": "code",
   "execution_count": null,
   "metadata": {
    "collapsed": true
   },
   "outputs": [],
   "source": [
    "U = N*UU\n",
    "Ux = U.reshape(-1,2)[:,0]\n",
    "Uy = U.reshape(-1,2)[:,1]"
   ]
  },
  {
   "cell_type": "code",
   "execution_count": null,
   "metadata": {
    "collapsed": false
   },
   "outputs": [],
   "source": [
    "x = mfp.basic_dof_nodes()[0,:]\n",
    "y = mfp.basic_dof_nodes()[1,:]\n",
    "tri = mfp.basic_dof_from_cvid()[0].reshape([-1,3])\n",
    "\n",
    "import pylab as plt\n",
    "%matplotlib inline\n",
    "\n",
    "plt.figure(figsize=(10, 10))\n",
    "plt.gca().set_aspect('equal')\n",
    "plt.triplot(x,y,tri,color=\"red\")\n",
    "\n",
    "x = mfu.basic_dof_nodes()[0,:]\n",
    "y = mfu.basic_dof_nodes()[1,:]\n",
    "plt.quiver(x,y,np.repeat(Ux,2),np.repeat(Uy,2),scale=500,color=\"blue\")"
   ]
  },
  {
   "cell_type": "code",
   "execution_count": null,
   "metadata": {
    "collapsed": true
   },
   "outputs": [],
   "source": []
  }
 ],
 "metadata": {
  "kernelspec": {
   "display_name": "Python 2",
   "language": "python",
   "name": "python2"
  },
  "language_info": {
   "codemirror_mode": {
    "name": "ipython",
    "version": 2
   },
   "file_extension": ".py",
   "mimetype": "text/x-python",
   "name": "python",
   "nbconvert_exporter": "python",
   "pygments_lexer": "ipython2",
   "version": "2.7.10"
  }
 },
 "nbformat": 4,
 "nbformat_minor": 0
}
