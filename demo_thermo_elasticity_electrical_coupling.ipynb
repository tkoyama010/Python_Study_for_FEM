{
 "cells": [
  {
   "cell_type": "code",
   "execution_count": null,
   "metadata": {
    "collapsed": true
   },
   "outputs": [],
   "source": [
    "import getfem as gf\n",
    "import numpy as np"
   ]
  },
  {
   "cell_type": "code",
   "execution_count": null,
   "metadata": {
    "collapsed": true
   },
   "outputs": [],
   "source": [
    "epsilon = 1.; E = 21E6; nu = 0.3;\n",
    "clambda = E*nu/((1+nu)*(1-2*nu));\n",
    "cmu = E/(2*(1+nu));\n",
    "clambdastar = 2*clambda*cmu/(clambda+2*cmu);\n",
    "F = 100E2; kappa = 4.; D = 10;\n",
    "air_temp = 20; alpha_th = 16.6E-6;\n",
    "T0 = 20; rho_0 = 1.754E-8;\n",
    "alpha = 0.0039;\n",
    "\n",
    "h = 2; elements_degree = 2;"
   ]
  },
  {
   "cell_type": "code",
   "execution_count": null,
   "metadata": {
    "collapsed": true
   },
   "outputs": [],
   "source": [
    "mo1 = gf.MesherObject('rectangle', [0., 0.], [100., 25.])\n",
    "mo2 = gf.MesherObject('ball', [25., 12.5], 8.)\n",
    "mo3 = gf.MesherObject('ball', [50., 12.5], 8.)\n",
    "mo4 = gf.MesherObject('ball', [75., 12.5], 8.)\n",
    "mo5 = gf.MesherObject('union', mo2, mo3, mo4)\n",
    "mo  = gf.MesherObject('set minus', mo1, mo5)\n",
    "\n",
    "mesh = gf.Mesh('generate', mo, h, 2)"
   ]
  },
  {
   "cell_type": "code",
   "execution_count": null,
   "metadata": {
    "collapsed": true
   },
   "outputs": [],
   "source": [
    "fb1 = mesh.outer_faces_in_box([1., 1.], [99., 24.])\n",
    "fb2 = mesh.outer_faces_with_direction([ 1., 0.], 0.01)\n",
    "fb3 = mesh.outer_faces_with_direction([-1., 0.], 0.01)\n",
    "fb4 = mesh.outer_faces_with_direction([0.,  1.], 0.01)\n",
    "fb5 = mesh.outer_faces_with_direction([0., -1.], 0.01)\n",
    "\n",
    "RIGHT_BOUND=1; LEFT_BOUND=2; TOP_BOUND=3; BOTTOM_BOUND=4; HOLE_BOUND=5;\n",
    "\n",
    "mesh.set_region( RIGHT_BOUND, fb2)\n",
    "mesh.set_region(  LEFT_BOUND, fb3)\n",
    "mesh.set_region(   TOP_BOUND, fb4)\n",
    "mesh.set_region(BOTTOM_BOUND, fb5)\n",
    "mesh.set_region(  HOLE_BOUND, fb1)\n",
    "mesh.region_subtract( RIGHT_BOUND, HOLE_BOUND)\n",
    "mesh.region_subtract(  LEFT_BOUND, HOLE_BOUND)\n",
    "mesh.region_subtract(   TOP_BOUND, HOLE_BOUND)\n",
    "mesh.region_subtract(BOTTOM_BOUND, HOLE_BOUND)"
   ]
  },
  {
   "cell_type": "code",
   "execution_count": null,
   "metadata": {
    "collapsed": true
   },
   "outputs": [],
   "source": [
    "mesh.export_to_vtk('mesh.vtk');\n",
    "# You can view the mesh for instance with\n",
    "# mayavi2 -d mesh.vtk -f ExtractEdges -m Surface"
   ]
  },
  {
   "cell_type": "code",
   "execution_count": null,
   "metadata": {
    "collapsed": true
   },
   "outputs": [],
   "source": [
    "mfu = gf.MeshFem(mesh, 2)\n",
    "mfu.set_classical_fem(elements_degree)\n",
    "mft = gf.MeshFem(mesh, 1)\n",
    "mft.set_classical_fem(elements_degree)\n",
    "mfvm = gf.MeshFem(mesh, 1)\n",
    "mfvm.set_classical_discontinuous_fem(elements_degree)\n",
    "mim = gf.MeshIm(mesh, pow(elements_degree,2))"
   ]
  },
  {
   "cell_type": "code",
   "execution_count": null,
   "metadata": {
    "collapsed": true
   },
   "outputs": [],
   "source": [
    "md=gf.Model('real');\n",
    "md.add_fem_variable('u', mfu)\n",
    "md.add_fem_variable('theta', mft)\n",
    "md.add_fem_variable('V', mft)"
   ]
  },
  {
   "cell_type": "code",
   "execution_count": null,
   "metadata": {
    "collapsed": false
   },
   "outputs": [],
   "source": [
    "md.add_initialized_data('cmu', [cmu])\n",
    "md.add_initialized_data('clambdastar', [clambdastar])\n",
    "md.add_initialized_data('T0', [T0])\n",
    "md.add_isotropic_linearized_elasticity_brick(mim, 'u', 'clambdastar', 'cmu')\n",
    "\n",
    "md.add_Dirichlet_condition_with_multipliers(mim, 'u', elements_degree-1, LEFT_BOUND)\n",
    "md.add_initialized_data('Fdata', [F*epsilon, 0])\n",
    "md.add_source_term_brick(mim, 'u', 'Fdata', RIGHT_BOUND)\n",
    "\n",
    "md.add_initialized_data('beta', [alpha_th*E/(1-2*nu)])\n",
    "md.add_linear_generic_assembly_brick(mim, 'beta*(T0-theta)*Div_Test_u')"
   ]
  },
  {
   "cell_type": "code",
   "execution_count": null,
   "metadata": {
    "collapsed": false
   },
   "outputs": [],
   "source": [
    "sigmaeps = '(eps/(rho_0*(1+alpha*(theta-T0))))'\n",
    "md.add_initialized_data('eps', [epsilon])\n",
    "md.add_initialized_data('rho_0', [rho_0])\n",
    "md.add_initialized_data('alpha', [alpha])\n",
    "md.add_nonlinear_generic_assembly_brick(mim, sigmaeps+'*(Grad_V.Grad_Test_V)')\n",
    "md.add_Dirichlet_condition_with_multipliers(mim, 'V', elements_degree-1, RIGHT_BOUND)\n",
    "md.add_initialized_data('DdataV', [0.1])\n",
    "md.add_Dirichlet_condition_with_multipliers(mim, 'V', elements_degree-1, LEFT_BOUND, 'DdataV')"
   ]
  },
  {
   "cell_type": "code",
   "execution_count": null,
   "metadata": {
    "collapsed": false
   },
   "outputs": [],
   "source": [
    "md.add_initialized_data('kaeps', [kappa*epsilon])\n",
    "md.add_generic_elliptic_brick(mim, 'theta', 'kaeps')\n",
    "md.add_initialized_data('D2', [D*2])\n",
    "md.add_initialized_data('D2airt', [air_temp*D*2])\n",
    "md.add_mass_brick(mim, 'theta', 'D2')\n",
    "md.add_source_term_brick(mim, 'theta', 'D2airt')\n",
    "\n",
    "md.add_nonlinear_generic_assembly_brick(mim, '-'+sigmaeps+'*Norm_sqr(Grad_V)*Test_theta')"
   ]
  },
  {
   "cell_type": "code",
   "execution_count": null,
   "metadata": {
    "collapsed": false
   },
   "outputs": [],
   "source": [
    "md.solve('max_res', 1E-9, 'max_iter', 100, 'noisy')"
   ]
  },
  {
   "cell_type": "code",
   "execution_count": null,
   "metadata": {
    "collapsed": false
   },
   "outputs": [],
   "source": [
    "md.disable_variable('u')\n",
    "md.solve('max_res', 1E-9, 'max_iter', 100, 'noisy')\n",
    "md.enable_variable('u')\n",
    "md.disable_variable('theta')\n",
    "md.disable_variable('V')\n",
    "md.solve('max_res', 1E-9, 'max_iter', 100, 'noisy')"
   ]
  },
  {
   "cell_type": "code",
   "execution_count": null,
   "metadata": {
    "collapsed": false
   },
   "outputs": [],
   "source": [
    "U = md.variable('u')\n",
    "V = md.variable('V')\n",
    "THETA = md.variable('theta')\n",
    "VM = md.compute_isotropic_linearized_Von_Mises_or_Tresca('u', 'clambdastar', 'cmu', mfvm)\n",
    "CO = np.reshape(md.interpolation('-'+sigmaeps+'*Grad_V', mfvm), (2, mfvm.nbdof()), 'F')\n",
    "\n",
    "mfvm.export_to_vtk('displacement_with_von_mises.vtk', mfvm,\n",
    "                   VM, 'Von Mises Stresses', mfu, U, 'Displacements')\n",
    "print ('You can view solutions with for instance:')\n",
    "print ('mayavi2 -d displacement_with_von_mises.vtk -f WarpVector -m Surface')\n",
    "mft.export_to_vtk('temperature.vtk', mft, THETA, 'Temperature')\n",
    "print ('mayavi2 -d temperature.vtk -f WarpScalar -m Surface')\n",
    "mft.export_to_vtk('electric_potential.vtk', mft, V, 'Electric potential')\n",
    "print ('mayavi2 -d electric_potential.vtk -f WarpScalar -m Surface')"
   ]
  },
  {
   "cell_type": "code",
   "execution_count": null,
   "metadata": {
    "collapsed": true
   },
   "outputs": [],
   "source": []
  }
 ],
 "metadata": {
  "kernelspec": {
   "display_name": "Python 2",
   "language": "python",
   "name": "python2"
  },
  "language_info": {
   "codemirror_mode": {
    "name": "ipython",
    "version": 2
   },
   "file_extension": ".py",
   "mimetype": "text/x-python",
   "name": "python",
   "nbconvert_exporter": "python",
   "pygments_lexer": "ipython2",
   "version": "2.7.10"
  }
 },
 "nbformat": 4,
 "nbformat_minor": 0
}
